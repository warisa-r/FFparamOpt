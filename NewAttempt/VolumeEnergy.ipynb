{
 "cells": [
  {
   "cell_type": "code",
   "execution_count": 8,
   "metadata": {},
   "outputs": [],
   "source": [
    "from lammps import lammps\n",
    "import numpy as np\n",
    "lmp = lammps()\n",
    "lmp.file(\"ceo2_reaxff_bulk.lmp\") # Fluorite CeO2 from https://next-gen.materialsproject.org/materials/mp-20194?chemsys=Ce-O"
   ]
  },
  {
   "cell_type": "code",
   "execution_count": 9,
   "metadata": {},
   "outputs": [
    {
     "name": "stdout",
     "output_type": "stream",
     "text": [
      "Energy per CeO2:  -9.793358597871425\n"
     ]
    }
   ],
   "source": [
    "conv = 0.0433641 # eV to kcal/mol\n",
    "nCeO2 = 256\n",
    "\n",
    "volume = lmp.get_thermo(\"vol\")\n",
    "#Uncomment to see that volume is properly accessed. \n",
    "#print(volume)\n",
    "volume_per_CeO2 = volume / nCeO2\n",
    "#print(lmp.get_thermo(\"pe\"))\n",
    "E_CeO2 = lmp.get_thermo(\"pe\")* conv / nCeO2\n",
    "print(\"Energy per CeO2: \", E_CeO2)\n"
   ]
  },
  {
   "cell_type": "code",
   "execution_count": 10,
   "metadata": {},
   "outputs": [],
   "source": [
    "import os\n",
    "\n",
    "def scale_lammps_data(input_file, scale_factor, output_file_dir, output_file_template):\n",
    "    # Read the input file\n",
    "    with open(input_file, 'r') as file:\n",
    "        lines = file.readlines()\n",
    "\n",
    "    # Find the line indices for box dimensions\n",
    "    for i, line in enumerate(lines):\n",
    "        if 'xlo xhi' in line:\n",
    "            xlo_xhi_index = i\n",
    "        elif 'ylo yhi' in line:\n",
    "            ylo_yhi_index = i\n",
    "        elif 'zlo zhi' in line:\n",
    "            zlo_zhi_index = i\n",
    "\n",
    "    # Parse box dimensions\n",
    "    xlo, xhi = map(float, lines[xlo_xhi_index].split()[:2])\n",
    "    ylo, yhi = map(float, lines[ylo_yhi_index].split()[:2])\n",
    "    zlo, zhi = map(float, lines[zlo_zhi_index].split()[:2])\n",
    "\n",
    "    # Calculate new box dimensions\n",
    "    new_xhi = xhi * scale_factor\n",
    "    new_yhi = yhi * scale_factor\n",
    "    new_zhi = zhi * scale_factor\n",
    "\n",
    "    # Replace box dimensions in the lines\n",
    "    lines[xlo_xhi_index] = f\"{xlo} {new_xhi} xlo xhi\\n\"\n",
    "    lines[ylo_yhi_index] = f\"{ylo} {new_yhi} ylo yhi\\n\"\n",
    "    lines[zlo_zhi_index] = f\"{zlo} {new_zhi} zlo zhi\\n\"\n",
    "\n",
    "    # Find the start of the atoms section\n",
    "    atoms_start = lines.index('Atoms\\n') + 2\n",
    "\n",
    "    # Scale the atom coordinates\n",
    "    for i in range(atoms_start, len(lines)):\n",
    "        parts = lines[i].split()\n",
    "        if len(parts) == 6:\n",
    "            id, type, charge = parts[:3]\n",
    "            x, y, z = map(float, parts[3:])\n",
    "\n",
    "            new_x = x * scale_factor\n",
    "            new_y = y * scale_factor\n",
    "            new_z = z * scale_factor\n",
    "\n",
    "            lines[i] = f\"{id} {type} {charge} {new_x} {new_y} {new_z}\\n\"\n",
    "\n",
    "    # Determine the output file name\n",
    "    output_file_name = f\"{output_file_template}_{scale_factor:.2f}.CeO2\"\n",
    "    output_file = os.path.join(output_file_dir, output_file_name)\n",
    "\n",
    "    # Create the output directory if it doesn't exist\n",
    "    os.makedirs(output_file_dir, exist_ok=True)\n",
    "\n",
    "    # Write the scaled data to the output file\n",
    "    with open(output_file, 'w') as file:\n",
    "        file.writelines(lines)\n"
   ]
  },
  {
   "cell_type": "code",
   "execution_count": 11,
   "metadata": {},
   "outputs": [],
   "source": [
    "#Test scaling function\n",
    "scale_lammps_data(\"data.CeO2\", 2.0, \"/NewAttempt\", \"data\" )"
   ]
  },
  {
   "cell_type": "code",
   "execution_count": 12,
   "metadata": {},
   "outputs": [],
   "source": [
    "import re\n",
    "\n",
    "#Change data file in \n",
    "def replace_and_save(input_filename, string2, output_filename):\n",
    "    # Read the content from the input file\n",
    "    with open(input_filename, 'r') as file:\n",
    "        content = file.read()\n",
    "    \n",
    "    # Define the regular expression pattern to find the part after \"read_data\"\n",
    "    pattern = r\"(read_data\\s+)\\S+\"\n",
    "    \n",
    "    # Replace the part after \"read_data\" with string2\n",
    "    updated_content = re.sub(pattern, r\"\\1\" + string2, content)\n",
    "    \n",
    "    # Write the updated content to the output file\n",
    "    with open(output_filename, 'w') as file:\n",
    "        file.write(updated_content)\n",
    "\n",
    "# Example usage:\n",
    "#input_filename = \"ceo2_reaxff_bulk.lmp\"\n",
    "#string2 = \"data.newCeO2\"\n",
    "#output_filename = \"ceo2_reaxff_bulk_test.lmp\"\n",
    "\n",
    "# Call the function to test\n",
    "#replace_and_save(input_filename, string2, output_filename)"
   ]
  },
  {
   "cell_type": "code",
   "execution_count": 13,
   "metadata": {},
   "outputs": [],
   "source": [
    "# Constants needed for calculations\n",
    "conv = 0.0433641 # eV to kcal/mol\n",
    "nCeO2 = 256\n",
    "\n",
    "start_scale = 0.95\n",
    "end_scale = 1.25\n",
    "step = 0.01\n",
    "\n",
    "size = len(np.arange(start_scale, end_scale, step))\n"
   ]
  },
  {
   "cell_type": "code",
   "execution_count": 14,
   "metadata": {},
   "outputs": [
    {
     "data": {
      "image/png": "[encoded data removed]",
      "text/plain": [
       "<Figure size 640x480 with 1 Axes>"
      ]
     },
     "metadata": {},
     "output_type": "display_data"
    }
   ],
   "source": [
    "input_file = \"NewAttempt/data.CeO2\"\n",
    "output_file_dir = \"NewAttempt\"\n",
    "output_file_template = \"ceo2_flourite\"\n",
    "\n",
    "simulation_file = \"ceo2_reaxff_bulk.lmp\"\n",
    "\n",
    "volume_array = np.zeros(size)\n",
    "energy_array = np.zeros(size)\n",
    "index = 0\n",
    "\n",
    "for scale_factor in np.arange(start_scale, end_scale, step):\n",
    "    lmp.command(\"clear\")\n",
    "    scale_lammps_data(\"data.CeO2\", scale_factor, \"/NewAttempt\" ,  \"data\")\n",
    "    new_Data_file = f'data_{scale_factor:.2f}.CeO2'\n",
    "    new_simulation_file= f\"ceo2_reaxff_bulk_{scale_factor:.2f}.lmp\"\n",
    "    replace_and_save(simulation_file, new_Data_file, new_simulation_file)\n",
    "    lmp.file(new_simulation_file)\n",
    "    volume = lmp.get_thermo(\"vol\")\n",
    "    volume_per_CeO2 = volume/ nCeO2\n",
    "    energy_per_CeO2 = lmp.get_thermo(\"pe\")* conv / nCeO2\n",
    "\n",
    "    volume_array[index] = volume_per_CeO2\n",
    "    energy_array[index] = energy_per_CeO2\n",
    "    index +=1\n",
    "\n",
    "energy_array -= energy_array.min()\n",
    "import matplotlib.pyplot as plt\n",
    "plt.plot(volume_array, energy_array, 'o-')\n",
    "plt.xlabel('Volume (Å³)')\n",
    "plt.ylabel('Energy (eV/CeO2)')\n",
    "plt.show()\n",
    "    "
   ]
  }
 ],
 "metadata": {
  "kernelspec": {
   "display_name": "Python 3",
   "language": "python",
   "name": "python3"
  },
  "language_info": {
   "codemirror_mode": {
    "name": "ipython",
    "version": 3
   },
   "file_extension": ".py",
   "mimetype": "text/x-python",
   "name": "python",
   "nbconvert_exporter": "python",
   "pygments_lexer": "ipython3",
   "version": "3.12.4"
  }
 },
 "nbformat": 4,
 "nbformat_minor": 2
}
