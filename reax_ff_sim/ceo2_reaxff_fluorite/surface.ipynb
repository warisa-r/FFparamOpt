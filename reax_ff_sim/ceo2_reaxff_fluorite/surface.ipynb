{
 "cells": [
  {
   "cell_type": "markdown",
   "metadata": {},
   "source": [
    "Verification of 3.2.1 Stochiometric Surfaces\n",
    "\n",
    "start by creating surfaces with flourite structure"
   ]
  },
  {
   "cell_type": "code",
   "execution_count": 2,
   "metadata": {},
   "outputs": [],
   "source": [
    "from ase.io import read, write\n",
    "from ase.build import surface, make_supercell\n",
    "from pymatgen.core.surface import SlabGenerator\n",
    "from pymatgen.core.structure import Structure\n",
    "\n",
    "structure = read(\"bulk.cif\")"
   ]
  },
  {
   "cell_type": "code",
   "execution_count": 22,
   "metadata": {},
   "outputs": [
    {
     "name": "stdout",
     "output_type": "stream",
     "text": [
      "Supercell Slab 1 does not have 672 atoms and was not saved.\n",
      "Supercell Slab 2 with 672 atoms saved as 111slab.cif\n",
      "Supercell Slab 3 does not have 672 atoms and was not saved.\n"
     ]
    }
   ],
   "source": [
    "# (111) surface\n",
    "slab = surface(structure, (1,1,1), layers=14, vacuum=0.0)\n",
    "supercell = make_supercell(slab,[[2,0,0],[0,2,0],[0,0,1]])\n",
    "#write('111slab.cif', slab, format='cif')\n",
    "write('111supercell.cif', supercell, format='cif')\n",
    "\n",
    "def get_cell_length_c(file_path):\n",
    "    with open(file_path, 'r') as file:\n",
    "        for line in file:\n",
    "            if line.startswith('_cell_length_c'):\n",
    "                # Extract the value after the key\n",
    "                _, value = line.split()\n",
    "                return float(value)\n",
    "    raise ValueError(\"_cell_length_c not found in the file.\")\n",
    "\n",
    "file_path = '111supercell.cif'\n",
    "min_slab_size = get_cell_length_c(file_path)\n",
    "\n",
    "bulk_structure = Structure.from_file(\"bulk.cif\")\n",
    "\n",
    "# Generate slabs with different termination types\n",
    "slabgen = SlabGenerator(\n",
    "    bulk_structure,\n",
    "    miller_index=(1, 1, 1),  # Miller index of the surface plane\n",
    "    min_slab_size=min_slab_size,      # Minimum slab thickness in Angstroms\n",
    "    min_vacuum_size=120.0,    # Minimum vacuum size in Angstroms\n",
    "    lll_reduce=False         # Whether to use the LLL algorithm to reduce the cell\n",
    ")\n",
    "\n",
    "slabs = slabgen.get_slabs(\n",
    "    symmetrize=True,     # Whether to symmetrize the slab\n",
    "    tol=0.1,              # Symmetrization tolerance\n",
    "    bonds=None,           # Custom bonds to pass to the slab generator\n",
    "    max_broken_bonds=0   # Maximum number of broken bonds allowed in the slab\n",
    ")\n",
    "\n",
    "# Create a 4x4 supercell in the xy-axis for each slab and save them\n",
    "for i, slab in enumerate(slabs):\n",
    "    # Create the 2x2 supercell for the slab\n",
    "    supercell_scaling_matrix = [[4, 0, 0], [0, 4, 0], [0, 0, 1]]\n",
    "    supercell = slab.make_supercell(supercell_scaling_matrix)\n",
    "    # Check if the total number of atoms in the supercell is equal to 336\n",
    "    if len(supercell) == 672:\n",
    "        # Optionally, write the supercell slab to a file named 111slab.cif only if the condition is met\n",
    "        supercell.to(fmt=\"cif\", filename=\"111slab.cif\")\n",
    "        print(f\"Supercell Slab {i+1} with 672 atoms saved as 111slab.cif\")\n",
    "    else:\n",
    "        print(f\"Supercell Slab {i+1} does not have 672 atoms and was not saved.\")\n"
   ]
  },
  {
   "cell_type": "code",
   "execution_count": 4,
   "metadata": {},
   "outputs": [],
   "source": [
    "# (110) surface\n",
    "slab = surface(structure, (1,1,0), layers=20, vacuum=0.0)\n",
    "supercell = make_supercell(slab,[[2,0,0],[0,2,0],[0,0,1]])\n",
    "#write('111slab.cif', slab, format='cif')\n",
    "write('110supercell.cif', supercell, format='cif')\n",
    "\n",
    "def get_cell_length_c(file_path):\n",
    "    with open(file_path, 'r') as file:\n",
    "        for line in file:\n",
    "            if line.startswith('_cell_length_c'):\n",
    "                # Extract the value after the key\n",
    "                _, value = line.split()\n",
    "                return float(value)\n",
    "    raise ValueError(\"_cell_length_c not found in the file.\")\n",
    "\n",
    "file_path = '110supercell.cif'\n",
    "min_slab_size = get_cell_length_c(file_path)\n",
    "\n",
    "bulk_structure = Structure.from_file(\"bulk.cif\")\n",
    "\n",
    "# Generate slabs with different termination types\n",
    "slabgen = SlabGenerator(\n",
    "    bulk_structure,\n",
    "    miller_index=(1, 1, 0),  # Miller index of the surface plane\n",
    "    min_slab_size=min_slab_size,      # Minimum slab thickness in Angstroms\n",
    "    min_vacuum_size=120.0,    # Minimum vacuum size in Angstroms\n",
    "    lll_reduce=False         # Whether to use the LLL algorithm to reduce the cell\n",
    ")\n",
    "\n",
    "slabs = slabgen.get_slabs(\n",
    "    symmetrize=True,     # Whether to symmetrize the slab\n",
    "    tol=0.1,              # Symmetrization tolerance\n",
    "    bonds=None,           # Custom bonds to pass to the slab generator\n",
    "    max_broken_bonds=0   # Maximum number of broken bonds allowed in the slab\n",
    ")\n",
    "\n",
    "# Create a 4x4 supercell in the xy-axis for each slab and save them\n",
    "for i, slab in enumerate(slabs):\n",
    "    # Create the 2x2 supercell for the slab\n",
    "    supercell_scaling_matrix = [[4, 0, 0], [0, 4, 0], [0, 0, 1]]\n",
    "    supercell = slab.make_supercell(supercell_scaling_matrix)\n",
    "    # Check if the total number of atoms in the supercell is equal to 336\n",
    "    supercell.to(fmt=\"cif\", filename=\"110slab.cif\")\n",
    "    "
   ]
  },
  {
   "cell_type": "code",
   "execution_count": 2,
   "metadata": {},
   "outputs": [],
   "source": [
    "#new110slab\n",
    "from ase.io import read, write\n",
    "from ase.build import surface, make_supercell\n",
    "\n",
    "slab = read(\"geometry_file/110slab.cif\")\n",
    "supercell = make_supercell(slab,[[2,0,0],[0,1,0],[0,0,1]])\n",
    "bottom_z = 75.0\n",
    "front_x = 3.86\n",
    "supercell = supercell[[atom.index for atom in supercell if atom.position[2] > bottom_z]]\n",
    "supercell = supercell[[atom.index for atom in supercell if atom.position[0] > front_x]]\n",
    "write('new110slab.cif',supercell,format='cif')\n"
   ]
  },
  {
   "cell_type": "code",
   "execution_count": null,
   "metadata": {},
   "outputs": [],
   "source": [
    "# (100) surface\n",
    "slab = surface(structure, (1,0,0), layers=9, vacuum=10.0)\n",
    "slab.center(vacuum=15.0, axis=2)\n",
    "\n",
    "for i in range(2):\n",
    "    top_layer_z = max(slab.positions[:, 2])\n",
    "    slab = slab[[atom.index for atom in slab if atom.position[2] < top_layer_z]]\n",
    "\n",
    "supercell = make_supercell(slab,[[4,0,0],[0,4,0],[0,0,1]])\n",
    "#write('geometry_file/100slab.cif', slab, format='cif')\n",
    "#write('geometry_file/100supercell.cif', supercell, format='cif')"
   ]
  },
  {
   "cell_type": "code",
   "execution_count": 20,
   "metadata": {},
   "outputs": [],
   "source": [
    "def add_charges_to_atoms(input_file, output_file):\n",
    "    # Define the charges for each atom type\n",
    "    atom_charges = {\n",
    "        1: 4.0,  # Ce\n",
    "        2: -2.0  # O\n",
    "    }\n",
    "\n",
    "    # Read the file and store its contents\n",
    "    with open(input_file, \"r\") as file:\n",
    "        lines = file.readlines()\n",
    "\n",
    "    # Find the line number where atom information starts\n",
    "    atom_info_line = None\n",
    "    for i, line in enumerate(lines):\n",
    "        if line.strip().startswith(\"Atoms\"):\n",
    "            atom_info_line = i + 1\n",
    "            break\n",
    "\n",
    "    # If the line number is found, add charges to each atom\n",
    "    if atom_info_line is not None:\n",
    "        # Iterate through atom lines and add charges\n",
    "        for i in range(atom_info_line, len(lines)):\n",
    "            atom_line = lines[i].split()\n",
    "            if len(atom_line) < 2:\n",
    "                continue  # Skip lines that do not have enough elements\n",
    "            atom_index = atom_line[0]\n",
    "            atom_type = int(atom_line[1])\n",
    "            charge = atom_charges.get(atom_type)\n",
    "            if charge is not None:\n",
    "                # Modify the line to include charge\n",
    "                lines[i] = f\"         {atom_line[0]}         {atom_line[1]}   {charge}        {atom_line[2]}       {atom_line[3]}       {atom_line[4]}\\n\"\n",
    "\n",
    "    # Write the modified contents back to the output file\n",
    "    with open(output_file, \"w\") as file:\n",
    "        file.writelines(lines)"
   ]
  },
  {
   "cell_type": "markdown",
   "metadata": {},
   "source": [
    "Manually run this function only once to add charges for slab.lmp"
   ]
  },
  {
   "cell_type": "code",
   "execution_count": 23,
   "metadata": {},
   "outputs": [],
   "source": [
    "#add_charges_to_atoms(\"geometry_file/111supercell.lmp\",\"geometry_file/111supercell.lmp\")\n",
    "#add_charges_to_atoms(\"geometry_file/110supercell.lmp\",\"geometry_file/110supercell.lmp\")\n",
    "#add_charges_to_atoms(\"geometry_file/100slab.lmp\",\"geometry_file/100slab.lmp\")\n",
    "#add_charges_to_atoms(\"geometry_file/111slab.lmp\",\"geometry_file/e111slab.lmp\")\n",
    "#add_charges_to_atoms(\"geometry_file/new110slab.lmp\",\"geometry_file/new110slab.lmp\")\n",
    "#add_charges_to_atoms(\"new110supercell.lmp\",\"new110supercell.lmp\")\n",
    "#add_charges_to_atoms(\"111slab.lmp\",\"111slab.lmp\")"
   ]
  }
 ],
 "metadata": {
  "kernelspec": {
   "display_name": "Python 3",
   "language": "python",
   "name": "python3"
  },
  "language_info": {
   "codemirror_mode": {
    "name": "ipython",
    "version": 3
   },
   "file_extension": ".py",
   "mimetype": "text/x-python",
   "name": "python",
   "nbconvert_exporter": "python",
   "pygments_lexer": "ipython3",
   "version": "3.9.7"
  }
 },
 "nbformat": 4,
 "nbformat_minor": 2
}
