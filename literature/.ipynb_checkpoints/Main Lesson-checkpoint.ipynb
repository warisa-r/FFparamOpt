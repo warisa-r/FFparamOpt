{
 "cells": [
  {
   "cell_type": "markdown",
   "id": "approved-platform",
   "metadata": {},
   "source": [
    "# Heterointerfaces (Interfaces between two different materials)\n",
    "\n",
    "This lesson focuses on a new feature in pymatgen, which is the construction of heterointerface structures. Heterointerfaces are interfaces between two materials that don't have to share chemistry or structure. They are particularly difficult to model due to the number of different ways in which they can be constructed. In some ways, crystalline features such as stacking faults and grain boundaries represent the simplest type of heterointerface. \n",
    "\n",
    "To teach students how to build and manipulat heterointerfaces, we'll begin by focusing on building surfaces, move to understanding epitaxial matching, a critical algorithmic capability for heterointerface generation and finally finish by building some heterointerfaces ourselves."
   ]
  },
  {
   "cell_type": "markdown",
   "id": "historical-resource",
   "metadata": {},
   "source": [
    "## Definitions\n",
    "\n",
    "**Miller Index**: a direction in a crystal typically referenced by 3 integers such as (1,1,1), often quoted without the comma such as \"111\" or \"100\". The integers represent 1/N in 3D space, that is \"200\" is the real-space direction (1/2,0,0) and \"121\" is the real-space direction (1,1/2,1). This is because any direction beyond the boundaries of crystalline boundary wrap back around, so it's not useful to have a direction outside of the cell itself. Negative directions are allowed. Many crystalline systems have symmetries that make various directions equivalent. For instance, in a cubic system \"100\", \"010\" and \"001\" are all equivalent. \n",
    "\n",
    "\n",
    "**Coherent Interface**: A coherent interface has matching lattices from both sides of the interface. This means there is a repeat along the interface that lets build periodicity along the interface surface. \n",
    "\n",
    "**Incoherent Interface**: This is opposed to an incoherent interface in which there is no matching and as a result its not possible to define a repeat distance. This is akin to crystalline vs amorphous materials. \n",
    "\n",
    "**Semi-Coherent Interface**: This is an interface where a coherent match is possible if special defects are allowed. The conventional way to think about this is as needing line dislocations or screw defects to fix the \"gap\" in making a true coherent match. \n"
   ]
  },
  {
   "cell_type": "markdown",
   "id": "acute-sight",
   "metadata": {
    "tags": []
   },
   "source": [
    "## Lesson 1: Surfaces\n",
    "\n",
    "One way to construct an interface is to take two surfaces and join them together. We'll begin by focusing on the tools in pymatgen that let us construct and manipulate surfaces. Since crystal structures in `pymatgen` are periodic all directions, surface structures are also technically in all dimensions. In order to build a free surface we introduce free space or \"vacuum\" into the cell so that there is a break in the periodicity and this \"free surface\" is now something we can compute properties of using DFT. We call this type of structure a `Slab`. `Slab`s are not easy to make, so most of the time we'll beging by using the `SlabGenerator` to construct slabs"
   ]
  },
  {
   "cell_type": "markdown",
   "id": "f702d73a-f65c-4f6d-babd-ede94dd5ec3b",
   "metadata": {},
   "source": [
    "Let's start by importing the LiFePO4 structure"
   ]
  },
  {
   "cell_type": "code",
   "execution_count": 1,
   "id": "fixed-static",
   "metadata": {},
   "outputs": [],
   "source": [
    "from pymatgen.core.structure import Structure\n",
    "LiFePO4 = Structure.from_file(\"LiFePO4.cif\")"
   ]
  },
  {
   "cell_type": "markdown",
   "id": "35faaa6f-0c4d-4f08-bc61-5a5777a7d8f6",
   "metadata": {},
   "source": [
    "Let's import the crystal_toolkit extension to view 3d structures in the Jupyterlab notebook. This only works with JupyterLab and any compatible environment, so it unfortunateyl doesn't work in the collaborative CoCalc environment for now. Hopefully next year it will!"
   ]
  },
  {
   "cell_type": "code",
   "execution_count": 2,
   "id": "e9607bc4-c8a3-466b-9943-69789e8d3224",
   "metadata": {},
   "outputs": [
    {
     "data": {
      "application/vnd.mp.ctk+json": {
       "contents": [
        {
         "contents": [
          {
           "clickable": true,
           "color": "#ff0d0d",
           "id": "--atoms--0",
           "positions": [
            [
             1.0228010782079997,
             6.376484892678,
             1.7283067683750006
            ]
           ],
           "radius": 0.5,
           "tooltip": "O (1.023, 6.376, 1.728)",
           "type": "spheres"
          },
          {
           "clickable": true,
           "color": "#ff8000",
           "id": "--atoms--1",
           "positions": [
            [
             0.39008150714399986,
             1.5225565,
             0.9895904142850002
            ]
           ],
           "radius": 0.5,
           "tooltip": "P (0.390, 1.523, 0.990)",
           "type": "spheres"
          },
          {
           "clickable": true,
           "color": "#cc80ff",
           "id": "--atoms--2",
           "positions": [
            [
             2.3732205,
             0,
             1.4531784444979405e-16
            ]
           ],
           "radius": 0.5,
           "tooltip": "Li (2.373, 0.000, 0.000)",
           "type": "spheres"
          },
          {
           "clickable": true,
           "color": "#ff0d0d",
           "id": "--atoms--3",
           "positions": [
            [
             3.7641840208139996,
             4.5676695,
             10.892094994494999
            ]
           ],
           "radius": 0.5,
           "tooltip": "O (3.764, 4.568, 10.892)",
           "type": "spheres"
          },
          {
           "clickable": true,
           "color": "#ff0d0d",
           "id": "--atoms--4",
           "positions": [
            [
             3.7641840208139996,
             4.5676695,
             0.4483649944950005
            ]
           ],
           "radius": 0.5,
           "tooltip": "O (3.764, 4.568, 0.448)",
           "type": "spheres"
          },
          {
           "clickable": true,
           "color": "#ff0d0d",
           "id": "--atoms--5",
           "positions": [
            [
             0.9822569791859999,
             1.5225565,
             -0.44836499449499995
            ]
           ],
           "radius": 0.5,
           "tooltip": "O (0.982, 1.523, -0.448)",
           "type": "spheres"
          },
          {
           "clickable": true,
           "color": "#ff0d0d",
           "id": "--atoms--6",
           "positions": [
            [
             3.7236399217919995,
             5.803967107322,
             8.715423231625
            ]
           ],
           "radius": 0.5,
           "tooltip": "O (3.724, 5.804, 8.715)",
           "type": "spheres"
          },
          {
           "clickable": true,
           "color": "#cc80ff",
           "id": "--atoms--7",
           "positions": [
            [
             2.3732205,
             0,
             10.44373
            ]
           ],
           "radius": 0.5,
           "tooltip": "Li (2.373, 0.000, 10.444)",
           "type": "spheres"
          },
          {
           "clickable": true,
           "color": "#ff0d0d",
           "id": "--atoms--8",
           "positions": [
            [
             3.521223198906,
             1.5225565,
             6.232008674925001
            ]
           ],
           "radius": 0.5,
           "tooltip": "O (3.521, 1.523, 6.232)",
           "type": "spheres"
          },
          {
           "clickable": true,
           "color": "#ff0d0d",
           "id": "--atoms--9",
           "positions": [
            [
             1.3504194217919996,
             2.758854107322,
             6.950171768375
            ]
           ],
           "radius": 0.5,
           "tooltip": "O (1.350, 2.759, 6.950)",
           "type": "spheres"
          },
          {
           "clickable": true,
           "color": "#ff0d0d",
           "id": "--atoms--10",
           "positions": [
            [
             1.3504194217919994,
             6.376484892678,
             6.950171768375001
            ]
           ],
           "radius": 0.5,
           "tooltip": "O (1.350, 6.376, 6.950)",
           "type": "spheres"
          },
          {
           "clickable": true,
           "color": "#cc80ff",
           "id": "--atoms--11",
           "positions": [
            [
             -1.8645939442459972e-16,
             3.045113,
             5.221865
            ]
           ],
           "radius": 0.5,
           "tooltip": "Li (-0.000, 3.045, 5.222)",
           "type": "spheres"
          },
          {
           "clickable": true,
           "color": "#ff0d0d",
           "id": "--atoms--12",
           "positions": [
            [
             3.5984383010939998,
             1.5225565,
             1.0101436749250003
            ]
           ],
           "radius": 0.5,
           "tooltip": "O (3.598, 1.523, 1.010)",
           "type": "spheres"
          },
          {
           "clickable": true,
           "color": "#e06633",
           "id": "--atoms--13",
           "positions": [
            [
             0.11748865407299973,
             4.5676695,
             2.2769785676550005
            ]
           ],
           "radius": 0.5,
           "tooltip": "Fe (0.117, 4.568, 2.277)",
           "type": "spheres"
          },
          {
           "clickable": true,
           "color": "#ff0d0d",
           "id": "--atoms--14",
           "positions": [
            [
             1.0228010782080001,
             0.28625889267800003,
             1.7283067683750002
            ]
           ],
           "radius": 0.5,
           "tooltip": "O (1.023, 0.286, 1.728)",
           "type": "spheres"
          },
          {
           "clickable": true,
           "color": "#ff0d0d",
           "id": "--atoms--15",
           "positions": [
            [
             3.396021578208,
             3.3313718926780003,
             3.4935582316250007
            ]
           ],
           "radius": 0.5,
           "tooltip": "O (3.396, 3.331, 3.494)",
           "type": "spheres"
          },
          {
           "clickable": true,
           "color": "#cc80ff",
           "id": "--atoms--16",
           "positions": [
            [
             -3.7291878884919943e-16,
             6.090226,
             5.221865
            ]
           ],
           "radius": 0.5,
           "tooltip": "Li (-0.000, 6.090, 5.222)",
           "type": "spheres"
          },
          {
           "clickable": true,
           "color": "#ff0d0d",
           "id": "--atoms--17",
           "positions": [
            [
             3.396021578208,
             -0.28625889267800014,
             3.4935582316250002
            ]
           ],
           "radius": 0.5,
           "tooltip": "O (3.396, -0.286, 3.494)",
           "type": "spheres"
          },
          {
           "clickable": true,
           "color": "#ff0d0d",
           "id": "--atoms--18",
           "positions": [
            [
             0.9822569791859999,
             1.5225565,
             9.995365005505
            ]
           ],
           "radius": 0.5,
           "tooltip": "O (0.982, 1.523, 9.995)",
           "type": "spheres"
          },
          {
           "clickable": true,
           "color": "#cc80ff",
           "id": "--atoms--19",
           "positions": [
            [
             4.746441,
             3.045113,
             5.221865000000001
            ]
           ],
           "radius": 0.5,
           "tooltip": "Li (4.746, 3.045, 5.222)",
           "type": "spheres"
          },
          {
           "clickable": true,
           "color": "#ff0d0d",
           "id": "--atoms--20",
           "positions": [
            [
             1.3909635208139999,
             1.5225565,
             4.773500005505
            ]
           ],
           "radius": 0.5,
           "tooltip": "O (1.391, 1.523, 4.774)",
           "type": "spheres"
          },
          {
           "clickable": true,
           "color": "#e06633",
           "id": "--atoms--21",
           "positions": [
            [
             2.490709154073,
             1.5225565,
             2.9448864323450006
            ]
           ],
           "radius": 0.5,
           "tooltip": "Fe (2.491, 1.523, 2.945)",
           "type": "spheres"
          },
          {
           "clickable": true,
           "color": "#e06633",
           "id": "--atoms--22",
           "positions": [
            [
             4.863929654073,
             4.5676695,
             2.2769785676550005
            ]
           ],
           "radius": 0.5,
           "tooltip": "Fe (4.864, 4.568, 2.277)",
           "type": "spheres"
          },
          {
           "clickable": true,
           "color": "#cc80ff",
           "id": "--atoms--23",
           "positions": [
            [
             4.746441,
             6.090226,
             5.221865000000001
            ]
           ],
           "radius": 0.5,
           "tooltip": "Li (4.746, 6.090, 5.222)",
           "type": "spheres"
          },
          {
           "clickable": true,
           "color": "#ff0d0d",
           "id": "--atoms--24",
           "positions": [
            [
             1.3504194217919998,
             0.28625889267800003,
             6.950171768375
            ]
           ],
           "radius": 0.5,
           "tooltip": "O (1.350, 0.286, 6.950)",
           "type": "spheres"
          },
          {
           "clickable": true,
           "color": "#ff0d0d",
           "id": "--atoms--25",
           "positions": [
            [
             3.723639921792,
             3.3313718926780003,
             8.715423231625
            ]
           ],
           "radius": 0.5,
           "tooltip": "O (3.724, 3.331, 8.715)",
           "type": "spheres"
          },
          {
           "clickable": true,
           "color": "#ff8000",
           "id": "--atoms--26",
           "positions": [
            [
             4.356359492856,
             4.5676695,
             9.454139585715001
            ]
           ],
           "radius": 0.5,
           "tooltip": "P (4.356, 4.568, 9.454)",
           "type": "spheres"
          },
          {
           "clickable": true,
           "color": "#ff8000",
           "id": "--atoms--27",
           "positions": [
            [
             2.7633020071439995,
             4.5676695,
             4.232274585715001
            ]
           ],
           "radius": 0.5,
           "tooltip": "P (2.763, 4.568, 4.232)",
           "type": "spheres"
          },
          {
           "clickable": true,
           "color": "#cc80ff",
           "id": "--atoms--28",
           "positions": [
            [
             0,
             0,
             5.221865
            ]
           ],
           "radius": 0.5,
           "tooltip": "Li (0.000, 0.000, 5.222)",
           "type": "spheres"
          },
          {
           "clickable": true,
           "color": "#cc80ff",
           "id": "--atoms--29",
           "positions": [
            [
             2.3732205,
             3.045113,
             3.3177723887439374e-16
            ]
           ],
           "radius": 0.5,
           "tooltip": "Li (2.373, 3.045, 0.000)",
           "type": "spheres"
          },
          {
           "clickable": true,
           "color": "#ff0d0d",
           "id": "--atoms--30",
           "positions": [
            [
             1.1480026989059997,
             4.5676695,
             9.433586325075
            ]
           ],
           "radius": 0.5,
           "tooltip": "O (1.148, 4.568, 9.434)",
           "type": "spheres"
          },
          {
           "clickable": true,
           "color": "#ff0d0d",
           "id": "--atoms--31",
           "positions": [
            [
             1.022801078208,
             2.758854107322,
             1.7283067683750004
            ]
           ],
           "radius": 0.5,
           "tooltip": "O (1.023, 2.759, 1.728)",
           "type": "spheres"
          },
          {
           "clickable": true,
           "color": "#ff0d0d",
           "id": "--atoms--32",
           "positions": [
            [
             1.2252178010939996,
             4.5676695,
             4.2117213250750005
            ]
           ],
           "radius": 0.5,
           "tooltip": "O (1.225, 4.568, 4.212)",
           "type": "spheres"
          },
          {
           "clickable": true,
           "color": "#ff0d0d",
           "id": "--atoms--33",
           "positions": [
            [
             3.3960215782079994,
             5.803967107322,
             3.4935582316250007
            ]
           ],
           "radius": 0.5,
           "tooltip": "O (3.396, 5.804, 3.494)",
           "type": "spheres"
          },
          {
           "clickable": true,
           "color": "#cc80ff",
           "id": "--atoms--34",
           "positions": [
            [
             2.3732204999999995,
             6.090226,
             5.182366332989935e-16
            ]
           ],
           "radius": 0.5,
           "tooltip": "Li (2.373, 6.090, 0.000)",
           "type": "spheres"
          },
          {
           "clickable": true,
           "color": "#e06633",
           "id": "--atoms--35",
           "positions": [
            [
             4.628952345927,
             1.5225565,
             8.166751432345
            ]
           ],
           "radius": 0.5,
           "tooltip": "Fe (4.629, 1.523, 8.167)",
           "type": "spheres"
          },
          {
           "clickable": true,
           "color": "#cc80ff",
           "id": "--atoms--36",
           "positions": [
            [
             2.3732205,
             3.045113,
             10.44373
            ]
           ],
           "radius": 0.5,
           "tooltip": "Li (2.373, 3.045, 10.444)",
           "type": "spheres"
          },
          {
           "clickable": true,
           "color": "#ff0d0d",
           "id": "--atoms--37",
           "positions": [
            [
             3.723639921792,
             -0.28625889267800014,
             8.715423231625
            ]
           ],
           "radius": 0.5,
           "tooltip": "O (3.724, -0.286, 8.715)",
           "type": "spheres"
          },
          {
           "clickable": true,
           "color": "#e06633",
           "id": "--atoms--38",
           "positions": [
            [
             -0.11748865407300021,
             1.5225565,
             8.166751432345
            ]
           ],
           "radius": 0.5,
           "tooltip": "Fe (-0.117, 1.523, 8.167)",
           "type": "spheres"
          },
          {
           "clickable": true,
           "color": "#cc80ff",
           "id": "--atoms--39",
           "positions": [
            [
             4.746441,
             0,
             5.221865
            ]
           ],
           "radius": 0.5,
           "tooltip": "Li (4.746, 0.000, 5.222)",
           "type": "spheres"
          },
          {
           "clickable": true,
           "color": "#e06633",
           "id": "--atoms--40",
           "positions": [
            [
             2.2557318459269995,
             4.5676695,
             7.498843567655
            ]
           ],
           "radius": 0.5,
           "tooltip": "Fe (2.256, 4.568, 7.499)",
           "type": "spheres"
          },
          {
           "clickable": true,
           "color": "#cc80ff",
           "id": "--atoms--41",
           "positions": [
            [
             2.3732204999999995,
             6.090226,
             10.44373
            ]
           ],
           "radius": 0.5,
           "tooltip": "Li (2.373, 6.090, 10.444)",
           "type": "spheres"
          },
          {
           "clickable": true,
           "color": "#ff0d0d",
           "id": "--atoms--42",
           "positions": [
            [
             3.3554774791859994,
             4.5676695,
             5.670229994495001
            ]
           ],
           "radius": 0.5,
           "tooltip": "O (3.355, 4.568, 5.670)",
           "type": "spheres"
          },
          {
           "clickable": true,
           "color": "#ff8000",
           "id": "--atoms--43",
           "positions": [
            [
             1.9831389928560001,
             1.5225565,
             6.211455414285
            ]
           ],
           "radius": 0.5,
           "tooltip": "P (1.983, 1.523, 6.211)",
           "type": "spheres"
          }
         ],
         "id": "--atoms",
         "name": "atoms",
         "origin": [
          -2.3732205,
          -3.045113,
          -5.221865
         ],
         "visible": true
        },
        {
         "contents": [],
         "id": "--bonds",
         "name": "bonds",
         "origin": [
          -2.3732205,
          -3.045113,
          -5.221865
         ],
         "visible": true
        },
        {
         "contents": [],
         "id": "--polyhedra",
         "name": "polyhedra",
         "origin": [
          -2.3732205,
          -3.045113,
          -5.221865
         ],
         "visible": true
        },
        {
         "contents": [
          {
           "contents": [
            {
             "clickable": false,
             "id": "--unit_cell--a=4.746441, b=6.090226, c=10.44373, alpha=90.0, beta=90.0, gamma=90.0--0",
             "positions": [
              [
               0,
               0,
               0
              ],
              [
               4.746441,
               0,
               2.906356888995881e-16
              ],
              [
               0,
               0,
               0
              ],
              [
               -3.7291878884919943e-16,
               6.090226,
               3.7291878884919943e-16
              ],
              [
               0,
               0,
               0
              ],
              [
               0,
               0,
               10.44373
              ],
              [
               4.746441,
               0,
               2.906356888995881e-16
              ],
              [
               4.746441,
               6.090226,
               6.635544777487875e-16
              ],
              [
               4.746441,
               0,
               2.906356888995881e-16
              ],
              [
               4.746441,
               0,
               10.44373
              ],
              [
               -3.7291878884919943e-16,
               6.090226,
               3.7291878884919943e-16
              ],
              [
               4.746441,
               6.090226,
               6.635544777487875e-16
              ],
              [
               -3.7291878884919943e-16,
               6.090226,
               3.7291878884919943e-16
              ],
              [
               -3.7291878884919943e-16,
               6.090226,
               10.44373
              ],
              [
               0,
               0,
               10.44373
              ],
              [
               4.746441,
               0,
               10.44373
              ],
              [
               0,
               0,
               10.44373
              ],
              [
               -3.7291878884919943e-16,
               6.090226,
               10.44373
              ],
              [
               4.746441,
               6.090226,
               6.635544777487875e-16
              ],
              [
               4.746441,
               6.090226,
               10.44373
              ],
              [
               4.746441,
               0,
               10.44373
              ],
              [
               4.746441,
               6.090226,
               10.44373
              ],
              [
               -3.7291878884919943e-16,
               6.090226,
               10.44373
              ],
              [
               4.746441,
               6.090226,
               10.44373
              ]
             ],
             "type": "lines"
            }
           ],
           "id": "--unit_cell--a=4.746441, b=6.090226, c=10.44373, alpha=90.0, beta=90.0, gamma=90.0",
           "name": "a=4.746441, b=6.090226, c=10.44373, alpha=90.0, beta=90.0, gamma=90.0",
           "visible": true
          }
         ],
         "id": "--unit_cell",
         "name": "unit_cell",
         "origin": [
          -2.3732205,
          -3.045113,
          -5.221865
         ],
         "visible": true
        }
       ],
       "name": "Structure",
       "origin": [
        -2.3732205,
        -3.045113,
        -5.221865
       ],
       "visible": true
      },
      "text/plain": [
       "If you see this text, the Crystal Toolkit Jupyter Lab \n",
       "\n",
       "extension is not installed. You can install it by running \n",
       "\n",
       "\"pip install crystaltoolkit-extension\" \n",
       "\n",
       "from the same environment you run \"jupyter lab\". \n",
       "\n",
       "This only works in Jupyter Lab 3.x or above.\n",
       "\n",
       "\n",
       "Structure Summary\n",
       "Lattice\n",
       "    abc : 4.746441 6.090226 10.44373\n",
       " angles : 90.0 90.0 90.0\n",
       " volume : 301.8958418773316\n",
       "      A : 4.746441 0.0 2.906356888995881e-16\n",
       "      B : -3.7291878884919943e-16 6.090226 3.7291878884919943e-16\n",
       "      C : 0.0 0.0 10.44373\n",
       "PeriodicSite: Li (0.0000, 0.0000, 5.2219) [0.0000, 0.0000, 0.5000]\n",
       "PeriodicSite: Li (2.3732, 0.0000, 0.0000) [0.5000, 0.0000, 0.0000]\n",
       "PeriodicSite: Li (2.3732, 3.0451, 0.0000) [0.5000, 0.5000, 0.0000]\n",
       "PeriodicSite: Li (-0.0000, 3.0451, 5.2219) [0.0000, 0.5000, 0.5000]\n",
       "PeriodicSite: Fe (2.2557, 4.5677, 7.4988) [0.4752, 0.7500, 0.7180]\n",
       "PeriodicSite: Fe (0.1175, 4.5677, 2.2770) [0.0248, 0.7500, 0.2180]\n",
       "PeriodicSite: Fe (4.6290, 1.5226, 8.1668) [0.9752, 0.2500, 0.7820]\n",
       "PeriodicSite: Fe (2.4907, 1.5226, 2.9449) [0.5248, 0.2500, 0.2820]\n",
       "PeriodicSite: P (1.9831, 1.5226, 6.2115) [0.4178, 0.2500, 0.5948]\n",
       "PeriodicSite: P (4.3564, 4.5677, 9.4541) [0.9178, 0.7500, 0.9052]\n",
       "PeriodicSite: P (0.3901, 1.5226, 0.9896) [0.0822, 0.2500, 0.0948]\n",
       "PeriodicSite: P (2.7633, 4.5677, 4.2323) [0.5822, 0.7500, 0.4052]\n",
       "PeriodicSite: O (3.5212, 1.5226, 6.2320) [0.7419, 0.2500, 0.5967]\n",
       "PeriodicSite: O (1.1480, 4.5677, 9.4336) [0.2419, 0.7500, 0.9033]\n",
       "PeriodicSite: O (3.5984, 1.5226, 1.0101) [0.7581, 0.2500, 0.0967]\n",
       "PeriodicSite: O (1.2252, 4.5677, 4.2117) [0.2581, 0.7500, 0.4033]\n",
       "PeriodicSite: O (0.9823, 1.5226, 9.9954) [0.2069, 0.2500, 0.9571]\n",
       "PeriodicSite: O (3.3555, 4.5677, 5.6702) [0.7069, 0.7500, 0.5429]\n",
       "PeriodicSite: O (1.3910, 1.5226, 4.7735) [0.2931, 0.2500, 0.4571]\n",
       "PeriodicSite: O (3.7642, 4.5677, 0.4484) [0.7931, 0.7500, 0.0429]\n",
       "PeriodicSite: O (1.3504, 0.2863, 6.9502) [0.2845, 0.0470, 0.6655]\n",
       "PeriodicSite: O (3.7236, 5.8040, 8.7154) [0.7845, 0.9530, 0.8345]\n",
       "PeriodicSite: O (3.7236, 3.3314, 8.7154) [0.7845, 0.5470, 0.8345]\n",
       "PeriodicSite: O (1.3504, 2.7589, 6.9502) [0.2845, 0.4530, 0.6655]\n",
       "PeriodicSite: O (1.0228, 2.7589, 1.7283) [0.2155, 0.4530, 0.1655]\n",
       "PeriodicSite: O (3.3960, 3.3314, 3.4936) [0.7155, 0.5470, 0.3345]\n",
       "PeriodicSite: O (3.3960, 5.8040, 3.4936) [0.7155, 0.9530, 0.3345]\n",
       "PeriodicSite: O (1.0228, 0.2863, 1.7283) [0.2155, 0.0470, 0.1655]"
      ]
     },
     "metadata": {},
     "output_type": "display_data"
    }
   ],
   "source": [
    "import crystal_toolkit\n",
    "LiFePO4"
   ]
  },
  {
   "cell_type": "markdown",
   "id": "6de17926-1c75-4d8c-af51-84b9341bc0c4",
   "metadata": {},
   "source": [
    "Let's add some oxidation states to LiFePO<sub>4</sub>, this will be important when we want to take surface polarity into consideration:\n"
   ]
  },
  {
   "cell_type": "code",
   "execution_count": 3,
   "id": "dfb4bdf4-dd88-4ce1-b57e-527813c8bdad",
   "metadata": {},
   "outputs": [],
   "source": [
    "LiFePO4.add_oxidation_state_by_element({\"Fe\": 2, \"Li\": 1, \"P\": 5, \"O\": -2})"
   ]
  },
  {
   "cell_type": "markdown",
   "id": "92344e80-5954-4ef1-9f00-1ea4888bd32a",
   "metadata": {},
   "source": [
    "Let's now try to generate surfaces using the *SlabGenerator* class."
   ]
  },
  {
   "cell_type": "code",
   "execution_count": 4,
   "id": "ordered-wayne",
   "metadata": {},
   "outputs": [],
   "source": [
    "from pymatgen.core.surface import SlabGenerator"
   ]
  },
  {
   "cell_type": "markdown",
   "id": "624af3c3-801c-4fae-84be-496c09a13f1d",
   "metadata": {},
   "source": [
    "We can now initialize an instance of the *SlabGenerator*class, let's choose a Miller index of (0, 0, 1), a minimum slab height of 10 Å, and minimum 10 Å of vacuum."
   ]
  },
  {
   "cell_type": "code",
   "execution_count": 5,
   "id": "intellectual-forest",
   "metadata": {},
   "outputs": [],
   "source": [
    "slabgen = SlabGenerator(LiFePO4,\n",
    "                        miller_index=(0,0,1),\n",
    "                        min_slab_size=10,\n",
    "                        min_vacuum_size=10,\n",
    "                        center_slab=True)"
   ]
  },
  {
   "cell_type": "markdown",
   "id": "5b6a5eb5-0341-4da2-92df-b08e90139371",
   "metadata": {},
   "source": [
    "We can now use the *get_slabs()* method of the *SlabGenerator* class to create a list of *Slab* objects. The slabs returned by *get_slabs()* in this case correspond to all the unique terminations along the normal to the Miller plane we are interested in. The different resulting slabs are characterized by different c shifts:"
   ]
  },
  {
   "cell_type": "code",
   "execution_count": 6,
   "id": "super-lewis",
   "metadata": {},
   "outputs": [],
   "source": [
    "slabs = slabgen.get_slabs()"
   ]
  },
  {
   "cell_type": "code",
   "execution_count": 7,
   "id": "employed-disease",
   "metadata": {},
   "outputs": [
    {
     "data": {
      "text/plain": [
       "5"
      ]
     },
     "execution_count": 7,
     "metadata": {},
     "output_type": "execute_result"
    }
   ],
   "source": [
    "len(slabs)"
   ]
  },
  {
   "cell_type": "markdown",
   "id": "f3827ff6-f87e-4434-adab-4f7d0fbfd998",
   "metadata": {},
   "source": [
    "Let's print this slab object and see what it looks like:"
   ]
  },
  {
   "cell_type": "code",
   "execution_count": 8,
   "id": "equal-concentration",
   "metadata": {},
   "outputs": [
    {
     "name": "stdout",
     "output_type": "stream",
     "text": [
      "Slab Summary (Li4 Fe4 P4 O16)\n",
      "Reduced Formula: LiFePO4\n",
      "Miller index: (0, 0, 1)\n",
      "Shift: 0.0215, Scale Factor: [[1 0 0]\n",
      " [0 1 0]\n",
      " [0 0 1]]\n",
      "abc   :   4.746441   6.090226  20.887460\n",
      "angles:  90.000000  90.000000  90.000000\n",
      "Sites (28)\n",
      "1 Li+     0.000000     0.000000     0.482143\n",
      "2 Li+     0.500000     0.000000     0.732143\n",
      "3 Li+     0.500000     0.500000     0.732143\n",
      "4 Li+     0.000000     0.500000     0.482143\n",
      "5 Fe2+     0.475247     0.750000     0.591155\n",
      "6 Fe2+     0.024753     0.750000     0.341155\n",
      "7 Fe2+     0.975247     0.250000     0.623131\n",
      "8 Fe2+     0.524753     0.250000     0.373131\n",
      "9 P5+     0.417816     0.250000     0.529520\n",
      "10 P5+     0.917816     0.750000     0.684766\n",
      "11 P5+     0.082184     0.250000     0.279520\n",
      "12 P5+     0.582184     0.750000     0.434766\n",
      "13 O2-     0.741866     0.250000     0.530504\n",
      "14 O2-     0.241866     0.750000     0.683782\n",
      "15 O2-     0.758134     0.250000     0.280504\n",
      "16 O2-     0.258134     0.750000     0.433782\n",
      "17 O2-     0.206946     0.250000     0.710677\n",
      "18 O2-     0.706946     0.750000     0.503609\n",
      "19 O2-     0.293054     0.250000     0.460677\n",
      "20 O2-     0.793054     0.750000     0.253609\n",
      "21 O2-     0.284512     0.047003     0.564887\n",
      "22 O2-     0.784512     0.952997     0.649399\n",
      "23 O2-     0.784512     0.547003     0.649399\n",
      "24 O2-     0.284512     0.452997     0.564887\n",
      "25 O2-     0.215488     0.452997     0.314887\n",
      "26 O2-     0.715488     0.547003     0.399399\n",
      "27 O2-     0.715488     0.952997     0.399399\n",
      "28 O2-     0.215488     0.047003     0.314887\n"
     ]
    }
   ],
   "source": [
    "print(slabs[0])"
   ]
  },
  {
   "cell_type": "markdown",
   "id": "4aa180b0-336a-4405-bfca-ca1f373e79b4",
   "metadata": {},
   "source": [
    "*Slab* is just another form of a *Structure* with extra data, so we can use the tools we already have to mainpulate them. This includes using them to produce inputs for various DFT codes such as VASP, Quantum Espresso, and CASTEP, as well as using our jupyter-lab crystal viewer: crystal_toolkit. Let's try that out:"
   ]
  },
  {
   "cell_type": "code",
   "execution_count": 9,
   "id": "union-aggregate",
   "metadata": {},
   "outputs": [
    {
     "data": {
      "application/vnd.mp.ctk+json": {
       "contents": [
        {
         "contents": [
          {
           "clickable": true,
           "color": "#ff0d0d",
           "id": "--atoms--0",
           "positions": [
            [
             1.0228010782079997,
             6.376484892678,
             6.577181411232143
            ]
           ],
           "radius": 0.5,
           "tooltip": "O2- (1.023, 6.376, 6.577)",
           "type": "spheres"
          },
          {
           "clickable": true,
           "color": "#ff8000",
           "id": "--atoms--1",
           "positions": [
            [
             0.39008150714399986,
             1.5225565,
             5.838465057142143
            ]
           ],
           "radius": 0.5,
           "tooltip": "P5+ (0.390, 1.523, 5.838)",
           "type": "spheres"
          },
          {
           "clickable": true,
           "color": "#cc80ff",
           "id": "--atoms--2",
           "positions": [
            [
             2.3732205,
             0,
             15.292604642857144
            ]
           ],
           "radius": 0.5,
           "tooltip": "Li+ (2.373, 0.000, 15.293)",
           "type": "spheres"
          },
          {
           "clickable": true,
           "color": "#ff0d0d",
           "id": "--atoms--3",
           "positions": [
            [
             3.7641840208139996,
             4.5676695,
             5.297239637352143
            ]
           ],
           "radius": 0.5,
           "tooltip": "O2- (3.764, 4.568, 5.297)",
           "type": "spheres"
          },
          {
           "clickable": true,
           "color": "#ff0d0d",
           "id": "--atoms--4",
           "positions": [
            [
             3.723639921792,
             5.803967107322,
             13.564297874482142
            ]
           ],
           "radius": 0.5,
           "tooltip": "O2- (3.724, 5.804, 13.564)",
           "type": "spheres"
          },
          {
           "clickable": true,
           "color": "#ff0d0d",
           "id": "--atoms--5",
           "positions": [
            [
             3.521223198906,
             1.5225565,
             11.080883317782142
            ]
           ],
           "radius": 0.5,
           "tooltip": "O2- (3.521, 1.523, 11.081)",
           "type": "spheres"
          },
          {
           "clickable": true,
           "color": "#ff0d0d",
           "id": "--atoms--6",
           "positions": [
            [
             1.3504194217919996,
             2.758854107322,
             11.799046411232142
            ]
           ],
           "radius": 0.5,
           "tooltip": "O2- (1.350, 2.759, 11.799)",
           "type": "spheres"
          },
          {
           "clickable": true,
           "color": "#ff0d0d",
           "id": "--atoms--7",
           "positions": [
            [
             1.3504194217919994,
             6.376484892678,
             11.799046411232142
            ]
           ],
           "radius": 0.5,
           "tooltip": "O2- (1.350, 6.376, 11.799)",
           "type": "spheres"
          },
          {
           "clickable": true,
           "color": "#cc80ff",
           "id": "--atoms--8",
           "positions": [
            [
             -1.8645939442459972e-16,
             3.045113,
             10.070739642857141
            ]
           ],
           "radius": 0.5,
           "tooltip": "Li+ (-0.000, 3.045, 10.071)",
           "type": "spheres"
          },
          {
           "clickable": true,
           "color": "#ff0d0d",
           "id": "--atoms--9",
           "positions": [
            [
             3.5984383010939998,
             1.5225565,
             5.859018317782143
            ]
           ],
           "radius": 0.5,
           "tooltip": "O2- (3.598, 1.523, 5.859)",
           "type": "spheres"
          },
          {
           "clickable": true,
           "color": "#e06633",
           "id": "--atoms--10",
           "positions": [
            [
             0.11748865407299974,
             4.5676695,
             7.125853210512144
            ]
           ],
           "radius": 0.5,
           "tooltip": "Fe2+ (0.117, 4.568, 7.126)",
           "type": "spheres"
          },
          {
           "clickable": true,
           "color": "#ff0d0d",
           "id": "--atoms--11",
           "positions": [
            [
             1.0228010782080001,
             0.28625889267800003,
             6.577181411232142
            ]
           ],
           "radius": 0.5,
           "tooltip": "O2- (1.023, 0.286, 6.577)",
           "type": "spheres"
          },
          {
           "clickable": true,
           "color": "#ff0d0d",
           "id": "--atoms--12",
           "positions": [
            [
             3.396021578208,
             3.3313718926780003,
             8.342432874482142
            ]
           ],
           "radius": 0.5,
           "tooltip": "O2- (3.396, 3.331, 8.342)",
           "type": "spheres"
          },
          {
           "clickable": true,
           "color": "#cc80ff",
           "id": "--atoms--13",
           "positions": [
            [
             -3.7291878884919943e-16,
             6.090226,
             10.070739642857141
            ]
           ],
           "radius": 0.5,
           "tooltip": "Li+ (-0.000, 6.090, 10.071)",
           "type": "spheres"
          },
          {
           "clickable": true,
           "color": "#ff0d0d",
           "id": "--atoms--14",
           "positions": [
            [
             3.396021578208,
             -0.28625889267800014,
             8.342432874482142
            ]
           ],
           "radius": 0.5,
           "tooltip": "O2- (3.396, -0.286, 8.342)",
           "type": "spheres"
          },
          {
           "clickable": true,
           "color": "#ff0d0d",
           "id": "--atoms--15",
           "positions": [
            [
             0.982256979186,
             1.5225565,
             14.844239648362146
            ]
           ],
           "radius": 0.5,
           "tooltip": "O2- (0.982, 1.523, 14.844)",
           "type": "spheres"
          },
          {
           "clickable": true,
           "color": "#cc80ff",
           "id": "--atoms--16",
           "positions": [
            [
             4.746441,
             3.045113,
             10.070739642857141
            ]
           ],
           "radius": 0.5,
           "tooltip": "Li+ (4.746, 3.045, 10.071)",
           "type": "spheres"
          },
          {
           "clickable": true,
           "color": "#ff0d0d",
           "id": "--atoms--17",
           "positions": [
            [
             1.3909635208139999,
             1.5225565,
             9.622374648362143
            ]
           ],
           "radius": 0.5,
           "tooltip": "O2- (1.391, 1.523, 9.622)",
           "type": "spheres"
          },
          {
           "clickable": true,
           "color": "#e06633",
           "id": "--atoms--18",
           "positions": [
            [
             2.490709154073,
             1.5225565,
             7.793761075202143
            ]
           ],
           "radius": 0.5,
           "tooltip": "Fe2+ (2.491, 1.523, 7.794)",
           "type": "spheres"
          },
          {
           "clickable": true,
           "color": "#e06633",
           "id": "--atoms--19",
           "positions": [
            [
             4.863929654073,
             4.5676695,
             7.125853210512145
            ]
           ],
           "radius": 0.5,
           "tooltip": "Fe2+ (4.864, 4.568, 7.126)",
           "type": "spheres"
          },
          {
           "clickable": true,
           "color": "#cc80ff",
           "id": "--atoms--20",
           "positions": [
            [
             4.746441,
             6.090226,
             10.070739642857141
            ]
           ],
           "radius": 0.5,
           "tooltip": "Li+ (4.746, 6.090, 10.071)",
           "type": "spheres"
          },
          {
           "clickable": true,
           "color": "#ff0d0d",
           "id": "--atoms--21",
           "positions": [
            [
             1.3504194217919998,
             0.28625889267800003,
             11.799046411232142
            ]
           ],
           "radius": 0.5,
           "tooltip": "O2- (1.350, 0.286, 11.799)",
           "type": "spheres"
          },
          {
           "clickable": true,
           "color": "#ff0d0d",
           "id": "--atoms--22",
           "positions": [
            [
             3.723639921792,
             3.3313718926780003,
             13.564297874482142
            ]
           ],
           "radius": 0.5,
           "tooltip": "O2- (3.724, 3.331, 13.564)",
           "type": "spheres"
          },
          {
           "clickable": true,
           "color": "#ff8000",
           "id": "--atoms--23",
           "positions": [
            [
             4.356359492856,
             4.5676695,
             14.303014228572144
            ]
           ],
           "radius": 0.5,
           "tooltip": "P5+ (4.356, 4.568, 14.303)",
           "type": "spheres"
          },
          {
           "clickable": true,
           "color": "#ff8000",
           "id": "--atoms--24",
           "positions": [
            [
             2.7633020071439995,
             4.5676695,
             9.081149228572144
            ]
           ],
           "radius": 0.5,
           "tooltip": "P5+ (2.763, 4.568, 9.081)",
           "type": "spheres"
          },
          {
           "clickable": true,
           "color": "#cc80ff",
           "id": "--atoms--25",
           "positions": [
            [
             0,
             0,
             10.070739642857141
            ]
           ],
           "radius": 0.5,
           "tooltip": "Li+ (0.000, 0.000, 10.071)",
           "type": "spheres"
          },
          {
           "clickable": true,
           "color": "#cc80ff",
           "id": "--atoms--26",
           "positions": [
            [
             2.3732205,
             3.045113,
             15.292604642857144
            ]
           ],
           "radius": 0.5,
           "tooltip": "Li+ (2.373, 3.045, 15.293)",
           "type": "spheres"
          },
          {
           "clickable": true,
           "color": "#ff0d0d",
           "id": "--atoms--27",
           "positions": [
            [
             1.1480026989059997,
             4.5676695,
             14.282460967932142
            ]
           ],
           "radius": 0.5,
           "tooltip": "O2- (1.148, 4.568, 14.282)",
           "type": "spheres"
          },
          {
           "clickable": true,
           "color": "#ff0d0d",
           "id": "--atoms--28",
           "positions": [
            [
             1.022801078208,
             2.758854107322,
             6.577181411232142
            ]
           ],
           "radius": 0.5,
           "tooltip": "O2- (1.023, 2.759, 6.577)",
           "type": "spheres"
          },
          {
           "clickable": true,
           "color": "#ff0d0d",
           "id": "--atoms--29",
           "positions": [
            [
             1.2252178010939996,
             4.5676695,
             9.060595967932143
            ]
           ],
           "radius": 0.5,
           "tooltip": "O2- (1.225, 4.568, 9.061)",
           "type": "spheres"
          },
          {
           "clickable": true,
           "color": "#ff0d0d",
           "id": "--atoms--30",
           "positions": [
            [
             3.3960215782079994,
             5.803967107322,
             8.342432874482142
            ]
           ],
           "radius": 0.5,
           "tooltip": "O2- (3.396, 5.804, 8.342)",
           "type": "spheres"
          },
          {
           "clickable": true,
           "color": "#cc80ff",
           "id": "--atoms--31",
           "positions": [
            [
             2.3732204999999995,
             6.090226,
             15.292604642857144
            ]
           ],
           "radius": 0.5,
           "tooltip": "Li+ (2.373, 6.090, 15.293)",
           "type": "spheres"
          },
          {
           "clickable": true,
           "color": "#e06633",
           "id": "--atoms--32",
           "positions": [
            [
             4.628952345927,
             1.5225565,
             13.015626075202142
            ]
           ],
           "radius": 0.5,
           "tooltip": "Fe2+ (4.629, 1.523, 13.016)",
           "type": "spheres"
          },
          {
           "clickable": true,
           "color": "#ff0d0d",
           "id": "--atoms--33",
           "positions": [
            [
             3.7236399217920004,
             -0.28625889267800014,
             13.564297874482142
            ]
           ],
           "radius": 0.5,
           "tooltip": "O2- (3.724, -0.286, 13.564)",
           "type": "spheres"
          },
          {
           "clickable": true,
           "color": "#e06633",
           "id": "--atoms--34",
           "positions": [
            [
             -0.11748865407300021,
             1.5225565,
             13.015626075202142
            ]
           ],
           "radius": 0.5,
           "tooltip": "Fe2+ (-0.117, 1.523, 13.016)",
           "type": "spheres"
          },
          {
           "clickable": true,
           "color": "#cc80ff",
           "id": "--atoms--35",
           "positions": [
            [
             4.746441,
             0,
             10.070739642857141
            ]
           ],
           "radius": 0.5,
           "tooltip": "Li+ (4.746, 0.000, 10.071)",
           "type": "spheres"
          },
          {
           "clickable": true,
           "color": "#e06633",
           "id": "--atoms--36",
           "positions": [
            [
             2.2557318459269995,
             4.5676695,
             12.347718210512143
            ]
           ],
           "radius": 0.5,
           "tooltip": "Fe2+ (2.256, 4.568, 12.348)",
           "type": "spheres"
          },
          {
           "clickable": true,
           "color": "#ff0d0d",
           "id": "--atoms--37",
           "positions": [
            [
             3.3554774791859994,
             4.5676695,
             10.519104637352143
            ]
           ],
           "radius": 0.5,
           "tooltip": "O2- (3.355, 4.568, 10.519)",
           "type": "spheres"
          },
          {
           "clickable": true,
           "color": "#ff8000",
           "id": "--atoms--38",
           "positions": [
            [
             1.9831389928560004,
             1.5225565,
             11.060330057142144
            ]
           ],
           "radius": 0.5,
           "tooltip": "P5+ (1.983, 1.523, 11.060)",
           "type": "spheres"
          }
         ],
         "id": "--atoms",
         "name": "atoms",
         "origin": [
          -2.3732205,
          -3.045113,
          -10.44373
         ],
         "visible": true
        },
        {
         "contents": [],
         "id": "--bonds",
         "name": "bonds",
         "origin": [
          -2.3732205,
          -3.045113,
          -10.44373
         ],
         "visible": true
        },
        {
         "contents": [],
         "id": "--polyhedra",
         "name": "polyhedra",
         "origin": [
          -2.3732205,
          -3.045113,
          -10.44373
         ],
         "visible": true
        },
        {
         "contents": [
          {
           "contents": [
            {
             "clickable": false,
             "id": "--unit_cell--a=4.746441, b=6.090226, c=20.88746, alpha=90.0, beta=90.0, gamma=90.0--0",
             "positions": [
              [
               0,
               0,
               0
              ],
              [
               4.746441,
               0,
               2.906356888995881e-16
              ],
              [
               0,
               0,
               0
              ],
              [
               -3.7291878884919943e-16,
               6.090226,
               3.7291878884919943e-16
              ],
              [
               0,
               0,
               0
              ],
              [
               0,
               0,
               20.88746
              ],
              [
               4.746441,
               0,
               2.906356888995881e-16
              ],
              [
               4.746441,
               6.090226,
               6.635544777487875e-16
              ],
              [
               4.746441,
               0,
               2.906356888995881e-16
              ],
              [
               4.746441,
               0,
               20.88746
              ],
              [
               -3.7291878884919943e-16,
               6.090226,
               3.7291878884919943e-16
              ],
              [
               4.746441,
               6.090226,
               6.635544777487875e-16
              ],
              [
               -3.7291878884919943e-16,
               6.090226,
               3.7291878884919943e-16
              ],
              [
               -3.7291878884919943e-16,
               6.090226,
               20.88746
              ],
              [
               0,
               0,
               20.88746
              ],
              [
               4.746441,
               0,
               20.88746
              ],
              [
               0,
               0,
               20.88746
              ],
              [
               -3.7291878884919943e-16,
               6.090226,
               20.88746
              ],
              [
               4.746441,
               6.090226,
               6.635544777487875e-16
              ],
              [
               4.746441,
               6.090226,
               20.88746
              ],
              [
               4.746441,
               0,
               20.88746
              ],
              [
               4.746441,
               6.090226,
               20.88746
              ],
              [
               -3.7291878884919943e-16,
               6.090226,
               20.88746
              ],
              [
               4.746441,
               6.090226,
               20.88746
              ]
             ],
             "type": "lines"
            }
           ],
           "id": "--unit_cell--a=4.746441, b=6.090226, c=20.88746, alpha=90.0, beta=90.0, gamma=90.0",
           "name": "a=4.746441, b=6.090226, c=20.88746, alpha=90.0, beta=90.0, gamma=90.0",
           "visible": true
          }
         ],
         "id": "--unit_cell",
         "name": "unit_cell",
         "origin": [
          -2.3732205,
          -3.045113,
          -10.44373
         ],
         "visible": true
        }
       ],
       "name": "Structure",
       "origin": [
        -2.3732205,
        -3.045113,
        -10.44373
       ],
       "visible": true
      },
      "text/plain": [
       "If you see this text, the Crystal Toolkit Jupyter Lab \n",
       "\n",
       "extension is not installed. You can install it by running \n",
       "\n",
       "\"pip install crystaltoolkit-extension\" \n",
       "\n",
       "from the same environment you run \"jupyter lab\". \n",
       "\n",
       "This only works in Jupyter Lab 3.x or above.\n",
       "\n",
       "\n",
       "Structure Summary\n",
       "Lattice\n",
       "    abc : 4.746441 6.090226 20.88746\n",
       " angles : 90.0 90.0 90.0\n",
       " volume : 603.7916837546632\n",
       "      A : 4.746441 0.0 2.906356888995881e-16\n",
       "      B : -3.7291878884919943e-16 6.090226 3.7291878884919943e-16\n",
       "      C : 0.0 0.0 20.88746\n",
       "PeriodicSite: Li+ (0.0000, 0.0000, 10.0707) [0.0000, 0.0000, 0.4821]\n",
       "PeriodicSite: Li+ (2.3732, 0.0000, 15.2926) [0.5000, 0.0000, 0.7321]\n",
       "PeriodicSite: Li+ (2.3732, 3.0451, 15.2926) [0.5000, 0.5000, 0.7321]\n",
       "PeriodicSite: Li+ (-0.0000, 3.0451, 10.0707) [0.0000, 0.5000, 0.4821]\n",
       "PeriodicSite: Fe2+ (2.2557, 4.5677, 12.3477) [0.4752, 0.7500, 0.5912]\n",
       "PeriodicSite: Fe2+ (0.1175, 4.5677, 7.1259) [0.0248, 0.7500, 0.3412]\n",
       "PeriodicSite: Fe2+ (4.6290, 1.5226, 13.0156) [0.9752, 0.2500, 0.6231]\n",
       "PeriodicSite: Fe2+ (2.4907, 1.5226, 7.7938) [0.5248, 0.2500, 0.3731]\n",
       "PeriodicSite: P5+ (1.9831, 1.5226, 11.0603) [0.4178, 0.2500, 0.5295]\n",
       "PeriodicSite: P5+ (4.3564, 4.5677, 14.3030) [0.9178, 0.7500, 0.6848]\n",
       "PeriodicSite: P5+ (0.3901, 1.5226, 5.8385) [0.0822, 0.2500, 0.2795]\n",
       "PeriodicSite: P5+ (2.7633, 4.5677, 9.0811) [0.5822, 0.7500, 0.4348]\n",
       "PeriodicSite: O2- (3.5212, 1.5226, 11.0809) [0.7419, 0.2500, 0.5305]\n",
       "PeriodicSite: O2- (1.1480, 4.5677, 14.2825) [0.2419, 0.7500, 0.6838]\n",
       "PeriodicSite: O2- (3.5984, 1.5226, 5.8590) [0.7581, 0.2500, 0.2805]\n",
       "PeriodicSite: O2- (1.2252, 4.5677, 9.0606) [0.2581, 0.7500, 0.4338]\n",
       "PeriodicSite: O2- (0.9823, 1.5226, 14.8442) [0.2069, 0.2500, 0.7107]\n",
       "PeriodicSite: O2- (3.3555, 4.5677, 10.5191) [0.7069, 0.7500, 0.5036]\n",
       "PeriodicSite: O2- (1.3910, 1.5226, 9.6224) [0.2931, 0.2500, 0.4607]\n",
       "PeriodicSite: O2- (3.7642, 4.5677, 5.2972) [0.7931, 0.7500, 0.2536]\n",
       "PeriodicSite: O2- (1.3504, 0.2863, 11.7990) [0.2845, 0.0470, 0.5649]\n",
       "PeriodicSite: O2- (3.7236, 5.8040, 13.5643) [0.7845, 0.9530, 0.6494]\n",
       "PeriodicSite: O2- (3.7236, 3.3314, 13.5643) [0.7845, 0.5470, 0.6494]\n",
       "PeriodicSite: O2- (1.3504, 2.7589, 11.7990) [0.2845, 0.4530, 0.5649]\n",
       "PeriodicSite: O2- (1.0228, 2.7589, 6.5772) [0.2155, 0.4530, 0.3149]\n",
       "PeriodicSite: O2- (3.3960, 3.3314, 8.3424) [0.7155, 0.5470, 0.3994]\n",
       "PeriodicSite: O2- (3.3960, 5.8040, 8.3424) [0.7155, 0.9530, 0.3994]\n",
       "PeriodicSite: O2- (1.0228, 0.2863, 6.5772) [0.2155, 0.0470, 0.3149]"
      ]
     },
     "metadata": {},
     "output_type": "display_data"
    }
   ],
   "source": [
    "slabs[0]"
   ]
  },
  {
   "cell_type": "markdown",
   "id": "1af9f635-685a-48d3-8012-d40b193adaa9",
   "metadata": {},
   "source": [
    "*Slab*s also have a number of unique properties that are important when simulating them. Two very important properties are whether they are symmetric and polar. **Polar** surfaces can be more difficult to relax and compute because they naturally have a redistribution of charge. There are tricks that can be played in many DFT codes to fix this, but all cause other problems. **Non-symmetric** slabs make computing surface energies more difficult, as you can only compute the average surface energy of the two surfaces together. Let's run a loop over our surfaces and see which ones are polar and which ones are symmetric."
   ]
  },
  {
   "cell_type": "code",
   "execution_count": 10,
   "id": "43e5f84d-2c57-4361-95a5-bffd2f644bc0",
   "metadata": {},
   "outputs": [
    {
     "name": "stdout",
     "output_type": "stream",
     "text": [
      "0 Polar: True Symmetric:  False\n",
      "1 Polar: True Symmetric:  False\n",
      "2 Polar: True Symmetric:  False\n",
      "3 Polar: True Symmetric:  False\n",
      "4 Polar: False Symmetric:  True\n"
     ]
    }
   ],
   "source": [
    "for n, slab in enumerate(slabs):\n",
    "    print(n, \"Polar:\" ,slab.is_polar(), \"Symmetric: \", slab.is_symmetric())"
   ]
  },
  {
   "cell_type": "markdown",
   "id": "c6e7589c-f98c-437d-bd98-c0a23c132bb6",
   "metadata": {
    "tags": []
   },
   "source": [
    "### Exercise 1:\n",
    "Try getting the (111) slabs for Si. How many are there? "
   ]
  },
  {
   "cell_type": "code",
   "execution_count": 41,
   "id": "1485f3f1-5153-46f7-a3cc-ac8fc2f622ec",
   "metadata": {},
   "outputs": [
    {
     "name": "stdout",
     "output_type": "stream",
     "text": [
      "Number of slabs: 2\n"
     ]
    }
   ],
   "source": [
    "# Solution\n",
    "silicon = Structure.from_file(\"Si.cif\")\n",
    "slabgen = SlabGenerator(silicon, (1,1,1), 10, 10)\n",
    "slabs = slabgen.get_slabs()\n",
    "print(\"Number of slabs:\", len(slabs))"
   ]
  },
  {
   "cell_type": "markdown",
   "id": "16929f84-1ab4-4f24-943e-70610fab19b1",
   "metadata": {},
   "source": [
    "Now let's visualize the slabs to see what they look like"
   ]
  },
  {
   "cell_type": "code",
   "execution_count": 12,
   "id": "b0380693-54eb-407d-a42b-717d12b45e16",
   "metadata": {},
   "outputs": [
    {
     "data": {
      "application/vnd.mp.ctk+json": {
       "contents": [
        {
         "contents": [
          {
           "clickable": true,
           "color": "#f0c8a0",
           "id": "--atoms--0",
           "positions": [
            [
             1.7136520272203333,
             0.9932346959046389,
             21.966626953539674
            ]
           ],
           "radius": 0.5,
           "tooltip": "Si (1.714, 0.993, 21.967)",
           "type": "spheres"
          },
          {
           "clickable": true,
           "color": "#f0c8a0",
           "id": "--atoms--1",
           "positions": [
            [
             3.878265114235492,
             2.2478469433631294,
             19.01808642286321
            ]
           ],
           "radius": 0.5,
           "tooltip": "Si (3.878, 2.248, 19.018)",
           "type": "spheres"
          },
          {
           "clickable": true,
           "color": "#f0c8a0",
           "id": "--atoms--2",
           "positions": [
            [
             5.321340505578933,
             3.084255108335453,
             0.1474270265338225
            ]
           ],
           "radius": 0.5,
           "tooltip": "Si (5.321, 3.084, 0.147)",
           "type": "spheres"
          },
          {
           "clickable": true,
           "color": "#f0c8a0",
           "id": "--atoms--3",
           "positions": [
            [
             6.042878201250648,
             3.502459190821619,
             16.069545892186735
            ]
           ],
           "radius": 0.5,
           "tooltip": "Si (6.043, 3.502, 16.070)",
           "type": "spheres"
          },
          {
           "clickable": true,
           "color": "#f0c8a0",
           "id": "--atoms--4",
           "positions": [
            [
             0.45096105979482176,
             0.26137755155385417,
             13.121005361510267
            ]
           ],
           "radius": 0.5,
           "tooltip": "Si (0.451, 0.261, 13.121)",
           "type": "spheres"
          },
          {
           "clickable": true,
           "color": "#f0c8a0",
           "id": "--atoms--5",
           "positions": [
            [
             5.321340505578933,
             3.084255108335453,
             25.50487559035144
            ]
           ],
           "radius": 0.5,
           "tooltip": "Si (5.321, 3.084, 25.505)",
           "type": "spheres"
          },
          {
           "clickable": true,
           "color": "#f0c8a0",
           "id": "--atoms--6",
           "positions": [
            [
             3.585140425368857,
             -0.15682653093231116,
             22.85118911274262
            ]
           ],
           "radius": 0.5,
           "tooltip": "Si (3.585, -0.157, 22.851)",
           "type": "spheres"
          },
          {
           "clickable": true,
           "color": "#f0c8a0",
           "id": "--atoms--7",
           "positions": [
            [
             4.126293697122644,
             0.1568265309323145,
             15.774691839119088
            ]
           ],
           "radius": 0.5,
           "tooltip": "Si (4.126, 0.157, 15.775)",
           "type": "spheres"
          },
          {
           "clickable": true,
           "color": "#f0c8a0",
           "id": "--atoms--8",
           "positions": [
            [
             4.058649538153423,
             2.35239796398467,
             16.659253998322033
            ]
           ],
           "radius": 0.5,
           "tooltip": "Si (4.059, 2.352, 16.659)",
           "type": "spheres"
          },
          {
           "clickable": true,
           "color": "#f0c8a0",
           "id": "--atoms--9",
           "positions": [
            [
             2.1871611400048967,
             3.502459190821619,
             15.774691839119088
            ]
           ],
           "radius": 0.5,
           "tooltip": "Si (2.187, 3.502, 15.775)",
           "type": "spheres"
          },
          {
           "clickable": true,
           "color": "#f0c8a0",
           "id": "--atoms--10",
           "positions": [
            [
             -0.27057663587689484,
             -0.15682653093231116,
             22.556335059674975
            ]
           ],
           "radius": 0.5,
           "tooltip": "Si (-0.271, -0.157, 22.556)",
           "type": "spheres"
          },
          {
           "clickable": true,
           "color": "#f0c8a0",
           "id": "--atoms--11",
           "positions": [
            [
             5.501724929496862,
             3.1888061289569936,
             23.146043165810266
            ]
           ],
           "radius": 0.5,
           "tooltip": "Si (5.502, 3.189, 23.146)",
           "type": "spheres"
          },
          {
           "clickable": true,
           "color": "#f0c8a0",
           "id": "--atoms--12",
           "positions": [
            [
             0.2705766358768916,
             0.1568265309323145,
             15.47983778605144
            ]
           ],
           "radius": 0.5,
           "tooltip": "Si (0.271, 0.157, 15.480)",
           "type": "spheres"
          },
          {
           "clickable": true,
           "color": "#f0c8a0",
           "id": "--atoms--13",
           "positions": [
            [
             1.894036451138264,
             1.09778571652618,
             19.607794528998504
            ]
           ],
           "radius": 0.5,
           "tooltip": "Si (1.894, 1.098, 19.608)",
           "type": "spheres"
          },
          {
           "clickable": true,
           "color": "#f0c8a0",
           "id": "--atoms--14",
           "positions": [
            [
             1.6460078682511103,
             3.1888061289569936,
             22.85118911274262
            ]
           ],
           "radius": 0.5,
           "tooltip": "Si (1.646, 3.189, 22.851)",
           "type": "spheres"
          }
         ],
         "id": "--atoms",
         "name": "atoms",
         "origin": [
          -2.8861507826868786,
          -1.6728163299446523,
          -12.973578334976455
         ],
         "visible": true
        },
        {
         "contents": [],
         "id": "--bonds",
         "name": "bonds",
         "origin": [
          -2.8861507826868786,
          -1.6728163299446523,
          -12.973578334976455
         ],
         "visible": true
        },
        {
         "contents": [],
         "id": "--polyhedra",
         "name": "polyhedra",
         "origin": [
          -2.8861507826868786,
          -1.6728163299446523,
          -12.973578334976455
         ],
         "visible": true
        },
        {
         "contents": [
          {
           "contents": [
            {
             "clickable": false,
             "id": "--unit_cell--a=3.8669746532647453, b=3.866974653264745, c=25.357448563817616, alpha=85.6269933583793, beta=85.6269933583793, gamma=59.99999999999999--0",
             "positions": [
              [
               0,
               0,
               0
              ],
              [
               3.855717061245752,
               0,
               0.2948540530676462
              ],
              [
               0,
               0,
               0
              ],
              [
               1.9165845041280052,
               3.3456326598893047,
               0.2948540530676462
              ],
              [
               0,
               0,
               0
              ],
              [
               0,
               0,
               25.357448563817616
              ],
              [
               3.855717061245752,
               0,
               0.2948540530676462
              ],
              [
               5.772301565373757,
               3.3456326598893047,
               0.5897081061352925
              ],
              [
               3.855717061245752,
               0,
               0.2948540530676462
              ],
              [
               3.855717061245752,
               0,
               25.65230261688526
              ],
              [
               1.9165845041280052,
               3.3456326598893047,
               0.2948540530676462
              ],
              [
               5.772301565373757,
               3.3456326598893047,
               0.5897081061352925
              ],
              [
               1.9165845041280052,
               3.3456326598893047,
               0.2948540530676462
              ],
              [
               1.9165845041280052,
               3.3456326598893047,
               25.65230261688526
              ],
              [
               0,
               0,
               25.357448563817616
              ],
              [
               3.855717061245752,
               0,
               25.65230261688526
              ],
              [
               0,
               0,
               25.357448563817616
              ],
              [
               1.9165845041280052,
               3.3456326598893047,
               25.65230261688526
              ],
              [
               5.772301565373757,
               3.3456326598893047,
               0.5897081061352925
              ],
              [
               5.772301565373757,
               3.3456326598893047,
               25.94715666995291
              ],
              [
               3.855717061245752,
               0,
               25.65230261688526
              ],
              [
               5.772301565373757,
               3.3456326598893047,
               25.94715666995291
              ],
              [
               1.9165845041280052,
               3.3456326598893047,
               25.65230261688526
              ],
              [
               5.772301565373757,
               3.3456326598893047,
               25.94715666995291
              ]
             ],
             "type": "lines"
            }
           ],
           "id": "--unit_cell--a=3.8669746532647453, b=3.866974653264745, c=25.357448563817616, alpha=85.6269933583793, beta=85.6269933583793, gamma=59.99999999999999",
           "name": "a=3.8669746532647453, b=3.866974653264745, c=25.357448563817616, alpha=85.6269933583793, beta=85.6269933583793, gamma=59.99999999999999",
           "visible": true
          }
         ],
         "id": "--unit_cell",
         "name": "unit_cell",
         "origin": [
          -2.8861507826868786,
          -1.6728163299446523,
          -12.973578334976455
         ],
         "visible": true
        }
       ],
       "name": "Structure",
       "origin": [
        -2.8861507826868786,
        -1.6728163299446523,
        -12.973578334976455
       ],
       "visible": true
      },
      "text/plain": [
       "If you see this text, the Crystal Toolkit Jupyter Lab \n",
       "\n",
       "extension is not installed. You can install it by running \n",
       "\n",
       "\"pip install crystaltoolkit-extension\" \n",
       "\n",
       "from the same environment you run \"jupyter lab\". \n",
       "\n",
       "This only works in Jupyter Lab 3.x or above.\n",
       "\n",
       "\n",
       "Structure Summary\n",
       "Lattice\n",
       "    abc : 3.8669746532647453 3.866974653264745 25.357448563817616\n",
       " angles : 85.6269933583793 85.6269933583793 59.99999999999999\n",
       " volume : 327.10634278931866\n",
       "      A : 3.855717061245752 0.0 0.2948540530676462\n",
       "      B : 1.9165845041280052 3.3456326598893047 0.2948540530676462\n",
       "      C : 0.0 0.0 25.357448563817616\n",
       "PeriodicSite: Si (5.5017, 3.1888, 23.1460) [0.9531, 0.9531, 0.8906]\n",
       "PeriodicSite: Si (5.3213, 3.0843, 25.5049) [0.9219, 0.9219, 0.9844]\n",
       "PeriodicSite: Si (1.8940, 1.0978, 19.6078) [0.3281, 0.3281, 0.7656]\n",
       "PeriodicSite: Si (1.7137, 0.9932, 21.9666) [0.2969, 0.2969, 0.8594]\n",
       "PeriodicSite: Si (4.0586, 2.3524, 16.6593) [0.7031, 0.7031, 0.6406]\n",
       "PeriodicSite: Si (3.8783, 2.2478, 19.0181) [0.6719, 0.6719, 0.7344]\n",
       "PeriodicSite: Si (0.4510, 0.2614, 13.1210) [0.0781, 0.0781, 0.5156]\n",
       "PeriodicSite: Si (0.2706, 0.1568, 15.4798) [0.0469, 0.0469, 0.6094]"
      ]
     },
     "metadata": {},
     "output_type": "display_data"
    }
   ],
   "source": [
    "slabs[0]"
   ]
  },
  {
   "cell_type": "code",
   "execution_count": 13,
   "id": "ed51bb78-daec-498c-a8b4-cbe5c79c1ce0",
   "metadata": {},
   "outputs": [
    {
     "data": {
      "application/vnd.mp.ctk+json": {
       "contents": [
        {
         "contents": [
          {
           "clickable": true,
           "color": "#f0c8a0",
           "id": "--atoms--0",
           "positions": [
            [
             5.682109353414791,
             3.2933571495785356,
             20.78721074126909
            ]
           ],
           "radius": 0.5,
           "tooltip": "Si (5.682, 3.293, 20.787)",
           "type": "spheres"
          },
          {
           "clickable": true,
           "color": "#f0c8a0",
           "id": "--atoms--1",
           "positions": [
            [
             2.074420875056192,
             1.2023367371477218,
             17.248962104457327
            ]
           ],
           "radius": 0.5,
           "tooltip": "Si (2.074, 1.202, 17.249)",
           "type": "spheres"
          },
          {
           "clickable": true,
           "color": "#f0c8a0",
           "id": "--atoms--2",
           "positions": [
            [
             1.826392292169039,
             3.2933571495785356,
             20.492356688201443
            ]
           ],
           "radius": 0.5,
           "tooltip": "Si (1.826, 3.293, 20.492)",
           "type": "spheres"
          },
          {
           "clickable": true,
           "color": "#f0c8a0",
           "id": "--atoms--3",
           "positions": [
            [
             2.2548052989741225,
             1.306887757769262,
             14.890129679916154
            ]
           ],
           "radius": 0.5,
           "tooltip": "Si (2.255, 1.307, 14.890)",
           "type": "spheres"
          },
          {
           "clickable": true,
           "color": "#f0c8a0",
           "id": "--atoms--4",
           "positions": [
            [
             3.5174962663996334,
             2.0387449021200457,
             23.73575127194556
            ]
           ],
           "radius": 0.5,
           "tooltip": "Si (3.517, 2.039, 23.736)",
           "type": "spheres"
          },
          {
           "clickable": true,
           "color": "#f0c8a0",
           "id": "--atoms--5",
           "positions": [
            [
             5.862493777332722,
             3.397908170200078,
             18.428378316727915
            ]
           ],
           "radius": 0.5,
           "tooltip": "Si (5.862, 3.398, 18.428)",
           "type": "spheres"
          },
          {
           "clickable": true,
           "color": "#f0c8a0",
           "id": "--atoms--6",
           "positions": [
            [
             2.006776716086971,
             3.397908170200078,
             18.133524263660266
            ]
           ],
           "radius": 0.5,
           "tooltip": "Si (2.007, 3.398, 18.134)",
           "type": "spheres"
          },
          {
           "clickable": true,
           "color": "#f0c8a0",
           "id": "--atoms--7",
           "positions": [
            [
             3.945909273204718,
             0.05227551031077373,
             18.133524263660266
            ]
           ],
           "radius": 0.5,
           "tooltip": "Si (3.946, 0.052, 18.134)",
           "type": "spheres"
          },
          {
           "clickable": true,
           "color": "#f0c8a0",
           "id": "--atoms--8",
           "positions": [
            [
             3.765524849286786,
             -0.0522755103107689,
             20.492356688201443
            ]
           ],
           "radius": 0.5,
           "tooltip": "Si (3.766, -0.052, 20.492)",
           "type": "spheres"
          },
          {
           "clickable": true,
           "color": "#f0c8a0",
           "id": "--atoms--9",
           "positions": [
            [
             0.09019221195896601,
             0.05227551031077373,
             17.83867021059262
            ]
           ],
           "radius": 0.5,
           "tooltip": "Si (0.090, 0.052, 17.839)",
           "type": "spheres"
          },
          {
           "clickable": true,
           "color": "#f0c8a0",
           "id": "--atoms--10",
           "positions": [
            [
             1.5332676033024049,
             0.8886836752830977,
             -1.0319891857367636
            ]
           ],
           "radius": 0.5,
           "tooltip": "Si (1.533, 0.889, -1.032)",
           "type": "spheres"
          },
          {
           "clickable": true,
           "color": "#f0c8a0",
           "id": "--atoms--11",
           "positions": [
            [
             1.5332676033024049,
             0.8886836752830977,
             24.32545937808085
            ]
           ],
           "radius": 0.5,
           "tooltip": "Si (1.533, 0.889, 24.325)",
           "type": "spheres"
          },
          {
           "clickable": true,
           "color": "#f0c8a0",
           "id": "--atoms--12",
           "positions": [
            [
             -0.09019221195896623,
             -0.0522755103107689,
             20.197502635133798
            ]
           ],
           "radius": 0.5,
           "tooltip": "Si (-0.090, -0.052, 20.198)",
           "type": "spheres"
          },
          {
           "clickable": true,
           "color": "#f0c8a0",
           "id": "--atoms--13",
           "positions": [
            [
             4.2390339620713515,
             2.456948984606211,
             14.30042157378086
            ]
           ],
           "radius": 0.5,
           "tooltip": "Si (4.239, 2.457, 14.300)",
           "type": "spheres"
          },
          {
           "clickable": true,
           "color": "#f0c8a0",
           "id": "--atoms--14",
           "positions": [
            [
             3.6978806903175636,
             2.1432959227415873,
             21.376918847404387
            ]
           ],
           "radius": 0.5,
           "tooltip": "Si (3.698, 2.143, 21.377)",
           "type": "spheres"
          }
         ],
         "id": "--atoms",
         "name": "atoms",
         "origin": [
          -2.8861507826868786,
          -1.6728163299446523,
          -12.973578334976455
         ],
         "visible": true
        },
        {
         "contents": [],
         "id": "--bonds",
         "name": "bonds",
         "origin": [
          -2.8861507826868786,
          -1.6728163299446523,
          -12.973578334976455
         ],
         "visible": true
        },
        {
         "contents": [],
         "id": "--polyhedra",
         "name": "polyhedra",
         "origin": [
          -2.8861507826868786,
          -1.6728163299446523,
          -12.973578334976455
         ],
         "visible": true
        },
        {
         "contents": [
          {
           "contents": [
            {
             "clickable": false,
             "id": "--unit_cell--a=3.8669746532647453, b=3.866974653264745, c=25.357448563817616, alpha=85.6269933583793, beta=85.6269933583793, gamma=59.99999999999999--0",
             "positions": [
              [
               0,
               0,
               0
              ],
              [
               3.855717061245752,
               0,
               0.2948540530676462
              ],
              [
               0,
               0,
               0
              ],
              [
               1.9165845041280052,
               3.3456326598893047,
               0.2948540530676462
              ],
              [
               0,
               0,
               0
              ],
              [
               0,
               0,
               25.357448563817616
              ],
              [
               3.855717061245752,
               0,
               0.2948540530676462
              ],
              [
               5.772301565373757,
               3.3456326598893047,
               0.5897081061352925
              ],
              [
               3.855717061245752,
               0,
               0.2948540530676462
              ],
              [
               3.855717061245752,
               0,
               25.65230261688526
              ],
              [
               1.9165845041280052,
               3.3456326598893047,
               0.2948540530676462
              ],
              [
               5.772301565373757,
               3.3456326598893047,
               0.5897081061352925
              ],
              [
               1.9165845041280052,
               3.3456326598893047,
               0.2948540530676462
              ],
              [
               1.9165845041280052,
               3.3456326598893047,
               25.65230261688526
              ],
              [
               0,
               0,
               25.357448563817616
              ],
              [
               3.855717061245752,
               0,
               25.65230261688526
              ],
              [
               0,
               0,
               25.357448563817616
              ],
              [
               1.9165845041280052,
               3.3456326598893047,
               25.65230261688526
              ],
              [
               5.772301565373757,
               3.3456326598893047,
               0.5897081061352925
              ],
              [
               5.772301565373757,
               3.3456326598893047,
               25.94715666995291
              ],
              [
               3.855717061245752,
               0,
               25.65230261688526
              ],
              [
               5.772301565373757,
               3.3456326598893047,
               25.94715666995291
              ],
              [
               1.9165845041280052,
               3.3456326598893047,
               25.65230261688526
              ],
              [
               5.772301565373757,
               3.3456326598893047,
               25.94715666995291
              ]
             ],
             "type": "lines"
            }
           ],
           "id": "--unit_cell--a=3.8669746532647453, b=3.866974653264745, c=25.357448563817616, alpha=85.6269933583793, beta=85.6269933583793, gamma=59.99999999999999",
           "name": "a=3.8669746532647453, b=3.866974653264745, c=25.357448563817616, alpha=85.6269933583793, beta=85.6269933583793, gamma=59.99999999999999",
           "visible": true
          }
         ],
         "id": "--unit_cell",
         "name": "unit_cell",
         "origin": [
          -2.8861507826868786,
          -1.6728163299446523,
          -12.973578334976455
         ],
         "visible": true
        }
       ],
       "name": "Structure",
       "origin": [
        -2.8861507826868786,
        -1.6728163299446523,
        -12.973578334976455
       ],
       "visible": true
      },
      "text/plain": [
       "If you see this text, the Crystal Toolkit Jupyter Lab \n",
       "\n",
       "extension is not installed. You can install it by running \n",
       "\n",
       "\"pip install crystaltoolkit-extension\" \n",
       "\n",
       "from the same environment you run \"jupyter lab\". \n",
       "\n",
       "This only works in Jupyter Lab 3.x or above.\n",
       "\n",
       "\n",
       "Structure Summary\n",
       "Lattice\n",
       "    abc : 3.8669746532647453 3.866974653264745 25.357448563817616\n",
       " angles : 85.6269933583793 85.6269933583793 59.99999999999999\n",
       " volume : 327.10634278931866\n",
       "      A : 3.855717061245752 0.0 0.2948540530676462\n",
       "      B : 1.9165845041280052 3.3456326598893047 0.2948540530676462\n",
       "      C : 0.0 0.0 25.357448563817616\n",
       "PeriodicSite: Si (1.5333, 0.8887, 24.3255) [0.2656, 0.2656, 0.9531]\n",
       "PeriodicSite: Si (3.5175, 2.0387, 23.7358) [0.6094, 0.6094, 0.9219]\n",
       "PeriodicSite: Si (3.6979, 2.1433, 21.3769) [0.6406, 0.6406, 0.8281]\n",
       "PeriodicSite: Si (5.6821, 3.2934, 20.7872) [0.9844, 0.9844, 0.7969]\n",
       "PeriodicSite: Si (0.0902, 0.0523, 17.8387) [0.0156, 0.0156, 0.7031]\n",
       "PeriodicSite: Si (2.0744, 1.2023, 17.2490) [0.3594, 0.3594, 0.6719]\n",
       "PeriodicSite: Si (2.2548, 1.3069, 14.8901) [0.3906, 0.3906, 0.5781]\n",
       "PeriodicSite: Si (4.2390, 2.4569, 14.3004) [0.7344, 0.7344, 0.5469]"
      ]
     },
     "metadata": {},
     "output_type": "display_data"
    }
   ],
   "source": [
    "slabs[1]"
   ]
  },
  {
   "cell_type": "markdown",
   "id": "paperback-senegal",
   "metadata": {},
   "source": [
    "## Lesson 2: Epitaxial Matching\n",
    "\n",
    "Now that we can enumerate surfaces to compute, we have a dilema. We can get several unique surfaces per miller index. There are easily tens of unique and important miller indicies per material. There are hundreds of thousands of materials to chose from when making a heterointerface. This already yields over 10^15 combinations to choose from, which is not something we can compute. How do we reduce this?\n",
    "\n",
    "One option is to limit ourselves to coherent interfaces. Since coherent interfaces have to repeat along the interface, they need to maintain a condition called the epitaxial constraint. This means that lattice vectors for the surfaces that come together have to repeat by some integer multiple. This is a math problem we can solve and reduce our choices!\n",
    "\n",
    "It turns out there is a practical use for this kind of math. Often, when we want to grow a really nice high quality film of a material, we'll use the epitaxial constraint to preferably orient and align the growing film. Obviously this isn't easy and only works for some systems, so we have to find out which ones. Pymatgen has a nice tool called the substrate analyzer to do this. Let's try using it:\n"
   ]
  },
  {
   "cell_type": "code",
   "execution_count": 14,
   "id": "north-fiber",
   "metadata": {},
   "outputs": [],
   "source": [
    "from pymatgen.analysis.interfaces.substrate_analyzer import SubstrateAnalyzer"
   ]
  },
  {
   "cell_type": "markdown",
   "id": "d2bf3a96-c1df-4eb0-bbe8-39ede58f1908",
   "metadata": {},
   "source": [
    "Now, we need two structures to check for a substrate match. One is the film that we want to grow and another is the potential substrate. For this exercise, let's use the Silicon structure that is already in this folder:"
   ]
  },
  {
   "cell_type": "code",
   "execution_count": 15,
   "id": "7c680d02-080c-47c5-a38f-3b01b87ca9af",
   "metadata": {},
   "outputs": [],
   "source": [
    "silicon = Structure.from_file(\"Si.cif\")"
   ]
  },
  {
   "cell_type": "markdown",
   "id": "53f431a4-6775-41c3-b9ca-ce536837688c",
   "metadata": {},
   "source": [
    "Now, let's make a substrate analyzer object and calculate some matches"
   ]
  },
  {
   "cell_type": "code",
   "execution_count": 16,
   "id": "color-unemployment",
   "metadata": {},
   "outputs": [
    {
     "data": {
      "text/plain": [
       "<generator object SubstrateAnalyzer.calculate at 0x7f9698b31900>"
      ]
     },
     "execution_count": 16,
     "metadata": {},
     "output_type": "execute_result"
    }
   ],
   "source": [
    "sub_analyzer = SubstrateAnalyzer()\n",
    "sub_analyzer.calculate(film=LiFePO4,substrate=silicon)"
   ]
  },
  {
   "cell_type": "markdown",
   "id": "876f0d10-3a7e-4dc2-a420-1da8d3fd24f2",
   "metadata": {},
   "source": [
    "The substrate analyzer uses a python generator which is an efficient way of getting just one match if we want any match or a the full list of matches if we want all of them. The computational time required will scale with the number of matches we want to evaluate, so we can choose to be as computationally stringest as necessary. \n",
    "\n",
    "For the purpose of this example, let's get them all by turning the generator into a list"
   ]
  },
  {
   "cell_type": "code",
   "execution_count": 17,
   "id": "australian-inspection",
   "metadata": {},
   "outputs": [
    {
     "data": {
      "text/plain": [
       "6"
      ]
     },
     "execution_count": 17,
     "metadata": {},
     "output_type": "execute_result"
    }
   ],
   "source": [
    "matches = list(sub_analyzer.calculate(film=LiFePO4,substrate=silicon))\n",
    "len(matches)"
   ]
  },
  {
   "cell_type": "markdown",
   "id": "32f54e59-00dd-4a27-9fa9-7d6822789b51",
   "metadata": {},
   "source": [
    "These matches have different matching area and strains, which we can print out"
   ]
  },
  {
   "cell_type": "code",
   "execution_count": 18,
   "id": "c247a847-79e6-4ee2-ac17-0005257b1f85",
   "metadata": {},
   "outputs": [
    {
     "name": "stdout",
     "output_type": "stream",
     "text": [
      "289.06898385666 0.01705608747230711\n",
      "289.06898385666 0.017056087472307305\n",
      "289.06898385666 0.01705608747230712\n",
      "289.06898385666 0.01705608747230724\n",
      "241.91971097798262 0.008953220319809215\n",
      "241.91971097798262 0.008953220319809177\n"
     ]
    }
   ],
   "source": [
    "for match in matches:\n",
    "    print(match.match_area,match.von_mises_strain)"
   ]
  },
  {
   "cell_type": "markdown",
   "id": "98748f15-90a1-49c1-af39-46233df229c7",
   "metadata": {},
   "source": [
    "Let's look at the first two matches to see if we can figure out what is different. "
   ]
  },
  {
   "cell_type": "code",
   "execution_count": 19,
   "id": "electric-bookmark",
   "metadata": {},
   "outputs": [
    {
     "data": {
      "text/plain": [
       "{'@module': 'pymatgen.analysis.interfaces.substrate_analyzer',\n",
       " '@class': 'SubstrateMatch',\n",
       " '@version': None,\n",
       " 'film_sl_vectors': [array([ 4.74644100e+00, -1.21804520e+01, -4.55201889e-16]),\n",
       "  array([-1.89857640e+01, -1.21804520e+01, -1.90838033e-15])],\n",
       " 'substrate_sl_vectors': [array([-10.937456,  -5.468728,   5.468728]),\n",
       "  array([-16.406184,  10.937456, -10.937456])],\n",
       " 'film_vectors': [array([4.74644100e+00, 0.00000000e+00, 2.90635689e-16]),\n",
       "  array([ 3.72918789e-16, -6.09022600e+00, -3.72918789e-16])],\n",
       " 'substrate_vectors': [array([5.46872800e+00, 0.00000000e+00, 3.34863012e-16]),\n",
       "  array([ 3.34863012e-16, -5.46872800e+00,  5.46872800e+00])],\n",
       " 'film_transformation': array([[ 1.,  2.],\n",
       "        [ 0., 10.]]),\n",
       " 'substrate_transformation': array([[1., 3.],\n",
       "        [0., 7.]]),\n",
       " 'film_miller': [0, 0, 1],\n",
       " 'substrate_miller': [1, 1, 0],\n",
       " 'strain': {'@module': 'pymatgen.analysis.elasticity.strain',\n",
       "  '@class': 'Strain',\n",
       "  'input_array': [[0.02007447954513686,\n",
       "    -1.775969233521723e-17,\n",
       "    0.010345968474021255],\n",
       "   [-1.775969233521723e-17, 1.1102230246251565e-16, -1.980663521685484e-17],\n",
       "   [0.010345968474021255, -1.980663521685484e-17, 0.004452257056451912]]},\n",
       " 'von_mises_strain': 0.01705608747230711,\n",
       " 'ground_state_energy': 0,\n",
       " 'elastic_energy': 0}"
      ]
     },
     "execution_count": 19,
     "metadata": {},
     "output_type": "execute_result"
    }
   ],
   "source": [
    "matches[0].as_dict()"
   ]
  },
  {
   "cell_type": "code",
   "execution_count": 20,
   "id": "34a1d337-5e34-4bfa-8ec6-c374ece418f8",
   "metadata": {},
   "outputs": [
    {
     "data": {
      "text/plain": [
       "{'@module': 'pymatgen.analysis.interfaces.substrate_analyzer',\n",
       " '@class': 'SubstrateMatch',\n",
       " '@version': None,\n",
       " 'film_sl_vectors': [array([ 4.74644100e+00, -1.21804520e+01, -4.55201889e-16]),\n",
       "  array([-1.89857640e+01, -1.21804520e+01, -1.90838033e-15])],\n",
       " 'substrate_sl_vectors': [array([10.937456, -5.468728,  5.468728]),\n",
       "  array([ 16.406184,  10.937456, -10.937456])],\n",
       " 'film_vectors': [array([4.74644100e+00, 0.00000000e+00, 2.90635689e-16]),\n",
       "  array([ 3.72918789e-16, -6.09022600e+00, -3.72918789e-16])],\n",
       " 'substrate_vectors': [array([5.46872800e+00, 0.00000000e+00, 3.34863012e-16]),\n",
       "  array([ 3.34863012e-16, -5.46872800e+00,  5.46872800e+00])],\n",
       " 'film_transformation': array([[ 1.,  2.],\n",
       "        [ 0., 10.]]),\n",
       " 'substrate_transformation': array([[1., 4.],\n",
       "        [0., 7.]]),\n",
       " 'film_miller': [0, 0, 1],\n",
       " 'substrate_miller': [1, 1, 0],\n",
       " 'strain': {'@module': 'pymatgen.analysis.elasticity.strain',\n",
       "  '@class': 'Strain',\n",
       "  'input_array': [[0.02007447954513719,\n",
       "    -1.9575411175235593e-17,\n",
       "    0.010345968474021217],\n",
       "   [-1.9575411175235593e-17, -5.551115123125783e-17, -6.307026963756583e-17],\n",
       "   [0.010345968474021217, -6.307026963756583e-17, 0.004452257056451801]]},\n",
       " 'von_mises_strain': 0.017056087472307305,\n",
       " 'ground_state_energy': 0,\n",
       " 'elastic_energy': 0}"
      ]
     },
     "execution_count": 20,
     "metadata": {},
     "output_type": "execute_result"
    }
   ],
   "source": [
    "matches[1].as_dict()"
   ]
  },
  {
   "cell_type": "markdown",
   "id": "83b989c7-aa78-4a9a-ac44-1a090733215c",
   "metadata": {},
   "source": [
    "Note that these two matches have different `substrate_transformation`s. That means the interface between these two is made up of a diffferent set of rotations.\n",
    "\n",
    "Now let's see what else can provide the substrate analyzer to understand how we can use it."
   ]
  },
  {
   "cell_type": "code",
   "execution_count": 21,
   "id": "taken-prayer",
   "metadata": {},
   "outputs": [
    {
     "data": {
      "text/plain": [
       "\u001b[0;31mSignature:\u001b[0m\n",
       "\u001b[0mSubstrateAnalyzer\u001b[0m\u001b[0;34m.\u001b[0m\u001b[0mcalculate\u001b[0m\u001b[0;34m(\u001b[0m\u001b[0;34m\u001b[0m\n",
       "\u001b[0;34m\u001b[0m    \u001b[0mself\u001b[0m\u001b[0;34m,\u001b[0m\u001b[0;34m\u001b[0m\n",
       "\u001b[0;34m\u001b[0m    \u001b[0mfilm\u001b[0m\u001b[0;34m,\u001b[0m\u001b[0;34m\u001b[0m\n",
       "\u001b[0;34m\u001b[0m    \u001b[0msubstrate\u001b[0m\u001b[0;34m,\u001b[0m\u001b[0;34m\u001b[0m\n",
       "\u001b[0;34m\u001b[0m    \u001b[0melasticity_tensor\u001b[0m\u001b[0;34m=\u001b[0m\u001b[0;32mNone\u001b[0m\u001b[0;34m,\u001b[0m\u001b[0;34m\u001b[0m\n",
       "\u001b[0;34m\u001b[0m    \u001b[0mfilm_millers\u001b[0m\u001b[0;34m=\u001b[0m\u001b[0;32mNone\u001b[0m\u001b[0;34m,\u001b[0m\u001b[0;34m\u001b[0m\n",
       "\u001b[0;34m\u001b[0m    \u001b[0msubstrate_millers\u001b[0m\u001b[0;34m=\u001b[0m\u001b[0;32mNone\u001b[0m\u001b[0;34m,\u001b[0m\u001b[0;34m\u001b[0m\n",
       "\u001b[0;34m\u001b[0m    \u001b[0mground_state_energy\u001b[0m\u001b[0;34m=\u001b[0m\u001b[0;36m0\u001b[0m\u001b[0;34m,\u001b[0m\u001b[0;34m\u001b[0m\n",
       "\u001b[0;34m\u001b[0m    \u001b[0mlowest\u001b[0m\u001b[0;34m=\u001b[0m\u001b[0;32mFalse\u001b[0m\u001b[0;34m,\u001b[0m\u001b[0;34m\u001b[0m\n",
       "\u001b[0;34m\u001b[0m\u001b[0;34m)\u001b[0m\u001b[0;34m\u001b[0m\u001b[0;34m\u001b[0m\u001b[0m\n",
       "\u001b[0;31mDocstring:\u001b[0m\n",
       "Finds all topological matches for the substrate and calculates elastic\n",
       "strain energy and total energy for the film if elasticity tensor and\n",
       "ground state energy are provided:\n",
       "\n",
       "Args:\n",
       "    film(Structure): conventional standard structure for the film\n",
       "    substrate(Structure): conventional standard structure for the\n",
       "        substrate\n",
       "    elasticity_tensor(ElasticTensor): elasticity tensor for the film\n",
       "        in the IEEE orientation\n",
       "    film_millers(array): film facets to consider in search as defined by\n",
       "        miller indicies\n",
       "    substrate_millers(array): substrate facets to consider in search as\n",
       "        defined by miller indicies\n",
       "    ground_state_energy(float): ground state energy for the film\n",
       "    lowest(bool): only consider lowest matching area for each surface\n",
       "\u001b[0;31mFile:\u001b[0m      /usr/local/Caskroom/miniconda/base/envs/dev/lib/python3.8/site-packages/pymatgen/analysis/interfaces/substrate_analyzer.py\n",
       "\u001b[0;31mType:\u001b[0m      function\n"
      ]
     },
     "metadata": {},
     "output_type": "display_data"
    }
   ],
   "source": [
    "SubstrateAnalyzer.calculate?"
   ]
  },
  {
   "cell_type": "markdown",
   "id": "9d926390-f484-4d8a-9fd4-747d339d8d3b",
   "metadata": {},
   "source": [
    "This doesn't tell us how we can change the tolerances `SubstrateAnalyzer` uses. For that we need to figure out how `SubstrateAnalyzer`s are made. Let's run `help` on the classs itself."
   ]
  },
  {
   "cell_type": "markdown",
   "id": "c0b6aee7-63bf-48ea-984b-b8827c9b66d8",
   "metadata": {},
   "source": [
    "Let's get more detailed help to see if we can figure out how to change the settings in `SubstrateAnalyzer`. To do this we can run:\n",
    "```\n",
    "help(SubstrateAnalyzer)\n",
    "```\n",
    "\n",
    "Note we don't run it in this lesson notebook, since the output is very long. It's most useful if you do this in your own notebook. The other option is type in: `interface.` and then press `tab"
   ]
  },
  {
   "cell_type": "markdown",
   "id": "b1106dcb-6543-44ae-a923-f5cc66134fc4",
   "metadata": {},
   "source": [
    "We can see from the help text that SubstrateAnayzer inherits from ZSLGenerator, maybe we can understand from that how to tweak the parameters:"
   ]
  },
  {
   "cell_type": "code",
   "execution_count": 22,
   "id": "a5d769f9-01d0-41cb-ac60-7fe879b93f8b",
   "metadata": {},
   "outputs": [
    {
     "data": {
      "text/plain": [
       "\u001b[0;31mInit signature:\u001b[0m\n",
       "\u001b[0mZSLGenerator\u001b[0m\u001b[0;34m(\u001b[0m\u001b[0;34m\u001b[0m\n",
       "\u001b[0;34m\u001b[0m    \u001b[0mmax_area_ratio_tol\u001b[0m\u001b[0;34m=\u001b[0m\u001b[0;36m0.09\u001b[0m\u001b[0;34m,\u001b[0m\u001b[0;34m\u001b[0m\n",
       "\u001b[0;34m\u001b[0m    \u001b[0mmax_area\u001b[0m\u001b[0;34m=\u001b[0m\u001b[0;36m400\u001b[0m\u001b[0;34m,\u001b[0m\u001b[0;34m\u001b[0m\n",
       "\u001b[0;34m\u001b[0m    \u001b[0mmax_length_tol\u001b[0m\u001b[0;34m=\u001b[0m\u001b[0;36m0.03\u001b[0m\u001b[0;34m,\u001b[0m\u001b[0;34m\u001b[0m\n",
       "\u001b[0;34m\u001b[0m    \u001b[0mmax_angle_tol\u001b[0m\u001b[0;34m=\u001b[0m\u001b[0;36m0.01\u001b[0m\u001b[0;34m,\u001b[0m\u001b[0;34m\u001b[0m\n",
       "\u001b[0;34m\u001b[0m    \u001b[0mbidirectional\u001b[0m\u001b[0;34m=\u001b[0m\u001b[0;32mFalse\u001b[0m\u001b[0;34m,\u001b[0m\u001b[0;34m\u001b[0m\n",
       "\u001b[0;34m\u001b[0m\u001b[0;34m)\u001b[0m\u001b[0;34m\u001b[0m\u001b[0;34m\u001b[0m\u001b[0m\n",
       "\u001b[0;31mDocstring:\u001b[0m     \n",
       "This class generate matching interface super lattices based on the methodology\n",
       "of lattice vector matching for heterostructural interfaces proposed by\n",
       "Zur and McGill:\n",
       "Journal of Applied Physics 55 (1984), 378 ; doi: 10.1063/1.333084\n",
       "The process of generating all possible matching super lattices is:\n",
       "1.) Reduce the surface lattice vectors and calculate area for the surfaces\n",
       "2.) Generate all super lattice transformations within a maximum allowed area\n",
       "    limit that give nearly equal area super-lattices for the two\n",
       "    surfaces - generate_sl_transformation_sets\n",
       "3.) For each superlattice set:\n",
       "    1.) Reduce super lattice vectors\n",
       "    2.) Check length and angle between film and substrate super lattice\n",
       "        vectors to determine if the super lattices are the nearly same\n",
       "        and therefore coincident - get_equiv_transformations\n",
       "\u001b[0;31mInit docstring:\u001b[0m\n",
       "Intialize a Zur Super Lattice Generator for a specific film and\n",
       "    substrate\n",
       "Args:\n",
       "    max_area_ratio_tol(float): Max tolerance on ratio of\n",
       "        super-lattices to consider equal\n",
       "    max_area(float): max super lattice area to generate in search\n",
       "    max_length_tol: maximum length tolerance in checking if two\n",
       "        vectors are of nearly the same length\n",
       "    max_angle_tol: maximum angle tolerance in checking of two sets\n",
       "        of vectors have nearly the same angle between them\n",
       "\u001b[0;31mFile:\u001b[0m           /usr/local/Caskroom/miniconda/base/envs/dev/lib/python3.8/site-packages/pymatgen/analysis/interfaces/zsl.py\n",
       "\u001b[0;31mType:\u001b[0m           type\n",
       "\u001b[0;31mSubclasses:\u001b[0m     SubstrateAnalyzer\n"
      ]
     },
     "metadata": {},
     "output_type": "display_data"
    }
   ],
   "source": [
    "from pymatgen.analysis.interfaces.zsl import ZSLGenerator\n",
    "\n",
    "ZSLGenerator?"
   ]
  },
  {
   "cell_type": "markdown",
   "id": "c9330fe1-3348-49e3-b211-7a2f1ec6ecaf",
   "metadata": {},
   "source": [
    "The ZSL algorithm is the heart of the `SubstrateAnalyzer` so all the tolerances we need to tweak are in that. "
   ]
  },
  {
   "cell_type": "markdown",
   "id": "3e03fe48-5cbe-4253-9a6f-3e79140ae6e1",
   "metadata": {
    "tags": []
   },
   "source": [
    "### Exercise 2:\n",
    "Try using the substrate analyzer to look at a specific substrate and film orientation:\n",
    "\n",
    "(1,0,0) LiFePO4 on (1,1,1) Si\n",
    "\n",
    "Note the default tolerances aren't big enough to get any matches here. You'll need to increase them as follows:\n",
    "- max_area: 800\n",
    "\n",
    "\n",
    "Try increasing the `max_area`, `max_length_tol` and `max_angle_tol`. How does these seem to affect the results?"
   ]
  },
  {
   "cell_type": "code",
   "execution_count": 23,
   "id": "38577270-88f7-4c73-af36-02b01d0ac286",
   "metadata": {},
   "outputs": [
    {
     "data": {
      "text/plain": [
       "2"
      ]
     },
     "execution_count": 23,
     "metadata": {},
     "output_type": "execute_result"
    }
   ],
   "source": [
    "# Solution:\n",
    "sub_analyzer = SubstrateAnalyzer(max_area_ratio_tol=0.09,\n",
    "                                 max_area=800,\n",
    "                                 max_length_tol=0.03,\n",
    "                                 max_angle_tol=0.01,\n",
    "                                 bidirectional=False\n",
    "                                )\n",
    "\n",
    "matches = list(sub_analyzer.calculate(film=LiFePO4,\n",
    "                                      substrate=silicon,\n",
    "                                      film_millers=[(1,0,0)],\n",
    "                                      substrate_millers=[(1,1,1)]))\n",
    "len(matches)"
   ]
  },
  {
   "cell_type": "markdown",
   "id": "freelance-impression",
   "metadata": {},
   "source": [
    "## Building and Manipulating heterointerfaces\n",
    "\n",
    "Pymatgen has some capabillitis to build coherent heterointerfaces. This enables us to directly simulate the properties of heterointerfaces. Currently this capabilty is limited to coherent heterointerfaces using the epitaxial constraint to find matching lattices. While this does reduce the number of choices by focusing only on systems that can build a matching repeat within specific tolerances. It's often possible to find hundreds of matches. \n",
    "\n",
    "Typically lower match area is a good thing as it means that the repeats are closer together and more likely to force the interface to stay coherent. If the repeat distance is large, there are no short to medium range interactions that the two surfaces feel to force coherency. The other issue is epitaxial strain. Typically when synthesizing a thin film, this epitaxial strain has a natural limitation because it costs energy to maintain. If the elastic tensor of the film is already known, it's possible to compute this \"elastic energy\", whcih can easily be on the order of a 10's of meV, which is inline with polymorph selection. Thus at some point the epitaxial strain is too costly, so the film changes phase or loses coherency.\n",
    "\n",
    "With these guidelines in place, let's build a heterointerface"
   ]
  },
  {
   "cell_type": "code",
   "execution_count": 24,
   "id": "confirmed-array",
   "metadata": {},
   "outputs": [],
   "source": [
    "from pymatgen.analysis.interfaces.coherent_interfaces import CoherentInterfaceBuilder"
   ]
  },
  {
   "cell_type": "markdown",
   "id": "ba0a0bd1-30a4-4e2f-9195-c67c45595889",
   "metadata": {},
   "source": [
    "Let's build an interface builder for our LiFePO4 and silicon, using the information we learned from the substrate analyzer. That means we need to use the ZSL generator from the exercise to get some matches."
   ]
  },
  {
   "cell_type": "code",
   "execution_count": 25,
   "id": "ecc55f61-53ac-4a8c-a83a-9e2adf5a7800",
   "metadata": {},
   "outputs": [],
   "source": [
    "zsl = ZSLGenerator(max_area=800)"
   ]
  },
  {
   "cell_type": "code",
   "execution_count": 26,
   "id": "czech-cancer",
   "metadata": {},
   "outputs": [],
   "source": [
    "cib = CoherentInterfaceBuilder(film_structure=LiFePO4,\n",
    "                               substrate_structure=silicon,\n",
    "                               film_miller=(1,1,1),\n",
    "                               substrate_miller=(1,0,0),\n",
    "                               zslgen=zsl)"
   ]
  },
  {
   "cell_type": "markdown",
   "id": "04a48f24-5e6d-4cf3-b26d-a6c039a4847d",
   "metadata": {},
   "source": [
    "The `CoherentInterfaceBuilder` first finds all the unique terminations that can be exposed. Let's look at those first:"
   ]
  },
  {
   "cell_type": "code",
   "execution_count": 27,
   "id": "electric-vocabulary",
   "metadata": {},
   "outputs": [
    {
     "data": {
      "text/plain": [
       "[('Li2Fe3O5_P1_10', 'Si_P4/mmm_1'),\n",
       " ('Li2Fe4O5_P1_11', 'Si_P4/mmm_1'),\n",
       " ('LiFe2O3_P-1_12', 'Si_P4/mmm_1'),\n",
       " ('O2_P-1_1', 'Si_P4/mmm_1'),\n",
       " ('P_P-1_1', 'Si_P4/mmm_1'),\n",
       " ('PO4_P1_5', 'Si_P4/mmm_1')]"
      ]
     },
     "execution_count": 27,
     "metadata": {},
     "output_type": "execute_result"
    }
   ],
   "source": [
    "cib.terminations"
   ]
  },
  {
   "cell_type": "markdown",
   "id": "5cea6e36-f2f9-475c-ab17-fd6637922832",
   "metadata": {},
   "source": [
    "Once we've chosen a termination for both surfaces at the interface, we simply ask the `CoherentInterfaceBuilder` to give an interface:"
   ]
  },
  {
   "cell_type": "code",
   "execution_count": 28,
   "id": "81d72105-d53b-4c49-b691-3d344cd2837b",
   "metadata": {},
   "outputs": [
    {
     "data": {
      "text/plain": [
       "\u001b[0;31mSignature:\u001b[0m\n",
       "\u001b[0mcib\u001b[0m\u001b[0;34m.\u001b[0m\u001b[0mget_interfaces\u001b[0m\u001b[0;34m(\u001b[0m\u001b[0;34m\u001b[0m\n",
       "\u001b[0;34m\u001b[0m    \u001b[0mtermination\u001b[0m\u001b[0;34m:\u001b[0m \u001b[0mTuple\u001b[0m\u001b[0;34m[\u001b[0m\u001b[0mstr\u001b[0m\u001b[0;34m,\u001b[0m \u001b[0mstr\u001b[0m\u001b[0;34m]\u001b[0m\u001b[0;34m,\u001b[0m\u001b[0;34m\u001b[0m\n",
       "\u001b[0;34m\u001b[0m    \u001b[0mgap\u001b[0m\u001b[0;34m:\u001b[0m \u001b[0mfloat\u001b[0m \u001b[0;34m=\u001b[0m \u001b[0;36m2.0\u001b[0m\u001b[0;34m,\u001b[0m\u001b[0;34m\u001b[0m\n",
       "\u001b[0;34m\u001b[0m    \u001b[0mvacuum_over_film\u001b[0m\u001b[0;34m:\u001b[0m \u001b[0mfloat\u001b[0m \u001b[0;34m=\u001b[0m \u001b[0;36m20.0\u001b[0m\u001b[0;34m,\u001b[0m\u001b[0;34m\u001b[0m\n",
       "\u001b[0;34m\u001b[0m    \u001b[0mfilm_thickness\u001b[0m\u001b[0;34m:\u001b[0m \u001b[0mUnion\u001b[0m\u001b[0;34m[\u001b[0m\u001b[0mfloat\u001b[0m\u001b[0;34m,\u001b[0m \u001b[0mint\u001b[0m\u001b[0;34m]\u001b[0m \u001b[0;34m=\u001b[0m \u001b[0;36m1\u001b[0m\u001b[0;34m,\u001b[0m\u001b[0;34m\u001b[0m\n",
       "\u001b[0;34m\u001b[0m    \u001b[0msubstrate_thickness\u001b[0m\u001b[0;34m:\u001b[0m \u001b[0mUnion\u001b[0m\u001b[0;34m[\u001b[0m\u001b[0mfloat\u001b[0m\u001b[0;34m,\u001b[0m \u001b[0mint\u001b[0m\u001b[0;34m]\u001b[0m \u001b[0;34m=\u001b[0m \u001b[0;36m1\u001b[0m\u001b[0;34m,\u001b[0m\u001b[0;34m\u001b[0m\n",
       "\u001b[0;34m\u001b[0m    \u001b[0min_layers\u001b[0m\u001b[0;34m:\u001b[0m \u001b[0mbool\u001b[0m \u001b[0;34m=\u001b[0m \u001b[0;32mTrue\u001b[0m\u001b[0;34m,\u001b[0m\u001b[0;34m\u001b[0m\n",
       "\u001b[0;34m\u001b[0m\u001b[0;34m)\u001b[0m \u001b[0;34m->\u001b[0m \u001b[0mIterator\u001b[0m\u001b[0;34m[\u001b[0m\u001b[0mpymatgen\u001b[0m\u001b[0;34m.\u001b[0m\u001b[0mcore\u001b[0m\u001b[0;34m.\u001b[0m\u001b[0minterface\u001b[0m\u001b[0;34m.\u001b[0m\u001b[0mInterface\u001b[0m\u001b[0;34m]\u001b[0m\u001b[0;34m\u001b[0m\u001b[0;34m\u001b[0m\u001b[0m\n",
       "\u001b[0;31mDocstring:\u001b[0m\n",
       "Generates interface structures given the film and substrate structure\n",
       "as well as the desired terminations\n",
       "\n",
       "\n",
       "Args:\n",
       "    terminations: termination from self.termination list\n",
       "    gap: gap between film and substrate\n",
       "    vacuum_over_film: vacuum over the top of the film\n",
       "    film_thickness: the film thickness\n",
       "    substrate_thickness: substrate thickness\n",
       "    in_layers: set the thickness in layer units\n",
       "\u001b[0;31mFile:\u001b[0m      /usr/local/Caskroom/miniconda/base/envs/dev/lib/python3.8/site-packages/pymatgen/analysis/interfaces/coherent_interfaces.py\n",
       "\u001b[0;31mType:\u001b[0m      method\n"
      ]
     },
     "metadata": {},
     "output_type": "display_data"
    }
   ],
   "source": [
    "cib.get_interfaces?"
   ]
  },
  {
   "cell_type": "code",
   "execution_count": 32,
   "id": "wicked-hypothesis",
   "metadata": {},
   "outputs": [
    {
     "data": {
      "text/plain": [
       "30"
      ]
     },
     "execution_count": 32,
     "metadata": {},
     "output_type": "execute_result"
    }
   ],
   "source": [
    "interfaces=list(cib.get_interfaces(termination= ('O2_P-1_1', 'Si_P4/mmm_1')))\n",
    "len(interfaces)"
   ]
  },
  {
   "cell_type": "code",
   "execution_count": 33,
   "id": "0f7d32d6-b2ae-44e7-a650-b47409a22faa",
   "metadata": {},
   "outputs": [
    {
     "data": {
      "application/vnd.mp.ctk+json": {
       "contents": [
        {
         "contents": [
          {
           "clickable": true,
           "color": "#ff8000",
           "id": "--atoms--0",
           "positions": [
            [
             5.02710441824639,
             1.0415544088926374,
             18.233227341706975
            ]
           ],
           "radius": 0.5,
           "tooltip": "P5+ (5.027, 1.042, 18.233)",
           "type": "spheres"
          },
          {
           "clickable": true,
           "color": "#ff0d0d",
           "id": "--atoms--1",
           "positions": [
            [
             7.651206705700167,
             17.460839013067286,
             17.66354590749175
            ]
           ],
           "radius": 0.5,
           "tooltip": "O2- (7.651, 17.461, 17.664)",
           "type": "spheres"
          },
          {
           "clickable": true,
           "color": "#f0c8a0",
           "id": "--atoms--2",
           "positions": [
            [
             5.800461979897115,
             -1.933487326632384,
             9.527009015491736
            ]
           ],
           "radius": 0.5,
           "tooltip": "Si (5.800, -1.933, 9.527)",
           "type": "spheres"
          },
          {
           "clickable": true,
           "color": "#f0c8a0",
           "id": "--atoms--3",
           "positions": [
            [
             3.866974653264741,
             56.0711324723388,
             13.628555015491738
            ]
           ],
           "radius": 0.5,
           "tooltip": "Si (3.867, 56.071, 13.629)",
           "type": "spheres"
          },
          {
           "clickable": true,
           "color": "#ff0d0d",
           "id": "--atoms--4",
           "positions": [
            [
             3.792747452981378,
             38.14252410793634,
             18.31760292412566
            ]
           ],
           "radius": 0.5,
           "tooltip": "O2- (3.793, 38.143, 18.318)",
           "type": "spheres"
          },
          {
           "clickable": true,
           "color": "#ff0d0d",
           "id": "--atoms--5",
           "positions": [
            [
             6.018709112801935,
             31.137829352851483,
             17.633890050585343
            ]
           ],
           "radius": 0.5,
           "tooltip": "O2- (6.019, 31.138, 17.634)",
           "type": "spheres"
          },
          {
           "clickable": true,
           "color": "#f0c8a0",
           "id": "--atoms--6",
           "positions": [
            [
             -1.4506006255773573e-15,
             9.667436633161861,
             13.628555015491735
            ]
           ],
           "radius": 0.5,
           "tooltip": "Si (-0.000, 9.667, 13.629)",
           "type": "spheres"
          },
          {
           "clickable": true,
           "color": "#f0c8a0",
           "id": "--atoms--7",
           "positions": [
            [
             -3.3149746920532316e-15,
             54.137645145706436,
             12.261373015491738
            ]
           ],
           "radius": 0.5,
           "tooltip": "Si (-0.000, 54.138, 12.261)",
           "type": "spheres"
          },
          {
           "clickable": true,
           "color": "#f0c8a0",
           "id": "--atoms--8",
           "positions": [
            [
             7.733949306529484,
             42.53672118591219,
             12.261373015491738
            ]
           ],
           "radius": 0.5,
           "tooltip": "Si (7.734, 42.537, 12.261)",
           "type": "spheres"
          },
          {
           "clickable": true,
           "color": "#ff0d0d",
           "id": "--atoms--9",
           "positions": [
            [
             7.732763235605383,
             45.826535579623716,
             18.278773663116176
            ]
           ],
           "radius": 0.5,
           "tooltip": "O2- (7.733, 45.827, 18.279)",
           "type": "spheres"
          },
          {
           "clickable": true,
           "color": "#ff0d0d",
           "id": "--atoms--10",
           "positions": [
            [
             6.008465043738107,
             19.480330464177285,
             16.21323177604526
            ]
           ],
           "radius": 0.5,
           "tooltip": "O2- (6.008, 19.480, 16.213)",
           "type": "spheres"
          },
          {
           "clickable": true,
           "color": "#f0c8a0",
           "id": "--atoms--11",
           "positions": [
            [
             5.800461979897113,
             17.40138593969135,
             9.527009015491736
            ]
           ],
           "radius": 0.5,
           "tooltip": "Si (5.800, 17.401, 9.527)",
           "type": "spheres"
          },
          {
           "clickable": true,
           "color": "#f0c8a0",
           "id": "--atoms--12",
           "positions": [
            [
             1.933487326632371,
             3.8669746532647444,
             10.894191015491735
            ]
           ],
           "radius": 0.5,
           "tooltip": "Si (1.933, 3.867, 10.894)",
           "type": "spheres"
          },
          {
           "clickable": true,
           "color": "#ff0d0d",
           "id": "--atoms--13",
           "positions": [
            [
             6.8863271755931725,
             27.314995078795047,
             18.317602924125662
            ]
           ],
           "radius": 0.5,
           "tooltip": "O2- (6.886, 27.315, 18.318)",
           "type": "spheres"
          },
          {
           "clickable": true,
           "color": "#ff8000",
           "id": "--atoms--14",
           "positions": [
            [
             3.9638763667107724,
             6.252668240928599,
             18.81248745911549
            ]
           ],
           "radius": 0.5,
           "tooltip": "P5+ (3.964, 6.253, 18.812)",
           "type": "spheres"
          },
          {
           "clickable": true,
           "color": "#ff8000",
           "id": "--atoms--15",
           "positions": [
            [
             0.38673483432868866,
             44.35167052545779,
             18.23322734170698
            ]
           ],
           "radius": 0.5,
           "tooltip": "P5+ (0.387, 44.352, 18.233)",
           "type": "spheres"
          },
          {
           "clickable": true,
           "color": "#ff0d0d",
           "id": "--atoms--16",
           "positions": [
            [
             -0.048597340801038544,
             36.520793350587454,
             17.721930765646057
            ]
           ],
           "radius": 0.5,
           "tooltip": "O2- (-0.049, 36.521, 17.722)",
           "type": "spheres"
          },
          {
           "clickable": true,
           "color": "#f0c8a0",
           "id": "--atoms--17",
           "positions": [
            [
             3.866974653264733,
             32.86928455275034,
             13.628555015491736
            ]
           ],
           "radius": 0.5,
           "tooltip": "Si (3.867, 32.869, 13.629)",
           "type": "spheres"
          },
          {
           "clickable": true,
           "color": "#ff0d0d",
           "id": "--atoms--18",
           "positions": [
            [
             1.5456037903817916,
             13.34394849219985,
             18.278773663116173
            ]
           ],
           "radius": 0.5,
           "tooltip": "O2- (1.546, 13.344, 18.279)",
           "type": "spheres"
          },
          {
           "clickable": true,
           "color": "#f0c8a0",
           "id": "--atoms--19",
           "positions": [
            [
             1.9334873266323602,
             34.8027718793827,
             10.894191015491737
            ]
           ],
           "radius": 0.5,
           "tooltip": "Si (1.933, 34.803, 10.894)",
           "type": "spheres"
          },
          {
           "clickable": true,
           "color": "#f0c8a0",
           "id": "--atoms--20",
           "positions": [
            [
             5.800461979897113,
             23.201847919588474,
             10.894191015491737
            ]
           ],
           "radius": 0.5,
           "tooltip": "Si (5.800, 23.202, 10.894)",
           "type": "spheres"
          },
          {
           "clickable": true,
           "color": "#ff8000",
           "id": "--atoms--21",
           "positions": [
            [
             -0.33957924615104607,
             30.545098132435346,
             17.13900551559551
            ]
           ],
           "radius": 0.5,
           "tooltip": "P5+ (-0.340, 30.545, 17.139)",
           "type": "spheres"
          },
          {
           "clickable": true,
           "color": "#f0c8a0",
           "id": "--atoms--22",
           "positions": [
            [
             7.733949306529488,
             11.600923959794235,
             12.261373015491737
            ]
           ],
           "radius": 0.5,
           "tooltip": "Si (7.734, 11.601, 12.261)",
           "type": "spheres"
          },
          {
           "clickable": true,
           "color": "#cc80ff",
           "id": "--atoms--23",
           "positions": [
            [
             4.981545054027085,
             2.7740438266757645,
             16.213663486380497
            ]
           ],
           "radius": 0.5,
           "tooltip": "Li+ (4.982, 2.774, 16.214)",
           "type": "spheres"
          },
          {
           "clickable": true,
           "color": "#f0c8a0",
           "id": "--atoms--24",
           "positions": [
            [
             -1.3026705235286519e-14,
             44.47020851254457,
             13.628555015491738
            ]
           ],
           "radius": 0.5,
           "tooltip": "Si (-0.000, 44.470, 13.629)",
           "type": "spheres"
          },
          {
           "clickable": true,
           "color": "#ff0d0d",
           "id": "--atoms--25",
           "positions": [
            [
             7.679163896373801,
             12.683585635523412,
             15.844131773997018
            ]
           ],
           "radius": 0.5,
           "tooltip": "O2- (7.679, 12.684, 15.844)",
           "type": "spheres"
          },
          {
           "clickable": true,
           "color": "#f0c8a0",
           "id": "--atoms--26",
           "positions": [
            [
             7.7339493065294835,
             52.204157819074055,
             13.628555015491738
            ]
           ],
           "radius": 0.5,
           "tooltip": "Si (7.734, 52.204, 13.629)",
           "type": "spheres"
          },
          {
           "clickable": true,
           "color": "#f0c8a0",
           "id": "--atoms--27",
           "positions": [
            [
             1.9334873266323633,
             40.60323385927982,
             9.527009015491737
            ]
           ],
           "radius": 0.5,
           "tooltip": "Si (1.933, 40.603, 9.527)",
           "type": "spheres"
          },
          {
           "clickable": true,
           "color": "#f0c8a0",
           "id": "--atoms--28",
           "positions": [
            [
             5.8004619798971095,
             29.00230989948559,
             9.527009015491736
            ]
           ],
           "radius": 0.5,
           "tooltip": "Si (5.800, 29.002, 9.527)",
           "type": "spheres"
          },
          {
           "clickable": true,
           "color": "#ff0d0d",
           "id": "--atoms--29",
           "positions": [
            [
             3.545646339344332,
             49.70240810477023,
             16.22422717397134
            ]
           ],
           "radius": 0.5,
           "tooltip": "O2- (3.546, 49.702, 16.224)",
           "type": "spheres"
          },
          {
           "clickable": true,
           "color": "#ff0d0d",
           "id": "--atoms--30",
           "positions": [
            [
             1.2510914068678125,
             15.598090259997484,
             15.628555015491735
            ]
           ],
           "radius": 0.5,
           "tooltip": "O2- (1.251, 15.598, 15.629)",
           "type": "spheres"
          },
          {
           "clickable": true,
           "color": "#f0c8a0",
           "id": "--atoms--31",
           "positions": [
            [
             -1.2434745468848443e-14,
             34.8027718793827,
             12.261373015491737
            ]
           ],
           "radius": 0.5,
           "tooltip": "Si (-0.000, 34.803, 12.261)",
           "type": "spheres"
          },
          {
           "clickable": true,
           "color": "#ff0d0d",
           "id": "--atoms--32",
           "positions": [
            [
             1.7770741847921385,
             -0.8442043348535414,
             16.203099798789644
            ]
           ],
           "radius": 0.5,
           "tooltip": "O2- (1.777, -0.844, 16.203)",
           "type": "spheres"
          },
          {
           "clickable": true,
           "color": "#f0c8a0",
           "id": "--atoms--33",
           "positions": [
            [
             3.866974653264737,
             30.935797226117963,
             12.261373015491737
            ]
           ],
           "radius": 0.5,
           "tooltip": "Si (3.867, 30.936, 12.261)",
           "type": "spheres"
          },
          {
           "clickable": true,
           "color": "#e06633",
           "id": "--atoms--34",
           "positions": [
            [
             6.063966746240094,
             32.88706922522265,
             16.23912029949558
            ]
           ],
           "radius": 0.5,
           "tooltip": "Fe2+ (6.064, 32.887, 16.239)",
           "type": "spheres"
          },
          {
           "clickable": true,
           "color": "#f0c8a0",
           "id": "--atoms--35",
           "positions": [
            [
             3.8669746532647444,
             1.9334873266323716,
             13.628555015491735
            ]
           ],
           "radius": 0.5,
           "tooltip": "Si (3.867, 1.933, 13.629)",
           "type": "spheres"
          },
          {
           "clickable": true,
           "color": "#f0c8a0",
           "id": "--atoms--36",
           "positions": [
            [
             1.9334873266323596,
             46.40369583917694,
             10.89419101549174
            ]
           ],
           "radius": 0.5,
           "tooltip": "Si (1.933, 46.404, 10.894)",
           "type": "spheres"
          },
          {
           "clickable": true,
           "color": "#f0c8a0",
           "id": "--atoms--37",
           "positions": [
            [
             3.8669746532647387,
             54.137645145706436,
             12.261373015491738
            ]
           ],
           "radius": 0.5,
           "tooltip": "Si (3.867, 54.138, 12.261)",
           "type": "spheres"
          },
          {
           "clickable": true,
           "color": "#ff0d0d",
           "id": "--atoms--38",
           "positions": [
            [
             -0.1684503324216489,
             -1.3447577345723898,
             17.633890050585343
            ]
           ],
           "radius": 0.5,
           "tooltip": "O2- (-0.168, -1.345, 17.634)",
           "type": "spheres"
          },
          {
           "clickable": true,
           "color": "#cc80ff",
           "id": "--atoms--39",
           "positions": [
            [
             1.0387536296269189,
             7.571354157540682,
             17.975746487355497
            ]
           ],
           "radius": 0.5,
           "tooltip": "Li+ (1.039, 7.571, 17.976)",
           "type": "spheres"
          },
          {
           "clickable": true,
           "color": "#f0c8a0",
           "id": "--atoms--40",
           "positions": [
            [
             7.733949306529487,
             21.268360592956096,
             13.628555015491736
            ]
           ],
           "radius": 0.5,
           "tooltip": "Si (7.734, 21.268, 13.629)",
           "type": "spheres"
          },
          {
           "clickable": true,
           "color": "#f0c8a0",
           "id": "--atoms--41",
           "positions": [
            [
             1.933487326632372,
             9.667436633161863,
             9.527009015491734
            ]
           ],
           "radius": 0.5,
           "tooltip": "Si (1.933, 9.667, 9.527)",
           "type": "spheres"
          },
          {
           "clickable": true,
           "color": "#cc80ff",
           "id": "--atoms--42",
           "positions": [
            [
             2.5855434909328134,
             56.295234788676474,
             17.975746487355508
            ]
           ],
           "radius": 0.5,
           "tooltip": "Li+ (2.586, 56.295, 17.976)",
           "type": "spheres"
          },
          {
           "clickable": true,
           "color": "#ff0d0d",
           "id": "--atoms--43",
           "positions": [
            [
             3.0923936516876847,
             34.999006550482434,
             18.278773663116176
            ]
           ],
           "radius": 0.5,
           "tooltip": "O2- (3.092, 34.999, 18.279)",
           "type": "spheres"
          },
          {
           "clickable": true,
           "color": "#ff0d0d",
           "id": "--atoms--44",
           "positions": [
            [
             2.914885321126307,
             30.30785949331858,
             16.213231776045262
            ]
           ],
           "radius": 0.5,
           "tooltip": "O2- (2.915, 30.308, 16.213)",
           "type": "spheres"
          },
          {
           "clickable": true,
           "color": "#e06633",
           "id": "--atoms--45",
           "positions": [
            [
             3.1160310112322613,
             16.584739319873645,
             16.413587661588114
            ]
           ],
           "radius": 0.5,
           "tooltip": "Fe2+ (3.116, 16.585, 16.414)",
           "type": "spheres"
          },
          {
           "clickable": true,
           "color": "#ff0d0d",
           "id": "--atoms--46",
           "positions": [
            [
             0.5319034688720393,
             55.93640496858796,
             17.672719311594832
            ]
           ],
           "radius": 0.5,
           "tooltip": "O2- (0.532, 55.936, 17.673)",
           "type": "spheres"
          },
          {
           "clickable": true,
           "color": "#f0c8a0",
           "id": "--atoms--47",
           "positions": [
            [
             -6.631146175322737e-15,
             52.204157819074055,
             13.628555015491738
            ]
           ],
           "radius": 0.5,
           "tooltip": "Si (-0.000, 52.204, 13.629)",
           "type": "spheres"
          },
          {
           "clickable": true,
           "color": "#ff8000",
           "id": "--atoms--48",
           "positions": [
            [
             3.237562286231036,
             46.58374099361259,
             17.718265633004027
            ]
           ],
           "radius": 0.5,
           "tooltip": "P5+ (3.238, 46.584, 17.718)",
           "type": "spheres"
          },
          {
           "clickable": true,
           "color": "#ff8000",
           "id": "--atoms--49",
           "positions": [
            [
             2.754000476460759,
             19.717569103294053,
             17.139005515595514
            ]
           ],
           "radius": 0.5,
           "tooltip": "P5+ (2.754, 19.718, 17.139)",
           "type": "spheres"
          },
          {
           "clickable": true,
           "color": "#f0c8a0",
           "id": "--atoms--50",
           "positions": [
            [
             3.8669746532647324,
             44.47020851254456,
             13.628555015491738
            ]
           ],
           "radius": 0.5,
           "tooltip": "Si (3.867, 44.470, 13.629)",
           "type": "spheres"
          },
          {
           "clickable": true,
           "color": "#ff0d0d",
           "id": "--atoms--51",
           "positions": [
            [
             2.7978812681737053,
             37.25314831828006,
             15.628555015491738
            ]
           ],
           "radius": 0.5,
           "tooltip": "O2- (2.798, 37.253, 15.629)",
           "type": "spheres"
          },
          {
           "clickable": true,
           "color": "#ff0d0d",
           "id": "--atoms--52",
           "positions": [
            [
             4.0716291172686505,
             33.260113509919215,
             16.79877195726925
            ]
           ],
           "radius": 0.5,
           "tooltip": "O2- (4.072, 33.260, 16.799)",
           "type": "spheres"
          },
          {
           "clickable": true,
           "color": "#f0c8a0",
           "id": "--atoms--53",
           "positions": [
            [
             5.800461979897113,
             34.8027718793827,
             10.894191015491737
            ]
           ],
           "radius": 0.5,
           "tooltip": "Si (5.800, 34.803, 10.894)",
           "type": "spheres"
          },
          {
           "clickable": true,
           "color": "#ff0d0d",
           "id": "--atoms--54",
           "positions": [
            [
             4.557626983088368,
             28.28836804220857,
             17.66354590749175
            ]
           ],
           "radius": 0.5,
           "tooltip": "O2- (4.558, 28.288, 17.664)",
           "type": "spheres"
          },
          {
           "clickable": true,
           "color": "#ff0d0d",
           "id": "--atoms--55",
           "positions": [
            [
             2.160249860083155,
             51.81951444772053,
             18.28794706721925
            ]
           ],
           "radius": 0.5,
           "tooltip": "O2- (2.160, 51.820, 18.288)",
           "type": "spheres"
          },
          {
           "clickable": true,
           "color": "#ff0d0d",
           "id": "--atoms--56",
           "positions": [
            [
             2.4078352030101624,
             18.55034427659811,
             16.214095196715732
            ]
           ],
           "radius": 0.5,
           "tooltip": "O2- (2.408, 18.550, 16.214)",
           "type": "spheres"
          },
          {
           "clickable": true,
           "color": "#f0c8a0",
           "id": "--atoms--57",
           "positions": [
            [
             1.9334873266323662,
             52.204157819074055,
             9.527009015491739
            ]
           ],
           "radius": 0.5,
           "tooltip": "Si (1.933, 52.204, 9.527)",
           "type": "spheres"
          },
          {
           "clickable": true,
           "color": "#f0c8a0",
           "id": "--atoms--58",
           "positions": [
            [
             -9.710533752017012e-15,
             46.40369583917695,
             12.261373015491738
            ]
           ],
           "radius": 0.5,
           "tooltip": "Si (-0.000, 46.404, 12.261)",
           "type": "spheres"
          },
          {
           "clickable": true,
           "color": "#f0c8a0",
           "id": "--atoms--59",
           "positions": [
            [
             7.733949306529485,
             56.0711324723388,
             13.628555015491738
            ]
           ],
           "radius": 0.5,
           "tooltip": "Si (7.734, 56.071, 13.629)",
           "type": "spheres"
          },
          {
           "clickable": true,
           "color": "#f0c8a0",
           "id": "--atoms--60",
           "positions": [
            [
             -3.878234063581611e-15,
             21.268360592956096,
             13.628555015491736
            ]
           ],
           "radius": 0.5,
           "tooltip": "Si (-0.000, 21.268, 13.629)",
           "type": "spheres"
          },
          {
           "clickable": true,
           "color": "#f0c8a0",
           "id": "--atoms--61",
           "positions": [
            [
             3.8669746532647418,
             0,
             12.261373015491735
            ]
           ],
           "radius": 0.5,
           "tooltip": "Si (3.867, 0.000, 12.261)",
           "type": "spheres"
          },
          {
           "clickable": true,
           "color": "#f0c8a0",
           "id": "--atoms--62",
           "positions": [
            [
             3.866974653264739,
             42.53672118591219,
             12.261373015491738
            ]
           ],
           "radius": 0.5,
           "tooltip": "Si (3.867, 42.537, 12.261)",
           "type": "spheres"
          },
          {
           "clickable": true,
           "color": "#ff8000",
           "id": "--atoms--63",
           "positions": [
            [
             6.3311420088428285,
             35.75621196447131,
             17.718265633004034
            ]
           ],
           "radius": 0.5,
           "tooltip": "P5+ (6.331, 35.756, 17.718)",
           "type": "spheres"
          },
          {
           "clickable": true,
           "color": "#e06633",
           "id": "--atoms--64",
           "positions": [
            [
             2.3523335005081654,
             5.143605515552747,
             16.18820667326541
            ]
           ],
           "radius": 0.5,
           "tooltip": "Fe2+ (2.352, 5.144, 16.188)",
           "type": "spheres"
          },
          {
           "clickable": true,
           "color": "#f0c8a0",
           "id": "--atoms--65",
           "positions": [
            [
             3.8669746532647435,
             13.534411286426606,
             13.628555015491736
            ]
           ],
           "radius": 0.5,
           "tooltip": "Si (3.867, 13.534, 13.629)",
           "type": "spheres"
          },
          {
           "clickable": true,
           "color": "#ff0d0d",
           "id": "--atoms--66",
           "positions": [
            [
             4.59177224311666,
             47.348322379728735,
             17.721930765646057
            ]
           ],
           "radius": 0.5,
           "tooltip": "O2- (4.592, 47.348, 17.722)",
           "type": "spheres"
          },
          {
           "clickable": true,
           "color": "#f0c8a0",
           "id": "--atoms--67",
           "positions": [
            [
             1.9334873266323684,
             15.467898613058981,
             10.894191015491739
            ]
           ],
           "radius": 0.5,
           "tooltip": "Si (1.933, 15.468, 10.894)",
           "type": "spheres"
          },
          {
           "clickable": true,
           "color": "#f0c8a0",
           "id": "--atoms--68",
           "positions": [
            [
             5.800461979897115,
             3.8669746532647435,
             10.894191015491735
            ]
           ],
           "radius": 0.5,
           "tooltip": "Si (5.800, 3.867, 10.894)",
           "type": "spheres"
          },
          {
           "clickable": true,
           "color": "#ff0d0d",
           "id": "--atoms--69",
           "positions": [
            [
             4.87065390740393,
             42.46591178171161,
             16.203099798789648
            ]
           ],
           "radius": 0.5,
           "tooltip": "O2- (4.871, 42.466, 16.203)",
           "type": "spheres"
          },
          {
           "clickable": true,
           "color": "#cc80ff",
           "id": "--atoms--70",
           "positions": [
            [
             2.585543490932817,
             2.157589642970035,
             17.975746487355504
            ]
           ],
           "radius": 0.5,
           "tooltip": "Li+ (2.586, 2.158, 17.976)",
           "type": "spheres"
          },
          {
           "clickable": true,
           "color": "#f0c8a0",
           "id": "--atoms--71",
           "positions": [
            [
             -8.408222265853243e-15,
             25.135335246220844,
             13.628555015491736
            ]
           ],
           "radius": 0.5,
           "tooltip": "Si (-0.000, 25.135, 13.629)",
           "type": "spheres"
          },
          {
           "clickable": true,
           "color": "#ff0d0d",
           "id": "--atoms--72",
           "positions": [
            [
             6.924295795598058,
             3.6920310469694044,
             16.583195198763963
            ]
           ],
           "radius": 0.5,
           "tooltip": "O2- (6.924, 3.692, 16.583)",
           "type": "spheres"
          },
          {
           "clickable": true,
           "color": "#f0c8a0",
           "id": "--atoms--73",
           "positions": [
            [
             7.733949306529478,
             32.86928455275034,
             13.628555015491736
            ]
           ],
           "radius": 0.5,
           "tooltip": "Si (7.734, 32.869, 13.629)",
           "type": "spheres"
          },
          {
           "clickable": true,
           "color": "#f0c8a0",
           "id": "--atoms--74",
           "positions": [
            [
             1.9334873266323696,
             21.268360592956096,
             9.527009015491736
            ]
           ],
           "radius": 0.5,
           "tooltip": "Si (1.933, 21.268, 9.527)",
           "type": "spheres"
          },
          {
           "clickable": true,
           "color": "#f0c8a0",
           "id": "--atoms--75",
           "positions": [
            [
             -4.381699062858044e-15,
             15.467898613058981,
             12.261373015491733
            ]
           ],
           "radius": 0.5,
           "tooltip": "Si (-0.000, 15.468, 12.261)",
           "type": "spheres"
          },
          {
           "clickable": true,
           "color": "#ff0d0d",
           "id": "--atoms--76",
           "positions": [
            [
             0.5319034688720427,
             1.7987598228815203,
             17.67271931159483
            ]
           ],
           "radius": 0.5,
           "tooltip": "O2- (0.532, 1.799, 17.673)",
           "type": "spheres"
          },
          {
           "clickable": true,
           "color": "#ff0d0d",
           "id": "--atoms--77",
           "positions": [
            [
             6.138562104422555,
             14.865735292304874,
             17.721930765646054
            ]
           ],
           "radius": 0.5,
           "tooltip": "O2- (6.139, 14.866, 17.722)",
           "type": "spheres"
          },
          {
           "clickable": true,
           "color": "#ff0d0d",
           "id": "--atoms--78",
           "positions": [
            [
             7.565498974107841,
             -1.3447577345723898,
             17.633890050585343
            ]
           ],
           "radius": 0.5,
           "tooltip": "O2- (7.565, -1.345, 17.634)",
           "type": "spheres"
          },
          {
           "clickable": true,
           "color": "#f0c8a0",
           "id": "--atoms--79",
           "positions": [
            [
             7.733949306529485,
             23.201847919588474,
             12.261373015491737
            ]
           ],
           "radius": 0.5,
           "tooltip": "Si (7.734, 23.202, 12.261)",
           "type": "spheres"
          },
          {
           "clickable": true,
           "color": "#ff0d0d",
           "id": "--atoms--80",
           "positions": [
            [
             3.038794312456104,
             55.99370175208857,
             15.844131773997029
            ]
           ],
           "radius": 0.5,
           "tooltip": "O2- (3.039, 55.994, 15.844)",
           "type": "spheres"
          },
          {
           "clickable": true,
           "color": "#cc80ff",
           "id": "--atoms--81",
           "positions": [
            [
             0.34117547010938193,
             46.08415994324092,
             16.21366348638049
            ]
           ],
           "radius": 0.5,
           "tooltip": "Li+ (0.341, 46.084, 16.214)",
           "type": "spheres"
          },
          {
           "clickable": true,
           "color": "#e06633",
           "id": "--atoms--82",
           "positions": [
            [
             0.022451288620462397,
             27.412268349014933,
             16.413587661588114
            ]
           ],
           "radius": 0.5,
           "tooltip": "Fe2+ (0.022, 27.412, 16.414)",
           "type": "spheres"
          },
          {
           "clickable": true,
           "color": "#e06633",
           "id": "--atoms--83",
           "positions": [
            [
             3.7534793742101,
             53.928522508325614,
             16.013739311172873
            ]
           ],
           "radius": 0.5,
           "tooltip": "Fe2+ (3.753, 53.929, 16.014)",
           "type": "spheres"
          },
          {
           "clickable": true,
           "color": "#f0c8a0",
           "id": "--atoms--84",
           "positions": [
            [
             5.800461979897112,
             40.60323385927982,
             9.527009015491739
            ]
           ],
           "radius": 0.5,
           "tooltip": "Si (5.800, 40.603, 9.527)",
           "type": "spheres"
          },
          {
           "clickable": true,
           "color": "#ff0d0d",
           "id": "--atoms--85",
           "positions": [
            [
             5.219684322666661,
             21.932031081059076,
             18.229562209064945
            ]
           ],
           "radius": 0.5,
           "tooltip": "O2- (5.220, 21.932, 18.230)",
           "type": "spheres"
          },
          {
           "clickable": true,
           "color": "#f0c8a0",
           "id": "--atoms--86",
           "positions": [
            [
             5.800461979897109,
             46.40369583917695,
             10.89419101549174
            ]
           ],
           "radius": 0.5,
           "tooltip": "Si (5.800, 46.404, 10.894)",
           "type": "spheres"
          },
          {
           "clickable": true,
           "color": "#f0c8a0",
           "id": "--atoms--87",
           "positions": [
            [
             7.733949306529489,
             1.9334873266323707,
             13.628555015491735
            ]
           ],
           "radius": 0.5,
           "tooltip": "Si (7.734, 1.933, 13.629)",
           "type": "spheres"
          },
          {
           "clickable": true,
           "color": "#ff0d0d",
           "id": "--atoms--88",
           "positions": [
            [
             5.2538295826949435,
             40.99198541857924,
             18.28794706721925
            ]
           ],
           "radius": 0.5,
           "tooltip": "O2- (5.254, 40.992, 18.288)",
           "type": "spheres"
          },
          {
           "clickable": true,
           "color": "#cc80ff",
           "id": "--atoms--89",
           "positions": [
            [
             0.3411754701093879,
             19.015337370387698,
             16.21366348638049
            ]
           ],
           "radius": 0.5,
           "tooltip": "Li+ (0.341, 19.015, 16.214)",
           "type": "spheres"
          },
          {
           "clickable": true,
           "color": "#f0c8a0",
           "id": "--atoms--90",
           "positions": [
            [
             1.9334873266323682,
             56.0711324723388,
             9.527009015491737
            ]
           ],
           "radius": 0.5,
           "tooltip": "Si (1.933, 56.071, 9.527)",
           "type": "spheres"
          },
          {
           "clickable": true,
           "color": "#ff0d0d",
           "id": "--atoms--91",
           "positions": [
            [
             3.6728944613607677,
             0.2769730227764994,
             18.229562209064945
            ]
           ],
           "radius": 0.5,
           "tooltip": "O2- (3.673, 0.277, 18.230)",
           "type": "spheres"
          },
          {
           "clickable": true,
           "color": "#f0c8a0",
           "id": "--atoms--92",
           "positions": [
            [
             -1.2316353515560826e-14,
             32.86928455275034,
             13.628555015491736
            ]
           ],
           "radius": 0.5,
           "tooltip": "Si (-0.000, 32.869, 13.629)",
           "type": "spheres"
          },
          {
           "clickable": true,
           "color": "#f0c8a0",
           "id": "--atoms--93",
           "positions": [
            [
             3.866974653264742,
             11.600923959794233,
             12.261373015491737
            ]
           ],
           "radius": 0.5,
           "tooltip": "Si (3.867, 11.601, 12.261)",
           "type": "spheres"
          },
          {
           "clickable": true,
           "color": "#ff8000",
           "id": "--atoms--94",
           "positions": [
            [
             7.057456089322568,
             49.56278435749375,
             18.812487459115495
            ]
           ],
           "radius": 0.5,
           "tooltip": "P5+ (7.057, 49.563, 18.812)",
           "type": "spheres"
          },
          {
           "clickable": true,
           "color": "#ff0d0d",
           "id": "--atoms--95",
           "positions": [
            [
             5.172273052789736,
             12.626288852022801,
             17.672719311594825
            ]
           ],
           "radius": 0.5,
           "tooltip": "O2- (5.172, 12.626, 17.673)",
           "type": "spheres"
          },
          {
           "clickable": true,
           "color": "#ff0d0d",
           "id": "--atoms--96",
           "positions": [
            [
             7.685351965728452,
             36.520793350587454,
             17.721930765646057
            ]
           ],
           "radius": 0.5,
           "tooltip": "O2- (7.685, 36.521, 17.722)",
           "type": "spheres"
          },
          {
           "clickable": true,
           "color": "#f0c8a0",
           "id": "--atoms--97",
           "positions": [
            [
             1.9334873266323693,
             27.068822572853218,
             10.894191015491737
            ]
           ],
           "radius": 0.5,
           "tooltip": "Si (1.933, 27.069, 10.894)",
           "type": "spheres"
          },
          {
           "clickable": true,
           "color": "#f0c8a0",
           "id": "--atoms--98",
           "positions": [
            [
             5.800461979897113,
             15.467898613058981,
             10.894191015491739
            ]
           ],
           "radius": 0.5,
           "tooltip": "Si (5.800, 15.468, 10.894)",
           "type": "spheres"
          },
          {
           "clickable": true,
           "color": "#ff0d0d",
           "id": "--atoms--99",
           "positions": [
            [
             5.6184189785745495,
             54.915171568201785,
             16.798771957269253
            ]
           ],
           "radius": 0.5,
           "tooltip": "O2- (5.618, 54.915, 16.799)",
           "type": "spheres"
          },
          {
           "clickable": true,
           "color": "#ff8000",
           "id": "--atoms--100",
           "positions": [
            [
             7.394370060378445,
             30.545098132435346,
             17.13900551559551
            ]
           ],
           "radius": 0.5,
           "tooltip": "P5+ (7.394, 30.545, 17.139)",
           "type": "spheres"
          },
          {
           "clickable": true,
           "color": "#ff0d0d",
           "id": "--atoms--101",
           "positions": [
            [
             3.0387943124561074,
             1.8560566063821307,
             15.844131773997026
            ]
           ],
           "radius": 0.5,
           "tooltip": "O2- (3.039, 1.856, 15.844)",
           "type": "spheres"
          },
          {
           "clickable": true,
           "color": "#ff0d0d",
           "id": "--atoms--102",
           "positions": [
            [
             -0.1684503324216522,
             52.792887411134046,
             17.633890050585347
            ]
           ],
           "radius": 0.5,
           "tooltip": "O2- (-0.168, 52.793, 17.634)",
           "type": "spheres"
          },
          {
           "clickable": true,
           "color": "#f0c8a0",
           "id": "--atoms--103",
           "positions": [
            [
             7.733949306529477,
             44.47020851254457,
             13.628555015491738
            ]
           ],
           "radius": 0.5,
           "tooltip": "Si (7.734, 44.470, 13.629)",
           "type": "spheres"
          },
          {
           "clickable": true,
           "color": "#f0c8a0",
           "id": "--atoms--104",
           "positions": [
            [
             1.9334873266323638,
             32.86928455275034,
             9.527009015491736
            ]
           ],
           "radius": 0.5,
           "tooltip": "Si (1.933, 32.869, 9.527)",
           "type": "spheres"
          },
          {
           "clickable": true,
           "color": "#f0c8a0",
           "id": "--atoms--105",
           "positions": [
            [
             -6.809332500862298e-15,
             27.068822572853218,
             12.261373015491737
            ]
           ],
           "radius": 0.5,
           "tooltip": "Si (-0.000, 27.069, 12.261)",
           "type": "spheres"
          },
          {
           "clickable": true,
           "color": "#ff0d0d",
           "id": "--atoms--106",
           "positions": [
            [
             6.766474183972559,
             43.58708913934165,
             18.22956220906495
            ]
           ],
           "radius": 0.5,
           "tooltip": "O2- (6.766, 43.587, 18.230)",
           "type": "spheres"
          },
          {
           "clickable": true,
           "color": "#f0c8a0",
           "id": "--atoms--107",
           "positions": [
            [
             -1.835673671566176e-15,
             1.9334873266323707,
             13.628555015491735
            ]
           ],
           "radius": 0.5,
           "tooltip": "Si (-0.000, 1.933, 13.629)",
           "type": "spheres"
          },
          {
           "clickable": true,
           "color": "#f0c8a0",
           "id": "--atoms--108",
           "positions": [
            [
             7.733949306529478,
             34.8027718793827,
             12.261373015491737
            ]
           ],
           "radius": 0.5,
           "tooltip": "Si (7.734, 34.803, 12.261)",
           "type": "spheres"
          },
          {
           "clickable": true,
           "color": "#f0c8a0",
           "id": "--atoms--109",
           "positions": [
            [
             3.8669746532647404,
             23.201847919588474,
             12.261373015491733
            ]
           ],
           "radius": 0.5,
           "tooltip": "Si (3.867, 23.202, 12.261)",
           "type": "spheres"
          },
          {
           "clickable": true,
           "color": "#e06633",
           "id": "--atoms--110",
           "positions": [
            [
             4.517176884934203,
             11.232011166940069,
             16.239120299495575
            ]
           ],
           "radius": 0.5,
           "tooltip": "Fe2+ (4.517, 11.232, 16.239)",
           "type": "spheres"
          },
          {
           "clickable": true,
           "color": "#ff0d0d",
           "id": "--atoms--111",
           "positions": [
            [
             7.048204786927848,
             29.377873305739403,
             16.214095196715732
            ]
           ],
           "radius": 0.5,
           "tooltip": "O2- (7.048, 29.378, 16.214)",
           "type": "spheres"
          },
          {
           "clickable": true,
           "color": "#ff0d0d",
           "id": "--atoms--112",
           "positions": [
            [
             4.461675182432208,
             -2.1747275941052866,
             16.21323177604525
            ]
           ],
           "radius": 0.5,
           "tooltip": "O2- (4.462, -2.175, 16.213)",
           "type": "spheres"
          },
          {
           "clickable": true,
           "color": "#f0c8a0",
           "id": "--atoms--113",
           "positions": [
            [
             5.800461979897116,
             9.667436633161861,
             9.527009015491737
            ]
           ],
           "radius": 0.5,
           "tooltip": "Si (5.800, 9.667, 9.527)",
           "type": "spheres"
          },
          {
           "clickable": true,
           "color": "#f0c8a0",
           "id": "--atoms--114",
           "positions": [
            [
             5.800461979897111,
             52.204157819074055,
             9.527009015491739
            ]
           ],
           "radius": 0.5,
           "tooltip": "Si (5.800, 52.204, 9.527)",
           "type": "spheres"
          },
          {
           "clickable": true,
           "color": "#f0c8a0",
           "id": "--atoms--115",
           "positions": [
            [
             1.9334873266323633,
             38.66974653264744,
             10.894191015491737
            ]
           ],
           "radius": 0.5,
           "tooltip": "Si (1.933, 38.670, 10.894)",
           "type": "spheres"
          },
          {
           "clickable": true,
           "color": "#ff0d0d",
           "id": "--atoms--116",
           "positions": [
            [
             2.925129390190143,
             41.965358381992765,
             17.63389005058535
            ]
           ],
           "radius": 0.5,
           "tooltip": "O2- (2.925, 41.965, 17.634)",
           "type": "spheres"
          },
          {
           "clickable": true,
           "color": "#f0c8a0",
           "id": "--atoms--117",
           "positions": [
            [
             -2.072457578141407e-15,
             5.800461979897116,
             13.628555015491735
            ]
           ],
           "radius": 0.5,
           "tooltip": "Si (-0.000, 5.800, 13.629)",
           "type": "spheres"
          },
          {
           "clickable": true,
           "color": "#ff8000",
           "id": "--atoms--118",
           "positions": [
            [
             6.573894279552285,
             22.696612467175218,
             18.23322734170698
            ]
           ],
           "radius": 0.5,
           "tooltip": "P5+ (6.574, 22.697, 18.233)",
           "type": "spheres"
          },
          {
           "clickable": true,
           "color": "#f0c8a0",
           "id": "--atoms--119",
           "positions": [
            [
             3.8669746532647387,
             25.135335246220844,
             13.628555015491736
            ]
           ],
           "radius": 0.5,
           "tooltip": "Si (3.867, 25.135, 13.629)",
           "type": "spheres"
          },
          {
           "clickable": true,
           "color": "#f0c8a0",
           "id": "--atoms--120",
           "positions": [
            [
             7.733949306529487,
             13.534411286426606,
             13.628555015491733
            ]
           ],
           "radius": 0.5,
           "tooltip": "Si (7.734, 13.534, 13.629)",
           "type": "spheres"
          },
          {
           "clickable": true,
           "color": "#f0c8a0",
           "id": "--atoms--121",
           "positions": [
            [
             1.9334873266323713,
             1.9334873266323718,
             9.527009015491734
            ]
           ],
           "radius": 0.5,
           "tooltip": "Si (1.933, 1.933, 9.527)",
           "type": "spheres"
          },
          {
           "clickable": true,
           "color": "#ff0d0d",
           "id": "--atoms--122",
           "positions": [
            [
             4.461675182432204,
             51.96291755160115,
             16.213231776045255
            ]
           ],
           "radius": 0.5,
           "tooltip": "O2- (4.462, 51.963, 16.213)",
           "type": "spheres"
          },
          {
           "clickable": true,
           "color": "#f0c8a0",
           "id": "--atoms--123",
           "positions": [
            [
             -2.3678390657523075e-16,
             3.8669746532647435,
             12.261373015491735
            ]
           ],
           "radius": 0.5,
           "tooltip": "Si (-0.000, 3.867, 12.261)",
           "type": "spheres"
          },
          {
           "clickable": true,
           "color": "#cc80ff",
           "id": "--atoms--124",
           "positions": [
            [
             4.981545054027078,
             29.842866399528994,
             16.21366348638049
            ]
           ],
           "radius": 0.5,
           "tooltip": "Li+ (4.982, 29.843, 16.214)",
           "type": "spheres"
          },
          {
           "clickable": true,
           "color": "#e06633",
           "id": "--atoms--125",
           "positions": [
            [
             5.445913223119961,
             48.4537216321179,
             16.188206673265412
            ]
           ],
           "radius": 0.5,
           "tooltip": "Fe2+ (5.446, 48.454, 16.188)",
           "type": "spheres"
          },
          {
           "clickable": true,
           "color": "#cc80ff",
           "id": "--atoms--126",
           "positions": [
            [
             5.679123213544605,
             45.4677057595352,
             17.975746487355497
            ]
           ],
           "radius": 0.5,
           "tooltip": "Li+ (5.679, 45.468, 17.976)",
           "type": "spheres"
          },
          {
           "clickable": true,
           "color": "#ff0d0d",
           "id": "--atoms--127",
           "positions": [
            [
             7.964233630015723,
             31.638382752570326,
             16.203099798789648
            ]
           ],
           "radius": 0.5,
           "tooltip": "O2- (7.964, 31.638, 16.203)",
           "type": "spheres"
          },
          {
           "clickable": true,
           "color": "#f0c8a0",
           "id": "--atoms--128",
           "positions": [
            [
             5.800461979897115,
             21.268360592956096,
             9.527009015491736
            ]
           ],
           "radius": 0.5,
           "tooltip": "Si (5.800, 21.268, 9.527)",
           "type": "spheres"
          },
          {
           "clickable": true,
           "color": "#ff0d0d",
           "id": "--atoms--129",
           "positions": [
            [
             3.3238640460980324,
             20.81085372342903,
             16.203099798789644
            ]
           ],
           "radius": 0.5,
           "tooltip": "O2- (3.324, 20.811, 16.203)",
           "type": "spheres"
          },
          {
           "clickable": true,
           "color": "#e06633",
           "id": "--atoms--130",
           "positions": [
            [
             6.8470590968218925,
             43.100993479184325,
             16.01373931117287
            ]
           ],
           "radius": 0.5,
           "tooltip": "Fe2+ (6.847, 43.101, 16.014)",
           "type": "spheres"
          },
          {
           "clickable": true,
           "color": "#f0c8a0",
           "id": "--atoms--131",
           "positions": [
            [
             3.866974653264733,
             36.73625920601508,
             13.628555015491736
            ]
           ],
           "radius": 0.5,
           "tooltip": "Si (3.867, 36.736, 13.629)",
           "type": "spheres"
          },
          {
           "clickable": true,
           "color": "#ff0d0d",
           "id": "--atoms--132",
           "positions": [
            [
             3.010837121782474,
             6.633309983925993,
             17.663545907491752
            ]
           ],
           "radius": 0.5,
           "tooltip": "O2- (3.011, 6.633, 17.664)",
           "type": "spheres"
          },
          {
           "clickable": true,
           "color": "#ff0d0d",
           "id": "--atoms--133",
           "positions": [
            [
             6.1323740350679,
             45.16617272294728,
             15.84413177399702
            ]
           ],
           "radius": 0.5,
           "tooltip": "O2- (6.132, 45.166, 15.844)",
           "type": "spheres"
          },
          {
           "clickable": true,
           "color": "#ff8000",
           "id": "--atoms--134",
           "positions": [
            [
             7.877931870148732,
             3.273624877047438,
             17.718265633004023
            ]
           ],
           "radius": 0.5,
           "tooltip": "P5+ (7.878, 3.274, 17.718)",
           "type": "spheres"
          },
          {
           "clickable": true,
           "color": "#cc80ff",
           "id": "--atoms--135",
           "positions": [
            [
             6.528334915332984,
             24.42910188495834,
             16.2136634863805
            ]
           ],
           "radius": 0.5,
           "tooltip": "Li+ (6.528, 24.429, 16.214)",
           "type": "spheres"
          },
          {
           "clickable": true,
           "color": "#cc80ff",
           "id": "--atoms--136",
           "positions": [
            [
             4.132333352238711,
             50.88147027410584,
             17.9757464873555
            ]
           ],
           "radius": 0.5,
           "tooltip": "Li+ (4.132, 50.881, 17.976)",
           "type": "spheres"
          },
          {
           "clickable": true,
           "color": "#ff0d0d",
           "id": "--atoms--137",
           "positions": [
            [
             1.7770741847921352,
             53.29344081085289,
             16.203099798789648
            ]
           ],
           "radius": 0.5,
           "tooltip": "O2- (1.777, 53.293, 16.203)",
           "type": "spheres"
          },
          {
           "clickable": true,
           "color": "#f0c8a0",
           "id": "--atoms--138",
           "positions": [
            [
             -3.404666250431149e-15,
             13.534411286426606,
             13.628555015491731
            ]
           ],
           "radius": 0.5,
           "tooltip": "Si (-0.000, 13.534, 13.629)",
           "type": "spheres"
          },
          {
           "clickable": true,
           "color": "#f0c8a0",
           "id": "--atoms--139",
           "positions": [
            [
             7.733949306529481,
             46.40369583917695,
             12.261373015491738
            ]
           ],
           "radius": 0.5,
           "tooltip": "Si (7.734, 46.404, 12.261)",
           "type": "spheres"
          },
          {
           "clickable": true,
           "color": "#f0c8a0",
           "id": "--atoms--140",
           "positions": [
            [
             3.8669746532647395,
             34.8027718793827,
             12.261373015491737
            ]
           ],
           "radius": 0.5,
           "tooltip": "Si (3.867, 34.803, 12.261)",
           "type": "spheres"
          },
          {
           "clickable": true,
           "color": "#ff0d0d",
           "id": "--atoms--141",
           "positions": [
            [
             1.3680954598204114,
             8.652801435035995,
             16.21323177604525
            ]
           ],
           "radius": 0.5,
           "tooltip": "O2- (1.368, 8.653, 16.213)",
           "type": "spheres"
          },
          {
           "clickable": true,
           "color": "#ff0d0d",
           "id": "--atoms--142",
           "positions": [
            [
             6.639226061956123,
             38.87487907562895,
             16.224227173971343
            ]
           ],
           "radius": 0.5,
           "tooltip": "O2- (6.639, 38.875, 16.224)",
           "type": "spheres"
          },
          {
           "clickable": true,
           "color": "#f0c8a0",
           "id": "--atoms--143",
           "positions": [
            [
             1.933487326632369,
             7.733949306529489,
             10.894191015491735
            ]
           ],
           "radius": 0.5,
           "tooltip": "Si (1.933, 7.734, 10.894)",
           "type": "spheres"
          },
          {
           "clickable": true,
           "color": "#f0c8a0",
           "id": "--atoms--144",
           "positions": [
            [
             5.800461979897113,
             56.07113247233882,
             9.527009015491737
            ]
           ],
           "radius": 0.5,
           "tooltip": "Si (5.800, 56.071, 9.527)",
           "type": "spheres"
          },
          {
           "clickable": true,
           "color": "#ff8000",
           "id": "--atoms--145",
           "positions": [
            [
             2.4170865054048654,
             38.735255328352466,
             18.812487459115495
            ]
           ],
           "radius": 0.5,
           "tooltip": "P5+ (2.417, 38.735, 18.812)",
           "type": "spheres"
          },
          {
           "clickable": true,
           "color": "#ff8000",
           "id": "--atoms--146",
           "positions": [
            [
             3.480314556940488,
             33.52414149631651,
             18.23322734170698
            ]
           ],
           "radius": 0.5,
           "tooltip": "P5+ (3.480, 33.524, 18.233)",
           "type": "spheres"
          },
          {
           "clickable": true,
           "color": "#ff0d0d",
           "id": "--atoms--147",
           "positions": [
            [
             2.283926211680359,
             47.00214716353456,
             16.583195198763967
            ]
           ],
           "radius": 0.5,
           "tooltip": "O2- (2.284, 47.002, 16.583)",
           "type": "spheres"
          },
          {
           "clickable": true,
           "color": "#f0c8a0",
           "id": "--atoms--148",
           "positions": [
            [
             7.733949306529482,
             25.135335246220844,
             13.628555015491736
            ]
           ],
           "radius": 0.5,
           "tooltip": "Si (7.734, 25.135, 13.629)",
           "type": "spheres"
          },
          {
           "clickable": true,
           "color": "#f0c8a0",
           "id": "--atoms--149",
           "positions": [
            [
             -1.332208672289742e-15,
             7.733949306529491,
             12.261373015491735
            ]
           ],
           "radius": 0.5,
           "tooltip": "Si (-0.000, 7.734, 12.261)",
           "type": "spheres"
          },
          {
           "clickable": true,
           "color": "#ff0d0d",
           "id": "--atoms--150",
           "positions": [
            [
             2.5248392559627595,
             11.60505545163663,
             16.798771957269246
            ]
           ],
           "radius": 0.5,
           "tooltip": "O2- (2.525, 11.605, 16.799)",
           "type": "spheres"
          },
          {
           "clickable": true,
           "color": "#f0c8a0",
           "id": "--atoms--151",
           "positions": [
            [
             5.8004619798971095,
             27.068822572853218,
             10.894191015491737
            ]
           ],
           "radius": 0.5,
           "tooltip": "Si (5.800, 27.069, 10.894)",
           "type": "spheres"
          },
          {
           "clickable": true,
           "color": "#f0c8a0",
           "id": "--atoms--152",
           "positions": [
            [
             7.733949306529486,
             15.467898613058981,
             12.261373015491733
            ]
           ],
           "radius": 0.5,
           "tooltip": "Si (7.734, 15.468, 12.261)",
           "type": "spheres"
          },
          {
           "clickable": true,
           "color": "#f0c8a0",
           "id": "--atoms--153",
           "positions": [
            [
             3.866974653264743,
             3.8669746532647435,
             12.261373015491735
            ]
           ],
           "radius": 0.5,
           "tooltip": "Si (3.867, 3.867, 12.261)",
           "type": "spheres"
          },
          {
           "clickable": true,
           "color": "#e06633",
           "id": "--atoms--154",
           "positions": [
            [
             6.2096107338440625,
             5.757210290732355,
             16.413587661588114
            ]
           ],
           "radius": 0.5,
           "tooltip": "Fe2+ (6.210, 5.757, 16.414)",
           "type": "spheres"
          },
          {
           "clickable": true,
           "color": "#ff0d0d",
           "id": "--atoms--155",
           "positions": [
            [
             6.185973374299484,
             24.171477521341142,
             18.278773663116176
            ]
           ],
           "radius": 0.5,
           "tooltip": "O2- (6.186, 24.171, 18.279)",
           "type": "spheres"
          },
          {
           "clickable": true,
           "color": "#f0c8a0",
           "id": "--atoms--156",
           "positions": [
            [
             1.93348732663237,
             44.47020851254457,
             9.527009015491739
            ]
           ],
           "radius": 0.5,
           "tooltip": "Si (1.933, 44.470, 9.527)",
           "type": "spheres"
          },
          {
           "clickable": true,
           "color": "#f0c8a0",
           "id": "--atoms--157",
           "positions": [
            [
             5.800461979897106,
             32.86928455275034,
             9.527009015491736
            ]
           ],
           "radius": 0.5,
           "tooltip": "Si (5.800, 32.869, 9.527)",
           "type": "spheres"
          },
          {
           "clickable": true,
           "color": "#f0c8a0",
           "id": "--atoms--158",
           "positions": [
            [
             1.9334873266323698,
             19.334873266323726,
             10.894191015491739
            ]
           ],
           "radius": 0.5,
           "tooltip": "Si (1.933, 19.335, 10.894)",
           "type": "spheres"
          },
          {
           "clickable": true,
           "color": "#ff0d0d",
           "id": "--atoms--159",
           "positions": [
            [
             0.978049394656859,
             44.0876425390605,
             16.798771957269256
            ]
           ],
           "radius": 0.5,
           "tooltip": "O2- (0.978, 44.088, 16.799)",
           "type": "spheres"
          },
          {
           "clickable": true,
           "color": "#ff8000",
           "id": "--atoms--160",
           "positions": [
            [
             4.784352147536936,
             14.101153906188733,
             17.71826563300403
            ]
           ],
           "radius": 0.5,
           "tooltip": "P5+ (4.784, 14.101, 17.718)",
           "type": "spheres"
          },
          {
           "clickable": true,
           "color": "#f0c8a0",
           "id": "--atoms--161",
           "positions": [
            [
             3.866974653264742,
             5.800461979897116,
             13.628555015491735
            ]
           ],
           "radius": 0.5,
           "tooltip": "Si (3.867, 5.800, 13.629)",
           "type": "spheres"
          },
          {
           "clickable": true,
           "color": "#f0c8a0",
           "id": "--atoms--162",
           "positions": [
            [
             3.866974653264732,
             48.337183165809314,
             13.628555015491738
            ]
           ],
           "radius": 0.5,
           "tooltip": "Si (3.867, 48.337, 13.629)",
           "type": "spheres"
          },
          {
           "clickable": true,
           "color": "#ff0d0d",
           "id": "--atoms--163",
           "positions": [
            [
             0.8610453417042594,
             51.03293136402198,
             16.21409519671574
            ]
           ],
           "radius": 0.5,
           "tooltip": "O2- (0.861, 51.033, 16.214)",
           "type": "spheres"
          },
          {
           "clickable": true,
           "color": "#e06633",
           "id": "--atoms--164",
           "positions": [
            [
             7.610756607545999,
             54.542127283505216,
             16.239120299495585
            ]
           ],
           "radius": 0.5,
           "tooltip": "Fe2+ (7.611, 54.542, 16.239)",
           "type": "spheres"
          },
          {
           "clickable": true,
           "color": "#f0c8a0",
           "id": "--atoms--165",
           "positions": [
            [
             1.9334873266323558,
             50.270670492441695,
             10.89419101549174
            ]
           ],
           "radius": 0.5,
           "tooltip": "Si (1.933, 50.271, 10.894)",
           "type": "spheres"
          },
          {
           "clickable": true,
           "color": "#f0c8a0",
           "id": "--atoms--166",
           "positions": [
            [
             5.800461979897112,
             38.66974653264745,
             10.89419101549174
            ]
           ],
           "radius": 0.5,
           "tooltip": "Si (5.800, 38.670, 10.894)",
           "type": "spheres"
          },
          {
           "clickable": true,
           "color": "#f0c8a0",
           "id": "--atoms--167",
           "positions": [
            [
             5.8004619798971175,
             0,
             10.894191015491735
            ]
           ],
           "radius": 0.5,
           "tooltip": "Si (5.800, 0.000, 10.894)",
           "type": "spheres"
          },
          {
           "clickable": true,
           "color": "#cc80ff",
           "id": "--atoms--168",
           "positions": [
            [
             7.2259130748505065,
             40.053941244964555,
             17.975746487355504
            ]
           ],
           "radius": 0.5,
           "tooltip": "Li+ (7.226, 40.054, 17.976)",
           "type": "spheres"
          },
          {
           "clickable": true,
           "color": "#cc80ff",
           "id": "--atoms--169",
           "positions": [
            [
             3.434755192721181,
             35.25663091409963,
             16.213663486380494
            ]
           ],
           "radius": 0.5,
           "tooltip": "Li+ (3.435, 35.257, 16.214)",
           "type": "spheres"
          },
          {
           "clickable": true,
           "color": "#ff8000",
           "id": "--atoms--170",
           "positions": [
            [
             1.2072106151548585,
             -1.9374889549885148,
             17.139005515595514
            ]
           ],
           "radius": 0.5,
           "tooltip": "P5+ (1.207, -1.937, 17.139)",
           "type": "spheres"
          },
          {
           "clickable": true,
           "color": "#f0c8a0",
           "id": "--atoms--171",
           "positions": [
            [
             1.9334873266323676,
             13.534411286426609,
             9.527009015491737
            ]
           ],
           "radius": 0.5,
           "tooltip": "Si (1.933, 13.534, 9.527)",
           "type": "spheres"
          },
          {
           "clickable": true,
           "color": "#f0c8a0",
           "id": "--atoms--172",
           "positions": [
            [
             5.800461979897117,
             1.9334873266323727,
             9.527009015491734
            ]
           ],
           "radius": 0.5,
           "tooltip": "Si (5.800, 1.933, 9.527)",
           "type": "spheres"
          },
          {
           "clickable": true,
           "color": "#f0c8a0",
           "id": "--atoms--173",
           "positions": [
            [
             -9.947317658592244e-15,
             50.270670492441695,
             12.261373015491738
            ]
           ],
           "radius": 0.5,
           "tooltip": "Si (-0.000, 50.271, 12.261)",
           "type": "spheres"
          },
          {
           "clickable": true,
           "color": "#ff0d0d",
           "id": "--atoms--174",
           "positions": [
            [
             0.6991677303695832,
             48.97005313707762,
             18.317602924125662
            ]
           ],
           "radius": 0.5,
           "tooltip": "O2- (0.699, 48.970, 18.318)",
           "type": "spheres"
          },
          {
           "clickable": true,
           "color": "#f0c8a0",
           "id": "--atoms--175",
           "positions": [
            [
             7.733949306529487,
             54.137645145706436,
             12.261373015491738
            ]
           ],
           "radius": 0.5,
           "tooltip": "Si (7.734, 54.138, 12.261)",
           "type": "spheres"
          },
          {
           "clickable": true,
           "color": "#ff0d0d",
           "id": "--atoms--176",
           "positions": [
            [
             -0.178694401485492,
             41.13538852245986,
             16.21323177604526
            ]
           ],
           "radius": 0.5,
           "tooltip": "O2- (-0.179, 41.135, 16.213)",
           "type": "spheres"
          },
          {
           "clickable": true,
           "color": "#e06633",
           "id": "--atoms--177",
           "positions": [
            [
             0.8055436392022602,
             37.626192602976616,
             16.188206673265405
            ]
           ],
           "radius": 0.5,
           "tooltip": "Fe2+ (0.806, 37.626, 16.188)",
           "type": "spheres"
          },
          {
           "clickable": true,
           "color": "#f0c8a0",
           "id": "--atoms--178",
           "positions": [
            [
             3.866974653264739,
             17.40138593969135,
             13.628555015491733
            ]
           ],
           "radius": 0.5,
           "tooltip": "Si (3.867, 17.401, 13.629)",
           "type": "spheres"
          },
          {
           "clickable": true,
           "color": "#ff8000",
           "id": "--atoms--179",
           "positions": [
            [
             5.847580199072553,
             8.890040074152767,
             17.139005515595507
            ]
           ],
           "radius": 0.5,
           "tooltip": "P5+ (5.848, 8.890, 17.139)",
           "type": "spheres"
          },
          {
           "clickable": true,
           "color": "#ff0d0d",
           "id": "--atoms--180",
           "positions": [
            [
             5.891460990785502,
             26.42561928913877,
             15.628555015491738
            ]
           ],
           "radius": 0.5,
           "tooltip": "O2- (5.891, 26.426, 15.629)",
           "type": "spheres"
          },
          {
           "clickable": true,
           "color": "#ff0d0d",
           "id": "--atoms--181",
           "positions": [
            [
             7.565498974107838,
             52.792887411134046,
             17.633890050585347
            ]
           ],
           "radius": 0.5,
           "tooltip": "O2- (7.565, 52.793, 17.634)",
           "type": "spheres"
          },
          {
           "clickable": true,
           "color": "#f0c8a0",
           "id": "--atoms--182",
           "positions": [
            [
             7.7339493065294835,
             27.068822572853218,
             12.261373015491737
            ]
           ],
           "radius": 0.5,
           "tooltip": "Si (7.734, 27.069, 12.261)",
           "type": "spheres"
          },
          {
           "clickable": true,
           "color": "#f0c8a0",
           "id": "--atoms--183",
           "positions": [
            [
             7.733949306529483,
             36.73625920601507,
             13.628555015491738
            ]
           ],
           "radius": 0.5,
           "tooltip": "Si (7.734, 36.736, 13.629)",
           "type": "spheres"
          },
          {
           "clickable": true,
           "color": "#f0c8a0",
           "id": "--atoms--184",
           "positions": [
            [
             3.866974653264728,
             -1.933487326632384,
             13.628555015491735
            ]
           ],
           "radius": 0.5,
           "tooltip": "Si (3.867, -1.933, 13.629)",
           "type": "spheres"
          },
          {
           "clickable": true,
           "color": "#ff0d0d",
           "id": "--atoms--185",
           "positions": [
            [
             3.7070397213890525,
             19.336927360296663,
             18.287947067219253
            ]
           ],
           "radius": 0.5,
           "tooltip": "O2- (3.707, 19.337, 18.288)",
           "type": "spheres"
          },
          {
           "clickable": true,
           "color": "#ff0d0d",
           "id": "--atoms--186",
           "positions": [
            [
             5.501414925621957,
             7.722815247456818,
             16.21409519671573
            ]
           ],
           "radius": 0.5,
           "tooltip": "O2- (5.501, 7.723, 16.214)",
           "type": "spheres"
          },
          {
           "clickable": true,
           "color": "#ff0d0d",
           "id": "--atoms--187",
           "positions": [
            [
             3.6254831914838324,
             45.10887593944667,
             17.67271931159483
            ]
           ],
           "radius": 0.5,
           "tooltip": "O2- (3.625, 45.109, 17.673)",
           "type": "spheres"
          },
          {
           "clickable": true,
           "color": "#f0c8a0",
           "id": "--atoms--188",
           "positions": [
            [
             5.800461979897105,
             44.47020851254457,
             9.527009015491739
            ]
           ],
           "radius": 0.5,
           "tooltip": "Si (5.800, 44.470, 9.527)",
           "type": "spheres"
          },
          {
           "clickable": true,
           "color": "#e06633",
           "id": "--atoms--189",
           "positions": [
            [
             7.610756607546002,
             0.4044821377987831,
             16.239120299495582
            ]
           ],
           "radius": 0.5,
           "tooltip": "Fe2+ (7.611, 0.404, 16.239)",
           "type": "spheres"
          },
          {
           "clickable": true,
           "color": "#cc80ff",
           "id": "--atoms--190",
           "positions": [
            [
             6.5283349153329775,
             -2.639720687894878,
             16.21366348638049
            ]
           ],
           "radius": 0.5,
           "tooltip": "Li+ (6.528, -2.640, 16.214)",
           "type": "spheres"
          },
          {
           "clickable": true,
           "color": "#f0c8a0",
           "id": "--atoms--191",
           "positions": [
            [
             3.866974653264739,
             46.40369583917694,
             12.261373015491738
            ]
           ],
           "radius": 0.5,
           "tooltip": "Si (3.867, 46.404, 12.261)",
           "type": "spheres"
          },
          {
           "clickable": true,
           "color": "#ff8000",
           "id": "--atoms--192",
           "positions": [
            [
             1.6907724249251317,
             24.928682935330016,
             17.718265633004023
            ]
           ],
           "radius": 0.5,
           "tooltip": "P5+ (1.691, 24.929, 17.718)",
           "type": "spheres"
          },
          {
           "clickable": true,
           "color": "#ff0d0d",
           "id": "--atoms--193",
           "positions": [
            [
             6.104416844394268,
             49.94342610049114,
             17.663545907491756
            ]
           ],
           "radius": 0.5,
           "tooltip": "O2- (6.104, 49.943, 17.664)",
           "type": "spheres"
          },
          {
           "clickable": true,
           "color": "#f0c8a0",
           "id": "--atoms--194",
           "positions": [
            [
             7.733949306529489,
             5.800461979897116,
             13.628555015491735
            ]
           ],
           "radius": 0.5,
           "tooltip": "Si (7.734, 5.800, 13.629)",
           "type": "spheres"
          },
          {
           "clickable": true,
           "color": "#ff0d0d",
           "id": "--atoms--195",
           "positions": [
            [
             5.339537314287282,
             5.6599370205124675,
             18.31760292412566
            ]
           ],
           "radius": 0.5,
           "tooltip": "O2- (5.340, 5.660, 18.318)",
           "type": "spheres"
          },
          {
           "clickable": true,
           "color": "#f0c8a0",
           "id": "--atoms--196",
           "positions": [
            [
             5.800461979897114,
             7.733949306529489,
             10.894191015491735
            ]
           ],
           "radius": 0.5,
           "tooltip": "Si (5.800, 7.734, 10.894)",
           "type": "spheres"
          },
          {
           "clickable": true,
           "color": "#f0c8a0",
           "id": "--atoms--197",
           "positions": [
            [
             5.800461979897112,
             50.27067049244168,
             10.89419101549174
            ]
           ],
           "radius": 0.5,
           "tooltip": "Si (5.800, 50.271, 10.894)",
           "type": "spheres"
          },
          {
           "clickable": true,
           "color": "#cc80ff",
           "id": "--atoms--198",
           "positions": [
            [
             4.13233335223871,
             23.812647701252615,
             17.975746487355497
            ]
           ],
           "radius": 0.5,
           "tooltip": "Li+ (4.132, 23.813, 17.976)",
           "type": "spheres"
          },
          {
           "clickable": true,
           "color": "#f0c8a0",
           "id": "--atoms--199",
           "positions": [
            [
             -3.316171483269505e-15,
             -1.933487326632384,
             13.628555015491735
            ]
           ],
           "radius": 0.5,
           "tooltip": "Si (-0.000, -1.933, 13.629)",
           "type": "spheres"
          },
          {
           "clickable": true,
           "color": "#ff0d0d",
           "id": "--atoms--200",
           "positions": [
            [
             5.3775059342921505,
             36.17461813439328,
             16.583195198763967
            ]
           ],
           "radius": 0.5,
           "tooltip": "O2- (5.378, 36.175, 16.583)",
           "type": "spheres"
          },
          {
           "clickable": true,
           "color": "#ff0d0d",
           "id": "--atoms--201",
           "positions": [
            [
             0.6134599987772489,
             30.164456389437948,
             18.28794706721925
            ]
           ],
           "radius": 0.5,
           "tooltip": "O2- (0.613, 30.164, 18.288)",
           "type": "spheres"
          },
          {
           "clickable": true,
           "color": "#f0c8a0",
           "id": "--atoms--202",
           "positions": [
            [
             1.9334873266323642,
             25.135335246220848,
             9.527009015491736
            ]
           ],
           "radius": 0.5,
           "tooltip": "Si (1.933, 25.135, 9.527)",
           "type": "spheres"
          },
          {
           "clickable": true,
           "color": "#f0c8a0",
           "id": "--atoms--203",
           "positions": [
            [
             5.800461979897114,
             13.534411286426606,
             9.527009015491737
            ]
           ],
           "radius": 0.5,
           "tooltip": "Si (5.800, 13.534, 9.527)",
           "type": "spheres"
          },
          {
           "clickable": true,
           "color": "#f0c8a0",
           "id": "--atoms--204",
           "positions": [
            [
             -2.9012012511547145e-15,
             19.334873266323722,
             12.261373015491733
            ]
           ],
           "radius": 0.5,
           "tooltip": "Si (-0.000, 19.335, 12.261)",
           "type": "spheres"
          },
          {
           "clickable": true,
           "color": "#ff0d0d",
           "id": "--atoms--205",
           "positions": [
            [
             1.498192520504863,
             4.038206263163583,
             17.721930765646054
            ]
           ],
           "radius": 0.5,
           "tooltip": "O2- (1.498, 4.038, 17.722)",
           "type": "spheres"
          },
          {
           "clickable": true,
           "color": "#f0c8a0",
           "id": "--atoms--206",
           "positions": [
            [
             -7.401292267300374e-15,
             36.73625920601507,
             13.628555015491736
            ]
           ],
           "radius": 0.5,
           "tooltip": "Si (-0.000, 36.736, 13.629)",
           "type": "spheres"
          },
          {
           "clickable": true,
           "color": "#f0c8a0",
           "id": "--atoms--207",
           "positions": [
            [
             3.866974653264739,
             15.467898613058981,
             12.261373015491737
            ]
           ],
           "radius": 0.5,
           "tooltip": "Si (3.867, 15.468, 12.261)",
           "type": "spheres"
          },
          {
           "clickable": true,
           "color": "#ff8000",
           "id": "--atoms--208",
           "positions": [
            [
             0.8702966440989758,
             17.08019727006989,
             18.81248745911549
            ]
           ],
           "radius": 0.5,
           "tooltip": "P5+ (0.870, 17.080, 18.812)",
           "type": "spheres"
          },
          {
           "clickable": true,
           "color": "#ff0d0d",
           "id": "--atoms--209",
           "positions": [
            [
             4.6391835129935854,
             56.654064608765,
             18.278773663116176
            ]
           ],
           "radius": 0.5,
           "tooltip": "O2- (4.639, 56.654, 18.279)",
           "type": "spheres"
          },
          {
           "clickable": true,
           "color": "#e06633",
           "id": "--atoms--210",
           "positions": [
            [
             5.3002692355160015,
             21.44593542090175,
             16.013739311172866
            ]
           ],
           "radius": 0.5,
           "tooltip": "Fe2+ (5.300, 21.446, 16.014)",
           "type": "spheres"
          },
          {
           "clickable": true,
           "color": "#f0c8a0",
           "id": "--atoms--211",
           "positions": [
            [
             3.866974653264737,
             29.00230989948559,
             13.628555015491736
            ]
           ],
           "radius": 0.5,
           "tooltip": "Si (3.867, 29.002, 13.629)",
           "type": "spheres"
          },
          {
           "clickable": true,
           "color": "#e06633",
           "id": "--atoms--212",
           "positions": [
            [
             -0.1231926989834881,
             0.4044821377987831,
             16.239120299495582
            ]
           ],
           "radius": 0.5,
           "tooltip": "Fe2+ (-0.123, 0.404, 16.239)",
           "type": "spheres"
          },
          {
           "clickable": true,
           "color": "#f0c8a0",
           "id": "--atoms--213",
           "positions": [
            [
             1.9334873266323638,
             30.935797226117963,
             10.894191015491737
            ]
           ],
           "radius": 0.5,
           "tooltip": "Si (1.933, 30.936, 10.894)",
           "type": "spheres"
          },
          {
           "clickable": true,
           "color": "#f0c8a0",
           "id": "--atoms--214",
           "positions": [
            [
             5.800461979897115,
             19.334873266323726,
             10.894191015491737
            ]
           ],
           "radius": 0.5,
           "tooltip": "Si (5.800, 19.335, 10.894)",
           "type": "spheres"
          },
          {
           "clickable": true,
           "color": "#ff0d0d",
           "id": "--atoms--215",
           "positions": [
            [
             1.3783395288842484,
             20.310300323710187,
             17.63389005058534
            ]
           ],
           "radius": 0.5,
           "tooltip": "O2- (1.378, 20.310, 17.634)",
           "type": "spheres"
          },
          {
           "clickable": true,
           "color": "#ff0d0d",
           "id": "--atoms--216",
           "positions": [
            [
             0.5793147387489697,
             11.104502051917784,
             18.229562209064945
            ]
           ],
           "radius": 0.5,
           "tooltip": "O2- (0.579, 11.105, 18.230)",
           "type": "spheres"
          },
          {
           "clickable": true,
           "color": "#f0c8a0",
           "id": "--atoms--217",
           "positions": [
            [
             -9.355357892154166e-15,
             40.60323385927982,
             13.628555015491736
            ]
           ],
           "radius": 0.5,
           "tooltip": "Si (-0.000, 40.603, 13.629)",
           "type": "spheres"
          },
          {
           "clickable": true,
           "color": "#f0c8a0",
           "id": "--atoms--218",
           "positions": [
            [
             7.733949306529481,
             48.337183165809314,
             13.628555015491738
            ]
           ],
           "radius": 0.5,
           "tooltip": "Si (7.734, 48.337, 13.629)",
           "type": "spheres"
          },
          {
           "clickable": true,
           "color": "#f0c8a0",
           "id": "--atoms--219",
           "positions": [
            [
             -7.046116407437528e-15,
             30.935797226117963,
             12.261373015491737
            ]
           ],
           "radius": 0.5,
           "tooltip": "Si (-0.000, 30.936, 12.261)",
           "type": "spheres"
          },
          {
           "clickable": true,
           "color": "#f0c8a0",
           "id": "--atoms--220",
           "positions": [
            [
             1.933487326632366,
             54.137645145706436,
             10.89419101549174
            ]
           ],
           "radius": 0.5,
           "tooltip": "Si (1.933, 54.138, 10.894)",
           "type": "spheres"
          },
          {
           "clickable": true,
           "color": "#ff0d0d",
           "id": "--atoms--221",
           "positions": [
            [
             7.438250852091406,
             48.08067734742134,
             15.62855501549174
            ]
           ],
           "radius": 0.5,
           "tooltip": "O2- (7.438, 48.081, 15.629)",
           "type": "spheres"
          },
          {
           "clickable": true,
           "color": "#f0c8a0",
           "id": "--atoms--222",
           "positions": [
            [
             7.733949306529479,
             38.66974653264744,
             12.261373015491738
            ]
           ],
           "radius": 0.5,
           "tooltip": "Si (7.734, 38.670, 12.261)",
           "type": "spheres"
          },
          {
           "clickable": true,
           "color": "#f0c8a0",
           "id": "--atoms--223",
           "positions": [
            [
             9.532828517003548e-32,
             0,
             12.261373015491735
            ]
           ],
           "radius": 0.5,
           "tooltip": "Si (0.000, 0.000, 12.261)",
           "type": "spheres"
          },
          {
           "clickable": true,
           "color": "#e06633",
           "id": "--atoms--224",
           "positions": [
            [
             2.970387023628301,
             43.71459825436394,
             16.239120299495585
            ]
           ],
           "radius": 0.5,
           "tooltip": "Fe2+ (2.970, 43.715, 16.239)",
           "type": "spheres"
          },
          {
           "clickable": true,
           "color": "#cc80ff",
           "id": "--atoms--225",
           "positions": [
            [
             3.4347551927211843,
             8.18780834124641,
             16.21366348638049
            ]
           ],
           "radius": 0.5,
           "tooltip": "Li+ (3.435, 8.188, 16.214)",
           "type": "spheres"
          },
          {
           "clickable": true,
           "color": "#ff8000",
           "id": "--atoms--226",
           "positions": [
            [
             1.9335246956345917,
             11.869083438033925,
             18.233227341706968
            ]
           ],
           "radius": 0.5,
           "tooltip": "P5+ (1.934, 11.869, 18.233)",
           "type": "spheres"
          },
          {
           "clickable": true,
           "color": "#ff0d0d",
           "id": "--atoms--227",
           "positions": [
            [
             3.044982381810758,
             25.693264321446165,
             17.721930765646054
            ]
           ],
           "radius": 0.5,
           "tooltip": "O2- (3.045, 25.693, 17.722)",
           "type": "spheres"
          },
          {
           "clickable": true,
           "color": "#ff0d0d",
           "id": "--atoms--228",
           "positions": [
            [
             5.618418978574553,
             0.7775264224953479,
             16.79877195726925
            ]
           ],
           "radius": 0.5,
           "tooltip": "O2- (5.618, 0.778, 16.799)",
           "type": "spheres"
          },
          {
           "clickable": true,
           "color": "#f0c8a0",
           "id": "--atoms--229",
           "positions": [
            [
             7.733949306529489,
             7.733949306529491,
             12.261373015491737
            ]
           ],
           "radius": 0.5,
           "tooltip": "Si (7.734, 7.734, 12.261)",
           "type": "spheres"
          },
          {
           "clickable": true,
           "color": "#ff0d0d",
           "id": "--atoms--230",
           "positions": [
            [
             4.5855841737620056,
             23.511114664664706,
             15.844131773997024
            ]
           ],
           "radius": 0.5,
           "tooltip": "O2- (4.586, 23.511, 15.844)",
           "type": "spheres"
          },
          {
           "clickable": true,
           "color": "#ff0d0d",
           "id": "--atoms--231",
           "positions": [
            [
             4.639183512993589,
             2.516419463058559,
             18.278773663116173
            ]
           ],
           "radius": 0.5,
           "tooltip": "O2- (4.639, 2.516, 18.279)",
           "type": "spheres"
          },
          {
           "clickable": true,
           "color": "#f0c8a0",
           "id": "--atoms--232",
           "positions": [
            [
             1.9334873266323602,
             36.73625920601508,
             9.527009015491736
            ]
           ],
           "radius": 0.5,
           "tooltip": "Si (1.933, 36.736, 9.527)",
           "type": "spheres"
          },
          {
           "clickable": true,
           "color": "#cc80ff",
           "id": "--atoms--233",
           "positions": [
            [
             1.0387536296269138,
             34.640176730393904,
             17.9757464873555
            ]
           ],
           "radius": 0.5,
           "tooltip": "Li+ (1.039, 34.640, 17.976)",
           "type": "spheres"
          },
          {
           "clickable": true,
           "color": "#ff0d0d",
           "id": "--atoms--234",
           "positions": [
            [
             2.1261046000548633,
             32.75956011020037,
             18.229562209064948
            ]
           ],
           "radius": 0.5,
           "tooltip": "O2- (2.126, 32.760, 18.230)",
           "type": "spheres"
          },
          {
           "clickable": true,
           "color": "#f0c8a0",
           "id": "--atoms--235",
           "positions": [
            [
             -9.828925705304627e-15,
             48.337183165809314,
             13.628555015491738
            ]
           ],
           "radius": 0.5,
           "tooltip": "Si (-0.000, 48.337, 13.629)",
           "type": "spheres"
          },
          {
           "clickable": true,
           "color": "#f0c8a0",
           "id": "--atoms--236",
           "positions": [
            [
             3.866974653264735,
             27.068822572853218,
             12.261373015491737
            ]
           ],
           "radius": 0.5,
           "tooltip": "Si (3.867, 27.069, 12.261)",
           "type": "spheres"
          },
          {
           "clickable": true,
           "color": "#ff8000",
           "id": "--atoms--237",
           "positions": [
            [
             5.5106662280166665,
             27.907726299211184,
             18.812487459115495
            ]
           ],
           "radius": 0.5,
           "tooltip": "P5+ (5.511, 27.908, 18.812)",
           "type": "spheres"
          },
          {
           "clickable": true,
           "color": "#ff0d0d",
           "id": "--atoms--238",
           "positions": [
            [
             -0.2956984544380848,
             48.08067734742134,
             15.62855501549174
            ]
           ],
           "radius": 0.5,
           "tooltip": "O2- (-0.296, 48.081, 15.629)",
           "type": "spheres"
          },
          {
           "clickable": true,
           "color": "#e06633",
           "id": "--atoms--239",
           "positions": [
            [
             2.2066895129042017,
             32.27346445004304,
             16.01373931117287
            ]
           ],
           "radius": 0.5,
           "tooltip": "Fe2+ (2.207, 32.273, 16.014)",
           "type": "spheres"
          },
          {
           "clickable": true,
           "color": "#f0c8a0",
           "id": "--atoms--240",
           "positions": [
            [
             7.733949306529487,
             -1.933487326632384,
             13.628555015491735
            ]
           ],
           "radius": 0.5,
           "tooltip": "Si (7.734, -1.933, 13.629)",
           "type": "spheres"
          },
          {
           "clickable": true,
           "color": "#cc80ff",
           "id": "--atoms--241",
           "positions": [
            [
             8.075124776638871,
             46.08415994324092,
             16.21366348638049
            ]
           ],
           "radius": 0.5,
           "tooltip": "Li+ (8.075, 46.084, 16.214)",
           "type": "spheres"
          },
          {
           "clickable": true,
           "color": "#e06633",
           "id": "--atoms--242",
           "positions": [
            [
             7.756400595149953,
             27.412268349014933,
             16.413587661588117
            ]
           ],
           "radius": 0.5,
           "tooltip": "Fe2+ (7.756, 27.412, 16.414)",
           "type": "spheres"
          },
          {
           "clickable": true,
           "color": "#f0c8a0",
           "id": "--atoms--243",
           "positions": [
            [
             -1.095424765714511e-14,
             38.66974653264744,
             12.261373015491737
            ]
           ],
           "radius": 0.5,
           "tooltip": "Si (-0.000, 38.670, 12.261)",
           "type": "spheres"
          },
          {
           "clickable": true,
           "color": "#ff0d0d",
           "id": "--atoms--244",
           "positions": [
            [
             4.344671129479613,
             4.770561230856189,
             15.628555015491736
            ]
           ],
           "radius": 0.5,
           "tooltip": "O2- (4.345, 4.771, 15.629)",
           "type": "spheres"
          },
          {
           "clickable": true,
           "color": "#ff0d0d",
           "id": "--atoms--245",
           "positions": [
            [
             5.092436200650232,
             17.219821017346366,
             16.22422717397134
            ]
           ],
           "radius": 0.5,
           "tooltip": "O2- (5.092, 17.220, 16.224)",
           "type": "spheres"
          },
          {
           "clickable": true,
           "color": "#f0c8a0",
           "id": "--atoms--246",
           "positions": [
            [
             1.9334873266323693,
             0,
             10.894191015491737
            ]
           ],
           "radius": 0.5,
           "tooltip": "Si (1.933, 0.000, 10.894)",
           "type": "spheres"
          },
          {
           "clickable": true,
           "color": "#f0c8a0",
           "id": "--atoms--247",
           "positions": [
            [
             1.9334873266323598,
             42.53672118591219,
             10.89419101549174
            ]
           ],
           "radius": 0.5,
           "tooltip": "Si (1.933, 42.537, 10.894)",
           "type": "spheres"
          },
          {
           "clickable": true,
           "color": "#f0c8a0",
           "id": "--atoms--248",
           "positions": [
            [
             5.800461979897106,
             30.935797226117963,
             10.894191015491737
            ]
           ],
           "radius": 0.5,
           "tooltip": "Si (5.800, 30.936, 10.894)",
           "type": "spheres"
          },
          {
           "clickable": true,
           "color": "#ff0d0d",
           "id": "--atoms--249",
           "positions": [
            [
             -0.0827426008293242,
             17.460839013067286,
             17.66354590749175
            ]
           ],
           "radius": 0.5,
           "tooltip": "O2- (-0.083, 17.461, 17.664)",
           "type": "spheres"
          },
          {
           "clickable": true,
           "color": "#cc80ff",
           "id": "--atoms--250",
           "positions": [
            [
             5.679123213544612,
             18.39888318668197,
             17.975746487355497
            ]
           ],
           "radius": 0.5,
           "tooltip": "Li+ (5.679, 18.399, 17.976)",
           "type": "spheres"
          },
          {
           "clickable": true,
           "color": "#ff0d0d",
           "id": "--atoms--251",
           "positions": [
            [
             1.4640472604765704,
             39.11589707134987,
             17.663545907491756
            ]
           ],
           "radius": 0.5,
           "tooltip": "O2- (1.464, 39.116, 17.664)",
           "type": "spheres"
          },
          {
           "clickable": true,
           "color": "#f0c8a0",
           "id": "--atoms--252",
           "positions": [
            [
             7.733949306529485,
             17.40138593969135,
             13.628555015491733
            ]
           ],
           "radius": 0.5,
           "tooltip": "Si (7.734, 17.401, 13.629)",
           "type": "spheres"
          },
          {
           "clickable": true,
           "color": "#f0c8a0",
           "id": "--atoms--253",
           "positions": [
            [
             1.93348732663237,
             5.8004619798971175,
             9.527009015491734
            ]
           ],
           "radius": 0.5,
           "tooltip": "Si (1.933, 5.800, 9.527)",
           "type": "spheres"
          },
          {
           "clickable": true,
           "color": "#f0c8a0",
           "id": "--atoms--254",
           "positions": [
            [
             1.933487326632356,
             48.337183165809314,
             9.527009015491739
            ]
           ],
           "radius": 0.5,
           "tooltip": "Si (1.933, 48.337, 9.527)",
           "type": "spheres"
          },
          {
           "clickable": true,
           "color": "#ff0d0d",
           "id": "--atoms--255",
           "positions": [
            [
             0.4520666167325362,
             6.3922919882050735,
             16.224227173971336
            ]
           ],
           "radius": 0.5,
           "tooltip": "O2- (0.452, 6.392, 16.224)",
           "type": "spheres"
          },
          {
           "clickable": true,
           "color": "#f0c8a0",
           "id": "--atoms--256",
           "positions": [
            [
             -6.03918640888466e-15,
             42.53672118591219,
             12.261373015491737
            ]
           ],
           "radius": 0.5,
           "tooltip": "Si (-0.000, 42.537, 12.261)",
           "type": "spheres"
          },
          {
           "clickable": true,
           "color": "#f0c8a0",
           "id": "--atoms--257",
           "positions": [
            [
             7.733949306529481,
             50.270670492441695,
             12.261373015491738
            ]
           ],
           "radius": 0.5,
           "tooltip": "Si (7.734, 50.271, 12.261)",
           "type": "spheres"
          },
          {
           "clickable": true,
           "color": "#ff0d0d",
           "id": "--atoms--258",
           "positions": [
            [
             -0.001186070924108116,
             45.826535579623716,
             18.278773663116176
            ]
           ],
           "radius": 0.5,
           "tooltip": "O2- (-0.001, 45.827, 18.279)",
           "type": "spheres"
          },
          {
           "clickable": true,
           "color": "#e06633",
           "id": "--atoms--259",
           "positions": [
            [
             1.5692411499263657,
             49.06732640729751,
             16.413587661588117
            ]
           ],
           "radius": 0.5,
           "tooltip": "Fe2+ (1.569, 49.067, 16.414)",
           "type": "spheres"
          },
          {
           "clickable": true,
           "color": "#e06633",
           "id": "--atoms--260",
           "positions": [
            [
             6.992703084425857,
             15.971134544694037,
             16.18820667326541
            ]
           ],
           "radius": 0.5,
           "tooltip": "Fe2+ (6.993, 15.971, 16.188)",
           "type": "spheres"
          },
          {
           "clickable": true,
           "color": "#cc80ff",
           "id": "--atoms--261",
           "positions": [
            [
             8.075124776638877,
             19.015337370387698,
             16.21366348638049
            ]
           ],
           "radius": 0.5,
           "tooltip": "Li+ (8.075, 19.015, 16.214)",
           "type": "spheres"
          },
          {
           "clickable": true,
           "color": "#ff0d0d",
           "id": "--atoms--262",
           "positions": [
            [
             7.5552549050439985,
             41.13538852245986,
             16.21323177604526
            ]
           ],
           "radius": 0.5,
           "tooltip": "O2- (7.555, 41.135, 16.213)",
           "type": "spheres"
          },
          {
           "clickable": true,
           "color": "#f0c8a0",
           "id": "--atoms--263",
           "positions": [
            [
             5.800461979897113,
             25.135335246220848,
             9.527009015491736
            ]
           ],
           "radius": 0.5,
           "tooltip": "Si (5.800, 25.135, 9.527)",
           "type": "spheres"
          },
          {
           "clickable": true,
           "color": "#f0c8a0",
           "id": "--atoms--264",
           "positions": [
            [
             1.9334873266323687,
             11.600923959794235,
             10.894191015491735
            ]
           ],
           "radius": 0.5,
           "tooltip": "Si (1.933, 11.601, 10.894)",
           "type": "spheres"
          },
          {
           "clickable": true,
           "color": "#ff0d0d",
           "id": "--atoms--265",
           "positions": [
            [
             7.16520883988045,
             22.43258448077792,
             16.79877195726925
            ]
           ],
           "radius": 0.5,
           "tooltip": "O2- (7.165, 22.433, 16.799)",
           "type": "spheres"
          },
          {
           "clickable": true,
           "color": "#ff0d0d",
           "id": "--atoms--266",
           "positions": [
            [
             6.41744376870983,
             9.983324694287742,
             16.203099798789644
            ]
           ],
           "radius": 0.5,
           "tooltip": "O2- (6.417, 9.983, 16.203)",
           "type": "spheres"
          },
          {
           "clickable": true,
           "color": "#f0c8a0",
           "id": "--atoms--267",
           "positions": [
            [
             7.733949306529478,
             29.00230989948559,
             13.628555015491736
            ]
           ],
           "radius": 0.5,
           "tooltip": "Si (7.734, 29.002, 13.629)",
           "type": "spheres"
          },
          {
           "clickable": true,
           "color": "#f0c8a0",
           "id": "--atoms--268",
           "positions": [
            [
             3.866974653264736,
             40.60323385927982,
             13.628555015491738
            ]
           ],
           "radius": 0.5,
           "tooltip": "Si (3.867, 40.603, 13.629)",
           "type": "spheres"
          },
          {
           "clickable": true,
           "color": "#f0c8a0",
           "id": "--atoms--269",
           "positions": [
            [
             -2.427633438004253e-15,
             11.600923959794235,
             12.261373015491735
            ]
           ],
           "radius": 0.5,
           "tooltip": "Si (-0.000, 11.601, 12.261)",
           "type": "spheres"
          },
          {
           "clickable": true,
           "color": "#ff0d0d",
           "id": "--atoms--270",
           "positions": [
            [
             1.4920044511502057,
             34.33864369380599,
             15.844131773997018
            ]
           ],
           "radius": 0.5,
           "tooltip": "O2- (1.492, 34.339, 15.844)",
           "type": "spheres"
          },
          {
           "clickable": true,
           "color": "#ff0d0d",
           "id": "--atoms--271",
           "positions": [
            [
             -0.054785410155689884,
             12.683585635523412,
             15.844131773997017
            ]
           ],
           "radius": 0.5,
           "tooltip": "O2- (-0.055, 12.684, 15.844)",
           "type": "spheres"
          },
          {
           "clickable": true,
           "color": "#cc80ff",
           "id": "--atoms--272",
           "positions": [
            [
             1.8879653314152869,
             13.601572855817052,
             16.213663486380494
            ]
           ],
           "radius": 0.5,
           "tooltip": "Li+ (1.888, 13.602, 16.214)",
           "type": "spheres"
          },
          {
           "clickable": true,
           "color": "#e06633",
           "id": "--atoms--273",
           "positions": [
            [
             4.662820872538155,
             38.239797378156226,
             16.413587661588117
            ]
           ],
           "radius": 0.5,
           "tooltip": "Fe2+ (4.663, 38.240, 16.414)",
           "type": "spheres"
          },
          {
           "clickable": true,
           "color": "#f0c8a0",
           "id": "--atoms--274",
           "positions": [
            [
             -5.35873187528494e-15,
             17.40138593969135,
             13.628555015491733
            ]
           ],
           "radius": 0.5,
           "tooltip": "Si (-0.000, 17.401, 13.629)",
           "type": "spheres"
          },
          {
           "clickable": true,
           "color": "#f0c8a0",
           "id": "--atoms--275",
           "positions": [
            [
             3.8669746532647395,
             38.66974653264745,
             12.261373015491737
            ]
           ],
           "radius": 0.5,
           "tooltip": "Si (3.867, 38.670, 12.261)",
           "type": "spheres"
          },
          {
           "clickable": true,
           "color": "#ff0d0d",
           "id": "--atoms--276",
           "positions": [
            [
             2.160249860083158,
             -2.318130697985906,
             18.287947067219246
            ]
           ],
           "radius": 0.5,
           "tooltip": "O2- (2.160, -2.318, 18.288)",
           "type": "spheres"
          },
          {
           "clickable": true,
           "color": "#f0c8a0",
           "id": "--atoms--277",
           "positions": [
            [
             1.9334873266323696,
             -1.933487326632384,
             9.527009015491736
            ]
           ],
           "radius": 0.5,
           "tooltip": "Si (1.933, -1.933, 9.527)",
           "type": "spheres"
          },
          {
           "clickable": true,
           "color": "#ff0d0d",
           "id": "--atoms--278",
           "positions": [
            [
             1.9988564780384301,
             28.04735004648765,
             16.22422717397134
            ]
           ],
           "radius": 0.5,
           "tooltip": "O2- (1.999, 28.047, 16.224)",
           "type": "spheres"
          },
          {
           "clickable": true,
           "color": "#f0c8a0",
           "id": "--atoms--279",
           "positions": [
            [
             5.800461979897114,
             54.137645145706436,
             10.894191015491739
            ]
           ],
           "radius": 0.5,
           "tooltip": "Si (5.800, 54.138, 10.894)",
           "type": "spheres"
          },
          {
           "clickable": true,
           "color": "#f0c8a0",
           "id": "--atoms--280",
           "positions": [
            [
             3.8669746532647427,
             9.667436633161861,
             13.628555015491735
            ]
           ],
           "radius": 0.5,
           "tooltip": "Si (3.867, 9.667, 13.629)",
           "type": "spheres"
          },
          {
           "clickable": true,
           "color": "#ff8000",
           "id": "--atoms--281",
           "positions": [
            [
             1.2072106151548552,
             52.20015619071792,
             17.139005515595517
            ]
           ],
           "radius": 0.5,
           "tooltip": "P5+ (1.207, 52.200, 17.139)",
           "type": "spheres"
          },
          {
           "clickable": true,
           "color": "#ff0d0d",
           "id": "--atoms--282",
           "positions": [
            [
             3.8307160729862604,
             14.519560076110695,
             16.583195198763963
            ]
           ],
           "radius": 0.5,
           "tooltip": "O2- (3.831, 14.520, 16.583)",
           "type": "spheres"
          },
          {
           "clickable": true,
           "color": "#ff0d0d",
           "id": "--atoms--283",
           "positions": [
            [
             6.80061944400085,
             8.50939833115537,
             18.287947067219246
            ]
           ],
           "radius": 0.5,
           "tooltip": "O2- (6.801, 8.509, 18.288)",
           "type": "spheres"
          },
          {
           "clickable": true,
           "color": "#f0c8a0",
           "id": "--atoms--284",
           "positions": [
            [
             1.9334873266323664,
             17.40138593969135,
             9.527009015491737
            ]
           ],
           "radius": 0.5,
           "tooltip": "Si (1.933, 17.401, 9.527)",
           "type": "spheres"
          },
          {
           "clickable": true,
           "color": "#cc80ff",
           "id": "--atoms--285",
           "positions": [
            [
             2.5855434909328103,
             29.226412215823267,
             17.9757464873555
            ]
           ],
           "radius": 0.5,
           "tooltip": "Li+ (2.586, 29.226, 17.976)",
           "type": "spheres"
          },
          {
           "clickable": true,
           "color": "#ff0d0d",
           "id": "--atoms--286",
           "positions": [
            [
             0.23028432348623198,
             31.638382752570326,
             16.203099798789648
            ]
           ],
           "radius": 0.5,
           "tooltip": "O2- (0.230, 31.638, 16.203)",
           "type": "spheres"
          },
          {
           "clickable": true,
           "color": "#f0c8a0",
           "id": "--atoms--287",
           "positions": [
            [
             -1.2079569608985595e-14,
             29.00230989948559,
             13.628555015491736
            ]
           ],
           "radius": 0.5,
           "tooltip": "Si (-0.000, 29.002, 13.629)",
           "type": "spheres"
          },
          {
           "clickable": true,
           "color": "#f0c8a0",
           "id": "--atoms--288",
           "positions": [
            [
             7.733949306529488,
             19.334873266323722,
             12.261373015491733
            ]
           ],
           "radius": 0.5,
           "tooltip": "Si (7.734, 19.335, 12.261)",
           "type": "spheres"
          },
          {
           "clickable": true,
           "color": "#f0c8a0",
           "id": "--atoms--289",
           "positions": [
            [
             3.866974653264745,
             7.733949306529489,
             12.261373015491735
            ]
           ],
           "radius": 0.5,
           "tooltip": "Si (3.867, 7.734, 12.261)",
           "type": "spheres"
          },
          {
           "clickable": true,
           "color": "#f0c8a0",
           "id": "--atoms--290",
           "positions": [
            [
             3.8669746532647356,
             50.270670492441695,
             12.261373015491738
            ]
           ],
           "radius": 0.5,
           "tooltip": "Si (3.867, 50.271, 12.261)",
           "type": "spheres"
          },
          {
           "clickable": true,
           "color": "#ff0d0d",
           "id": "--atoms--291",
           "positions": [
            [
             3.672894461360764,
             54.41461816848294,
             18.229562209064948
            ]
           ],
           "radius": 0.5,
           "tooltip": "O2- (3.673, 54.415, 18.230)",
           "type": "spheres"
          },
          {
           "clickable": true,
           "color": "#f0c8a0",
           "id": "--atoms--292",
           "positions": [
            [
             7.733949306529491,
             3.8669746532647435,
             12.261373015491735
            ]
           ],
           "radius": 0.5,
           "tooltip": "Si (7.734, 3.867, 12.261)",
           "type": "spheres"
          },
          {
           "clickable": true,
           "color": "#ff0d0d",
           "id": "--atoms--293",
           "positions": [
            [
             2.07869333017794,
             23.453817881164092,
             17.672719311594825
            ]
           ],
           "radius": 0.5,
           "tooltip": "O2- (2.079, 23.454, 17.673)",
           "type": "spheres"
          },
          {
           "clickable": true,
           "color": "#f0c8a0",
           "id": "--atoms--294",
           "positions": [
            [
             5.800461979897114,
             36.73625920601507,
             9.527009015491737
            ]
           ],
           "radius": 0.5,
           "tooltip": "Si (5.800, 36.736, 9.527)",
           "type": "spheres"
          },
          {
           "clickable": true,
           "color": "#f0c8a0",
           "id": "--atoms--295",
           "positions": [
            [
             1.9334873266323662,
             23.20184791958847,
             10.894191015491737
            ]
           ],
           "radius": 0.5,
           "tooltip": "Si (1.933, 23.202, 10.894)",
           "type": "spheres"
          },
          {
           "clickable": true,
           "color": "#e06633",
           "id": "--atoms--296",
           "positions": [
            [
             3.753479374210103,
             -0.20912263738082337,
             16.01373931117287
            ]
           ],
           "radius": 0.5,
           "tooltip": "Fe2+ (3.753, -0.209, 16.014)",
           "type": "spheres"
          },
          {
           "clickable": true,
           "color": "#ff8000",
           "id": "--atoms--297",
           "positions": [
            [
             0.14398256361924117,
             3.273624877047438,
             17.718265633004023
            ]
           ],
           "radius": 0.5,
           "tooltip": "P5+ (0.144, 3.274, 17.718)",
           "type": "spheres"
          },
          {
           "clickable": true,
           "color": "#ff8000",
           "id": "--atoms--298",
           "positions": [
            [
             4.300790337766645,
             41.37262716157664,
             17.13900551559551
            ]
           ],
           "radius": 0.5,
           "tooltip": "P5+ (4.301, 41.373, 17.139)",
           "type": "spheres"
          },
          {
           "clickable": true,
           "color": "#f0c8a0",
           "id": "--atoms--299",
           "positions": [
            [
             3.866974653264725,
             52.204157819074055,
             13.628555015491738
            ]
           ],
           "radius": 0.5,
           "tooltip": "Si (3.867, 52.204, 13.629)",
           "type": "spheres"
          },
          {
           "clickable": true,
           "color": "#f0c8a0",
           "id": "--atoms--300",
           "positions": [
            [
             7.733949306529481,
             40.60323385927982,
             13.628555015491738
            ]
           ],
           "radius": 0.5,
           "tooltip": "Si (7.734, 40.603, 13.629)",
           "type": "spheres"
          },
          {
           "clickable": true,
           "color": "#f0c8a0",
           "id": "--atoms--301",
           "positions": [
            [
             5.800461979897112,
             42.53672118591219,
             10.89419101549174
            ]
           ],
           "radius": 0.5,
           "tooltip": "Si (5.800, 42.537, 10.894)",
           "type": "spheres"
          },
          {
           "clickable": true,
           "color": "#f0c8a0",
           "id": "--atoms--302",
           "positions": [
            [
             7.7339493065294835,
             30.935797226117963,
             12.261373015491737
            ]
           ],
           "radius": 0.5,
           "tooltip": "Si (7.734, 30.936, 12.261)",
           "type": "spheres"
          },
          {
           "clickable": true,
           "color": "#ff8000",
           "id": "--atoms--303",
           "positions": [
            [
             5.027104418246386,
             55.17919955459907,
             18.23322734170698
            ]
           ],
           "radius": 0.5,
           "tooltip": "P5+ (5.027, 55.179, 18.233)",
           "type": "spheres"
          },
          {
           "clickable": true,
           "color": "#cc80ff",
           "id": "--atoms--304",
           "positions": [
            [
             6.528334915332974,
             51.49792445781156,
             16.213663486380494
            ]
           ],
           "radius": 0.5,
           "tooltip": "Li+ (6.528, 51.498, 16.214)",
           "type": "spheres"
          },
          {
           "clickable": true,
           "color": "#e06633",
           "id": "--atoms--305",
           "positions": [
            [
             1.4235971623224084,
             22.05954019608136,
             16.23912029949558
            ]
           ],
           "radius": 0.5,
           "tooltip": "Fe2+ (1.424, 22.060, 16.239)",
           "type": "spheres"
          },
          {
           "clickable": true,
           "color": "#f0c8a0",
           "id": "--atoms--306",
           "positions": [
            [
             5.800461979897118,
             5.800461979897117,
             9.527009015491734
            ]
           ],
           "radius": 0.5,
           "tooltip": "Si (5.800, 5.800, 9.527)",
           "type": "spheres"
          },
          {
           "clickable": true,
           "color": "#f0c8a0",
           "id": "--atoms--307",
           "positions": [
            [
             5.800461979897109,
             48.337183165809314,
             9.527009015491739
            ]
           ],
           "radius": 0.5,
           "tooltip": "Si (5.800, 48.337, 9.527)",
           "type": "spheres"
          },
          {
           "clickable": true,
           "color": "#ff0d0d",
           "id": "--atoms--308",
           "positions": [
            [
             2.2459575916754826,
             16.48746604965376,
             18.31760292412566
            ]
           ],
           "radius": 0.5,
           "tooltip": "O2- (2.246, 16.487, 18.318)",
           "type": "spheres"
          },
          {
           "clickable": true,
           "color": "#ff0d0d",
           "id": "--atoms--309",
           "positions": [
            [
             4.471919251496044,
             9.482771294568899,
             17.63389005058534
            ]
           ],
           "radius": 0.5,
           "tooltip": "O2- (4.472, 9.483, 17.634)",
           "type": "spheres"
          },
          {
           "clickable": true,
           "color": "#e06633",
           "id": "--atoms--310",
           "positions": [
            [
             3.8991233618140586,
             26.798663573835327,
             16.18820667326541
            ]
           ],
           "radius": 0.5,
           "tooltip": "Fe2+ (3.899, 26.799, 16.188)",
           "type": "spheres"
          },
          {
           "clickable": true,
           "color": "#f0c8a0",
           "id": "--atoms--311",
           "positions": [
            [
             3.866974653264742,
             21.268360592956096,
             13.628555015491733
            ]
           ],
           "radius": 0.5,
           "tooltip": "Si (3.867, 21.268, 13.629)",
           "type": "spheres"
          },
          {
           "clickable": true,
           "color": "#f0c8a0",
           "id": "--atoms--312",
           "positions": [
            [
             7.733949306529489,
             9.667436633161861,
             13.628555015491736
            ]
           ],
           "radius": 0.5,
           "tooltip": "Si (7.734, 9.667, 13.629)",
           "type": "spheres"
          },
          {
           "clickable": true,
           "color": "#ff0d0d",
           "id": "--atoms--313",
           "positions": [
            [
             0.7371363503744551,
             25.347089105251992,
             16.58319519876396
            ]
           ],
           "radius": 0.5,
           "tooltip": "O2- (0.737, 25.347, 16.583)",
           "type": "spheres"
          },
          {
           "clickable": true,
           "color": "#f0c8a0",
           "id": "--atoms--314",
           "positions": [
            [
             5.800461979897116,
             11.600923959794235,
             10.894191015491739
            ]
           ],
           "radius": 0.5,
           "tooltip": "Si (5.800, 11.601, 10.894)",
           "type": "spheres"
          },
          {
           "clickable": true,
           "color": "#cc80ff",
           "id": "--atoms--315",
           "positions": [
            [
             1.8879653314152802,
             40.67039542867028,
             16.213663486380497
            ]
           ],
           "radius": 0.5,
           "tooltip": "Li+ (1.888, 40.670, 16.214)",
           "type": "spheres"
          },
          {
           "clickable": true,
           "color": "#cc80ff",
           "id": "--atoms--316",
           "positions": [
            [
             7.225913074850509,
             12.985118672111328,
             17.975746487355497
            ]
           ],
           "radius": 0.5,
           "tooltip": "Li+ (7.226, 12.985, 17.976)",
           "type": "spheres"
          },
          {
           "clickable": true,
           "color": "#f0c8a0",
           "id": "--atoms--317",
           "positions": [
            [
             3.8669746532647404,
             19.334873266323726,
             12.261373015491733
            ]
           ],
           "radius": 0.5,
           "tooltip": "Si (3.867, 19.335, 12.261)",
           "type": "spheres"
          },
          {
           "clickable": true,
           "color": "#f0c8a0",
           "id": "--atoms--318",
           "positions": [
            [
             1.933487326632369,
             29.00230989948559,
             9.527009015491736
            ]
           ],
           "radius": 0.5,
           "tooltip": "Si (1.933, 29.002, 9.527)",
           "type": "spheres"
          },
          {
           "clickable": true,
           "color": "#f0c8a0",
           "id": "--atoms--319",
           "positions": [
            [
             -4.855266876008506e-15,
             23.201847919588474,
             12.261373015491737
            ]
           ],
           "radius": 0.5,
           "tooltip": "Si (-0.000, 23.202, 12.261)",
           "type": "spheres"
          },
          {
           "clickable": true,
           "color": "#ff0d0d",
           "id": "--atoms--320",
           "positions": [
            [
             3.9546250643160503,
             40.20540233488069,
             16.214095196715732
            ]
           ],
           "radius": 0.5,
           "tooltip": "O2- (3.955, 40.205, 16.214)",
           "type": "spheres"
          },
          {
           "clickable": true,
           "color": "#ff0d0d",
           "id": "--atoms--321",
           "positions": [
            [
             6.719062914095629,
             34.28134691030539,
             17.67271931159483
            ]
           ],
           "radius": 0.5,
           "tooltip": "O2- (6.719, 34.281, 17.673)",
           "type": "spheres"
          },
          {
           "clickable": true,
           "color": "#e06633",
           "id": "--atoms--322",
           "positions": [
            [
             0.6598996515983074,
             10.61840639176046,
             16.013739311172866
            ]
           ],
           "radius": 0.5,
           "tooltip": "Fe2+ (0.660, 10.618, 16.014)",
           "type": "spheres"
          }
         ],
         "id": "--atoms",
         "name": "atoms",
         "origin": [
          -3.8669746532647435,
          -27.068822572853218,
          -14.642739221811881
         ],
         "visible": true
        },
        {
         "contents": [],
         "id": "--bonds",
         "name": "bonds",
         "origin": [
          -3.8669746532647435,
          -27.068822572853218,
          -14.642739221811881
         ],
         "visible": true
        },
        {
         "contents": [],
         "id": "--polyhedra",
         "name": "polyhedra",
         "origin": [
          -3.8669746532647435,
          -27.068822572853218,
          -14.642739221811881
         ],
         "visible": true
        },
        {
         "contents": [
          {
           "contents": [
            {
             "clickable": false,
             "id": "--unit_cell--a=7.733949306529491, b=54.137645145706436, c=29.28547844362376, alpha=90.0, beta=90.0, gamma=90.0--0",
             "positions": [
              [
               0,
               0,
               0
              ],
              [
               7.733949306529491,
               0,
               4.735678131504616e-16
              ],
              [
               0,
               0,
               0
              ],
              [
               -3.3149746920532316e-15,
               54.137645145706436,
               3.3149746920532316e-15
              ],
              [
               0,
               0,
               0
              ],
              [
               0,
               0,
               29.28547844362376
              ],
              [
               7.733949306529491,
               0,
               4.735678131504616e-16
              ],
              [
               7.733949306529487,
               54.137645145706436,
               3.7885425052036935e-15
              ],
              [
               7.733949306529491,
               0,
               4.735678131504616e-16
              ],
              [
               7.733949306529491,
               0,
               29.28547844362376
              ],
              [
               -3.3149746920532316e-15,
               54.137645145706436,
               3.3149746920532316e-15
              ],
              [
               7.733949306529487,
               54.137645145706436,
               3.7885425052036935e-15
              ],
              [
               -3.3149746920532316e-15,
               54.137645145706436,
               3.3149746920532316e-15
              ],
              [
               -3.3149746920532316e-15,
               54.137645145706436,
               29.285478443623763
              ],
              [
               0,
               0,
               29.28547844362376
              ],
              [
               7.733949306529491,
               0,
               29.28547844362376
              ],
              [
               0,
               0,
               29.28547844362376
              ],
              [
               -3.3149746920532316e-15,
               54.137645145706436,
               29.285478443623763
              ],
              [
               7.733949306529487,
               54.137645145706436,
               3.7885425052036935e-15
              ],
              [
               7.733949306529487,
               54.137645145706436,
               29.285478443623763
              ],
              [
               7.733949306529491,
               0,
               29.28547844362376
              ],
              [
               7.733949306529487,
               54.137645145706436,
               29.285478443623763
              ],
              [
               -3.3149746920532316e-15,
               54.137645145706436,
               29.285478443623763
              ],
              [
               7.733949306529487,
               54.137645145706436,
               29.285478443623763
              ]
             ],
             "type": "lines"
            }
           ],
           "id": "--unit_cell--a=7.733949306529491, b=54.137645145706436, c=29.28547844362376, alpha=90.0, beta=90.0, gamma=90.0",
           "name": "a=7.733949306529491, b=54.137645145706436, c=29.28547844362376, alpha=90.0, beta=90.0, gamma=90.0",
           "visible": true
          }
         ],
         "id": "--unit_cell",
         "name": "unit_cell",
         "origin": [
          -3.8669746532647435,
          -27.068822572853218,
          -14.642739221811881
         ],
         "visible": true
        }
       ],
       "name": "Structure",
       "origin": [
        -3.8669746532647435,
        -27.068822572853218,
        -14.642739221811881
       ],
       "visible": true
      },
      "text/plain": [
       "If you see this text, the Crystal Toolkit Jupyter Lab \n",
       "\n",
       "extension is not installed. You can install it by running \n",
       "\n",
       "\"pip install crystaltoolkit-extension\" \n",
       "\n",
       "from the same environment you run \"jupyter lab\". \n",
       "\n",
       "This only works in Jupyter Lab 3.x or above.\n",
       "\n",
       "\n",
       "Structure Summary\n",
       "Lattice\n",
       "    abc : 7.733949306529491 54.137645145706436 29.28547844362376\n",
       " angles : 90.0 90.0 90.0\n",
       " volume : 12261.765488008248\n",
       "      A : 7.733949306529491 0.0 4.735678131504616e-16\n",
       "      B : -3.3149746920532316e-15 54.137645145706436 3.3149746920532316e-15\n",
       "      C : 0.0 0.0 29.28547844362376\n",
       "PeriodicSite: Li+ (4.1323, 50.8815, 17.9757) [0.5343, 0.9399, 0.6138]\n",
       "PeriodicSite: Li+ (5.6791, 18.3989, 17.9757) [0.7343, 0.3399, 0.6138]\n",
       "PeriodicSite: Li+ (1.0388, 7.5714, 17.9757) [0.1343, 0.1399, 0.6138]\n",
       "PeriodicSite: Li+ (7.2259, 40.0539, 17.9757) [0.9343, 0.7399, 0.6138]\n",
       "PeriodicSite: Li+ (2.5855, 29.2264, 17.9757) [0.3343, 0.5399, 0.6138]\n",
       "PeriodicSite: Li+ (2.5855, 2.1576, 17.9757) [0.3343, 0.0399, 0.6138]\n",
       "PeriodicSite: Li+ (4.1323, 23.8126, 17.9757) [0.5343, 0.4399, 0.6138]\n",
       "PeriodicSite: Li+ (7.2259, 12.9851, 17.9757) [0.9343, 0.2399, 0.6138]\n",
       "PeriodicSite: Li+ (5.6791, 45.4677, 17.9757) [0.7343, 0.8399, 0.6138]\n",
       "PeriodicSite: Li+ (1.0388, 34.6402, 17.9757) [0.1343, 0.6399, 0.6138]\n",
       "PeriodicSite: Li+ (4.9815, 2.7740, 16.2137) [0.6441, 0.0512, 0.5536]\n",
       "PeriodicSite: Li+ (6.5283, 24.4291, 16.2137) [0.8441, 0.4512, 0.5536]\n",
       "PeriodicSite: Li+ (1.8880, 13.6016, 16.2137) [0.2441, 0.2512, 0.5536]\n",
       "PeriodicSite: Li+ (0.3412, 46.0842, 16.2137) [0.0441, 0.8512, 0.5536]\n",
       "PeriodicSite: Li+ (3.4348, 35.2566, 16.2137) [0.4441, 0.6512, 0.5536]\n",
       "PeriodicSite: Li+ (6.5283, 51.4979, 16.2137) [0.8441, 0.9512, 0.5536]\n",
       "PeriodicSite: Li+ (0.3412, 19.0153, 16.2137) [0.0441, 0.3512, 0.5536]\n",
       "PeriodicSite: Li+ (3.4348, 8.1878, 16.2137) [0.4441, 0.1512, 0.5536]\n",
       "PeriodicSite: Li+ (1.8880, 40.6704, 16.2137) [0.2441, 0.7512, 0.5536]\n",
       "PeriodicSite: Li+ (4.9815, 29.8429, 16.2137) [0.6441, 0.5512, 0.5536]\n",
       "PeriodicSite: Fe2+ (1.5692, 49.0673, 16.4136) [0.2029, 0.9063, 0.5605]\n",
       "PeriodicSite: Fe2+ (3.1160, 16.5847, 16.4136) [0.4029, 0.3063, 0.5605]\n",
       "PeriodicSite: Fe2+ (6.2096, 5.7572, 16.4136) [0.8029, 0.1063, 0.5605]\n",
       "PeriodicSite: Fe2+ (4.6628, 38.2398, 16.4136) [0.6029, 0.7063, 0.5605]\n",
       "PeriodicSite: Fe2+ (0.0225, 27.4123, 16.4136) [0.0029, 0.5063, 0.5605]\n",
       "PeriodicSite: Fe2+ (7.6108, 0.4045, 16.2391) [0.9841, 0.0075, 0.5545]\n",
       "PeriodicSite: Fe2+ (1.4236, 22.0595, 16.2391) [0.1841, 0.4075, 0.5545]\n",
       "PeriodicSite: Fe2+ (4.5172, 11.2320, 16.2391) [0.5841, 0.2075, 0.5545]\n",
       "PeriodicSite: Fe2+ (2.9704, 43.7146, 16.2391) [0.3841, 0.8075, 0.5545]\n",
       "PeriodicSite: Fe2+ (6.0640, 32.8871, 16.2391) [0.7841, 0.6075, 0.5545]\n",
       "PeriodicSite: Fe2+ (5.4459, 48.4537, 16.1882) [0.7042, 0.8950, 0.5528]\n",
       "PeriodicSite: Fe2+ (6.9927, 15.9711, 16.1882) [0.9042, 0.2950, 0.5528]\n",
       "PeriodicSite: Fe2+ (2.3523, 5.1436, 16.1882) [0.3042, 0.0950, 0.5528]\n",
       "PeriodicSite: Fe2+ (0.8055, 37.6262, 16.1882) [0.1042, 0.6950, 0.5528]\n",
       "PeriodicSite: Fe2+ (3.8991, 26.7987, 16.1882) [0.5042, 0.4950, 0.5528]\n",
       "PeriodicSite: Fe2+ (3.7535, 53.9285, 16.0137) [0.4853, 0.9961, 0.5468]\n",
       "PeriodicSite: Fe2+ (5.3003, 21.4459, 16.0137) [0.6853, 0.3961, 0.5468]\n",
       "PeriodicSite: Fe2+ (0.6599, 10.6184, 16.0137) [0.0853, 0.1961, 0.5468]\n",
       "PeriodicSite: Fe2+ (6.8471, 43.1010, 16.0137) [0.8853, 0.7961, 0.5468]\n",
       "PeriodicSite: Fe2+ (2.2067, 32.2735, 16.0137) [0.2853, 0.5961, 0.5468]\n",
       "PeriodicSite: Si (3.8670, 1.9335, 13.6286) [0.5000, 0.0357, 0.4654]\n",
       "PeriodicSite: Si (3.8670, 5.8005, 13.6286) [0.5000, 0.1071, 0.4654]\n",
       "PeriodicSite: Si (3.8670, 9.6674, 13.6286) [0.5000, 0.1786, 0.4654]\n",
       "PeriodicSite: Si (3.8670, 13.5344, 13.6286) [0.5000, 0.2500, 0.4654]\n",
       "PeriodicSite: Si (3.8670, 17.4014, 13.6286) [0.5000, 0.3214, 0.4654]\n",
       "PeriodicSite: Si (3.8670, 21.2684, 13.6286) [0.5000, 0.3929, 0.4654]\n",
       "PeriodicSite: Si (3.8670, 25.1353, 13.6286) [0.5000, 0.4643, 0.4654]\n",
       "PeriodicSite: Si (3.8670, 29.0023, 13.6286) [0.5000, 0.5357, 0.4654]\n",
       "PeriodicSite: Si (3.8670, 32.8693, 13.6286) [0.5000, 0.6071, 0.4654]\n",
       "PeriodicSite: Si (3.8670, 36.7363, 13.6286) [0.5000, 0.6786, 0.4654]\n",
       "PeriodicSite: Si (3.8670, 40.6032, 13.6286) [0.5000, 0.7500, 0.4654]\n",
       "PeriodicSite: Si (3.8670, 44.4702, 13.6286) [0.5000, 0.8214, 0.4654]\n",
       "PeriodicSite: Si (3.8670, 48.3372, 13.6286) [0.5000, 0.8929, 0.4654]\n",
       "PeriodicSite: Si (3.8670, 52.2042, 13.6286) [0.5000, 0.9643, 0.4654]\n",
       "PeriodicSite: Si (7.7339, 1.9335, 13.6286) [1.0000, 0.0357, 0.4654]\n",
       "PeriodicSite: Si (7.7339, 5.8005, 13.6286) [1.0000, 0.1071, 0.4654]\n",
       "PeriodicSite: Si (7.7339, 9.6674, 13.6286) [1.0000, 0.1786, 0.4654]\n",
       "PeriodicSite: Si (7.7339, 13.5344, 13.6286) [1.0000, 0.2500, 0.4654]\n",
       "PeriodicSite: Si (7.7339, 17.4014, 13.6286) [1.0000, 0.3214, 0.4654]\n",
       "PeriodicSite: Si (7.7339, 21.2684, 13.6286) [1.0000, 0.3929, 0.4654]\n",
       "PeriodicSite: Si (7.7339, 25.1353, 13.6286) [1.0000, 0.4643, 0.4654]\n",
       "PeriodicSite: Si (7.7339, 29.0023, 13.6286) [1.0000, 0.5357, 0.4654]\n",
       "PeriodicSite: Si (7.7339, 32.8693, 13.6286) [1.0000, 0.6071, 0.4654]\n",
       "PeriodicSite: Si (7.7339, 36.7363, 13.6286) [1.0000, 0.6786, 0.4654]\n",
       "PeriodicSite: Si (7.7339, 40.6032, 13.6286) [1.0000, 0.7500, 0.4654]\n",
       "PeriodicSite: Si (7.7339, 44.4702, 13.6286) [1.0000, 0.8214, 0.4654]\n",
       "PeriodicSite: Si (7.7339, 48.3372, 13.6286) [1.0000, 0.8929, 0.4654]\n",
       "PeriodicSite: Si (7.7339, 52.2042, 13.6286) [1.0000, 0.9643, 0.4654]\n",
       "PeriodicSite: Si (1.9335, 1.9335, 9.5270) [0.2500, 0.0357, 0.3253]\n",
       "PeriodicSite: Si (1.9335, 5.8005, 9.5270) [0.2500, 0.1071, 0.3253]\n",
       "PeriodicSite: Si (1.9335, 9.6674, 9.5270) [0.2500, 0.1786, 0.3253]\n",
       "PeriodicSite: Si (1.9335, 13.5344, 9.5270) [0.2500, 0.2500, 0.3253]\n",
       "PeriodicSite: Si (1.9335, 17.4014, 9.5270) [0.2500, 0.3214, 0.3253]\n",
       "PeriodicSite: Si (1.9335, 21.2684, 9.5270) [0.2500, 0.3929, 0.3253]\n",
       "PeriodicSite: Si (1.9335, 25.1353, 9.5270) [0.2500, 0.4643, 0.3253]\n",
       "PeriodicSite: Si (1.9335, 29.0023, 9.5270) [0.2500, 0.5357, 0.3253]\n",
       "PeriodicSite: Si (1.9335, 32.8693, 9.5270) [0.2500, 0.6071, 0.3253]\n",
       "PeriodicSite: Si (1.9335, 36.7363, 9.5270) [0.2500, 0.6786, 0.3253]\n",
       "PeriodicSite: Si (1.9335, 40.6032, 9.5270) [0.2500, 0.7500, 0.3253]\n",
       "PeriodicSite: Si (1.9335, 44.4702, 9.5270) [0.2500, 0.8214, 0.3253]\n",
       "PeriodicSite: Si (1.9335, 48.3372, 9.5270) [0.2500, 0.8929, 0.3253]\n",
       "PeriodicSite: Si (1.9335, 52.2042, 9.5270) [0.2500, 0.9643, 0.3253]\n",
       "PeriodicSite: Si (5.8005, 1.9335, 9.5270) [0.7500, 0.0357, 0.3253]\n",
       "PeriodicSite: Si (5.8005, 5.8005, 9.5270) [0.7500, 0.1071, 0.3253]\n",
       "PeriodicSite: Si (5.8005, 9.6674, 9.5270) [0.7500, 0.1786, 0.3253]\n",
       "PeriodicSite: Si (5.8005, 13.5344, 9.5270) [0.7500, 0.2500, 0.3253]\n",
       "PeriodicSite: Si (5.8005, 17.4014, 9.5270) [0.7500, 0.3214, 0.3253]\n",
       "PeriodicSite: Si (5.8005, 21.2684, 9.5270) [0.7500, 0.3929, 0.3253]\n",
       "PeriodicSite: Si (5.8005, 25.1353, 9.5270) [0.7500, 0.4643, 0.3253]\n",
       "PeriodicSite: Si (5.8005, 29.0023, 9.5270) [0.7500, 0.5357, 0.3253]\n",
       "PeriodicSite: Si (5.8005, 32.8693, 9.5270) [0.7500, 0.6071, 0.3253]\n",
       "PeriodicSite: Si (5.8005, 36.7363, 9.5270) [0.7500, 0.6786, 0.3253]\n",
       "PeriodicSite: Si (5.8005, 40.6032, 9.5270) [0.7500, 0.7500, 0.3253]\n",
       "PeriodicSite: Si (5.8005, 44.4702, 9.5270) [0.7500, 0.8214, 0.3253]\n",
       "PeriodicSite: Si (5.8005, 48.3372, 9.5270) [0.7500, 0.8929, 0.3253]\n",
       "PeriodicSite: Si (5.8005, 52.2042, 9.5270) [0.7500, 0.9643, 0.3253]\n",
       "PeriodicSite: Si (1.9335, 0.0000, 10.8942) [0.2500, 0.0000, 0.3720]\n",
       "PeriodicSite: Si (1.9335, 3.8670, 10.8942) [0.2500, 0.0714, 0.3720]\n",
       "PeriodicSite: Si (1.9335, 7.7339, 10.8942) [0.2500, 0.1429, 0.3720]\n",
       "PeriodicSite: Si (1.9335, 11.6009, 10.8942) [0.2500, 0.2143, 0.3720]\n",
       "PeriodicSite: Si (1.9335, 15.4679, 10.8942) [0.2500, 0.2857, 0.3720]\n",
       "PeriodicSite: Si (1.9335, 19.3349, 10.8942) [0.2500, 0.3571, 0.3720]\n",
       "PeriodicSite: Si (1.9335, 23.2018, 10.8942) [0.2500, 0.4286, 0.3720]\n",
       "PeriodicSite: Si (1.9335, 27.0688, 10.8942) [0.2500, 0.5000, 0.3720]\n",
       "PeriodicSite: Si (1.9335, 30.9358, 10.8942) [0.2500, 0.5714, 0.3720]\n",
       "PeriodicSite: Si (1.9335, 34.8028, 10.8942) [0.2500, 0.6429, 0.3720]\n",
       "PeriodicSite: Si (1.9335, 38.6697, 10.8942) [0.2500, 0.7143, 0.3720]\n",
       "PeriodicSite: Si (1.9335, 42.5367, 10.8942) [0.2500, 0.7857, 0.3720]\n",
       "PeriodicSite: Si (1.9335, 46.4037, 10.8942) [0.2500, 0.8571, 0.3720]\n",
       "PeriodicSite: Si (1.9335, 50.2707, 10.8942) [0.2500, 0.9286, 0.3720]\n",
       "PeriodicSite: Si (5.8005, 54.1376, 10.8942) [0.7500, 1.0000, 0.3720]\n",
       "PeriodicSite: Si (5.8005, 3.8670, 10.8942) [0.7500, 0.0714, 0.3720]\n",
       "PeriodicSite: Si (5.8005, 7.7339, 10.8942) [0.7500, 0.1429, 0.3720]\n",
       "PeriodicSite: Si (5.8005, 11.6009, 10.8942) [0.7500, 0.2143, 0.3720]\n",
       "PeriodicSite: Si (5.8005, 15.4679, 10.8942) [0.7500, 0.2857, 0.3720]\n",
       "PeriodicSite: Si (5.8005, 19.3349, 10.8942) [0.7500, 0.3571, 0.3720]\n",
       "PeriodicSite: Si (5.8005, 23.2018, 10.8942) [0.7500, 0.4286, 0.3720]\n",
       "PeriodicSite: Si (5.8005, 27.0688, 10.8942) [0.7500, 0.5000, 0.3720]\n",
       "PeriodicSite: Si (5.8005, 30.9358, 10.8942) [0.7500, 0.5714, 0.3720]\n",
       "PeriodicSite: Si (5.8005, 34.8028, 10.8942) [0.7500, 0.6429, 0.3720]\n",
       "PeriodicSite: Si (5.8005, 38.6697, 10.8942) [0.7500, 0.7143, 0.3720]\n",
       "PeriodicSite: Si (5.8005, 42.5367, 10.8942) [0.7500, 0.7857, 0.3720]\n",
       "PeriodicSite: Si (5.8005, 46.4037, 10.8942) [0.7500, 0.8571, 0.3720]\n",
       "PeriodicSite: Si (5.8005, 50.2707, 10.8942) [0.7500, 0.9286, 0.3720]\n",
       "PeriodicSite: Si (-0.0000, 54.1376, 12.2614) [0.0000, 1.0000, 0.4187]\n",
       "PeriodicSite: Si (-0.0000, 3.8670, 12.2614) [0.0000, 0.0714, 0.4187]\n",
       "PeriodicSite: Si (7.7339, 7.7339, 12.2614) [1.0000, 0.1429, 0.4187]\n",
       "PeriodicSite: Si (7.7339, 11.6009, 12.2614) [1.0000, 0.2143, 0.4187]\n",
       "PeriodicSite: Si (7.7339, 15.4679, 12.2614) [1.0000, 0.2857, 0.4187]\n",
       "PeriodicSite: Si (7.7339, 19.3349, 12.2614) [1.0000, 0.3571, 0.4187]\n",
       "PeriodicSite: Si (7.7339, 23.2018, 12.2614) [1.0000, 0.4286, 0.4187]\n",
       "PeriodicSite: Si (7.7339, 27.0688, 12.2614) [1.0000, 0.5000, 0.4187]\n",
       "PeriodicSite: Si (7.7339, 30.9358, 12.2614) [1.0000, 0.5714, 0.4187]\n",
       "PeriodicSite: Si (7.7339, 34.8028, 12.2614) [1.0000, 0.6429, 0.4187]\n",
       "PeriodicSite: Si (7.7339, 38.6697, 12.2614) [1.0000, 0.7143, 0.4187]\n",
       "PeriodicSite: Si (7.7339, 42.5367, 12.2614) [1.0000, 0.7857, 0.4187]\n",
       "PeriodicSite: Si (7.7339, 46.4037, 12.2614) [1.0000, 0.8571, 0.4187]\n",
       "PeriodicSite: Si (7.7339, 50.2707, 12.2614) [1.0000, 0.9286, 0.4187]\n",
       "PeriodicSite: Si (3.8670, 0.0000, 12.2614) [0.5000, 0.0000, 0.4187]\n",
       "PeriodicSite: Si (3.8670, 3.8670, 12.2614) [0.5000, 0.0714, 0.4187]\n",
       "PeriodicSite: Si (3.8670, 7.7339, 12.2614) [0.5000, 0.1429, 0.4187]\n",
       "PeriodicSite: Si (3.8670, 11.6009, 12.2614) [0.5000, 0.2143, 0.4187]\n",
       "PeriodicSite: Si (3.8670, 15.4679, 12.2614) [0.5000, 0.2857, 0.4187]\n",
       "PeriodicSite: Si (3.8670, 19.3349, 12.2614) [0.5000, 0.3571, 0.4187]\n",
       "PeriodicSite: Si (3.8670, 23.2018, 12.2614) [0.5000, 0.4286, 0.4187]\n",
       "PeriodicSite: Si (3.8670, 27.0688, 12.2614) [0.5000, 0.5000, 0.4187]\n",
       "PeriodicSite: Si (3.8670, 30.9358, 12.2614) [0.5000, 0.5714, 0.4187]\n",
       "PeriodicSite: Si (3.8670, 34.8028, 12.2614) [0.5000, 0.6429, 0.4187]\n",
       "PeriodicSite: Si (3.8670, 38.6697, 12.2614) [0.5000, 0.7143, 0.4187]\n",
       "PeriodicSite: Si (3.8670, 42.5367, 12.2614) [0.5000, 0.7857, 0.4187]\n",
       "PeriodicSite: Si (3.8670, 46.4037, 12.2614) [0.5000, 0.8571, 0.4187]\n",
       "PeriodicSite: Si (3.8670, 50.2707, 12.2614) [0.5000, 0.9286, 0.4187]\n",
       "PeriodicSite: P5+ (7.0575, 49.5628, 18.8125) [0.9125, 0.9155, 0.6424]\n",
       "PeriodicSite: P5+ (0.8703, 17.0802, 18.8125) [0.1125, 0.3155, 0.6424]\n",
       "PeriodicSite: P5+ (3.9639, 6.2527, 18.8125) [0.5125, 0.1155, 0.6424]\n",
       "PeriodicSite: P5+ (2.4171, 38.7353, 18.8125) [0.3125, 0.7155, 0.6424]\n",
       "PeriodicSite: P5+ (5.5107, 27.9077, 18.8125) [0.7125, 0.5155, 0.6424]\n",
       "PeriodicSite: P5+ (3.2376, 46.5837, 17.7183) [0.4186, 0.8605, 0.6050]\n",
       "PeriodicSite: P5+ (4.7844, 14.1012, 17.7183) [0.6186, 0.2605, 0.6050]\n",
       "PeriodicSite: P5+ (0.1440, 3.2736, 17.7183) [0.0186, 0.0605, 0.6050]\n",
       "PeriodicSite: P5+ (6.3311, 35.7562, 17.7183) [0.8186, 0.6605, 0.6050]\n",
       "PeriodicSite: P5+ (1.6908, 24.9287, 17.7183) [0.2186, 0.4605, 0.6050]\n",
       "PeriodicSite: P5+ (5.0271, 1.0416, 18.2332) [0.6500, 0.0192, 0.6226]\n",
       "PeriodicSite: P5+ (6.5739, 22.6966, 18.2332) [0.8500, 0.4192, 0.6226]\n",
       "PeriodicSite: P5+ (1.9335, 11.8691, 18.2332) [0.2500, 0.2192, 0.6226]\n",
       "PeriodicSite: P5+ (0.3867, 44.3517, 18.2332) [0.0500, 0.8192, 0.6226]\n",
       "PeriodicSite: P5+ (3.4803, 33.5241, 18.2332) [0.4500, 0.6192, 0.6226]\n",
       "PeriodicSite: P5+ (1.2072, 52.2002, 17.1390) [0.1561, 0.9642, 0.5852]\n",
       "PeriodicSite: P5+ (2.7540, 19.7176, 17.1390) [0.3561, 0.3642, 0.5852]\n",
       "PeriodicSite: P5+ (5.8476, 8.8900, 17.1390) [0.7561, 0.1642, 0.5852]\n",
       "PeriodicSite: P5+ (4.3008, 41.3726, 17.1390) [0.5561, 0.7642, 0.5852]\n",
       "PeriodicSite: P5+ (7.3944, 30.5451, 17.1390) [0.9561, 0.5642, 0.5852]\n",
       "PeriodicSite: O2- (6.1044, 49.9434, 17.6635) [0.7893, 0.9225, 0.6032]\n",
       "PeriodicSite: O2- (7.6512, 17.4608, 17.6635) [0.9893, 0.3225, 0.6032]\n",
       "PeriodicSite: O2- (3.0108, 6.6333, 17.6635) [0.3893, 0.1225, 0.6032]\n",
       "PeriodicSite: O2- (1.4640, 39.1159, 17.6635) [0.1893, 0.7225, 0.6032]\n",
       "PeriodicSite: O2- (4.5576, 28.2884, 17.6635) [0.5893, 0.5225, 0.6032]\n",
       "PeriodicSite: O2- (2.2839, 47.0021, 16.5832) [0.2953, 0.8682, 0.5663]\n",
       "PeriodicSite: O2- (3.8307, 14.5196, 16.5832) [0.4953, 0.2682, 0.5663]\n",
       "PeriodicSite: O2- (6.9243, 3.6920, 16.5832) [0.8953, 0.0682, 0.5663]\n",
       "PeriodicSite: O2- (5.3775, 36.1746, 16.5832) [0.6953, 0.6682, 0.5663]\n",
       "PeriodicSite: O2- (0.7371, 25.3471, 16.5832) [0.0953, 0.4682, 0.5663]\n",
       "PeriodicSite: O2- (3.0388, 1.8561, 15.8441) [0.3929, 0.0343, 0.5410]\n",
       "PeriodicSite: O2- (4.5856, 23.5111, 15.8441) [0.5929, 0.4343, 0.5410]\n",
       "PeriodicSite: O2- (7.6792, 12.6836, 15.8441) [0.9929, 0.2343, 0.5410]\n",
       "PeriodicSite: O2- (6.1324, 45.1662, 15.8441) [0.7929, 0.8343, 0.5410]\n",
       "PeriodicSite: O2- (1.4920, 34.3386, 15.8441) [0.1929, 0.6343, 0.5410]\n",
       "PeriodicSite: O2- (2.1602, 51.8195, 18.2879) [0.2793, 0.9572, 0.6245]\n",
       "PeriodicSite: O2- (3.7070, 19.3369, 18.2879) [0.4793, 0.3572, 0.6245]\n",
       "PeriodicSite: O2- (6.8006, 8.5094, 18.2879) [0.8793, 0.1572, 0.6245]\n",
       "PeriodicSite: O2- (5.2538, 40.9920, 18.2879) [0.6793, 0.7572, 0.6245]\n",
       "PeriodicSite: O2- (0.6135, 30.1645, 18.2879) [0.0793, 0.5572, 0.6245]\n",
       "PeriodicSite: O2- (7.7328, 45.8265, 18.2788) [0.9998, 0.8465, 0.6242]\n",
       "PeriodicSite: O2- (1.5456, 13.3439, 18.2788) [0.1998, 0.2465, 0.6242]\n",
       "PeriodicSite: O2- (4.6392, 2.5164, 18.2788) [0.5998, 0.0465, 0.6242]\n",
       "PeriodicSite: O2- (3.0924, 34.9990, 18.2788) [0.3998, 0.6465, 0.6242]\n",
       "PeriodicSite: O2- (6.1860, 24.1715, 18.2788) [0.7998, 0.4465, 0.6242]\n",
       "PeriodicSite: O2- (0.8610, 51.0329, 16.2141) [0.1113, 0.9427, 0.5537]\n",
       "PeriodicSite: O2- (2.4078, 18.5503, 16.2141) [0.3113, 0.3427, 0.5537]\n",
       "PeriodicSite: O2- (5.5014, 7.7228, 16.2141) [0.7113, 0.1427, 0.5537]\n",
       "PeriodicSite: O2- (3.9546, 40.2054, 16.2141) [0.5113, 0.7427, 0.5537]\n",
       "PeriodicSite: O2- (7.0482, 29.3779, 16.2141) [0.9113, 0.5427, 0.5537]\n",
       "PeriodicSite: O2- (4.4617, 51.9629, 16.2132) [0.5769, 0.9598, 0.5536]\n",
       "PeriodicSite: O2- (6.0085, 19.4803, 16.2132) [0.7769, 0.3598, 0.5536]\n",
       "PeriodicSite: O2- (1.3681, 8.6528, 16.2132) [0.1769, 0.1598, 0.5536]\n",
       "PeriodicSite: O2- (7.5553, 41.1354, 16.2132) [0.9769, 0.7598, 0.5536]\n",
       "PeriodicSite: O2- (2.9149, 30.3079, 16.2132) [0.3769, 0.5598, 0.5536]\n",
       "PeriodicSite: O2- (0.5319, 1.7988, 17.6727) [0.0688, 0.0332, 0.6035]\n",
       "PeriodicSite: O2- (2.0787, 23.4538, 17.6727) [0.2688, 0.4332, 0.6035]\n",
       "PeriodicSite: O2- (5.1723, 12.6263, 17.6727) [0.6688, 0.2332, 0.6035]\n",
       "PeriodicSite: O2- (3.6255, 45.1089, 17.6727) [0.4688, 0.8332, 0.6035]\n",
       "PeriodicSite: O2- (6.7191, 34.2813, 17.6727) [0.8688, 0.6332, 0.6035]\n",
       "PeriodicSite: O2- (3.5456, 49.7024, 16.2242) [0.4585, 0.9181, 0.5540]\n",
       "PeriodicSite: O2- (5.0924, 17.2198, 16.2242) [0.6585, 0.3181, 0.5540]\n",
       "PeriodicSite: O2- (0.4521, 6.3923, 16.2242) [0.0585, 0.1181, 0.5540]\n",
       "PeriodicSite: O2- (6.6392, 38.8749, 16.2242) [0.8585, 0.7181, 0.5540]\n",
       "PeriodicSite: O2- (1.9989, 28.0474, 16.2242) [0.2585, 0.5181, 0.5540]\n",
       "PeriodicSite: O2- (4.5918, 47.3483, 17.7219) [0.5937, 0.8746, 0.6051]\n",
       "PeriodicSite: O2- (6.1386, 14.8657, 17.7219) [0.7937, 0.2746, 0.6051]\n",
       "PeriodicSite: O2- (1.4982, 4.0382, 17.7219) [0.1937, 0.0746, 0.6051]\n",
       "PeriodicSite: O2- (7.6854, 36.5208, 17.7219) [0.9937, 0.6746, 0.6051]\n",
       "PeriodicSite: O2- (3.0450, 25.6933, 17.7219) [0.3937, 0.4746, 0.6051]\n",
       "PeriodicSite: O2- (7.4383, 48.0807, 15.6286) [0.9618, 0.8881, 0.5337]\n",
       "PeriodicSite: O2- (1.2511, 15.5981, 15.6286) [0.1618, 0.2881, 0.5337]\n",
       "PeriodicSite: O2- (4.3447, 4.7706, 15.6286) [0.5618, 0.0881, 0.5337]\n",
       "PeriodicSite: O2- (2.7979, 37.2531, 15.6286) [0.3618, 0.6881, 0.5337]\n",
       "PeriodicSite: O2- (5.8915, 26.4256, 15.6286) [0.7618, 0.4881, 0.5337]\n",
       "PeriodicSite: O2- (0.6992, 48.9701, 18.3176) [0.0904, 0.9045, 0.6255]\n",
       "PeriodicSite: O2- (2.2460, 16.4875, 18.3176) [0.2904, 0.3045, 0.6255]\n",
       "PeriodicSite: O2- (5.3395, 5.6599, 18.3176) [0.6904, 0.1045, 0.6255]\n",
       "PeriodicSite: O2- (3.7927, 38.1425, 18.3176) [0.4904, 0.7045, 0.6255]\n",
       "PeriodicSite: O2- (6.8863, 27.3150, 18.3176) [0.8904, 0.5045, 0.6255]\n",
       "PeriodicSite: O2- (5.6184, 0.7775, 16.7988) [0.7265, 0.0144, 0.5736]\n",
       "PeriodicSite: O2- (7.1652, 22.4326, 16.7988) [0.9265, 0.4144, 0.5736]\n",
       "PeriodicSite: O2- (2.5248, 11.6051, 16.7988) [0.3265, 0.2144, 0.5736]\n",
       "PeriodicSite: O2- (0.9780, 44.0876, 16.7988) [0.1265, 0.8144, 0.5736]\n",
       "PeriodicSite: O2- (4.0716, 33.2601, 16.7988) [0.5265, 0.6144, 0.5736]\n",
       "PeriodicSite: O2- (7.5655, 52.7929, 17.6339) [0.9782, 0.9752, 0.6021]\n",
       "PeriodicSite: O2- (1.3783, 20.3103, 17.6339) [0.1782, 0.3752, 0.6021]\n",
       "PeriodicSite: O2- (4.4719, 9.4828, 17.6339) [0.5782, 0.1752, 0.6021]\n",
       "PeriodicSite: O2- (2.9251, 41.9654, 17.6339) [0.3782, 0.7752, 0.6021]\n",
       "PeriodicSite: O2- (6.0187, 31.1378, 17.6339) [0.7782, 0.5752, 0.6021]\n",
       "PeriodicSite: O2- (1.7771, 53.2934, 16.2031) [0.2298, 0.9844, 0.5533]\n",
       "PeriodicSite: O2- (3.3239, 20.8109, 16.2031) [0.4298, 0.3844, 0.5533]\n",
       "PeriodicSite: O2- (6.4174, 9.9833, 16.2031) [0.8298, 0.1844, 0.5533]\n",
       "PeriodicSite: O2- (4.8707, 42.4659, 16.2031) [0.6298, 0.7844, 0.5533]\n",
       "PeriodicSite: O2- (0.2303, 31.6384, 16.2031) [0.0298, 0.5844, 0.5533]\n",
       "PeriodicSite: O2- (3.6729, 0.2770, 18.2296) [0.4749, 0.0051, 0.6225]\n",
       "PeriodicSite: O2- (5.2197, 21.9320, 18.2296) [0.6749, 0.4051, 0.6225]\n",
       "PeriodicSite: O2- (0.5793, 11.1045, 18.2296) [0.0749, 0.2051, 0.6225]\n",
       "PeriodicSite: O2- (6.7665, 43.5871, 18.2296) [0.8749, 0.8051, 0.6225]\n",
       "PeriodicSite: O2- (2.1261, 32.7596, 18.2296) [0.2749, 0.6051, 0.6225]"
      ]
     },
     "metadata": {},
     "output_type": "display_data"
    }
   ],
   "source": [
    "interface = interfaces[0]\n",
    "# This just fixes the atomic coordinates so that structure looks nice in the 3D Viewer\n",
    "interface.translate_sites(range(len(interface)),[0,0,0]) \n",
    "interface"
   ]
  },
  {
   "cell_type": "markdown",
   "id": "73ece294-693e-453a-9cca-5f9c0e31e870",
   "metadata": {},
   "source": [
    "We can now look at this interface class to see what we can do with it by running:\n",
    "```\n",
    "help(interface)\n",
    "```\n",
    "\n",
    "Note we don't run it in this lesson notebook, since the output is very long. It's most useful if you do this in your own notebook. From this list we can see three interesting properties: `gap`, `in_plane_offset` and `vacuum_over_film`. Let's play with the gap and vacuum to seee what they do:"
   ]
  },
  {
   "cell_type": "code",
   "execution_count": 34,
   "id": "bf0c6af1-f57d-442d-9f12-fa4fda4d2c4f",
   "metadata": {},
   "outputs": [
    {
     "data": {
      "text/plain": [
       "2.0"
      ]
     },
     "execution_count": 34,
     "metadata": {},
     "output_type": "execute_result"
    }
   ],
   "source": [
    "interface.gap"
   ]
  },
  {
   "cell_type": "code",
   "execution_count": 36,
   "id": "73a6b897-30cb-4544-aaba-b57b4a346106",
   "metadata": {},
   "outputs": [],
   "source": [
    "interface.gap=5.0"
   ]
  },
  {
   "cell_type": "code",
   "execution_count": 37,
   "id": "83f55155-a13c-4256-a535-b2035abd8998",
   "metadata": {},
   "outputs": [
    {
     "data": {
      "application/vnd.mp.ctk+json": {
       "contents": [
        {
         "contents": [
          {
           "clickable": true,
           "color": "#ff8000",
           "id": "--atoms--0",
           "positions": [
            [
             5.027104418246391,
             1.0415544088926374,
             21.23322734170697
            ]
           ],
           "radius": 0.5,
           "tooltip": "P5+ (5.027, 1.042, 21.233)",
           "type": "spheres"
          },
          {
           "clickable": true,
           "color": "#ff0d0d",
           "id": "--atoms--1",
           "positions": [
            [
             7.651206705700168,
             17.460839013067286,
             20.663545907491745
            ]
           ],
           "radius": 0.5,
           "tooltip": "O2- (7.651, 17.461, 20.664)",
           "type": "spheres"
          },
          {
           "clickable": true,
           "color": "#f0c8a0",
           "id": "--atoms--2",
           "positions": [
            [
             5.800461979897116,
             -1.933487326632384,
             9.527009015491736
            ]
           ],
           "radius": 0.5,
           "tooltip": "Si (5.800, -1.933, 9.527)",
           "type": "spheres"
          },
          {
           "clickable": true,
           "color": "#f0c8a0",
           "id": "--atoms--3",
           "positions": [
            [
             3.866974653264741,
             56.0711324723388,
             13.628555015491738
            ]
           ],
           "radius": 0.5,
           "tooltip": "Si (3.867, 56.071, 13.629)",
           "type": "spheres"
          },
          {
           "clickable": true,
           "color": "#ff0d0d",
           "id": "--atoms--4",
           "positions": [
            [
             3.792747452981378,
             38.14252410793634,
             21.31760292412566
            ]
           ],
           "radius": 0.5,
           "tooltip": "O2- (3.793, 38.143, 21.318)",
           "type": "spheres"
          },
          {
           "clickable": true,
           "color": "#ff0d0d",
           "id": "--atoms--5",
           "positions": [
            [
             6.018709112801935,
             31.137829352851483,
             20.633890050585343
            ]
           ],
           "radius": 0.5,
           "tooltip": "O2- (6.019, 31.138, 20.634)",
           "type": "spheres"
          },
          {
           "clickable": true,
           "color": "#f0c8a0",
           "id": "--atoms--6",
           "positions": [
            [
             -1.4506006255773573e-15,
             9.667436633161861,
             13.628555015491735
            ]
           ],
           "radius": 0.5,
           "tooltip": "Si (-0.000, 9.667, 13.629)",
           "type": "spheres"
          },
          {
           "clickable": true,
           "color": "#f0c8a0",
           "id": "--atoms--7",
           "positions": [
            [
             -3.3149746920532316e-15,
             54.137645145706436,
             12.261373015491738
            ]
           ],
           "radius": 0.5,
           "tooltip": "Si (-0.000, 54.138, 12.261)",
           "type": "spheres"
          },
          {
           "clickable": true,
           "color": "#f0c8a0",
           "id": "--atoms--8",
           "positions": [
            [
             7.733949306529484,
             42.53672118591219,
             12.261373015491738
            ]
           ],
           "radius": 0.5,
           "tooltip": "Si (7.734, 42.537, 12.261)",
           "type": "spheres"
          },
          {
           "clickable": true,
           "color": "#ff0d0d",
           "id": "--atoms--9",
           "positions": [
            [
             7.732763235605383,
             45.826535579623716,
             21.278773663116176
            ]
           ],
           "radius": 0.5,
           "tooltip": "O2- (7.733, 45.827, 21.279)",
           "type": "spheres"
          },
          {
           "clickable": true,
           "color": "#ff0d0d",
           "id": "--atoms--10",
           "positions": [
            [
             6.008465043738107,
             19.480330464177285,
             19.21323177604526
            ]
           ],
           "radius": 0.5,
           "tooltip": "O2- (6.008, 19.480, 19.213)",
           "type": "spheres"
          },
          {
           "clickable": true,
           "color": "#f0c8a0",
           "id": "--atoms--11",
           "positions": [
            [
             5.800461979897113,
             17.40138593969135,
             9.527009015491736
            ]
           ],
           "radius": 0.5,
           "tooltip": "Si (5.800, 17.401, 9.527)",
           "type": "spheres"
          },
          {
           "clickable": true,
           "color": "#f0c8a0",
           "id": "--atoms--12",
           "positions": [
            [
             1.933487326632371,
             3.8669746532647444,
             10.894191015491735
            ]
           ],
           "radius": 0.5,
           "tooltip": "Si (1.933, 3.867, 10.894)",
           "type": "spheres"
          },
          {
           "clickable": true,
           "color": "#ff0d0d",
           "id": "--atoms--13",
           "positions": [
            [
             6.886327175593173,
             27.314995078795047,
             21.317602924125662
            ]
           ],
           "radius": 0.5,
           "tooltip": "O2- (6.886, 27.315, 21.318)",
           "type": "spheres"
          },
          {
           "clickable": true,
           "color": "#ff8000",
           "id": "--atoms--14",
           "positions": [
            [
             3.9638763667107724,
             6.252668240928599,
             21.81248745911549
            ]
           ],
           "radius": 0.5,
           "tooltip": "P5+ (3.964, 6.253, 21.812)",
           "type": "spheres"
          },
          {
           "clickable": true,
           "color": "#ff8000",
           "id": "--atoms--15",
           "positions": [
            [
             0.3867348343286887,
             44.35167052545779,
             21.233227341706975
            ]
           ],
           "radius": 0.5,
           "tooltip": "P5+ (0.387, 44.352, 21.233)",
           "type": "spheres"
          },
          {
           "clickable": true,
           "color": "#ff0d0d",
           "id": "--atoms--16",
           "positions": [
            [
             -0.048597340801038544,
             36.520793350587454,
             20.721930765646054
            ]
           ],
           "radius": 0.5,
           "tooltip": "O2- (-0.049, 36.521, 20.722)",
           "type": "spheres"
          },
          {
           "clickable": true,
           "color": "#f0c8a0",
           "id": "--atoms--17",
           "positions": [
            [
             3.866974653264733,
             32.86928455275034,
             13.628555015491736
            ]
           ],
           "radius": 0.5,
           "tooltip": "Si (3.867, 32.869, 13.629)",
           "type": "spheres"
          },
          {
           "clickable": true,
           "color": "#ff0d0d",
           "id": "--atoms--18",
           "positions": [
            [
             1.5456037903817916,
             13.34394849219985,
             21.278773663116173
            ]
           ],
           "radius": 0.5,
           "tooltip": "O2- (1.546, 13.344, 21.279)",
           "type": "spheres"
          },
          {
           "clickable": true,
           "color": "#f0c8a0",
           "id": "--atoms--19",
           "positions": [
            [
             1.9334873266323602,
             34.8027718793827,
             10.894191015491737
            ]
           ],
           "radius": 0.5,
           "tooltip": "Si (1.933, 34.803, 10.894)",
           "type": "spheres"
          },
          {
           "clickable": true,
           "color": "#f0c8a0",
           "id": "--atoms--20",
           "positions": [
            [
             5.800461979897113,
             23.201847919588474,
             10.894191015491737
            ]
           ],
           "radius": 0.5,
           "tooltip": "Si (5.800, 23.202, 10.894)",
           "type": "spheres"
          },
          {
           "clickable": true,
           "color": "#ff8000",
           "id": "--atoms--21",
           "positions": [
            [
             -0.3395792461510452,
             30.545098132435346,
             20.13900551559551
            ]
           ],
           "radius": 0.5,
           "tooltip": "P5+ (-0.340, 30.545, 20.139)",
           "type": "spheres"
          },
          {
           "clickable": true,
           "color": "#f0c8a0",
           "id": "--atoms--22",
           "positions": [
            [
             7.733949306529488,
             11.600923959794235,
             12.261373015491737
            ]
           ],
           "radius": 0.5,
           "tooltip": "Si (7.734, 11.601, 12.261)",
           "type": "spheres"
          },
          {
           "clickable": true,
           "color": "#cc80ff",
           "id": "--atoms--23",
           "positions": [
            [
             4.981545054027085,
             2.7740438266757645,
             19.213663486380497
            ]
           ],
           "radius": 0.5,
           "tooltip": "Li+ (4.982, 2.774, 19.214)",
           "type": "spheres"
          },
          {
           "clickable": true,
           "color": "#f0c8a0",
           "id": "--atoms--24",
           "positions": [
            [
             -1.3026705235286519e-14,
             44.47020851254457,
             13.628555015491738
            ]
           ],
           "radius": 0.5,
           "tooltip": "Si (-0.000, 44.470, 13.629)",
           "type": "spheres"
          },
          {
           "clickable": true,
           "color": "#ff0d0d",
           "id": "--atoms--25",
           "positions": [
            [
             7.679163896373802,
             12.683585635523412,
             18.84413177399702
            ]
           ],
           "radius": 0.5,
           "tooltip": "O2- (7.679, 12.684, 18.844)",
           "type": "spheres"
          },
          {
           "clickable": true,
           "color": "#f0c8a0",
           "id": "--atoms--26",
           "positions": [
            [
             7.7339493065294835,
             52.204157819074055,
             13.628555015491738
            ]
           ],
           "radius": 0.5,
           "tooltip": "Si (7.734, 52.204, 13.629)",
           "type": "spheres"
          },
          {
           "clickable": true,
           "color": "#f0c8a0",
           "id": "--atoms--27",
           "positions": [
            [
             1.9334873266323633,
             40.60323385927982,
             9.527009015491737
            ]
           ],
           "radius": 0.5,
           "tooltip": "Si (1.933, 40.603, 9.527)",
           "type": "spheres"
          },
          {
           "clickable": true,
           "color": "#f0c8a0",
           "id": "--atoms--28",
           "positions": [
            [
             5.8004619798971095,
             29.00230989948559,
             9.527009015491736
            ]
           ],
           "radius": 0.5,
           "tooltip": "Si (5.800, 29.002, 9.527)",
           "type": "spheres"
          },
          {
           "clickable": true,
           "color": "#ff0d0d",
           "id": "--atoms--29",
           "positions": [
            [
             3.5456463393443323,
             49.70240810477023,
             19.224227173971336
            ]
           ],
           "radius": 0.5,
           "tooltip": "O2- (3.546, 49.702, 19.224)",
           "type": "spheres"
          },
          {
           "clickable": true,
           "color": "#ff0d0d",
           "id": "--atoms--30",
           "positions": [
            [
             1.2510914068678125,
             15.598090259997484,
             18.628555015491735
            ]
           ],
           "radius": 0.5,
           "tooltip": "O2- (1.251, 15.598, 18.629)",
           "type": "spheres"
          },
          {
           "clickable": true,
           "color": "#f0c8a0",
           "id": "--atoms--31",
           "positions": [
            [
             -1.2434745468848443e-14,
             34.8027718793827,
             12.261373015491735
            ]
           ],
           "radius": 0.5,
           "tooltip": "Si (-0.000, 34.803, 12.261)",
           "type": "spheres"
          },
          {
           "clickable": true,
           "color": "#ff0d0d",
           "id": "--atoms--32",
           "positions": [
            [
             1.7770741847921385,
             -0.8442043348535474,
             19.203099798789644
            ]
           ],
           "radius": 0.5,
           "tooltip": "O2- (1.777, -0.844, 19.203)",
           "type": "spheres"
          },
          {
           "clickable": true,
           "color": "#f0c8a0",
           "id": "--atoms--33",
           "positions": [
            [
             3.866974653264737,
             30.935797226117963,
             12.261373015491737
            ]
           ],
           "radius": 0.5,
           "tooltip": "Si (3.867, 30.936, 12.261)",
           "type": "spheres"
          },
          {
           "clickable": true,
           "color": "#e06633",
           "id": "--atoms--34",
           "positions": [
            [
             6.063966746240094,
             32.88706922522265,
             19.23912029949558
            ]
           ],
           "radius": 0.5,
           "tooltip": "Fe2+ (6.064, 32.887, 19.239)",
           "type": "spheres"
          },
          {
           "clickable": true,
           "color": "#f0c8a0",
           "id": "--atoms--35",
           "positions": [
            [
             3.8669746532647444,
             1.9334873266323716,
             13.628555015491735
            ]
           ],
           "radius": 0.5,
           "tooltip": "Si (3.867, 1.933, 13.629)",
           "type": "spheres"
          },
          {
           "clickable": true,
           "color": "#f0c8a0",
           "id": "--atoms--36",
           "positions": [
            [
             1.9334873266323596,
             46.40369583917694,
             10.89419101549174
            ]
           ],
           "radius": 0.5,
           "tooltip": "Si (1.933, 46.404, 10.894)",
           "type": "spheres"
          },
          {
           "clickable": true,
           "color": "#f0c8a0",
           "id": "--atoms--37",
           "positions": [
            [
             3.8669746532647387,
             54.137645145706436,
             12.261373015491737
            ]
           ],
           "radius": 0.5,
           "tooltip": "Si (3.867, 54.138, 12.261)",
           "type": "spheres"
          },
          {
           "clickable": true,
           "color": "#ff0d0d",
           "id": "--atoms--38",
           "positions": [
            [
             -0.1684503324216489,
             -1.3447577345723898,
             20.633890050585343
            ]
           ],
           "radius": 0.5,
           "tooltip": "O2- (-0.168, -1.345, 20.634)",
           "type": "spheres"
          },
          {
           "clickable": true,
           "color": "#cc80ff",
           "id": "--atoms--39",
           "positions": [
            [
             1.0387536296269189,
             7.571354157540682,
             20.975746487355497
            ]
           ],
           "radius": 0.5,
           "tooltip": "Li+ (1.039, 7.571, 20.976)",
           "type": "spheres"
          },
          {
           "clickable": true,
           "color": "#f0c8a0",
           "id": "--atoms--40",
           "positions": [
            [
             7.733949306529487,
             21.268360592956096,
             13.628555015491736
            ]
           ],
           "radius": 0.5,
           "tooltip": "Si (7.734, 21.268, 13.629)",
           "type": "spheres"
          },
          {
           "clickable": true,
           "color": "#f0c8a0",
           "id": "--atoms--41",
           "positions": [
            [
             1.933487326632372,
             9.667436633161863,
             9.527009015491734
            ]
           ],
           "radius": 0.5,
           "tooltip": "Si (1.933, 9.667, 9.527)",
           "type": "spheres"
          },
          {
           "clickable": true,
           "color": "#cc80ff",
           "id": "--atoms--42",
           "positions": [
            [
             2.5855434909328134,
             56.295234788676474,
             20.975746487355508
            ]
           ],
           "radius": 0.5,
           "tooltip": "Li+ (2.586, 56.295, 20.976)",
           "type": "spheres"
          },
          {
           "clickable": true,
           "color": "#ff0d0d",
           "id": "--atoms--43",
           "positions": [
            [
             3.0923936516876847,
             34.999006550482434,
             21.278773663116176
            ]
           ],
           "radius": 0.5,
           "tooltip": "O2- (3.092, 34.999, 21.279)",
           "type": "spheres"
          },
          {
           "clickable": true,
           "color": "#ff0d0d",
           "id": "--atoms--44",
           "positions": [
            [
             2.914885321126307,
             30.30785949331858,
             19.213231776045262
            ]
           ],
           "radius": 0.5,
           "tooltip": "O2- (2.915, 30.308, 19.213)",
           "type": "spheres"
          },
          {
           "clickable": true,
           "color": "#e06633",
           "id": "--atoms--45",
           "positions": [
            [
             3.1160310112322613,
             16.584739319873645,
             19.413587661588114
            ]
           ],
           "radius": 0.5,
           "tooltip": "Fe2+ (3.116, 16.585, 19.414)",
           "type": "spheres"
          },
          {
           "clickable": true,
           "color": "#ff0d0d",
           "id": "--atoms--46",
           "positions": [
            [
             0.5319034688720393,
             55.93640496858796,
             20.672719311594832
            ]
           ],
           "radius": 0.5,
           "tooltip": "O2- (0.532, 55.936, 20.673)",
           "type": "spheres"
          },
          {
           "clickable": true,
           "color": "#f0c8a0",
           "id": "--atoms--47",
           "positions": [
            [
             -6.631146175322737e-15,
             52.204157819074055,
             13.628555015491738
            ]
           ],
           "radius": 0.5,
           "tooltip": "Si (-0.000, 52.204, 13.629)",
           "type": "spheres"
          },
          {
           "clickable": true,
           "color": "#ff8000",
           "id": "--atoms--48",
           "positions": [
            [
             3.2375622862310363,
             46.58374099361259,
             20.718265633004027
            ]
           ],
           "radius": 0.5,
           "tooltip": "P5+ (3.238, 46.584, 20.718)",
           "type": "spheres"
          },
          {
           "clickable": true,
           "color": "#ff8000",
           "id": "--atoms--49",
           "positions": [
            [
             2.7540004764607593,
             19.717569103294053,
             20.139005515595514
            ]
           ],
           "radius": 0.5,
           "tooltip": "P5+ (2.754, 19.718, 20.139)",
           "type": "spheres"
          },
          {
           "clickable": true,
           "color": "#f0c8a0",
           "id": "--atoms--50",
           "positions": [
            [
             3.8669746532647324,
             44.47020851254456,
             13.628555015491738
            ]
           ],
           "radius": 0.5,
           "tooltip": "Si (3.867, 44.470, 13.629)",
           "type": "spheres"
          },
          {
           "clickable": true,
           "color": "#ff0d0d",
           "id": "--atoms--51",
           "positions": [
            [
             2.7978812681737053,
             37.25314831828006,
             18.628555015491738
            ]
           ],
           "radius": 0.5,
           "tooltip": "O2- (2.798, 37.253, 18.629)",
           "type": "spheres"
          },
          {
           "clickable": true,
           "color": "#ff0d0d",
           "id": "--atoms--52",
           "positions": [
            [
             4.0716291172686505,
             33.260113509919215,
             19.798771957269246
            ]
           ],
           "radius": 0.5,
           "tooltip": "O2- (4.072, 33.260, 19.799)",
           "type": "spheres"
          },
          {
           "clickable": true,
           "color": "#f0c8a0",
           "id": "--atoms--53",
           "positions": [
            [
             5.800461979897113,
             34.8027718793827,
             10.894191015491737
            ]
           ],
           "radius": 0.5,
           "tooltip": "Si (5.800, 34.803, 10.894)",
           "type": "spheres"
          },
          {
           "clickable": true,
           "color": "#ff0d0d",
           "id": "--atoms--54",
           "positions": [
            [
             4.557626983088369,
             28.28836804220857,
             20.663545907491745
            ]
           ],
           "radius": 0.5,
           "tooltip": "O2- (4.558, 28.288, 20.664)",
           "type": "spheres"
          },
          {
           "clickable": true,
           "color": "#ff0d0d",
           "id": "--atoms--55",
           "positions": [
            [
             2.160249860083155,
             51.81951444772053,
             21.28794706721925
            ]
           ],
           "radius": 0.5,
           "tooltip": "O2- (2.160, 51.820, 21.288)",
           "type": "spheres"
          },
          {
           "clickable": true,
           "color": "#ff0d0d",
           "id": "--atoms--56",
           "positions": [
            [
             2.4078352030101624,
             18.55034427659811,
             19.214095196715732
            ]
           ],
           "radius": 0.5,
           "tooltip": "O2- (2.408, 18.550, 19.214)",
           "type": "spheres"
          },
          {
           "clickable": true,
           "color": "#f0c8a0",
           "id": "--atoms--57",
           "positions": [
            [
             1.9334873266323662,
             52.204157819074055,
             9.527009015491739
            ]
           ],
           "radius": 0.5,
           "tooltip": "Si (1.933, 52.204, 9.527)",
           "type": "spheres"
          },
          {
           "clickable": true,
           "color": "#f0c8a0",
           "id": "--atoms--58",
           "positions": [
            [
             -9.710533752017012e-15,
             46.40369583917695,
             12.261373015491737
            ]
           ],
           "radius": 0.5,
           "tooltip": "Si (-0.000, 46.404, 12.261)",
           "type": "spheres"
          },
          {
           "clickable": true,
           "color": "#f0c8a0",
           "id": "--atoms--59",
           "positions": [
            [
             7.733949306529485,
             56.0711324723388,
             13.628555015491738
            ]
           ],
           "radius": 0.5,
           "tooltip": "Si (7.734, 56.071, 13.629)",
           "type": "spheres"
          },
          {
           "clickable": true,
           "color": "#f0c8a0",
           "id": "--atoms--60",
           "positions": [
            [
             -3.01959320444233e-15,
             21.268360592956096,
             13.628555015491736
            ]
           ],
           "radius": 0.5,
           "tooltip": "Si (-0.000, 21.268, 13.629)",
           "type": "spheres"
          },
          {
           "clickable": true,
           "color": "#f0c8a0",
           "id": "--atoms--61",
           "positions": [
            [
             3.8669746532647418,
             0,
             12.261373015491735
            ]
           ],
           "radius": 0.5,
           "tooltip": "Si (3.867, 0.000, 12.261)",
           "type": "spheres"
          },
          {
           "clickable": true,
           "color": "#f0c8a0",
           "id": "--atoms--62",
           "positions": [
            [
             3.866974653264739,
             42.53672118591219,
             12.261373015491738
            ]
           ],
           "radius": 0.5,
           "tooltip": "Si (3.867, 42.537, 12.261)",
           "type": "spheres"
          },
          {
           "clickable": true,
           "color": "#ff8000",
           "id": "--atoms--63",
           "positions": [
            [
             6.331142008842829,
             35.75621196447131,
             20.718265633004034
            ]
           ],
           "radius": 0.5,
           "tooltip": "P5+ (6.331, 35.756, 20.718)",
           "type": "spheres"
          },
          {
           "clickable": true,
           "color": "#e06633",
           "id": "--atoms--64",
           "positions": [
            [
             2.3523335005081654,
             5.143605515552747,
             19.188206673265405
            ]
           ],
           "radius": 0.5,
           "tooltip": "Fe2+ (2.352, 5.144, 19.188)",
           "type": "spheres"
          },
          {
           "clickable": true,
           "color": "#f0c8a0",
           "id": "--atoms--65",
           "positions": [
            [
             3.8669746532647435,
             13.534411286426606,
             13.628555015491736
            ]
           ],
           "radius": 0.5,
           "tooltip": "Si (3.867, 13.534, 13.629)",
           "type": "spheres"
          },
          {
           "clickable": true,
           "color": "#ff0d0d",
           "id": "--atoms--66",
           "positions": [
            [
             4.591772243116661,
             47.348322379728735,
             20.721930765646054
            ]
           ],
           "radius": 0.5,
           "tooltip": "O2- (4.592, 47.348, 20.722)",
           "type": "spheres"
          },
          {
           "clickable": true,
           "color": "#f0c8a0",
           "id": "--atoms--67",
           "positions": [
            [
             1.9334873266323684,
             15.467898613058981,
             10.894191015491739
            ]
           ],
           "radius": 0.5,
           "tooltip": "Si (1.933, 15.468, 10.894)",
           "type": "spheres"
          },
          {
           "clickable": true,
           "color": "#f0c8a0",
           "id": "--atoms--68",
           "positions": [
            [
             5.800461979897115,
             3.8669746532647435,
             10.894191015491735
            ]
           ],
           "radius": 0.5,
           "tooltip": "Si (5.800, 3.867, 10.894)",
           "type": "spheres"
          },
          {
           "clickable": true,
           "color": "#ff0d0d",
           "id": "--atoms--69",
           "positions": [
            [
             4.87065390740393,
             42.46591178171161,
             19.203099798789648
            ]
           ],
           "radius": 0.5,
           "tooltip": "O2- (4.871, 42.466, 19.203)",
           "type": "spheres"
          },
          {
           "clickable": true,
           "color": "#cc80ff",
           "id": "--atoms--70",
           "positions": [
            [
             2.585543490932817,
             2.157589642970035,
             20.975746487355504
            ]
           ],
           "radius": 0.5,
           "tooltip": "Li+ (2.586, 2.158, 20.976)",
           "type": "spheres"
          },
          {
           "clickable": true,
           "color": "#f0c8a0",
           "id": "--atoms--71",
           "positions": [
            [
             -8.408222265853243e-15,
             25.135335246220844,
             13.628555015491736
            ]
           ],
           "radius": 0.5,
           "tooltip": "Si (-0.000, 25.135, 13.629)",
           "type": "spheres"
          },
          {
           "clickable": true,
           "color": "#ff0d0d",
           "id": "--atoms--72",
           "positions": [
            [
             6.924295795598058,
             3.6920310469694044,
             19.58319519876396
            ]
           ],
           "radius": 0.5,
           "tooltip": "O2- (6.924, 3.692, 19.583)",
           "type": "spheres"
          },
          {
           "clickable": true,
           "color": "#f0c8a0",
           "id": "--atoms--73",
           "positions": [
            [
             7.733949306529478,
             32.86928455275034,
             13.628555015491736
            ]
           ],
           "radius": 0.5,
           "tooltip": "Si (7.734, 32.869, 13.629)",
           "type": "spheres"
          },
          {
           "clickable": true,
           "color": "#f0c8a0",
           "id": "--atoms--74",
           "positions": [
            [
             1.9334873266323696,
             21.268360592956096,
             9.527009015491736
            ]
           ],
           "radius": 0.5,
           "tooltip": "Si (1.933, 21.268, 9.527)",
           "type": "spheres"
          },
          {
           "clickable": true,
           "color": "#f0c8a0",
           "id": "--atoms--75",
           "positions": [
            [
             -4.381699062858044e-15,
             15.467898613058981,
             12.261373015491731
            ]
           ],
           "radius": 0.5,
           "tooltip": "Si (-0.000, 15.468, 12.261)",
           "type": "spheres"
          },
          {
           "clickable": true,
           "color": "#ff0d0d",
           "id": "--atoms--76",
           "positions": [
            [
             0.5319034688720427,
             1.7987598228815203,
             20.67271931159483
            ]
           ],
           "radius": 0.5,
           "tooltip": "O2- (0.532, 1.799, 20.673)",
           "type": "spheres"
          },
          {
           "clickable": true,
           "color": "#ff0d0d",
           "id": "--atoms--77",
           "positions": [
            [
             6.138562104422555,
             14.865735292304874,
             20.72193076564605
            ]
           ],
           "radius": 0.5,
           "tooltip": "O2- (6.139, 14.866, 20.722)",
           "type": "spheres"
          },
          {
           "clickable": true,
           "color": "#ff0d0d",
           "id": "--atoms--78",
           "positions": [
            [
             7.565498974107841,
             -1.3447577345723898,
             20.633890050585343
            ]
           ],
           "radius": 0.5,
           "tooltip": "O2- (7.565, -1.345, 20.634)",
           "type": "spheres"
          },
          {
           "clickable": true,
           "color": "#f0c8a0",
           "id": "--atoms--79",
           "positions": [
            [
             7.733949306529485,
             23.201847919588474,
             12.261373015491737
            ]
           ],
           "radius": 0.5,
           "tooltip": "Si (7.734, 23.202, 12.261)",
           "type": "spheres"
          },
          {
           "clickable": true,
           "color": "#ff0d0d",
           "id": "--atoms--80",
           "positions": [
            [
             3.0387943124561043,
             55.99370175208857,
             18.84413177399703
            ]
           ],
           "radius": 0.5,
           "tooltip": "O2- (3.039, 55.994, 18.844)",
           "type": "spheres"
          },
          {
           "clickable": true,
           "color": "#cc80ff",
           "id": "--atoms--81",
           "positions": [
            [
             0.341175470109382,
             46.08415994324091,
             19.213663486380486
            ]
           ],
           "radius": 0.5,
           "tooltip": "Li+ (0.341, 46.084, 19.214)",
           "type": "spheres"
          },
          {
           "clickable": true,
           "color": "#e06633",
           "id": "--atoms--82",
           "positions": [
            [
             0.022451288620462397,
             27.412268349014933,
             19.413587661588114
            ]
           ],
           "radius": 0.5,
           "tooltip": "Fe2+ (0.022, 27.412, 19.414)",
           "type": "spheres"
          },
          {
           "clickable": true,
           "color": "#e06633",
           "id": "--atoms--83",
           "positions": [
            [
             3.7534793742101003,
             53.928522508325614,
             19.013739311172873
            ]
           ],
           "radius": 0.5,
           "tooltip": "Fe2+ (3.753, 53.929, 19.014)",
           "type": "spheres"
          },
          {
           "clickable": true,
           "color": "#f0c8a0",
           "id": "--atoms--84",
           "positions": [
            [
             5.800461979897112,
             40.60323385927982,
             9.527009015491739
            ]
           ],
           "radius": 0.5,
           "tooltip": "Si (5.800, 40.603, 9.527)",
           "type": "spheres"
          },
          {
           "clickable": true,
           "color": "#ff0d0d",
           "id": "--atoms--85",
           "positions": [
            [
             5.219684322666662,
             21.932031081059076,
             21.229562209064945
            ]
           ],
           "radius": 0.5,
           "tooltip": "O2- (5.220, 21.932, 21.230)",
           "type": "spheres"
          },
          {
           "clickable": true,
           "color": "#f0c8a0",
           "id": "--atoms--86",
           "positions": [
            [
             5.800461979897109,
             46.40369583917695,
             10.89419101549174
            ]
           ],
           "radius": 0.5,
           "tooltip": "Si (5.800, 46.404, 10.894)",
           "type": "spheres"
          },
          {
           "clickable": true,
           "color": "#f0c8a0",
           "id": "--atoms--87",
           "positions": [
            [
             7.733949306529489,
             1.9334873266323707,
             13.628555015491735
            ]
           ],
           "radius": 0.5,
           "tooltip": "Si (7.734, 1.933, 13.629)",
           "type": "spheres"
          },
          {
           "clickable": true,
           "color": "#ff0d0d",
           "id": "--atoms--88",
           "positions": [
            [
             5.2538295826949435,
             40.99198541857924,
             21.28794706721925
            ]
           ],
           "radius": 0.5,
           "tooltip": "O2- (5.254, 40.992, 21.288)",
           "type": "spheres"
          },
          {
           "clickable": true,
           "color": "#cc80ff",
           "id": "--atoms--89",
           "positions": [
            [
             0.3411754701093879,
             19.015337370387698,
             19.213663486380486
            ]
           ],
           "radius": 0.5,
           "tooltip": "Li+ (0.341, 19.015, 19.214)",
           "type": "spheres"
          },
          {
           "clickable": true,
           "color": "#f0c8a0",
           "id": "--atoms--90",
           "positions": [
            [
             1.9334873266323682,
             56.0711324723388,
             9.527009015491737
            ]
           ],
           "radius": 0.5,
           "tooltip": "Si (1.933, 56.071, 9.527)",
           "type": "spheres"
          },
          {
           "clickable": true,
           "color": "#ff0d0d",
           "id": "--atoms--91",
           "positions": [
            [
             3.6728944613607677,
             0.2769730227764994,
             21.229562209064945
            ]
           ],
           "radius": 0.5,
           "tooltip": "O2- (3.673, 0.277, 21.230)",
           "type": "spheres"
          },
          {
           "clickable": true,
           "color": "#f0c8a0",
           "id": "--atoms--92",
           "positions": [
            [
             -1.2316353515560826e-14,
             32.86928455275034,
             13.628555015491736
            ]
           ],
           "radius": 0.5,
           "tooltip": "Si (-0.000, 32.869, 13.629)",
           "type": "spheres"
          },
          {
           "clickable": true,
           "color": "#f0c8a0",
           "id": "--atoms--93",
           "positions": [
            [
             3.866974653264742,
             11.600923959794233,
             12.261373015491737
            ]
           ],
           "radius": 0.5,
           "tooltip": "Si (3.867, 11.601, 12.261)",
           "type": "spheres"
          },
          {
           "clickable": true,
           "color": "#ff8000",
           "id": "--atoms--94",
           "positions": [
            [
             7.057456089322569,
             49.56278435749375,
             21.812487459115495
            ]
           ],
           "radius": 0.5,
           "tooltip": "P5+ (7.057, 49.563, 21.812)",
           "type": "spheres"
          },
          {
           "clickable": true,
           "color": "#ff0d0d",
           "id": "--atoms--95",
           "positions": [
            [
             5.172273052789736,
             12.626288852022801,
             20.672719311594825
            ]
           ],
           "radius": 0.5,
           "tooltip": "O2- (5.172, 12.626, 20.673)",
           "type": "spheres"
          },
          {
           "clickable": true,
           "color": "#ff0d0d",
           "id": "--atoms--96",
           "positions": [
            [
             7.685351965728452,
             36.520793350587454,
             20.721930765646054
            ]
           ],
           "radius": 0.5,
           "tooltip": "O2- (7.685, 36.521, 20.722)",
           "type": "spheres"
          },
          {
           "clickable": true,
           "color": "#f0c8a0",
           "id": "--atoms--97",
           "positions": [
            [
             1.9334873266323693,
             27.068822572853218,
             10.894191015491737
            ]
           ],
           "radius": 0.5,
           "tooltip": "Si (1.933, 27.069, 10.894)",
           "type": "spheres"
          },
          {
           "clickable": true,
           "color": "#f0c8a0",
           "id": "--atoms--98",
           "positions": [
            [
             5.800461979897113,
             15.467898613058981,
             10.894191015491739
            ]
           ],
           "radius": 0.5,
           "tooltip": "Si (5.800, 15.468, 10.894)",
           "type": "spheres"
          },
          {
           "clickable": true,
           "color": "#ff0d0d",
           "id": "--atoms--99",
           "positions": [
            [
             5.6184189785745495,
             54.915171568201785,
             19.79877195726925
            ]
           ],
           "radius": 0.5,
           "tooltip": "O2- (5.618, 54.915, 19.799)",
           "type": "spheres"
          },
          {
           "clickable": true,
           "color": "#ff8000",
           "id": "--atoms--100",
           "positions": [
            [
             7.394370060378446,
             30.545098132435346,
             20.13900551559551
            ]
           ],
           "radius": 0.5,
           "tooltip": "P5+ (7.394, 30.545, 20.139)",
           "type": "spheres"
          },
          {
           "clickable": true,
           "color": "#ff0d0d",
           "id": "--atoms--101",
           "positions": [
            [
             3.038794312456108,
             1.8560566063821307,
             18.844131773997027
            ]
           ],
           "radius": 0.5,
           "tooltip": "O2- (3.039, 1.856, 18.844)",
           "type": "spheres"
          },
          {
           "clickable": true,
           "color": "#ff0d0d",
           "id": "--atoms--102",
           "positions": [
            [
             -0.1684503324216522,
             52.792887411134046,
             20.633890050585347
            ]
           ],
           "radius": 0.5,
           "tooltip": "O2- (-0.168, 52.793, 20.634)",
           "type": "spheres"
          },
          {
           "clickable": true,
           "color": "#f0c8a0",
           "id": "--atoms--103",
           "positions": [
            [
             7.733949306529477,
             44.47020851254457,
             13.628555015491738
            ]
           ],
           "radius": 0.5,
           "tooltip": "Si (7.734, 44.470, 13.629)",
           "type": "spheres"
          },
          {
           "clickable": true,
           "color": "#f0c8a0",
           "id": "--atoms--104",
           "positions": [
            [
             1.9334873266323638,
             32.86928455275034,
             9.527009015491736
            ]
           ],
           "radius": 0.5,
           "tooltip": "Si (1.933, 32.869, 9.527)",
           "type": "spheres"
          },
          {
           "clickable": true,
           "color": "#f0c8a0",
           "id": "--atoms--105",
           "positions": [
            [
             -6.809332500862298e-15,
             27.068822572853218,
             12.261373015491735
            ]
           ],
           "radius": 0.5,
           "tooltip": "Si (-0.000, 27.069, 12.261)",
           "type": "spheres"
          },
          {
           "clickable": true,
           "color": "#ff0d0d",
           "id": "--atoms--106",
           "positions": [
            [
             6.766474183972559,
             43.58708913934165,
             21.22956220906495
            ]
           ],
           "radius": 0.5,
           "tooltip": "O2- (6.766, 43.587, 21.230)",
           "type": "spheres"
          },
          {
           "clickable": true,
           "color": "#f0c8a0",
           "id": "--atoms--107",
           "positions": [
            [
             -1.835673671566176e-15,
             1.9334873266323707,
             13.628555015491735
            ]
           ],
           "radius": 0.5,
           "tooltip": "Si (-0.000, 1.933, 13.629)",
           "type": "spheres"
          },
          {
           "clickable": true,
           "color": "#f0c8a0",
           "id": "--atoms--108",
           "positions": [
            [
             7.733949306529478,
             34.8027718793827,
             12.261373015491737
            ]
           ],
           "radius": 0.5,
           "tooltip": "Si (7.734, 34.803, 12.261)",
           "type": "spheres"
          },
          {
           "clickable": true,
           "color": "#f0c8a0",
           "id": "--atoms--109",
           "positions": [
            [
             3.8669746532647404,
             23.201847919588474,
             12.261373015491733
            ]
           ],
           "radius": 0.5,
           "tooltip": "Si (3.867, 23.202, 12.261)",
           "type": "spheres"
          },
          {
           "clickable": true,
           "color": "#e06633",
           "id": "--atoms--110",
           "positions": [
            [
             4.517176884934203,
             11.232011166940069,
             19.239120299495575
            ]
           ],
           "radius": 0.5,
           "tooltip": "Fe2+ (4.517, 11.232, 19.239)",
           "type": "spheres"
          },
          {
           "clickable": true,
           "color": "#ff0d0d",
           "id": "--atoms--111",
           "positions": [
            [
             7.048204786927848,
             29.377873305739403,
             19.214095196715732
            ]
           ],
           "radius": 0.5,
           "tooltip": "O2- (7.048, 29.378, 19.214)",
           "type": "spheres"
          },
          {
           "clickable": true,
           "color": "#ff0d0d",
           "id": "--atoms--112",
           "positions": [
            [
             4.4616751824322085,
             -2.1747275941052866,
             19.21323177604525
            ]
           ],
           "radius": 0.5,
           "tooltip": "O2- (4.462, -2.175, 19.213)",
           "type": "spheres"
          },
          {
           "clickable": true,
           "color": "#f0c8a0",
           "id": "--atoms--113",
           "positions": [
            [
             5.800461979897116,
             9.667436633161861,
             9.527009015491737
            ]
           ],
           "radius": 0.5,
           "tooltip": "Si (5.800, 9.667, 9.527)",
           "type": "spheres"
          },
          {
           "clickable": true,
           "color": "#f0c8a0",
           "id": "--atoms--114",
           "positions": [
            [
             5.800461979897111,
             52.204157819074055,
             9.527009015491739
            ]
           ],
           "radius": 0.5,
           "tooltip": "Si (5.800, 52.204, 9.527)",
           "type": "spheres"
          },
          {
           "clickable": true,
           "color": "#f0c8a0",
           "id": "--atoms--115",
           "positions": [
            [
             1.9334873266323633,
             38.66974653264744,
             10.894191015491737
            ]
           ],
           "radius": 0.5,
           "tooltip": "Si (1.933, 38.670, 10.894)",
           "type": "spheres"
          },
          {
           "clickable": true,
           "color": "#ff0d0d",
           "id": "--atoms--116",
           "positions": [
            [
             2.925129390190143,
             41.965358381992765,
             20.63389005058535
            ]
           ],
           "radius": 0.5,
           "tooltip": "O2- (2.925, 41.965, 20.634)",
           "type": "spheres"
          },
          {
           "clickable": true,
           "color": "#f0c8a0",
           "id": "--atoms--117",
           "positions": [
            [
             -2.072457578141407e-15,
             5.800461979897116,
             13.628555015491735
            ]
           ],
           "radius": 0.5,
           "tooltip": "Si (-0.000, 5.800, 13.629)",
           "type": "spheres"
          },
          {
           "clickable": true,
           "color": "#ff8000",
           "id": "--atoms--118",
           "positions": [
            [
             6.573894279552285,
             22.696612467175218,
             21.233227341706975
            ]
           ],
           "radius": 0.5,
           "tooltip": "P5+ (6.574, 22.697, 21.233)",
           "type": "spheres"
          },
          {
           "clickable": true,
           "color": "#f0c8a0",
           "id": "--atoms--119",
           "positions": [
            [
             3.8669746532647387,
             25.135335246220844,
             13.628555015491736
            ]
           ],
           "radius": 0.5,
           "tooltip": "Si (3.867, 25.135, 13.629)",
           "type": "spheres"
          },
          {
           "clickable": true,
           "color": "#f0c8a0",
           "id": "--atoms--120",
           "positions": [
            [
             7.733949306529487,
             13.534411286426606,
             13.628555015491733
            ]
           ],
           "radius": 0.5,
           "tooltip": "Si (7.734, 13.534, 13.629)",
           "type": "spheres"
          },
          {
           "clickable": true,
           "color": "#f0c8a0",
           "id": "--atoms--121",
           "positions": [
            [
             1.9334873266323713,
             1.9334873266323718,
             9.527009015491734
            ]
           ],
           "radius": 0.5,
           "tooltip": "Si (1.933, 1.933, 9.527)",
           "type": "spheres"
          },
          {
           "clickable": true,
           "color": "#ff0d0d",
           "id": "--atoms--122",
           "positions": [
            [
             4.461675182432205,
             51.96291755160115,
             19.213231776045255
            ]
           ],
           "radius": 0.5,
           "tooltip": "O2- (4.462, 51.963, 19.213)",
           "type": "spheres"
          },
          {
           "clickable": true,
           "color": "#f0c8a0",
           "id": "--atoms--123",
           "positions": [
            [
             -2.3678390657523075e-16,
             3.8669746532647435,
             12.261373015491735
            ]
           ],
           "radius": 0.5,
           "tooltip": "Si (-0.000, 3.867, 12.261)",
           "type": "spheres"
          },
          {
           "clickable": true,
           "color": "#cc80ff",
           "id": "--atoms--124",
           "positions": [
            [
             4.9815450540270785,
             29.842866399528994,
             19.213663486380486
            ]
           ],
           "radius": 0.5,
           "tooltip": "Li+ (4.982, 29.843, 19.214)",
           "type": "spheres"
          },
          {
           "clickable": true,
           "color": "#e06633",
           "id": "--atoms--125",
           "positions": [
            [
             5.445913223119962,
             48.4537216321179,
             19.18820667326541
            ]
           ],
           "radius": 0.5,
           "tooltip": "Fe2+ (5.446, 48.454, 19.188)",
           "type": "spheres"
          },
          {
           "clickable": true,
           "color": "#cc80ff",
           "id": "--atoms--126",
           "positions": [
            [
             5.679123213544605,
             45.4677057595352,
             20.975746487355497
            ]
           ],
           "radius": 0.5,
           "tooltip": "Li+ (5.679, 45.468, 20.976)",
           "type": "spheres"
          },
          {
           "clickable": true,
           "color": "#ff0d0d",
           "id": "--atoms--127",
           "positions": [
            [
             7.964233630015723,
             31.638382752570326,
             19.203099798789648
            ]
           ],
           "radius": 0.5,
           "tooltip": "O2- (7.964, 31.638, 19.203)",
           "type": "spheres"
          },
          {
           "clickable": true,
           "color": "#f0c8a0",
           "id": "--atoms--128",
           "positions": [
            [
             5.800461979897115,
             21.268360592956096,
             9.527009015491736
            ]
           ],
           "radius": 0.5,
           "tooltip": "Si (5.800, 21.268, 9.527)",
           "type": "spheres"
          },
          {
           "clickable": true,
           "color": "#ff0d0d",
           "id": "--atoms--129",
           "positions": [
            [
             3.3238640460980324,
             20.81085372342903,
             19.203099798789644
            ]
           ],
           "radius": 0.5,
           "tooltip": "O2- (3.324, 20.811, 19.203)",
           "type": "spheres"
          },
          {
           "clickable": true,
           "color": "#e06633",
           "id": "--atoms--130",
           "positions": [
            [
             6.8470590968218925,
             43.100993479184325,
             19.01373931117287
            ]
           ],
           "radius": 0.5,
           "tooltip": "Fe2+ (6.847, 43.101, 19.014)",
           "type": "spheres"
          },
          {
           "clickable": true,
           "color": "#f0c8a0",
           "id": "--atoms--131",
           "positions": [
            [
             3.866974653264733,
             36.73625920601508,
             13.628555015491736
            ]
           ],
           "radius": 0.5,
           "tooltip": "Si (3.867, 36.736, 13.629)",
           "type": "spheres"
          },
          {
           "clickable": true,
           "color": "#ff0d0d",
           "id": "--atoms--132",
           "positions": [
            [
             3.0108371217824743,
             6.633309983925993,
             20.66354590749175
            ]
           ],
           "radius": 0.5,
           "tooltip": "O2- (3.011, 6.633, 20.664)",
           "type": "spheres"
          },
          {
           "clickable": true,
           "color": "#ff0d0d",
           "id": "--atoms--133",
           "positions": [
            [
             6.1323740350679,
             45.16617272294728,
             18.84413177399702
            ]
           ],
           "radius": 0.5,
           "tooltip": "O2- (6.132, 45.166, 18.844)",
           "type": "spheres"
          },
          {
           "clickable": true,
           "color": "#ff8000",
           "id": "--atoms--134",
           "positions": [
            [
             7.877931870148732,
             3.273624877047438,
             20.718265633004023
            ]
           ],
           "radius": 0.5,
           "tooltip": "P5+ (7.878, 3.274, 20.718)",
           "type": "spheres"
          },
          {
           "clickable": true,
           "color": "#cc80ff",
           "id": "--atoms--135",
           "positions": [
            [
             6.528334915332984,
             24.42910188495834,
             19.2136634863805
            ]
           ],
           "radius": 0.5,
           "tooltip": "Li+ (6.528, 24.429, 19.214)",
           "type": "spheres"
          },
          {
           "clickable": true,
           "color": "#cc80ff",
           "id": "--atoms--136",
           "positions": [
            [
             4.132333352238711,
             50.88147027410584,
             20.9757464873555
            ]
           ],
           "radius": 0.5,
           "tooltip": "Li+ (4.132, 50.881, 20.976)",
           "type": "spheres"
          },
          {
           "clickable": true,
           "color": "#ff0d0d",
           "id": "--atoms--137",
           "positions": [
            [
             1.7770741847921352,
             53.293440810852886,
             19.203099798789648
            ]
           ],
           "radius": 0.5,
           "tooltip": "O2- (1.777, 53.293, 19.203)",
           "type": "spheres"
          },
          {
           "clickable": true,
           "color": "#f0c8a0",
           "id": "--atoms--138",
           "positions": [
            [
             -3.404666250431149e-15,
             13.534411286426604,
             13.628555015491731
            ]
           ],
           "radius": 0.5,
           "tooltip": "Si (-0.000, 13.534, 13.629)",
           "type": "spheres"
          },
          {
           "clickable": true,
           "color": "#f0c8a0",
           "id": "--atoms--139",
           "positions": [
            [
             7.733949306529481,
             46.40369583917695,
             12.261373015491738
            ]
           ],
           "radius": 0.5,
           "tooltip": "Si (7.734, 46.404, 12.261)",
           "type": "spheres"
          },
          {
           "clickable": true,
           "color": "#f0c8a0",
           "id": "--atoms--140",
           "positions": [
            [
             3.8669746532647395,
             34.8027718793827,
             12.261373015491737
            ]
           ],
           "radius": 0.5,
           "tooltip": "Si (3.867, 34.803, 12.261)",
           "type": "spheres"
          },
          {
           "clickable": true,
           "color": "#ff0d0d",
           "id": "--atoms--141",
           "positions": [
            [
             1.3680954598204116,
             8.652801435035995,
             19.21323177604525
            ]
           ],
           "radius": 0.5,
           "tooltip": "O2- (1.368, 8.653, 19.213)",
           "type": "spheres"
          },
          {
           "clickable": true,
           "color": "#ff0d0d",
           "id": "--atoms--142",
           "positions": [
            [
             6.639226061956124,
             38.87487907562895,
             19.224227173971343
            ]
           ],
           "radius": 0.5,
           "tooltip": "O2- (6.639, 38.875, 19.224)",
           "type": "spheres"
          },
          {
           "clickable": true,
           "color": "#f0c8a0",
           "id": "--atoms--143",
           "positions": [
            [
             1.933487326632369,
             7.733949306529489,
             10.894191015491735
            ]
           ],
           "radius": 0.5,
           "tooltip": "Si (1.933, 7.734, 10.894)",
           "type": "spheres"
          },
          {
           "clickable": true,
           "color": "#f0c8a0",
           "id": "--atoms--144",
           "positions": [
            [
             5.800461979897114,
             56.07113247233882,
             9.527009015491737
            ]
           ],
           "radius": 0.5,
           "tooltip": "Si (5.800, 56.071, 9.527)",
           "type": "spheres"
          },
          {
           "clickable": true,
           "color": "#ff8000",
           "id": "--atoms--145",
           "positions": [
            [
             2.417086505404866,
             38.735255328352466,
             21.812487459115495
            ]
           ],
           "radius": 0.5,
           "tooltip": "P5+ (2.417, 38.735, 21.812)",
           "type": "spheres"
          },
          {
           "clickable": true,
           "color": "#ff8000",
           "id": "--atoms--146",
           "positions": [
            [
             3.480314556940488,
             33.52414149631651,
             21.233227341706975
            ]
           ],
           "radius": 0.5,
           "tooltip": "P5+ (3.480, 33.524, 21.233)",
           "type": "spheres"
          },
          {
           "clickable": true,
           "color": "#ff0d0d",
           "id": "--atoms--147",
           "positions": [
            [
             2.2839262116803596,
             47.00214716353456,
             19.583195198763963
            ]
           ],
           "radius": 0.5,
           "tooltip": "O2- (2.284, 47.002, 19.583)",
           "type": "spheres"
          },
          {
           "clickable": true,
           "color": "#f0c8a0",
           "id": "--atoms--148",
           "positions": [
            [
             7.733949306529482,
             25.135335246220844,
             13.628555015491736
            ]
           ],
           "radius": 0.5,
           "tooltip": "Si (7.734, 25.135, 13.629)",
           "type": "spheres"
          },
          {
           "clickable": true,
           "color": "#f0c8a0",
           "id": "--atoms--149",
           "positions": [
            [
             -1.332208672289742e-15,
             7.733949306529491,
             12.261373015491733
            ]
           ],
           "radius": 0.5,
           "tooltip": "Si (-0.000, 7.734, 12.261)",
           "type": "spheres"
          },
          {
           "clickable": true,
           "color": "#ff0d0d",
           "id": "--atoms--150",
           "positions": [
            [
             2.5248392559627595,
             11.60505545163663,
             19.798771957269242
            ]
           ],
           "radius": 0.5,
           "tooltip": "O2- (2.525, 11.605, 19.799)",
           "type": "spheres"
          },
          {
           "clickable": true,
           "color": "#f0c8a0",
           "id": "--atoms--151",
           "positions": [
            [
             5.8004619798971095,
             27.068822572853218,
             10.894191015491737
            ]
           ],
           "radius": 0.5,
           "tooltip": "Si (5.800, 27.069, 10.894)",
           "type": "spheres"
          },
          {
           "clickable": true,
           "color": "#f0c8a0",
           "id": "--atoms--152",
           "positions": [
            [
             7.733949306529486,
             15.467898613058981,
             12.261373015491733
            ]
           ],
           "radius": 0.5,
           "tooltip": "Si (7.734, 15.468, 12.261)",
           "type": "spheres"
          },
          {
           "clickable": true,
           "color": "#f0c8a0",
           "id": "--atoms--153",
           "positions": [
            [
             3.866974653264743,
             3.8669746532647435,
             12.261373015491735
            ]
           ],
           "radius": 0.5,
           "tooltip": "Si (3.867, 3.867, 12.261)",
           "type": "spheres"
          },
          {
           "clickable": true,
           "color": "#e06633",
           "id": "--atoms--154",
           "positions": [
            [
             6.2096107338440625,
             5.757210290732355,
             19.413587661588114
            ]
           ],
           "radius": 0.5,
           "tooltip": "Fe2+ (6.210, 5.757, 19.414)",
           "type": "spheres"
          },
          {
           "clickable": true,
           "color": "#ff0d0d",
           "id": "--atoms--155",
           "positions": [
            [
             6.1859733742994845,
             24.171477521341142,
             21.278773663116176
            ]
           ],
           "radius": 0.5,
           "tooltip": "O2- (6.186, 24.171, 21.279)",
           "type": "spheres"
          },
          {
           "clickable": true,
           "color": "#f0c8a0",
           "id": "--atoms--156",
           "positions": [
            [
             1.93348732663237,
             44.47020851254457,
             9.527009015491739
            ]
           ],
           "radius": 0.5,
           "tooltip": "Si (1.933, 44.470, 9.527)",
           "type": "spheres"
          },
          {
           "clickable": true,
           "color": "#f0c8a0",
           "id": "--atoms--157",
           "positions": [
            [
             5.800461979897106,
             32.86928455275034,
             9.527009015491736
            ]
           ],
           "radius": 0.5,
           "tooltip": "Si (5.800, 32.869, 9.527)",
           "type": "spheres"
          },
          {
           "clickable": true,
           "color": "#f0c8a0",
           "id": "--atoms--158",
           "positions": [
            [
             1.9334873266323698,
             19.334873266323726,
             10.894191015491739
            ]
           ],
           "radius": 0.5,
           "tooltip": "Si (1.933, 19.335, 10.894)",
           "type": "spheres"
          },
          {
           "clickable": true,
           "color": "#ff0d0d",
           "id": "--atoms--159",
           "positions": [
            [
             0.9780493946568593,
             44.0876425390605,
             19.798771957269253
            ]
           ],
           "radius": 0.5,
           "tooltip": "O2- (0.978, 44.088, 19.799)",
           "type": "spheres"
          },
          {
           "clickable": true,
           "color": "#ff8000",
           "id": "--atoms--160",
           "positions": [
            [
             4.784352147536937,
             14.101153906188733,
             20.71826563300403
            ]
           ],
           "radius": 0.5,
           "tooltip": "P5+ (4.784, 14.101, 20.718)",
           "type": "spheres"
          },
          {
           "clickable": true,
           "color": "#f0c8a0",
           "id": "--atoms--161",
           "positions": [
            [
             3.866974653264742,
             5.800461979897116,
             13.628555015491735
            ]
           ],
           "radius": 0.5,
           "tooltip": "Si (3.867, 5.800, 13.629)",
           "type": "spheres"
          },
          {
           "clickable": true,
           "color": "#f0c8a0",
           "id": "--atoms--162",
           "positions": [
            [
             3.866974653264732,
             48.337183165809314,
             13.628555015491738
            ]
           ],
           "radius": 0.5,
           "tooltip": "Si (3.867, 48.337, 13.629)",
           "type": "spheres"
          },
          {
           "clickable": true,
           "color": "#ff0d0d",
           "id": "--atoms--163",
           "positions": [
            [
             0.8610453417042594,
             51.03293136402198,
             19.21409519671574
            ]
           ],
           "radius": 0.5,
           "tooltip": "O2- (0.861, 51.033, 19.214)",
           "type": "spheres"
          },
          {
           "clickable": true,
           "color": "#e06633",
           "id": "--atoms--164",
           "positions": [
            [
             7.610756607545999,
             54.542127283505216,
             19.239120299495585
            ]
           ],
           "radius": 0.5,
           "tooltip": "Fe2+ (7.611, 54.542, 19.239)",
           "type": "spheres"
          },
          {
           "clickable": true,
           "color": "#f0c8a0",
           "id": "--atoms--165",
           "positions": [
            [
             1.9334873266323558,
             50.270670492441695,
             10.89419101549174
            ]
           ],
           "radius": 0.5,
           "tooltip": "Si (1.933, 50.271, 10.894)",
           "type": "spheres"
          },
          {
           "clickable": true,
           "color": "#f0c8a0",
           "id": "--atoms--166",
           "positions": [
            [
             5.800461979897112,
             38.66974653264745,
             10.89419101549174
            ]
           ],
           "radius": 0.5,
           "tooltip": "Si (5.800, 38.670, 10.894)",
           "type": "spheres"
          },
          {
           "clickable": true,
           "color": "#f0c8a0",
           "id": "--atoms--167",
           "positions": [
            [
             5.800461979897118,
             0,
             10.894191015491733
            ]
           ],
           "radius": 0.5,
           "tooltip": "Si (5.800, 0.000, 10.894)",
           "type": "spheres"
          },
          {
           "clickable": true,
           "color": "#cc80ff",
           "id": "--atoms--168",
           "positions": [
            [
             7.225913074850507,
             40.053941244964555,
             20.975746487355504
            ]
           ],
           "radius": 0.5,
           "tooltip": "Li+ (7.226, 40.054, 20.976)",
           "type": "spheres"
          },
          {
           "clickable": true,
           "color": "#cc80ff",
           "id": "--atoms--169",
           "positions": [
            [
             3.434755192721181,
             35.25663091409963,
             19.21366348638049
            ]
           ],
           "radius": 0.5,
           "tooltip": "Li+ (3.435, 35.257, 19.214)",
           "type": "spheres"
          },
          {
           "clickable": true,
           "color": "#ff8000",
           "id": "--atoms--170",
           "positions": [
            [
             1.2072106151548587,
             -1.9374889549885148,
             20.139005515595514
            ]
           ],
           "radius": 0.5,
           "tooltip": "P5+ (1.207, -1.937, 20.139)",
           "type": "spheres"
          },
          {
           "clickable": true,
           "color": "#f0c8a0",
           "id": "--atoms--171",
           "positions": [
            [
             1.9334873266323676,
             13.534411286426609,
             9.527009015491737
            ]
           ],
           "radius": 0.5,
           "tooltip": "Si (1.933, 13.534, 9.527)",
           "type": "spheres"
          },
          {
           "clickable": true,
           "color": "#f0c8a0",
           "id": "--atoms--172",
           "positions": [
            [
             5.800461979897117,
             1.9334873266323727,
             9.527009015491734
            ]
           ],
           "radius": 0.5,
           "tooltip": "Si (5.800, 1.933, 9.527)",
           "type": "spheres"
          },
          {
           "clickable": true,
           "color": "#f0c8a0",
           "id": "--atoms--173",
           "positions": [
            [
             -9.088676799452963e-15,
             50.270670492441695,
             12.261373015491737
            ]
           ],
           "radius": 0.5,
           "tooltip": "Si (-0.000, 50.271, 12.261)",
           "type": "spheres"
          },
          {
           "clickable": true,
           "color": "#ff0d0d",
           "id": "--atoms--174",
           "positions": [
            [
             0.6991677303695832,
             48.97005313707762,
             21.317602924125662
            ]
           ],
           "radius": 0.5,
           "tooltip": "O2- (0.699, 48.970, 21.318)",
           "type": "spheres"
          },
          {
           "clickable": true,
           "color": "#f0c8a0",
           "id": "--atoms--175",
           "positions": [
            [
             7.733949306529487,
             54.137645145706436,
             12.261373015491737
            ]
           ],
           "radius": 0.5,
           "tooltip": "Si (7.734, 54.138, 12.261)",
           "type": "spheres"
          },
          {
           "clickable": true,
           "color": "#ff0d0d",
           "id": "--atoms--176",
           "positions": [
            [
             -0.178694401485492,
             41.13538852245986,
             19.21323177604526
            ]
           ],
           "radius": 0.5,
           "tooltip": "O2- (-0.179, 41.135, 19.213)",
           "type": "spheres"
          },
          {
           "clickable": true,
           "color": "#e06633",
           "id": "--atoms--177",
           "positions": [
            [
             0.8055436392022601,
             37.626192602976616,
             19.1882066732654
            ]
           ],
           "radius": 0.5,
           "tooltip": "Fe2+ (0.806, 37.626, 19.188)",
           "type": "spheres"
          },
          {
           "clickable": true,
           "color": "#f0c8a0",
           "id": "--atoms--178",
           "positions": [
            [
             3.866974653264739,
             17.40138593969135,
             13.628555015491733
            ]
           ],
           "radius": 0.5,
           "tooltip": "Si (3.867, 17.401, 13.629)",
           "type": "spheres"
          },
          {
           "clickable": true,
           "color": "#ff8000",
           "id": "--atoms--179",
           "positions": [
            [
             5.847580199072553,
             8.890040074152767,
             20.139005515595507
            ]
           ],
           "radius": 0.5,
           "tooltip": "P5+ (5.848, 8.890, 20.139)",
           "type": "spheres"
          },
          {
           "clickable": true,
           "color": "#ff0d0d",
           "id": "--atoms--180",
           "positions": [
            [
             5.891460990785502,
             26.42561928913877,
             18.628555015491738
            ]
           ],
           "radius": 0.5,
           "tooltip": "O2- (5.891, 26.426, 18.629)",
           "type": "spheres"
          },
          {
           "clickable": true,
           "color": "#ff0d0d",
           "id": "--atoms--181",
           "positions": [
            [
             7.565498974107838,
             52.792887411134046,
             20.633890050585347
            ]
           ],
           "radius": 0.5,
           "tooltip": "O2- (7.565, 52.793, 20.634)",
           "type": "spheres"
          },
          {
           "clickable": true,
           "color": "#f0c8a0",
           "id": "--atoms--182",
           "positions": [
            [
             7.7339493065294835,
             27.068822572853218,
             12.261373015491737
            ]
           ],
           "radius": 0.5,
           "tooltip": "Si (7.734, 27.069, 12.261)",
           "type": "spheres"
          },
          {
           "clickable": true,
           "color": "#f0c8a0",
           "id": "--atoms--183",
           "positions": [
            [
             7.733949306529483,
             36.73625920601507,
             13.628555015491738
            ]
           ],
           "radius": 0.5,
           "tooltip": "Si (7.734, 36.736, 13.629)",
           "type": "spheres"
          },
          {
           "clickable": true,
           "color": "#f0c8a0",
           "id": "--atoms--184",
           "positions": [
            [
             3.866974653264728,
             -1.933487326632384,
             13.628555015491735
            ]
           ],
           "radius": 0.5,
           "tooltip": "Si (3.867, -1.933, 13.629)",
           "type": "spheres"
          },
          {
           "clickable": true,
           "color": "#ff0d0d",
           "id": "--atoms--185",
           "positions": [
            [
             3.707039721389053,
             19.336927360296663,
             21.287947067219253
            ]
           ],
           "radius": 0.5,
           "tooltip": "O2- (3.707, 19.337, 21.288)",
           "type": "spheres"
          },
          {
           "clickable": true,
           "color": "#ff0d0d",
           "id": "--atoms--186",
           "positions": [
            [
             5.501414925621957,
             7.722815247456818,
             19.21409519671573
            ]
           ],
           "radius": 0.5,
           "tooltip": "O2- (5.501, 7.723, 19.214)",
           "type": "spheres"
          },
          {
           "clickable": true,
           "color": "#ff0d0d",
           "id": "--atoms--187",
           "positions": [
            [
             3.6254831914838324,
             45.10887593944667,
             20.67271931159483
            ]
           ],
           "radius": 0.5,
           "tooltip": "O2- (3.625, 45.109, 20.673)",
           "type": "spheres"
          },
          {
           "clickable": true,
           "color": "#f0c8a0",
           "id": "--atoms--188",
           "positions": [
            [
             5.800461979897105,
             44.47020851254457,
             9.527009015491739
            ]
           ],
           "radius": 0.5,
           "tooltip": "Si (5.800, 44.470, 9.527)",
           "type": "spheres"
          },
          {
           "clickable": true,
           "color": "#e06633",
           "id": "--atoms--189",
           "positions": [
            [
             7.610756607546002,
             0.4044821377987831,
             19.239120299495582
            ]
           ],
           "radius": 0.5,
           "tooltip": "Fe2+ (7.611, 0.404, 19.239)",
           "type": "spheres"
          },
          {
           "clickable": true,
           "color": "#cc80ff",
           "id": "--atoms--190",
           "positions": [
            [
             6.5283349153329775,
             -2.639720687894878,
             19.213663486380486
            ]
           ],
           "radius": 0.5,
           "tooltip": "Li+ (6.528, -2.640, 19.214)",
           "type": "spheres"
          },
          {
           "clickable": true,
           "color": "#f0c8a0",
           "id": "--atoms--191",
           "positions": [
            [
             3.866974653264739,
             46.40369583917694,
             12.261373015491738
            ]
           ],
           "radius": 0.5,
           "tooltip": "Si (3.867, 46.404, 12.261)",
           "type": "spheres"
          },
          {
           "clickable": true,
           "color": "#ff8000",
           "id": "--atoms--192",
           "positions": [
            [
             1.6907724249251317,
             24.928682935330013,
             20.718265633004023
            ]
           ],
           "radius": 0.5,
           "tooltip": "P5+ (1.691, 24.929, 20.718)",
           "type": "spheres"
          },
          {
           "clickable": true,
           "color": "#ff0d0d",
           "id": "--atoms--193",
           "positions": [
            [
             6.104416844394269,
             49.94342610049114,
             20.663545907491752
            ]
           ],
           "radius": 0.5,
           "tooltip": "O2- (6.104, 49.943, 20.664)",
           "type": "spheres"
          },
          {
           "clickable": true,
           "color": "#f0c8a0",
           "id": "--atoms--194",
           "positions": [
            [
             7.733949306529489,
             5.800461979897116,
             13.628555015491735
            ]
           ],
           "radius": 0.5,
           "tooltip": "Si (7.734, 5.800, 13.629)",
           "type": "spheres"
          },
          {
           "clickable": true,
           "color": "#ff0d0d",
           "id": "--atoms--195",
           "positions": [
            [
             5.339537314287282,
             5.6599370205124675,
             21.31760292412566
            ]
           ],
           "radius": 0.5,
           "tooltip": "O2- (5.340, 5.660, 21.318)",
           "type": "spheres"
          },
          {
           "clickable": true,
           "color": "#f0c8a0",
           "id": "--atoms--196",
           "positions": [
            [
             5.800461979897114,
             7.733949306529489,
             10.894191015491735
            ]
           ],
           "radius": 0.5,
           "tooltip": "Si (5.800, 7.734, 10.894)",
           "type": "spheres"
          },
          {
           "clickable": true,
           "color": "#f0c8a0",
           "id": "--atoms--197",
           "positions": [
            [
             5.800461979897112,
             50.27067049244168,
             10.89419101549174
            ]
           ],
           "radius": 0.5,
           "tooltip": "Si (5.800, 50.271, 10.894)",
           "type": "spheres"
          },
          {
           "clickable": true,
           "color": "#cc80ff",
           "id": "--atoms--198",
           "positions": [
            [
             4.13233335223871,
             23.812647701252615,
             20.975746487355497
            ]
           ],
           "radius": 0.5,
           "tooltip": "Li+ (4.132, 23.813, 20.976)",
           "type": "spheres"
          },
          {
           "clickable": true,
           "color": "#f0c8a0",
           "id": "--atoms--199",
           "positions": [
            [
             -3.316171483269505e-15,
             -1.933487326632384,
             13.628555015491735
            ]
           ],
           "radius": 0.5,
           "tooltip": "Si (-0.000, -1.933, 13.629)",
           "type": "spheres"
          },
          {
           "clickable": true,
           "color": "#ff0d0d",
           "id": "--atoms--200",
           "positions": [
            [
             5.377505934292151,
             36.17461813439328,
             19.583195198763963
            ]
           ],
           "radius": 0.5,
           "tooltip": "O2- (5.378, 36.175, 19.583)",
           "type": "spheres"
          },
          {
           "clickable": true,
           "color": "#ff0d0d",
           "id": "--atoms--201",
           "positions": [
            [
             0.6134599987772489,
             30.164456389437948,
             21.28794706721925
            ]
           ],
           "radius": 0.5,
           "tooltip": "O2- (0.613, 30.164, 21.288)",
           "type": "spheres"
          },
          {
           "clickable": true,
           "color": "#f0c8a0",
           "id": "--atoms--202",
           "positions": [
            [
             1.9334873266323642,
             25.135335246220848,
             9.527009015491736
            ]
           ],
           "radius": 0.5,
           "tooltip": "Si (1.933, 25.135, 9.527)",
           "type": "spheres"
          },
          {
           "clickable": true,
           "color": "#f0c8a0",
           "id": "--atoms--203",
           "positions": [
            [
             5.800461979897114,
             13.534411286426606,
             9.527009015491737
            ]
           ],
           "radius": 0.5,
           "tooltip": "Si (5.800, 13.534, 9.527)",
           "type": "spheres"
          },
          {
           "clickable": true,
           "color": "#f0c8a0",
           "id": "--atoms--204",
           "positions": [
            [
             -2.9012012511547145e-15,
             19.334873266323722,
             12.261373015491731
            ]
           ],
           "radius": 0.5,
           "tooltip": "Si (-0.000, 19.335, 12.261)",
           "type": "spheres"
          },
          {
           "clickable": true,
           "color": "#ff0d0d",
           "id": "--atoms--205",
           "positions": [
            [
             1.498192520504863,
             4.038206263163583,
             20.72193076564605
            ]
           ],
           "radius": 0.5,
           "tooltip": "O2- (1.498, 4.038, 20.722)",
           "type": "spheres"
          },
          {
           "clickable": true,
           "color": "#f0c8a0",
           "id": "--atoms--206",
           "positions": [
            [
             -7.401292267300374e-15,
             36.73625920601507,
             13.628555015491736
            ]
           ],
           "radius": 0.5,
           "tooltip": "Si (-0.000, 36.736, 13.629)",
           "type": "spheres"
          },
          {
           "clickable": true,
           "color": "#f0c8a0",
           "id": "--atoms--207",
           "positions": [
            [
             3.866974653264739,
             15.467898613058981,
             12.261373015491737
            ]
           ],
           "radius": 0.5,
           "tooltip": "Si (3.867, 15.468, 12.261)",
           "type": "spheres"
          },
          {
           "clickable": true,
           "color": "#ff8000",
           "id": "--atoms--208",
           "positions": [
            [
             0.8702966440989759,
             17.08019727006989,
             21.81248745911549
            ]
           ],
           "radius": 0.5,
           "tooltip": "P5+ (0.870, 17.080, 21.812)",
           "type": "spheres"
          },
          {
           "clickable": true,
           "color": "#ff0d0d",
           "id": "--atoms--209",
           "positions": [
            [
             4.6391835129935854,
             56.654064608765,
             21.278773663116176
            ]
           ],
           "radius": 0.5,
           "tooltip": "O2- (4.639, 56.654, 21.279)",
           "type": "spheres"
          },
          {
           "clickable": true,
           "color": "#e06633",
           "id": "--atoms--210",
           "positions": [
            [
             5.300269235516002,
             21.445935420901748,
             19.013739311172866
            ]
           ],
           "radius": 0.5,
           "tooltip": "Fe2+ (5.300, 21.446, 19.014)",
           "type": "spheres"
          },
          {
           "clickable": true,
           "color": "#f0c8a0",
           "id": "--atoms--211",
           "positions": [
            [
             3.866974653264737,
             29.00230989948559,
             13.628555015491736
            ]
           ],
           "radius": 0.5,
           "tooltip": "Si (3.867, 29.002, 13.629)",
           "type": "spheres"
          },
          {
           "clickable": true,
           "color": "#e06633",
           "id": "--atoms--212",
           "positions": [
            [
             -0.1231926989834881,
             0.4044821377987831,
             19.239120299495582
            ]
           ],
           "radius": 0.5,
           "tooltip": "Fe2+ (-0.123, 0.404, 19.239)",
           "type": "spheres"
          },
          {
           "clickable": true,
           "color": "#f0c8a0",
           "id": "--atoms--213",
           "positions": [
            [
             1.9334873266323638,
             30.935797226117963,
             10.894191015491737
            ]
           ],
           "radius": 0.5,
           "tooltip": "Si (1.933, 30.936, 10.894)",
           "type": "spheres"
          },
          {
           "clickable": true,
           "color": "#f0c8a0",
           "id": "--atoms--214",
           "positions": [
            [
             5.800461979897115,
             19.334873266323726,
             10.894191015491737
            ]
           ],
           "radius": 0.5,
           "tooltip": "Si (5.800, 19.335, 10.894)",
           "type": "spheres"
          },
          {
           "clickable": true,
           "color": "#ff0d0d",
           "id": "--atoms--215",
           "positions": [
            [
             1.3783395288842484,
             20.310300323710187,
             20.63389005058534
            ]
           ],
           "radius": 0.5,
           "tooltip": "O2- (1.378, 20.310, 20.634)",
           "type": "spheres"
          },
          {
           "clickable": true,
           "color": "#ff0d0d",
           "id": "--atoms--216",
           "positions": [
            [
             0.5793147387489697,
             11.104502051917784,
             21.229562209064945
            ]
           ],
           "radius": 0.5,
           "tooltip": "O2- (0.579, 11.105, 21.230)",
           "type": "spheres"
          },
          {
           "clickable": true,
           "color": "#f0c8a0",
           "id": "--atoms--217",
           "positions": [
            [
             -9.355357892154166e-15,
             40.60323385927982,
             13.628555015491736
            ]
           ],
           "radius": 0.5,
           "tooltip": "Si (-0.000, 40.603, 13.629)",
           "type": "spheres"
          },
          {
           "clickable": true,
           "color": "#f0c8a0",
           "id": "--atoms--218",
           "positions": [
            [
             7.733949306529481,
             48.337183165809314,
             13.628555015491738
            ]
           ],
           "radius": 0.5,
           "tooltip": "Si (7.734, 48.337, 13.629)",
           "type": "spheres"
          },
          {
           "clickable": true,
           "color": "#f0c8a0",
           "id": "--atoms--219",
           "positions": [
            [
             -7.046116407437528e-15,
             30.935797226117963,
             12.261373015491735
            ]
           ],
           "radius": 0.5,
           "tooltip": "Si (-0.000, 30.936, 12.261)",
           "type": "spheres"
          },
          {
           "clickable": true,
           "color": "#f0c8a0",
           "id": "--atoms--220",
           "positions": [
            [
             1.933487326632366,
             54.137645145706436,
             10.894191015491739
            ]
           ],
           "radius": 0.5,
           "tooltip": "Si (1.933, 54.138, 10.894)",
           "type": "spheres"
          },
          {
           "clickable": true,
           "color": "#ff0d0d",
           "id": "--atoms--221",
           "positions": [
            [
             7.438250852091407,
             48.08067734742134,
             18.62855501549174
            ]
           ],
           "radius": 0.5,
           "tooltip": "O2- (7.438, 48.081, 18.629)",
           "type": "spheres"
          },
          {
           "clickable": true,
           "color": "#f0c8a0",
           "id": "--atoms--222",
           "positions": [
            [
             7.733949306529479,
             38.66974653264744,
             12.261373015491738
            ]
           ],
           "radius": 0.5,
           "tooltip": "Si (7.734, 38.670, 12.261)",
           "type": "spheres"
          },
          {
           "clickable": true,
           "color": "#f0c8a0",
           "id": "--atoms--223",
           "positions": [
            [
             3.813131406801419e-31,
             0,
             12.261373015491733
            ]
           ],
           "radius": 0.5,
           "tooltip": "Si (0.000, 0.000, 12.261)",
           "type": "spheres"
          },
          {
           "clickable": true,
           "color": "#e06633",
           "id": "--atoms--224",
           "positions": [
            [
             2.970387023628301,
             43.71459825436394,
             19.239120299495585
            ]
           ],
           "radius": 0.5,
           "tooltip": "Fe2+ (2.970, 43.715, 19.239)",
           "type": "spheres"
          },
          {
           "clickable": true,
           "color": "#cc80ff",
           "id": "--atoms--225",
           "positions": [
            [
             3.434755192721185,
             8.18780834124641,
             19.213663486380486
            ]
           ],
           "radius": 0.5,
           "tooltip": "Li+ (3.435, 8.188, 19.214)",
           "type": "spheres"
          },
          {
           "clickable": true,
           "color": "#ff8000",
           "id": "--atoms--226",
           "positions": [
            [
             1.9335246956345922,
             11.869083438033925,
             21.233227341706964
            ]
           ],
           "radius": 0.5,
           "tooltip": "P5+ (1.934, 11.869, 21.233)",
           "type": "spheres"
          },
          {
           "clickable": true,
           "color": "#ff0d0d",
           "id": "--atoms--227",
           "positions": [
            [
             3.044982381810758,
             25.693264321446165,
             20.72193076564605
            ]
           ],
           "radius": 0.5,
           "tooltip": "O2- (3.045, 25.693, 20.722)",
           "type": "spheres"
          },
          {
           "clickable": true,
           "color": "#ff0d0d",
           "id": "--atoms--228",
           "positions": [
            [
             5.618418978574553,
             0.7775264224953479,
             19.798771957269246
            ]
           ],
           "radius": 0.5,
           "tooltip": "O2- (5.618, 0.778, 19.799)",
           "type": "spheres"
          },
          {
           "clickable": true,
           "color": "#f0c8a0",
           "id": "--atoms--229",
           "positions": [
            [
             7.733949306529489,
             7.733949306529491,
             12.261373015491737
            ]
           ],
           "radius": 0.5,
           "tooltip": "Si (7.734, 7.734, 12.261)",
           "type": "spheres"
          },
          {
           "clickable": true,
           "color": "#ff0d0d",
           "id": "--atoms--230",
           "positions": [
            [
             4.5855841737620056,
             23.511114664664706,
             18.844131773997024
            ]
           ],
           "radius": 0.5,
           "tooltip": "O2- (4.586, 23.511, 18.844)",
           "type": "spheres"
          },
          {
           "clickable": true,
           "color": "#ff0d0d",
           "id": "--atoms--231",
           "positions": [
            [
             4.639183512993589,
             2.516419463058559,
             21.278773663116173
            ]
           ],
           "radius": 0.5,
           "tooltip": "O2- (4.639, 2.516, 21.279)",
           "type": "spheres"
          },
          {
           "clickable": true,
           "color": "#f0c8a0",
           "id": "--atoms--232",
           "positions": [
            [
             1.9334873266323602,
             36.73625920601508,
             9.527009015491736
            ]
           ],
           "radius": 0.5,
           "tooltip": "Si (1.933, 36.736, 9.527)",
           "type": "spheres"
          },
          {
           "clickable": true,
           "color": "#cc80ff",
           "id": "--atoms--233",
           "positions": [
            [
             1.0387536296269138,
             34.640176730393904,
             20.9757464873555
            ]
           ],
           "radius": 0.5,
           "tooltip": "Li+ (1.039, 34.640, 20.976)",
           "type": "spheres"
          },
          {
           "clickable": true,
           "color": "#ff0d0d",
           "id": "--atoms--234",
           "positions": [
            [
             2.1261046000548633,
             32.75956011020037,
             21.229562209064948
            ]
           ],
           "radius": 0.5,
           "tooltip": "O2- (2.126, 32.760, 21.230)",
           "type": "spheres"
          },
          {
           "clickable": true,
           "color": "#f0c8a0",
           "id": "--atoms--235",
           "positions": [
            [
             -9.828925705304627e-15,
             48.337183165809314,
             13.628555015491738
            ]
           ],
           "radius": 0.5,
           "tooltip": "Si (-0.000, 48.337, 13.629)",
           "type": "spheres"
          },
          {
           "clickable": true,
           "color": "#f0c8a0",
           "id": "--atoms--236",
           "positions": [
            [
             3.866974653264735,
             27.068822572853218,
             12.261373015491737
            ]
           ],
           "radius": 0.5,
           "tooltip": "Si (3.867, 27.069, 12.261)",
           "type": "spheres"
          },
          {
           "clickable": true,
           "color": "#ff8000",
           "id": "--atoms--237",
           "positions": [
            [
             5.5106662280166665,
             27.907726299211184,
             21.812487459115495
            ]
           ],
           "radius": 0.5,
           "tooltip": "P5+ (5.511, 27.908, 21.812)",
           "type": "spheres"
          },
          {
           "clickable": true,
           "color": "#ff0d0d",
           "id": "--atoms--238",
           "positions": [
            [
             -0.29569845443808396,
             48.08067734742134,
             18.62855501549174
            ]
           ],
           "radius": 0.5,
           "tooltip": "O2- (-0.296, 48.081, 18.629)",
           "type": "spheres"
          },
          {
           "clickable": true,
           "color": "#e06633",
           "id": "--atoms--239",
           "positions": [
            [
             2.206689512904202,
             32.27346445004304,
             19.01373931117287
            ]
           ],
           "radius": 0.5,
           "tooltip": "Fe2+ (2.207, 32.273, 19.014)",
           "type": "spheres"
          },
          {
           "clickable": true,
           "color": "#f0c8a0",
           "id": "--atoms--240",
           "positions": [
            [
             7.733949306529487,
             -1.933487326632384,
             13.628555015491735
            ]
           ],
           "radius": 0.5,
           "tooltip": "Si (7.734, -1.933, 13.629)",
           "type": "spheres"
          },
          {
           "clickable": true,
           "color": "#cc80ff",
           "id": "--atoms--241",
           "positions": [
            [
             8.075124776638871,
             46.08415994324091,
             19.213663486380486
            ]
           ],
           "radius": 0.5,
           "tooltip": "Li+ (8.075, 46.084, 19.214)",
           "type": "spheres"
          },
          {
           "clickable": true,
           "color": "#e06633",
           "id": "--atoms--242",
           "positions": [
            [
             7.756400595149953,
             27.412268349014933,
             19.413587661588117
            ]
           ],
           "radius": 0.5,
           "tooltip": "Fe2+ (7.756, 27.412, 19.414)",
           "type": "spheres"
          },
          {
           "clickable": true,
           "color": "#f0c8a0",
           "id": "--atoms--243",
           "positions": [
            [
             -1.095424765714511e-14,
             38.66974653264744,
             12.261373015491735
            ]
           ],
           "radius": 0.5,
           "tooltip": "Si (-0.000, 38.670, 12.261)",
           "type": "spheres"
          },
          {
           "clickable": true,
           "color": "#ff0d0d",
           "id": "--atoms--244",
           "positions": [
            [
             4.344671129479614,
             4.770561230856189,
             18.628555015491735
            ]
           ],
           "radius": 0.5,
           "tooltip": "O2- (4.345, 4.771, 18.629)",
           "type": "spheres"
          },
          {
           "clickable": true,
           "color": "#ff0d0d",
           "id": "--atoms--245",
           "positions": [
            [
             5.092436200650232,
             17.219821017346366,
             19.22422717397134
            ]
           ],
           "radius": 0.5,
           "tooltip": "O2- (5.092, 17.220, 19.224)",
           "type": "spheres"
          },
          {
           "clickable": true,
           "color": "#f0c8a0",
           "id": "--atoms--246",
           "positions": [
            [
             1.9334873266323693,
             0,
             10.894191015491737
            ]
           ],
           "radius": 0.5,
           "tooltip": "Si (1.933, 0.000, 10.894)",
           "type": "spheres"
          },
          {
           "clickable": true,
           "color": "#f0c8a0",
           "id": "--atoms--247",
           "positions": [
            [
             1.9334873266323598,
             42.53672118591219,
             10.89419101549174
            ]
           ],
           "radius": 0.5,
           "tooltip": "Si (1.933, 42.537, 10.894)",
           "type": "spheres"
          },
          {
           "clickable": true,
           "color": "#f0c8a0",
           "id": "--atoms--248",
           "positions": [
            [
             5.800461979897106,
             30.935797226117963,
             10.894191015491737
            ]
           ],
           "radius": 0.5,
           "tooltip": "Si (5.800, 30.936, 10.894)",
           "type": "spheres"
          },
          {
           "clickable": true,
           "color": "#ff0d0d",
           "id": "--atoms--249",
           "positions": [
            [
             -0.08274260082932335,
             17.460839013067286,
             20.663545907491745
            ]
           ],
           "radius": 0.5,
           "tooltip": "O2- (-0.083, 17.461, 20.664)",
           "type": "spheres"
          },
          {
           "clickable": true,
           "color": "#cc80ff",
           "id": "--atoms--250",
           "positions": [
            [
             5.679123213544612,
             18.39888318668197,
             20.975746487355497
            ]
           ],
           "radius": 0.5,
           "tooltip": "Li+ (5.679, 18.399, 20.976)",
           "type": "spheres"
          },
          {
           "clickable": true,
           "color": "#ff0d0d",
           "id": "--atoms--251",
           "positions": [
            [
             1.4640472604765704,
             39.11589707134987,
             20.663545907491752
            ]
           ],
           "radius": 0.5,
           "tooltip": "O2- (1.464, 39.116, 20.664)",
           "type": "spheres"
          },
          {
           "clickable": true,
           "color": "#f0c8a0",
           "id": "--atoms--252",
           "positions": [
            [
             7.733949306529485,
             17.40138593969135,
             13.628555015491733
            ]
           ],
           "radius": 0.5,
           "tooltip": "Si (7.734, 17.401, 13.629)",
           "type": "spheres"
          },
          {
           "clickable": true,
           "color": "#f0c8a0",
           "id": "--atoms--253",
           "positions": [
            [
             1.93348732663237,
             5.8004619798971175,
             9.527009015491734
            ]
           ],
           "radius": 0.5,
           "tooltip": "Si (1.933, 5.800, 9.527)",
           "type": "spheres"
          },
          {
           "clickable": true,
           "color": "#f0c8a0",
           "id": "--atoms--254",
           "positions": [
            [
             1.933487326632356,
             48.337183165809314,
             9.527009015491739
            ]
           ],
           "radius": 0.5,
           "tooltip": "Si (1.933, 48.337, 9.527)",
           "type": "spheres"
          },
          {
           "clickable": true,
           "color": "#ff0d0d",
           "id": "--atoms--255",
           "positions": [
            [
             0.4520666167325362,
             6.3922919882050735,
             19.224227173971332
            ]
           ],
           "radius": 0.5,
           "tooltip": "O2- (0.452, 6.392, 19.224)",
           "type": "spheres"
          },
          {
           "clickable": true,
           "color": "#f0c8a0",
           "id": "--atoms--256",
           "positions": [
            [
             -6.03918640888466e-15,
             42.53672118591219,
             12.261373015491735
            ]
           ],
           "radius": 0.5,
           "tooltip": "Si (-0.000, 42.537, 12.261)",
           "type": "spheres"
          },
          {
           "clickable": true,
           "color": "#f0c8a0",
           "id": "--atoms--257",
           "positions": [
            [
             7.733949306529481,
             50.270670492441695,
             12.261373015491738
            ]
           ],
           "radius": 0.5,
           "tooltip": "Si (7.734, 50.271, 12.261)",
           "type": "spheres"
          },
          {
           "clickable": true,
           "color": "#ff0d0d",
           "id": "--atoms--258",
           "positions": [
            [
             -0.001186070924108116,
             45.826535579623716,
             21.278773663116176
            ]
           ],
           "radius": 0.5,
           "tooltip": "O2- (-0.001, 45.827, 21.279)",
           "type": "spheres"
          },
          {
           "clickable": true,
           "color": "#e06633",
           "id": "--atoms--259",
           "positions": [
            [
             1.5692411499263657,
             49.06732640729751,
             19.413587661588117
            ]
           ],
           "radius": 0.5,
           "tooltip": "Fe2+ (1.569, 49.067, 19.414)",
           "type": "spheres"
          },
          {
           "clickable": true,
           "color": "#e06633",
           "id": "--atoms--260",
           "positions": [
            [
             6.992703084425857,
             15.971134544694037,
             19.188206673265405
            ]
           ],
           "radius": 0.5,
           "tooltip": "Fe2+ (6.993, 15.971, 19.188)",
           "type": "spheres"
          },
          {
           "clickable": true,
           "color": "#cc80ff",
           "id": "--atoms--261",
           "positions": [
            [
             8.075124776638877,
             19.015337370387698,
             19.213663486380486
            ]
           ],
           "radius": 0.5,
           "tooltip": "Li+ (8.075, 19.015, 19.214)",
           "type": "spheres"
          },
          {
           "clickable": true,
           "color": "#ff0d0d",
           "id": "--atoms--262",
           "positions": [
            [
             7.5552549050439985,
             41.13538852245986,
             19.21323177604526
            ]
           ],
           "radius": 0.5,
           "tooltip": "O2- (7.555, 41.135, 19.213)",
           "type": "spheres"
          },
          {
           "clickable": true,
           "color": "#f0c8a0",
           "id": "--atoms--263",
           "positions": [
            [
             5.800461979897113,
             25.135335246220848,
             9.527009015491736
            ]
           ],
           "radius": 0.5,
           "tooltip": "Si (5.800, 25.135, 9.527)",
           "type": "spheres"
          },
          {
           "clickable": true,
           "color": "#f0c8a0",
           "id": "--atoms--264",
           "positions": [
            [
             1.9334873266323687,
             11.600923959794235,
             10.894191015491735
            ]
           ],
           "radius": 0.5,
           "tooltip": "Si (1.933, 11.601, 10.894)",
           "type": "spheres"
          },
          {
           "clickable": true,
           "color": "#ff0d0d",
           "id": "--atoms--265",
           "positions": [
            [
             7.16520883988045,
             22.43258448077792,
             19.798771957269246
            ]
           ],
           "radius": 0.5,
           "tooltip": "O2- (7.165, 22.433, 19.799)",
           "type": "spheres"
          },
          {
           "clickable": true,
           "color": "#ff0d0d",
           "id": "--atoms--266",
           "positions": [
            [
             6.4174437687098305,
             9.983324694287742,
             19.203099798789644
            ]
           ],
           "radius": 0.5,
           "tooltip": "O2- (6.417, 9.983, 19.203)",
           "type": "spheres"
          },
          {
           "clickable": true,
           "color": "#f0c8a0",
           "id": "--atoms--267",
           "positions": [
            [
             7.733949306529478,
             29.00230989948559,
             13.628555015491736
            ]
           ],
           "radius": 0.5,
           "tooltip": "Si (7.734, 29.002, 13.629)",
           "type": "spheres"
          },
          {
           "clickable": true,
           "color": "#f0c8a0",
           "id": "--atoms--268",
           "positions": [
            [
             3.866974653264736,
             40.60323385927982,
             13.628555015491738
            ]
           ],
           "radius": 0.5,
           "tooltip": "Si (3.867, 40.603, 13.629)",
           "type": "spheres"
          },
          {
           "clickable": true,
           "color": "#f0c8a0",
           "id": "--atoms--269",
           "positions": [
            [
             -2.427633438004253e-15,
             11.600923959794235,
             12.261373015491733
            ]
           ],
           "radius": 0.5,
           "tooltip": "Si (-0.000, 11.601, 12.261)",
           "type": "spheres"
          },
          {
           "clickable": true,
           "color": "#ff0d0d",
           "id": "--atoms--270",
           "positions": [
            [
             1.492004451150206,
             34.33864369380599,
             18.84413177399702
            ]
           ],
           "radius": 0.5,
           "tooltip": "O2- (1.492, 34.339, 18.844)",
           "type": "spheres"
          },
          {
           "clickable": true,
           "color": "#ff0d0d",
           "id": "--atoms--271",
           "positions": [
            [
             -0.054785410155689024,
             12.683585635523412,
             18.84413177399702
            ]
           ],
           "radius": 0.5,
           "tooltip": "O2- (-0.055, 12.684, 18.844)",
           "type": "spheres"
          },
          {
           "clickable": true,
           "color": "#cc80ff",
           "id": "--atoms--272",
           "positions": [
            [
             1.8879653314152869,
             13.601572855817052,
             19.213663486380494
            ]
           ],
           "radius": 0.5,
           "tooltip": "Li+ (1.888, 13.602, 19.214)",
           "type": "spheres"
          },
          {
           "clickable": true,
           "color": "#e06633",
           "id": "--atoms--273",
           "positions": [
            [
             4.662820872538155,
             38.239797378156226,
             19.413587661588117
            ]
           ],
           "radius": 0.5,
           "tooltip": "Fe2+ (4.663, 38.240, 19.414)",
           "type": "spheres"
          },
          {
           "clickable": true,
           "color": "#f0c8a0",
           "id": "--atoms--274",
           "positions": [
            [
             -5.35873187528494e-15,
             17.40138593969135,
             13.628555015491733
            ]
           ],
           "radius": 0.5,
           "tooltip": "Si (-0.000, 17.401, 13.629)",
           "type": "spheres"
          },
          {
           "clickable": true,
           "color": "#f0c8a0",
           "id": "--atoms--275",
           "positions": [
            [
             3.8669746532647395,
             38.66974653264745,
             12.261373015491737
            ]
           ],
           "radius": 0.5,
           "tooltip": "Si (3.867, 38.670, 12.261)",
           "type": "spheres"
          },
          {
           "clickable": true,
           "color": "#ff0d0d",
           "id": "--atoms--276",
           "positions": [
            [
             2.160249860083158,
             -2.318130697985906,
             21.287947067219246
            ]
           ],
           "radius": 0.5,
           "tooltip": "O2- (2.160, -2.318, 21.288)",
           "type": "spheres"
          },
          {
           "clickable": true,
           "color": "#f0c8a0",
           "id": "--atoms--277",
           "positions": [
            [
             1.9334873266323698,
             -1.933487326632384,
             9.527009015491736
            ]
           ],
           "radius": 0.5,
           "tooltip": "Si (1.933, -1.933, 9.527)",
           "type": "spheres"
          },
          {
           "clickable": true,
           "color": "#ff0d0d",
           "id": "--atoms--278",
           "positions": [
            [
             1.9988564780384301,
             28.04735004648765,
             19.224227173971336
            ]
           ],
           "radius": 0.5,
           "tooltip": "O2- (1.999, 28.047, 19.224)",
           "type": "spheres"
          },
          {
           "clickable": true,
           "color": "#f0c8a0",
           "id": "--atoms--279",
           "positions": [
            [
             5.800461979897114,
             54.137645145706436,
             10.894191015491739
            ]
           ],
           "radius": 0.5,
           "tooltip": "Si (5.800, 54.138, 10.894)",
           "type": "spheres"
          },
          {
           "clickable": true,
           "color": "#f0c8a0",
           "id": "--atoms--280",
           "positions": [
            [
             3.8669746532647427,
             9.667436633161861,
             13.628555015491735
            ]
           ],
           "radius": 0.5,
           "tooltip": "Si (3.867, 9.667, 13.629)",
           "type": "spheres"
          },
          {
           "clickable": true,
           "color": "#ff8000",
           "id": "--atoms--281",
           "positions": [
            [
             1.2072106151548554,
             52.20015619071792,
             20.139005515595517
            ]
           ],
           "radius": 0.5,
           "tooltip": "P5+ (1.207, 52.200, 20.139)",
           "type": "spheres"
          },
          {
           "clickable": true,
           "color": "#ff0d0d",
           "id": "--atoms--282",
           "positions": [
            [
             3.8307160729862604,
             14.519560076110695,
             19.58319519876396
            ]
           ],
           "radius": 0.5,
           "tooltip": "O2- (3.831, 14.520, 19.583)",
           "type": "spheres"
          },
          {
           "clickable": true,
           "color": "#ff0d0d",
           "id": "--atoms--283",
           "positions": [
            [
             6.8006194440008505,
             8.50939833115537,
             21.287947067219246
            ]
           ],
           "radius": 0.5,
           "tooltip": "O2- (6.801, 8.509, 21.288)",
           "type": "spheres"
          },
          {
           "clickable": true,
           "color": "#f0c8a0",
           "id": "--atoms--284",
           "positions": [
            [
             1.9334873266323664,
             17.40138593969135,
             9.527009015491737
            ]
           ],
           "radius": 0.5,
           "tooltip": "Si (1.933, 17.401, 9.527)",
           "type": "spheres"
          },
          {
           "clickable": true,
           "color": "#cc80ff",
           "id": "--atoms--285",
           "positions": [
            [
             2.5855434909328103,
             29.226412215823267,
             20.9757464873555
            ]
           ],
           "radius": 0.5,
           "tooltip": "Li+ (2.586, 29.226, 20.976)",
           "type": "spheres"
          },
          {
           "clickable": true,
           "color": "#ff0d0d",
           "id": "--atoms--286",
           "positions": [
            [
             0.230284323486232,
             31.638382752570326,
             19.203099798789648
            ]
           ],
           "radius": 0.5,
           "tooltip": "O2- (0.230, 31.638, 19.203)",
           "type": "spheres"
          },
          {
           "clickable": true,
           "color": "#f0c8a0",
           "id": "--atoms--287",
           "positions": [
            [
             -1.2079569608985595e-14,
             29.00230989948559,
             13.628555015491736
            ]
           ],
           "radius": 0.5,
           "tooltip": "Si (-0.000, 29.002, 13.629)",
           "type": "spheres"
          },
          {
           "clickable": true,
           "color": "#f0c8a0",
           "id": "--atoms--288",
           "positions": [
            [
             7.733949306529488,
             19.334873266323722,
             12.261373015491733
            ]
           ],
           "radius": 0.5,
           "tooltip": "Si (7.734, 19.335, 12.261)",
           "type": "spheres"
          },
          {
           "clickable": true,
           "color": "#f0c8a0",
           "id": "--atoms--289",
           "positions": [
            [
             3.866974653264745,
             7.733949306529489,
             12.261373015491735
            ]
           ],
           "radius": 0.5,
           "tooltip": "Si (3.867, 7.734, 12.261)",
           "type": "spheres"
          },
          {
           "clickable": true,
           "color": "#f0c8a0",
           "id": "--atoms--290",
           "positions": [
            [
             3.8669746532647356,
             50.270670492441695,
             12.261373015491738
            ]
           ],
           "radius": 0.5,
           "tooltip": "Si (3.867, 50.271, 12.261)",
           "type": "spheres"
          },
          {
           "clickable": true,
           "color": "#ff0d0d",
           "id": "--atoms--291",
           "positions": [
            [
             3.672894461360764,
             54.41461816848294,
             21.229562209064948
            ]
           ],
           "radius": 0.5,
           "tooltip": "O2- (3.673, 54.415, 21.230)",
           "type": "spheres"
          },
          {
           "clickable": true,
           "color": "#f0c8a0",
           "id": "--atoms--292",
           "positions": [
            [
             7.733949306529491,
             3.8669746532647435,
             12.261373015491733
            ]
           ],
           "radius": 0.5,
           "tooltip": "Si (7.734, 3.867, 12.261)",
           "type": "spheres"
          },
          {
           "clickable": true,
           "color": "#ff0d0d",
           "id": "--atoms--293",
           "positions": [
            [
             2.07869333017794,
             23.45381788116409,
             20.672719311594825
            ]
           ],
           "radius": 0.5,
           "tooltip": "O2- (2.079, 23.454, 20.673)",
           "type": "spheres"
          },
          {
           "clickable": true,
           "color": "#f0c8a0",
           "id": "--atoms--294",
           "positions": [
            [
             5.800461979897114,
             36.73625920601507,
             9.527009015491737
            ]
           ],
           "radius": 0.5,
           "tooltip": "Si (5.800, 36.736, 9.527)",
           "type": "spheres"
          },
          {
           "clickable": true,
           "color": "#f0c8a0",
           "id": "--atoms--295",
           "positions": [
            [
             1.9334873266323662,
             23.20184791958847,
             10.894191015491737
            ]
           ],
           "radius": 0.5,
           "tooltip": "Si (1.933, 23.202, 10.894)",
           "type": "spheres"
          },
          {
           "clickable": true,
           "color": "#e06633",
           "id": "--atoms--296",
           "positions": [
            [
             3.7534793742101034,
             -0.20912263738082337,
             19.01373931117287
            ]
           ],
           "radius": 0.5,
           "tooltip": "Fe2+ (3.753, -0.209, 19.014)",
           "type": "spheres"
          },
          {
           "clickable": true,
           "color": "#ff8000",
           "id": "--atoms--297",
           "positions": [
            [
             0.14398256361924117,
             3.273624877047438,
             20.718265633004023
            ]
           ],
           "radius": 0.5,
           "tooltip": "P5+ (0.144, 3.274, 20.718)",
           "type": "spheres"
          },
          {
           "clickable": true,
           "color": "#ff8000",
           "id": "--atoms--298",
           "positions": [
            [
             4.300790337766645,
             41.37262716157664,
             20.13900551559551
            ]
           ],
           "radius": 0.5,
           "tooltip": "P5+ (4.301, 41.373, 20.139)",
           "type": "spheres"
          },
          {
           "clickable": true,
           "color": "#f0c8a0",
           "id": "--atoms--299",
           "positions": [
            [
             3.866974653264725,
             52.204157819074055,
             13.628555015491738
            ]
           ],
           "radius": 0.5,
           "tooltip": "Si (3.867, 52.204, 13.629)",
           "type": "spheres"
          },
          {
           "clickable": true,
           "color": "#f0c8a0",
           "id": "--atoms--300",
           "positions": [
            [
             7.733949306529481,
             40.60323385927982,
             13.628555015491738
            ]
           ],
           "radius": 0.5,
           "tooltip": "Si (7.734, 40.603, 13.629)",
           "type": "spheres"
          },
          {
           "clickable": true,
           "color": "#f0c8a0",
           "id": "--atoms--301",
           "positions": [
            [
             5.800461979897112,
             42.53672118591219,
             10.89419101549174
            ]
           ],
           "radius": 0.5,
           "tooltip": "Si (5.800, 42.537, 10.894)",
           "type": "spheres"
          },
          {
           "clickable": true,
           "color": "#f0c8a0",
           "id": "--atoms--302",
           "positions": [
            [
             7.7339493065294835,
             30.935797226117963,
             12.261373015491737
            ]
           ],
           "radius": 0.5,
           "tooltip": "Si (7.734, 30.936, 12.261)",
           "type": "spheres"
          },
          {
           "clickable": true,
           "color": "#ff8000",
           "id": "--atoms--303",
           "positions": [
            [
             5.027104418246387,
             55.17919955459907,
             21.233227341706975
            ]
           ],
           "radius": 0.5,
           "tooltip": "P5+ (5.027, 55.179, 21.233)",
           "type": "spheres"
          },
          {
           "clickable": true,
           "color": "#cc80ff",
           "id": "--atoms--304",
           "positions": [
            [
             6.528334915332974,
             51.49792445781156,
             19.21366348638049
            ]
           ],
           "radius": 0.5,
           "tooltip": "Li+ (6.528, 51.498, 19.214)",
           "type": "spheres"
          },
          {
           "clickable": true,
           "color": "#e06633",
           "id": "--atoms--305",
           "positions": [
            [
             1.4235971623224084,
             22.05954019608136,
             19.23912029949558
            ]
           ],
           "radius": 0.5,
           "tooltip": "Fe2+ (1.424, 22.060, 19.239)",
           "type": "spheres"
          },
          {
           "clickable": true,
           "color": "#f0c8a0",
           "id": "--atoms--306",
           "positions": [
            [
             5.800461979897118,
             5.800461979897117,
             9.527009015491734
            ]
           ],
           "radius": 0.5,
           "tooltip": "Si (5.800, 5.800, 9.527)",
           "type": "spheres"
          },
          {
           "clickable": true,
           "color": "#f0c8a0",
           "id": "--atoms--307",
           "positions": [
            [
             5.800461979897109,
             48.337183165809314,
             9.527009015491739
            ]
           ],
           "radius": 0.5,
           "tooltip": "Si (5.800, 48.337, 9.527)",
           "type": "spheres"
          },
          {
           "clickable": true,
           "color": "#ff0d0d",
           "id": "--atoms--308",
           "positions": [
            [
             2.2459575916754826,
             16.48746604965376,
             21.31760292412566
            ]
           ],
           "radius": 0.5,
           "tooltip": "O2- (2.246, 16.487, 21.318)",
           "type": "spheres"
          },
          {
           "clickable": true,
           "color": "#ff0d0d",
           "id": "--atoms--309",
           "positions": [
            [
             4.471919251496044,
             9.482771294568899,
             20.63389005058534
            ]
           ],
           "radius": 0.5,
           "tooltip": "O2- (4.472, 9.483, 20.634)",
           "type": "spheres"
          },
          {
           "clickable": true,
           "color": "#e06633",
           "id": "--atoms--310",
           "positions": [
            [
             3.8991233618140586,
             26.798663573835327,
             19.188206673265405
            ]
           ],
           "radius": 0.5,
           "tooltip": "Fe2+ (3.899, 26.799, 19.188)",
           "type": "spheres"
          },
          {
           "clickable": true,
           "color": "#f0c8a0",
           "id": "--atoms--311",
           "positions": [
            [
             3.866974653264742,
             21.268360592956096,
             13.628555015491733
            ]
           ],
           "radius": 0.5,
           "tooltip": "Si (3.867, 21.268, 13.629)",
           "type": "spheres"
          },
          {
           "clickable": true,
           "color": "#f0c8a0",
           "id": "--atoms--312",
           "positions": [
            [
             7.733949306529489,
             9.667436633161861,
             13.628555015491736
            ]
           ],
           "radius": 0.5,
           "tooltip": "Si (7.734, 9.667, 13.629)",
           "type": "spheres"
          },
          {
           "clickable": true,
           "color": "#ff0d0d",
           "id": "--atoms--313",
           "positions": [
            [
             0.7371363503744551,
             25.347089105251992,
             19.583195198763956
            ]
           ],
           "radius": 0.5,
           "tooltip": "O2- (0.737, 25.347, 19.583)",
           "type": "spheres"
          },
          {
           "clickable": true,
           "color": "#f0c8a0",
           "id": "--atoms--314",
           "positions": [
            [
             5.800461979897116,
             11.600923959794235,
             10.894191015491739
            ]
           ],
           "radius": 0.5,
           "tooltip": "Si (5.800, 11.601, 10.894)",
           "type": "spheres"
          },
          {
           "clickable": true,
           "color": "#cc80ff",
           "id": "--atoms--315",
           "positions": [
            [
             1.8879653314152804,
             40.67039542867028,
             19.213663486380497
            ]
           ],
           "radius": 0.5,
           "tooltip": "Li+ (1.888, 40.670, 19.214)",
           "type": "spheres"
          },
          {
           "clickable": true,
           "color": "#cc80ff",
           "id": "--atoms--316",
           "positions": [
            [
             7.22591307485051,
             12.985118672111328,
             20.975746487355497
            ]
           ],
           "radius": 0.5,
           "tooltip": "Li+ (7.226, 12.985, 20.976)",
           "type": "spheres"
          },
          {
           "clickable": true,
           "color": "#f0c8a0",
           "id": "--atoms--317",
           "positions": [
            [
             3.8669746532647404,
             19.334873266323726,
             12.261373015491733
            ]
           ],
           "radius": 0.5,
           "tooltip": "Si (3.867, 19.335, 12.261)",
           "type": "spheres"
          },
          {
           "clickable": true,
           "color": "#f0c8a0",
           "id": "--atoms--318",
           "positions": [
            [
             1.933487326632369,
             29.00230989948559,
             9.527009015491736
            ]
           ],
           "radius": 0.5,
           "tooltip": "Si (1.933, 29.002, 9.527)",
           "type": "spheres"
          },
          {
           "clickable": true,
           "color": "#f0c8a0",
           "id": "--atoms--319",
           "positions": [
            [
             -4.855266876008506e-15,
             23.201847919588474,
             12.261373015491735
            ]
           ],
           "radius": 0.5,
           "tooltip": "Si (-0.000, 23.202, 12.261)",
           "type": "spheres"
          },
          {
           "clickable": true,
           "color": "#ff0d0d",
           "id": "--atoms--320",
           "positions": [
            [
             3.9546250643160503,
             40.20540233488069,
             19.214095196715732
            ]
           ],
           "radius": 0.5,
           "tooltip": "O2- (3.955, 40.205, 19.214)",
           "type": "spheres"
          },
          {
           "clickable": true,
           "color": "#ff0d0d",
           "id": "--atoms--321",
           "positions": [
            [
             6.719062914095629,
             34.28134691030539,
             20.67271931159483
            ]
           ],
           "radius": 0.5,
           "tooltip": "O2- (6.719, 34.281, 20.673)",
           "type": "spheres"
          },
          {
           "clickable": true,
           "color": "#e06633",
           "id": "--atoms--322",
           "positions": [
            [
             0.6598996515983075,
             10.61840639176046,
             19.013739311172866
            ]
           ],
           "radius": 0.5,
           "tooltip": "Fe2+ (0.660, 10.618, 19.014)",
           "type": "spheres"
          }
         ],
         "id": "--atoms",
         "name": "atoms",
         "origin": [
          -3.8669746532647435,
          -27.068822572853218,
          -16.142739221811883
         ],
         "visible": true
        },
        {
         "contents": [],
         "id": "--bonds",
         "name": "bonds",
         "origin": [
          -3.8669746532647435,
          -27.068822572853218,
          -16.142739221811883
         ],
         "visible": true
        },
        {
         "contents": [],
         "id": "--polyhedra",
         "name": "polyhedra",
         "origin": [
          -3.8669746532647435,
          -27.068822572853218,
          -16.142739221811883
         ],
         "visible": true
        },
        {
         "contents": [
          {
           "contents": [
            {
             "clickable": false,
             "id": "--unit_cell--a=7.733949306529491, b=54.137645145706436, c=32.28547844362376, alpha=90.0, beta=90.0, gamma=90.0--0",
             "positions": [
              [
               0,
               0,
               0
              ],
              [
               7.733949306529491,
               0,
               4.735678131504616e-16
              ],
              [
               0,
               0,
               0
              ],
              [
               -3.3149746920532316e-15,
               54.137645145706436,
               3.3149746920532316e-15
              ],
              [
               0,
               0,
               0
              ],
              [
               0,
               0,
               32.28547844362376
              ],
              [
               7.733949306529491,
               0,
               4.735678131504616e-16
              ],
              [
               7.733949306529487,
               54.137645145706436,
               3.7885425052036935e-15
              ],
              [
               7.733949306529491,
               0,
               4.735678131504616e-16
              ],
              [
               7.733949306529491,
               0,
               32.28547844362376
              ],
              [
               -3.3149746920532316e-15,
               54.137645145706436,
               3.3149746920532316e-15
              ],
              [
               7.733949306529487,
               54.137645145706436,
               3.7885425052036935e-15
              ],
              [
               -3.3149746920532316e-15,
               54.137645145706436,
               3.3149746920532316e-15
              ],
              [
               -3.3149746920532316e-15,
               54.137645145706436,
               32.28547844362376
              ],
              [
               0,
               0,
               32.28547844362376
              ],
              [
               7.733949306529491,
               0,
               32.28547844362376
              ],
              [
               0,
               0,
               32.28547844362376
              ],
              [
               -3.3149746920532316e-15,
               54.137645145706436,
               32.28547844362376
              ],
              [
               7.733949306529487,
               54.137645145706436,
               3.7885425052036935e-15
              ],
              [
               7.733949306529487,
               54.137645145706436,
               32.28547844362377
              ],
              [
               7.733949306529491,
               0,
               32.28547844362376
              ],
              [
               7.733949306529487,
               54.137645145706436,
               32.28547844362377
              ],
              [
               -3.3149746920532316e-15,
               54.137645145706436,
               32.28547844362376
              ],
              [
               7.733949306529487,
               54.137645145706436,
               32.28547844362377
              ]
             ],
             "type": "lines"
            }
           ],
           "id": "--unit_cell--a=7.733949306529491, b=54.137645145706436, c=32.28547844362376, alpha=90.0, beta=90.0, gamma=90.0",
           "name": "a=7.733949306529491, b=54.137645145706436, c=32.28547844362376, alpha=90.0, beta=90.0, gamma=90.0",
           "visible": true
          }
         ],
         "id": "--unit_cell",
         "name": "unit_cell",
         "origin": [
          -3.8669746532647435,
          -27.068822572853218,
          -16.142739221811883
         ],
         "visible": true
        }
       ],
       "name": "Structure",
       "origin": [
        -3.8669746532647435,
        -27.068822572853218,
        -16.142739221811883
       ],
       "visible": true
      },
      "text/plain": [
       "If you see this text, the Crystal Toolkit Jupyter Lab \n",
       "\n",
       "extension is not installed. You can install it by running \n",
       "\n",
       "\"pip install crystaltoolkit-extension\" \n",
       "\n",
       "from the same environment you run \"jupyter lab\". \n",
       "\n",
       "This only works in Jupyter Lab 3.x or above.\n",
       "\n",
       "\n",
       "Structure Summary\n",
       "Lattice\n",
       "    abc : 7.733949306529491 54.137645145706436 32.28547844362376\n",
       " angles : 90.0 90.0 90.0\n",
       " volume : 13517.858897403576\n",
       "      A : 7.733949306529491 0.0 4.735678131504616e-16\n",
       "      B : -3.3149746920532316e-15 54.137645145706436 3.3149746920532316e-15\n",
       "      C : 0.0 0.0 32.28547844362376\n",
       "PeriodicSite: Li+ (4.1323, 50.8815, 20.9757) [0.5343, 0.9399, 0.6497]\n",
       "PeriodicSite: Li+ (5.6791, 18.3989, 20.9757) [0.7343, 0.3399, 0.6497]\n",
       "PeriodicSite: Li+ (1.0388, 7.5714, 20.9757) [0.1343, 0.1399, 0.6497]\n",
       "PeriodicSite: Li+ (7.2259, 40.0539, 20.9757) [0.9343, 0.7399, 0.6497]\n",
       "PeriodicSite: Li+ (2.5855, 29.2264, 20.9757) [0.3343, 0.5399, 0.6497]\n",
       "PeriodicSite: Li+ (2.5855, 2.1576, 20.9757) [0.3343, 0.0399, 0.6497]\n",
       "PeriodicSite: Li+ (4.1323, 23.8126, 20.9757) [0.5343, 0.4399, 0.6497]\n",
       "PeriodicSite: Li+ (7.2259, 12.9851, 20.9757) [0.9343, 0.2399, 0.6497]\n",
       "PeriodicSite: Li+ (5.6791, 45.4677, 20.9757) [0.7343, 0.8399, 0.6497]\n",
       "PeriodicSite: Li+ (1.0388, 34.6402, 20.9757) [0.1343, 0.6399, 0.6497]\n",
       "PeriodicSite: Li+ (4.9815, 2.7740, 19.2137) [0.6441, 0.0512, 0.5951]\n",
       "PeriodicSite: Li+ (6.5283, 24.4291, 19.2137) [0.8441, 0.4512, 0.5951]\n",
       "PeriodicSite: Li+ (1.8880, 13.6016, 19.2137) [0.2441, 0.2512, 0.5951]\n",
       "PeriodicSite: Li+ (0.3412, 46.0842, 19.2137) [0.0441, 0.8512, 0.5951]\n",
       "PeriodicSite: Li+ (3.4348, 35.2566, 19.2137) [0.4441, 0.6512, 0.5951]\n",
       "PeriodicSite: Li+ (6.5283, 51.4979, 19.2137) [0.8441, 0.9512, 0.5951]\n",
       "PeriodicSite: Li+ (0.3412, 19.0153, 19.2137) [0.0441, 0.3512, 0.5951]\n",
       "PeriodicSite: Li+ (3.4348, 8.1878, 19.2137) [0.4441, 0.1512, 0.5951]\n",
       "PeriodicSite: Li+ (1.8880, 40.6704, 19.2137) [0.2441, 0.7512, 0.5951]\n",
       "PeriodicSite: Li+ (4.9815, 29.8429, 19.2137) [0.6441, 0.5512, 0.5951]\n",
       "PeriodicSite: Fe2+ (1.5692, 49.0673, 19.4136) [0.2029, 0.9063, 0.6013]\n",
       "PeriodicSite: Fe2+ (3.1160, 16.5847, 19.4136) [0.4029, 0.3063, 0.6013]\n",
       "PeriodicSite: Fe2+ (6.2096, 5.7572, 19.4136) [0.8029, 0.1063, 0.6013]\n",
       "PeriodicSite: Fe2+ (4.6628, 38.2398, 19.4136) [0.6029, 0.7063, 0.6013]\n",
       "PeriodicSite: Fe2+ (0.0225, 27.4123, 19.4136) [0.0029, 0.5063, 0.6013]\n",
       "PeriodicSite: Fe2+ (7.6108, 0.4045, 19.2391) [0.9841, 0.0075, 0.5959]\n",
       "PeriodicSite: Fe2+ (1.4236, 22.0595, 19.2391) [0.1841, 0.4075, 0.5959]\n",
       "PeriodicSite: Fe2+ (4.5172, 11.2320, 19.2391) [0.5841, 0.2075, 0.5959]\n",
       "PeriodicSite: Fe2+ (2.9704, 43.7146, 19.2391) [0.3841, 0.8075, 0.5959]\n",
       "PeriodicSite: Fe2+ (6.0640, 32.8871, 19.2391) [0.7841, 0.6075, 0.5959]\n",
       "PeriodicSite: Fe2+ (5.4459, 48.4537, 19.1882) [0.7042, 0.8950, 0.5943]\n",
       "PeriodicSite: Fe2+ (6.9927, 15.9711, 19.1882) [0.9042, 0.2950, 0.5943]\n",
       "PeriodicSite: Fe2+ (2.3523, 5.1436, 19.1882) [0.3042, 0.0950, 0.5943]\n",
       "PeriodicSite: Fe2+ (0.8055, 37.6262, 19.1882) [0.1042, 0.6950, 0.5943]\n",
       "PeriodicSite: Fe2+ (3.8991, 26.7987, 19.1882) [0.5042, 0.4950, 0.5943]\n",
       "PeriodicSite: Fe2+ (3.7535, 53.9285, 19.0137) [0.4853, 0.9961, 0.5889]\n",
       "PeriodicSite: Fe2+ (5.3003, 21.4459, 19.0137) [0.6853, 0.3961, 0.5889]\n",
       "PeriodicSite: Fe2+ (0.6599, 10.6184, 19.0137) [0.0853, 0.1961, 0.5889]\n",
       "PeriodicSite: Fe2+ (6.8471, 43.1010, 19.0137) [0.8853, 0.7961, 0.5889]\n",
       "PeriodicSite: Fe2+ (2.2067, 32.2735, 19.0137) [0.2853, 0.5961, 0.5889]\n",
       "PeriodicSite: Si (3.8670, 1.9335, 13.6286) [0.5000, 0.0357, 0.4221]\n",
       "PeriodicSite: Si (3.8670, 5.8005, 13.6286) [0.5000, 0.1071, 0.4221]\n",
       "PeriodicSite: Si (3.8670, 9.6674, 13.6286) [0.5000, 0.1786, 0.4221]\n",
       "PeriodicSite: Si (3.8670, 13.5344, 13.6286) [0.5000, 0.2500, 0.4221]\n",
       "PeriodicSite: Si (3.8670, 17.4014, 13.6286) [0.5000, 0.3214, 0.4221]\n",
       "PeriodicSite: Si (3.8670, 21.2684, 13.6286) [0.5000, 0.3929, 0.4221]\n",
       "PeriodicSite: Si (3.8670, 25.1353, 13.6286) [0.5000, 0.4643, 0.4221]\n",
       "PeriodicSite: Si (3.8670, 29.0023, 13.6286) [0.5000, 0.5357, 0.4221]\n",
       "PeriodicSite: Si (3.8670, 32.8693, 13.6286) [0.5000, 0.6071, 0.4221]\n",
       "PeriodicSite: Si (3.8670, 36.7363, 13.6286) [0.5000, 0.6786, 0.4221]\n",
       "PeriodicSite: Si (3.8670, 40.6032, 13.6286) [0.5000, 0.7500, 0.4221]\n",
       "PeriodicSite: Si (3.8670, 44.4702, 13.6286) [0.5000, 0.8214, 0.4221]\n",
       "PeriodicSite: Si (3.8670, 48.3372, 13.6286) [0.5000, 0.8929, 0.4221]\n",
       "PeriodicSite: Si (3.8670, 52.2042, 13.6286) [0.5000, 0.9643, 0.4221]\n",
       "PeriodicSite: Si (7.7339, 1.9335, 13.6286) [1.0000, 0.0357, 0.4221]\n",
       "PeriodicSite: Si (7.7339, 5.8005, 13.6286) [1.0000, 0.1071, 0.4221]\n",
       "PeriodicSite: Si (7.7339, 9.6674, 13.6286) [1.0000, 0.1786, 0.4221]\n",
       "PeriodicSite: Si (7.7339, 13.5344, 13.6286) [1.0000, 0.2500, 0.4221]\n",
       "PeriodicSite: Si (7.7339, 17.4014, 13.6286) [1.0000, 0.3214, 0.4221]\n",
       "PeriodicSite: Si (7.7339, 21.2684, 13.6286) [1.0000, 0.3929, 0.4221]\n",
       "PeriodicSite: Si (7.7339, 25.1353, 13.6286) [1.0000, 0.4643, 0.4221]\n",
       "PeriodicSite: Si (7.7339, 29.0023, 13.6286) [1.0000, 0.5357, 0.4221]\n",
       "PeriodicSite: Si (7.7339, 32.8693, 13.6286) [1.0000, 0.6071, 0.4221]\n",
       "PeriodicSite: Si (7.7339, 36.7363, 13.6286) [1.0000, 0.6786, 0.4221]\n",
       "PeriodicSite: Si (7.7339, 40.6032, 13.6286) [1.0000, 0.7500, 0.4221]\n",
       "PeriodicSite: Si (7.7339, 44.4702, 13.6286) [1.0000, 0.8214, 0.4221]\n",
       "PeriodicSite: Si (7.7339, 48.3372, 13.6286) [1.0000, 0.8929, 0.4221]\n",
       "PeriodicSite: Si (7.7339, 52.2042, 13.6286) [1.0000, 0.9643, 0.4221]\n",
       "PeriodicSite: Si (1.9335, 1.9335, 9.5270) [0.2500, 0.0357, 0.2951]\n",
       "PeriodicSite: Si (1.9335, 5.8005, 9.5270) [0.2500, 0.1071, 0.2951]\n",
       "PeriodicSite: Si (1.9335, 9.6674, 9.5270) [0.2500, 0.1786, 0.2951]\n",
       "PeriodicSite: Si (1.9335, 13.5344, 9.5270) [0.2500, 0.2500, 0.2951]\n",
       "PeriodicSite: Si (1.9335, 17.4014, 9.5270) [0.2500, 0.3214, 0.2951]\n",
       "PeriodicSite: Si (1.9335, 21.2684, 9.5270) [0.2500, 0.3929, 0.2951]\n",
       "PeriodicSite: Si (1.9335, 25.1353, 9.5270) [0.2500, 0.4643, 0.2951]\n",
       "PeriodicSite: Si (1.9335, 29.0023, 9.5270) [0.2500, 0.5357, 0.2951]\n",
       "PeriodicSite: Si (1.9335, 32.8693, 9.5270) [0.2500, 0.6071, 0.2951]\n",
       "PeriodicSite: Si (1.9335, 36.7363, 9.5270) [0.2500, 0.6786, 0.2951]\n",
       "PeriodicSite: Si (1.9335, 40.6032, 9.5270) [0.2500, 0.7500, 0.2951]\n",
       "PeriodicSite: Si (1.9335, 44.4702, 9.5270) [0.2500, 0.8214, 0.2951]\n",
       "PeriodicSite: Si (1.9335, 48.3372, 9.5270) [0.2500, 0.8929, 0.2951]\n",
       "PeriodicSite: Si (1.9335, 52.2042, 9.5270) [0.2500, 0.9643, 0.2951]\n",
       "PeriodicSite: Si (5.8005, 1.9335, 9.5270) [0.7500, 0.0357, 0.2951]\n",
       "PeriodicSite: Si (5.8005, 5.8005, 9.5270) [0.7500, 0.1071, 0.2951]\n",
       "PeriodicSite: Si (5.8005, 9.6674, 9.5270) [0.7500, 0.1786, 0.2951]\n",
       "PeriodicSite: Si (5.8005, 13.5344, 9.5270) [0.7500, 0.2500, 0.2951]\n",
       "PeriodicSite: Si (5.8005, 17.4014, 9.5270) [0.7500, 0.3214, 0.2951]\n",
       "PeriodicSite: Si (5.8005, 21.2684, 9.5270) [0.7500, 0.3929, 0.2951]\n",
       "PeriodicSite: Si (5.8005, 25.1353, 9.5270) [0.7500, 0.4643, 0.2951]\n",
       "PeriodicSite: Si (5.8005, 29.0023, 9.5270) [0.7500, 0.5357, 0.2951]\n",
       "PeriodicSite: Si (5.8005, 32.8693, 9.5270) [0.7500, 0.6071, 0.2951]\n",
       "PeriodicSite: Si (5.8005, 36.7363, 9.5270) [0.7500, 0.6786, 0.2951]\n",
       "PeriodicSite: Si (5.8005, 40.6032, 9.5270) [0.7500, 0.7500, 0.2951]\n",
       "PeriodicSite: Si (5.8005, 44.4702, 9.5270) [0.7500, 0.8214, 0.2951]\n",
       "PeriodicSite: Si (5.8005, 48.3372, 9.5270) [0.7500, 0.8929, 0.2951]\n",
       "PeriodicSite: Si (5.8005, 52.2042, 9.5270) [0.7500, 0.9643, 0.2951]\n",
       "PeriodicSite: Si (1.9335, 0.0000, 10.8942) [0.2500, 0.0000, 0.3374]\n",
       "PeriodicSite: Si (1.9335, 3.8670, 10.8942) [0.2500, 0.0714, 0.3374]\n",
       "PeriodicSite: Si (1.9335, 7.7339, 10.8942) [0.2500, 0.1429, 0.3374]\n",
       "PeriodicSite: Si (1.9335, 11.6009, 10.8942) [0.2500, 0.2143, 0.3374]\n",
       "PeriodicSite: Si (1.9335, 15.4679, 10.8942) [0.2500, 0.2857, 0.3374]\n",
       "PeriodicSite: Si (1.9335, 19.3349, 10.8942) [0.2500, 0.3571, 0.3374]\n",
       "PeriodicSite: Si (1.9335, 23.2018, 10.8942) [0.2500, 0.4286, 0.3374]\n",
       "PeriodicSite: Si (1.9335, 27.0688, 10.8942) [0.2500, 0.5000, 0.3374]\n",
       "PeriodicSite: Si (1.9335, 30.9358, 10.8942) [0.2500, 0.5714, 0.3374]\n",
       "PeriodicSite: Si (1.9335, 34.8028, 10.8942) [0.2500, 0.6429, 0.3374]\n",
       "PeriodicSite: Si (1.9335, 38.6697, 10.8942) [0.2500, 0.7143, 0.3374]\n",
       "PeriodicSite: Si (1.9335, 42.5367, 10.8942) [0.2500, 0.7857, 0.3374]\n",
       "PeriodicSite: Si (1.9335, 46.4037, 10.8942) [0.2500, 0.8571, 0.3374]\n",
       "PeriodicSite: Si (1.9335, 50.2707, 10.8942) [0.2500, 0.9286, 0.3374]\n",
       "PeriodicSite: Si (5.8005, 54.1376, 10.8942) [0.7500, 1.0000, 0.3374]\n",
       "PeriodicSite: Si (5.8005, 3.8670, 10.8942) [0.7500, 0.0714, 0.3374]\n",
       "PeriodicSite: Si (5.8005, 7.7339, 10.8942) [0.7500, 0.1429, 0.3374]\n",
       "PeriodicSite: Si (5.8005, 11.6009, 10.8942) [0.7500, 0.2143, 0.3374]\n",
       "PeriodicSite: Si (5.8005, 15.4679, 10.8942) [0.7500, 0.2857, 0.3374]\n",
       "PeriodicSite: Si (5.8005, 19.3349, 10.8942) [0.7500, 0.3571, 0.3374]\n",
       "PeriodicSite: Si (5.8005, 23.2018, 10.8942) [0.7500, 0.4286, 0.3374]\n",
       "PeriodicSite: Si (5.8005, 27.0688, 10.8942) [0.7500, 0.5000, 0.3374]\n",
       "PeriodicSite: Si (5.8005, 30.9358, 10.8942) [0.7500, 0.5714, 0.3374]\n",
       "PeriodicSite: Si (5.8005, 34.8028, 10.8942) [0.7500, 0.6429, 0.3374]\n",
       "PeriodicSite: Si (5.8005, 38.6697, 10.8942) [0.7500, 0.7143, 0.3374]\n",
       "PeriodicSite: Si (5.8005, 42.5367, 10.8942) [0.7500, 0.7857, 0.3374]\n",
       "PeriodicSite: Si (5.8005, 46.4037, 10.8942) [0.7500, 0.8571, 0.3374]\n",
       "PeriodicSite: Si (5.8005, 50.2707, 10.8942) [0.7500, 0.9286, 0.3374]\n",
       "PeriodicSite: Si (-0.0000, 54.1376, 12.2614) [0.0000, 1.0000, 0.3798]\n",
       "PeriodicSite: Si (-0.0000, 3.8670, 12.2614) [-0.0000, 0.0714, 0.3798]\n",
       "PeriodicSite: Si (7.7339, 7.7339, 12.2614) [1.0000, 0.1429, 0.3798]\n",
       "PeriodicSite: Si (7.7339, 11.6009, 12.2614) [1.0000, 0.2143, 0.3798]\n",
       "PeriodicSite: Si (7.7339, 15.4679, 12.2614) [1.0000, 0.2857, 0.3798]\n",
       "PeriodicSite: Si (7.7339, 19.3349, 12.2614) [1.0000, 0.3571, 0.3798]\n",
       "PeriodicSite: Si (7.7339, 23.2018, 12.2614) [1.0000, 0.4286, 0.3798]\n",
       "PeriodicSite: Si (7.7339, 27.0688, 12.2614) [1.0000, 0.5000, 0.3798]\n",
       "PeriodicSite: Si (7.7339, 30.9358, 12.2614) [1.0000, 0.5714, 0.3798]\n",
       "PeriodicSite: Si (7.7339, 34.8028, 12.2614) [1.0000, 0.6429, 0.3798]\n",
       "PeriodicSite: Si (7.7339, 38.6697, 12.2614) [1.0000, 0.7143, 0.3798]\n",
       "PeriodicSite: Si (7.7339, 42.5367, 12.2614) [1.0000, 0.7857, 0.3798]\n",
       "PeriodicSite: Si (7.7339, 46.4037, 12.2614) [1.0000, 0.8571, 0.3798]\n",
       "PeriodicSite: Si (7.7339, 50.2707, 12.2614) [1.0000, 0.9286, 0.3798]\n",
       "PeriodicSite: Si (3.8670, 0.0000, 12.2614) [0.5000, 0.0000, 0.3798]\n",
       "PeriodicSite: Si (3.8670, 3.8670, 12.2614) [0.5000, 0.0714, 0.3798]\n",
       "PeriodicSite: Si (3.8670, 7.7339, 12.2614) [0.5000, 0.1429, 0.3798]\n",
       "PeriodicSite: Si (3.8670, 11.6009, 12.2614) [0.5000, 0.2143, 0.3798]\n",
       "PeriodicSite: Si (3.8670, 15.4679, 12.2614) [0.5000, 0.2857, 0.3798]\n",
       "PeriodicSite: Si (3.8670, 19.3349, 12.2614) [0.5000, 0.3571, 0.3798]\n",
       "PeriodicSite: Si (3.8670, 23.2018, 12.2614) [0.5000, 0.4286, 0.3798]\n",
       "PeriodicSite: Si (3.8670, 27.0688, 12.2614) [0.5000, 0.5000, 0.3798]\n",
       "PeriodicSite: Si (3.8670, 30.9358, 12.2614) [0.5000, 0.5714, 0.3798]\n",
       "PeriodicSite: Si (3.8670, 34.8028, 12.2614) [0.5000, 0.6429, 0.3798]\n",
       "PeriodicSite: Si (3.8670, 38.6697, 12.2614) [0.5000, 0.7143, 0.3798]\n",
       "PeriodicSite: Si (3.8670, 42.5367, 12.2614) [0.5000, 0.7857, 0.3798]\n",
       "PeriodicSite: Si (3.8670, 46.4037, 12.2614) [0.5000, 0.8571, 0.3798]\n",
       "PeriodicSite: Si (3.8670, 50.2707, 12.2614) [0.5000, 0.9286, 0.3798]\n",
       "PeriodicSite: P5+ (7.0575, 49.5628, 21.8125) [0.9125, 0.9155, 0.6756]\n",
       "PeriodicSite: P5+ (0.8703, 17.0802, 21.8125) [0.1125, 0.3155, 0.6756]\n",
       "PeriodicSite: P5+ (3.9639, 6.2527, 21.8125) [0.5125, 0.1155, 0.6756]\n",
       "PeriodicSite: P5+ (2.4171, 38.7353, 21.8125) [0.3125, 0.7155, 0.6756]\n",
       "PeriodicSite: P5+ (5.5107, 27.9077, 21.8125) [0.7125, 0.5155, 0.6756]\n",
       "PeriodicSite: P5+ (3.2376, 46.5837, 20.7183) [0.4186, 0.8605, 0.6417]\n",
       "PeriodicSite: P5+ (4.7844, 14.1012, 20.7183) [0.6186, 0.2605, 0.6417]\n",
       "PeriodicSite: P5+ (0.1440, 3.2736, 20.7183) [0.0186, 0.0605, 0.6417]\n",
       "PeriodicSite: P5+ (6.3311, 35.7562, 20.7183) [0.8186, 0.6605, 0.6417]\n",
       "PeriodicSite: P5+ (1.6908, 24.9287, 20.7183) [0.2186, 0.4605, 0.6417]\n",
       "PeriodicSite: P5+ (5.0271, 1.0416, 21.2332) [0.6500, 0.0192, 0.6577]\n",
       "PeriodicSite: P5+ (6.5739, 22.6966, 21.2332) [0.8500, 0.4192, 0.6577]\n",
       "PeriodicSite: P5+ (1.9335, 11.8691, 21.2332) [0.2500, 0.2192, 0.6577]\n",
       "PeriodicSite: P5+ (0.3867, 44.3517, 21.2332) [0.0500, 0.8192, 0.6577]\n",
       "PeriodicSite: P5+ (3.4803, 33.5241, 21.2332) [0.4500, 0.6192, 0.6577]\n",
       "PeriodicSite: P5+ (1.2072, 52.2002, 20.1390) [0.1561, 0.9642, 0.6238]\n",
       "PeriodicSite: P5+ (2.7540, 19.7176, 20.1390) [0.3561, 0.3642, 0.6238]\n",
       "PeriodicSite: P5+ (5.8476, 8.8900, 20.1390) [0.7561, 0.1642, 0.6238]\n",
       "PeriodicSite: P5+ (4.3008, 41.3726, 20.1390) [0.5561, 0.7642, 0.6238]\n",
       "PeriodicSite: P5+ (7.3944, 30.5451, 20.1390) [0.9561, 0.5642, 0.6238]\n",
       "PeriodicSite: O2- (6.1044, 49.9434, 20.6635) [0.7893, 0.9225, 0.6400]\n",
       "PeriodicSite: O2- (7.6512, 17.4608, 20.6635) [0.9893, 0.3225, 0.6400]\n",
       "PeriodicSite: O2- (3.0108, 6.6333, 20.6635) [0.3893, 0.1225, 0.6400]\n",
       "PeriodicSite: O2- (1.4640, 39.1159, 20.6635) [0.1893, 0.7225, 0.6400]\n",
       "PeriodicSite: O2- (4.5576, 28.2884, 20.6635) [0.5893, 0.5225, 0.6400]\n",
       "PeriodicSite: O2- (2.2839, 47.0021, 19.5832) [0.2953, 0.8682, 0.6066]\n",
       "PeriodicSite: O2- (3.8307, 14.5196, 19.5832) [0.4953, 0.2682, 0.6066]\n",
       "PeriodicSite: O2- (6.9243, 3.6920, 19.5832) [0.8953, 0.0682, 0.6066]\n",
       "PeriodicSite: O2- (5.3775, 36.1746, 19.5832) [0.6953, 0.6682, 0.6066]\n",
       "PeriodicSite: O2- (0.7371, 25.3471, 19.5832) [0.0953, 0.4682, 0.6066]\n",
       "PeriodicSite: O2- (3.0388, 1.8561, 18.8441) [0.3929, 0.0343, 0.5837]\n",
       "PeriodicSite: O2- (4.5856, 23.5111, 18.8441) [0.5929, 0.4343, 0.5837]\n",
       "PeriodicSite: O2- (7.6792, 12.6836, 18.8441) [0.9929, 0.2343, 0.5837]\n",
       "PeriodicSite: O2- (6.1324, 45.1662, 18.8441) [0.7929, 0.8343, 0.5837]\n",
       "PeriodicSite: O2- (1.4920, 34.3386, 18.8441) [0.1929, 0.6343, 0.5837]\n",
       "PeriodicSite: O2- (2.1602, 51.8195, 21.2879) [0.2793, 0.9572, 0.6594]\n",
       "PeriodicSite: O2- (3.7070, 19.3369, 21.2879) [0.4793, 0.3572, 0.6594]\n",
       "PeriodicSite: O2- (6.8006, 8.5094, 21.2879) [0.8793, 0.1572, 0.6594]\n",
       "PeriodicSite: O2- (5.2538, 40.9920, 21.2879) [0.6793, 0.7572, 0.6594]\n",
       "PeriodicSite: O2- (0.6135, 30.1645, 21.2879) [0.0793, 0.5572, 0.6594]\n",
       "PeriodicSite: O2- (7.7328, 45.8265, 21.2788) [0.9998, 0.8465, 0.6591]\n",
       "PeriodicSite: O2- (1.5456, 13.3439, 21.2788) [0.1998, 0.2465, 0.6591]\n",
       "PeriodicSite: O2- (4.6392, 2.5164, 21.2788) [0.5998, 0.0465, 0.6591]\n",
       "PeriodicSite: O2- (3.0924, 34.9990, 21.2788) [0.3998, 0.6465, 0.6591]\n",
       "PeriodicSite: O2- (6.1860, 24.1715, 21.2788) [0.7998, 0.4465, 0.6591]\n",
       "PeriodicSite: O2- (0.8610, 51.0329, 19.2141) [0.1113, 0.9427, 0.5951]\n",
       "PeriodicSite: O2- (2.4078, 18.5503, 19.2141) [0.3113, 0.3427, 0.5951]\n",
       "PeriodicSite: O2- (5.5014, 7.7228, 19.2141) [0.7113, 0.1427, 0.5951]\n",
       "PeriodicSite: O2- (3.9546, 40.2054, 19.2141) [0.5113, 0.7427, 0.5951]\n",
       "PeriodicSite: O2- (7.0482, 29.3779, 19.2141) [0.9113, 0.5427, 0.5951]\n",
       "PeriodicSite: O2- (4.4617, 51.9629, 19.2132) [0.5769, 0.9598, 0.5951]\n",
       "PeriodicSite: O2- (6.0085, 19.4803, 19.2132) [0.7769, 0.3598, 0.5951]\n",
       "PeriodicSite: O2- (1.3681, 8.6528, 19.2132) [0.1769, 0.1598, 0.5951]\n",
       "PeriodicSite: O2- (7.5553, 41.1354, 19.2132) [0.9769, 0.7598, 0.5951]\n",
       "PeriodicSite: O2- (2.9149, 30.3079, 19.2132) [0.3769, 0.5598, 0.5951]\n",
       "PeriodicSite: O2- (0.5319, 1.7988, 20.6727) [0.0688, 0.0332, 0.6403]\n",
       "PeriodicSite: O2- (2.0787, 23.4538, 20.6727) [0.2688, 0.4332, 0.6403]\n",
       "PeriodicSite: O2- (5.1723, 12.6263, 20.6727) [0.6688, 0.2332, 0.6403]\n",
       "PeriodicSite: O2- (3.6255, 45.1089, 20.6727) [0.4688, 0.8332, 0.6403]\n",
       "PeriodicSite: O2- (6.7191, 34.2813, 20.6727) [0.8688, 0.6332, 0.6403]\n",
       "PeriodicSite: O2- (3.5456, 49.7024, 19.2242) [0.4585, 0.9181, 0.5954]\n",
       "PeriodicSite: O2- (5.0924, 17.2198, 19.2242) [0.6585, 0.3181, 0.5954]\n",
       "PeriodicSite: O2- (0.4521, 6.3923, 19.2242) [0.0585, 0.1181, 0.5954]\n",
       "PeriodicSite: O2- (6.6392, 38.8749, 19.2242) [0.8585, 0.7181, 0.5954]\n",
       "PeriodicSite: O2- (1.9989, 28.0474, 19.2242) [0.2585, 0.5181, 0.5954]\n",
       "PeriodicSite: O2- (4.5918, 47.3483, 20.7219) [0.5937, 0.8746, 0.6418]\n",
       "PeriodicSite: O2- (6.1386, 14.8657, 20.7219) [0.7937, 0.2746, 0.6418]\n",
       "PeriodicSite: O2- (1.4982, 4.0382, 20.7219) [0.1937, 0.0746, 0.6418]\n",
       "PeriodicSite: O2- (7.6854, 36.5208, 20.7219) [0.9937, 0.6746, 0.6418]\n",
       "PeriodicSite: O2- (3.0450, 25.6933, 20.7219) [0.3937, 0.4746, 0.6418]\n",
       "PeriodicSite: O2- (7.4383, 48.0807, 18.6286) [0.9618, 0.8881, 0.5770]\n",
       "PeriodicSite: O2- (1.2511, 15.5981, 18.6286) [0.1618, 0.2881, 0.5770]\n",
       "PeriodicSite: O2- (4.3447, 4.7706, 18.6286) [0.5618, 0.0881, 0.5770]\n",
       "PeriodicSite: O2- (2.7979, 37.2531, 18.6286) [0.3618, 0.6881, 0.5770]\n",
       "PeriodicSite: O2- (5.8915, 26.4256, 18.6286) [0.7618, 0.4881, 0.5770]\n",
       "PeriodicSite: O2- (0.6992, 48.9701, 21.3176) [0.0904, 0.9045, 0.6603]\n",
       "PeriodicSite: O2- (2.2460, 16.4875, 21.3176) [0.2904, 0.3045, 0.6603]\n",
       "PeriodicSite: O2- (5.3395, 5.6599, 21.3176) [0.6904, 0.1045, 0.6603]\n",
       "PeriodicSite: O2- (3.7927, 38.1425, 21.3176) [0.4904, 0.7045, 0.6603]\n",
       "PeriodicSite: O2- (6.8863, 27.3150, 21.3176) [0.8904, 0.5045, 0.6603]\n",
       "PeriodicSite: O2- (5.6184, 0.7775, 19.7988) [0.7265, 0.0144, 0.6132]\n",
       "PeriodicSite: O2- (7.1652, 22.4326, 19.7988) [0.9265, 0.4144, 0.6132]\n",
       "PeriodicSite: O2- (2.5248, 11.6051, 19.7988) [0.3265, 0.2144, 0.6132]\n",
       "PeriodicSite: O2- (0.9780, 44.0876, 19.7988) [0.1265, 0.8144, 0.6132]\n",
       "PeriodicSite: O2- (4.0716, 33.2601, 19.7988) [0.5265, 0.6144, 0.6132]\n",
       "PeriodicSite: O2- (7.5655, 52.7929, 20.6339) [0.9782, 0.9752, 0.6391]\n",
       "PeriodicSite: O2- (1.3783, 20.3103, 20.6339) [0.1782, 0.3752, 0.6391]\n",
       "PeriodicSite: O2- (4.4719, 9.4828, 20.6339) [0.5782, 0.1752, 0.6391]\n",
       "PeriodicSite: O2- (2.9251, 41.9654, 20.6339) [0.3782, 0.7752, 0.6391]\n",
       "PeriodicSite: O2- (6.0187, 31.1378, 20.6339) [0.7782, 0.5752, 0.6391]\n",
       "PeriodicSite: O2- (1.7771, 53.2934, 19.2031) [0.2298, 0.9844, 0.5948]\n",
       "PeriodicSite: O2- (3.3239, 20.8109, 19.2031) [0.4298, 0.3844, 0.5948]\n",
       "PeriodicSite: O2- (6.4174, 9.9833, 19.2031) [0.8298, 0.1844, 0.5948]\n",
       "PeriodicSite: O2- (4.8707, 42.4659, 19.2031) [0.6298, 0.7844, 0.5948]\n",
       "PeriodicSite: O2- (0.2303, 31.6384, 19.2031) [0.0298, 0.5844, 0.5948]\n",
       "PeriodicSite: O2- (3.6729, 0.2770, 21.2296) [0.4749, 0.0051, 0.6576]\n",
       "PeriodicSite: O2- (5.2197, 21.9320, 21.2296) [0.6749, 0.4051, 0.6576]\n",
       "PeriodicSite: O2- (0.5793, 11.1045, 21.2296) [0.0749, 0.2051, 0.6576]\n",
       "PeriodicSite: O2- (6.7665, 43.5871, 21.2296) [0.8749, 0.8051, 0.6576]\n",
       "PeriodicSite: O2- (2.1261, 32.7596, 21.2296) [0.2749, 0.6051, 0.6576]"
      ]
     },
     "metadata": {},
     "output_type": "display_data"
    }
   ],
   "source": [
    "interface"
   ]
  },
  {
   "cell_type": "markdown",
   "id": "bc4684b1-e5cf-448c-8bd0-f8a557659415",
   "metadata": {},
   "source": [
    "As we can see, that opened up a lot of space in between the two slabs. We can also modify `inplane_offset` to control how the two slabs are oriented along each other in the directions perpendicular to the surfaces. Notice that the size of the box didn't change. What if we change the vacuum."
   ]
  },
  {
   "cell_type": "code",
   "execution_count": 38,
   "id": "af6d8816-260b-4a81-910c-25404b44da57",
   "metadata": {},
   "outputs": [
    {
     "data": {
      "text/plain": [
       "20.0"
      ]
     },
     "execution_count": 38,
     "metadata": {},
     "output_type": "execute_result"
    }
   ],
   "source": [
    "interface.vacuum_over_film "
   ]
  },
  {
   "cell_type": "code",
   "execution_count": 39,
   "id": "7ba00163-90cc-472e-a206-126292746217",
   "metadata": {},
   "outputs": [],
   "source": [
    "interface.vacuum_over_film = 100"
   ]
  },
  {
   "cell_type": "code",
   "execution_count": 40,
   "id": "2197d0a1-693f-4794-aa1a-a3263b7781a3",
   "metadata": {},
   "outputs": [
    {
     "data": {
      "application/vnd.mp.ctk+json": {
       "contents": [
        {
         "contents": [
          {
           "clickable": true,
           "color": "#ff8000",
           "id": "--atoms--0",
           "positions": [
            [
             5.027104418246391,
             1.0415544088926374,
             21.23322734170697
            ]
           ],
           "radius": 0.5,
           "tooltip": "P5+ (5.027, 1.042, 21.233)",
           "type": "spheres"
          },
          {
           "clickable": true,
           "color": "#ff0d0d",
           "id": "--atoms--1",
           "positions": [
            [
             7.651206705700168,
             17.460839013067286,
             20.663545907491745
            ]
           ],
           "radius": 0.5,
           "tooltip": "O2- (7.651, 17.461, 20.664)",
           "type": "spheres"
          },
          {
           "clickable": true,
           "color": "#f0c8a0",
           "id": "--atoms--2",
           "positions": [
            [
             5.800461979897116,
             -1.933487326632384,
             9.527009015491737
            ]
           ],
           "radius": 0.5,
           "tooltip": "Si (5.800, -1.933, 9.527)",
           "type": "spheres"
          },
          {
           "clickable": true,
           "color": "#f0c8a0",
           "id": "--atoms--3",
           "positions": [
            [
             3.866974653264741,
             56.0711324723388,
             13.628555015491738
            ]
           ],
           "radius": 0.5,
           "tooltip": "Si (3.867, 56.071, 13.629)",
           "type": "spheres"
          },
          {
           "clickable": true,
           "color": "#ff0d0d",
           "id": "--atoms--4",
           "positions": [
            [
             3.792747452981378,
             38.14252410793634,
             21.31760292412566
            ]
           ],
           "radius": 0.5,
           "tooltip": "O2- (3.793, 38.143, 21.318)",
           "type": "spheres"
          },
          {
           "clickable": true,
           "color": "#ff0d0d",
           "id": "--atoms--5",
           "positions": [
            [
             6.018709112801935,
             31.137829352851483,
             20.633890050585343
            ]
           ],
           "radius": 0.5,
           "tooltip": "O2- (6.019, 31.138, 20.634)",
           "type": "spheres"
          },
          {
           "clickable": true,
           "color": "#f0c8a0",
           "id": "--atoms--6",
           "positions": [
            [
             -1.4506006255773573e-15,
             9.667436633161861,
             13.628555015491735
            ]
           ],
           "radius": 0.5,
           "tooltip": "Si (-0.000, 9.667, 13.629)",
           "type": "spheres"
          },
          {
           "clickable": true,
           "color": "#f0c8a0",
           "id": "--atoms--7",
           "positions": [
            [
             -3.3149746920532316e-15,
             54.137645145706436,
             12.261373015491738
            ]
           ],
           "radius": 0.5,
           "tooltip": "Si (-0.000, 54.138, 12.261)",
           "type": "spheres"
          },
          {
           "clickable": true,
           "color": "#f0c8a0",
           "id": "--atoms--8",
           "positions": [
            [
             7.733949306529484,
             42.53672118591219,
             12.261373015491738
            ]
           ],
           "radius": 0.5,
           "tooltip": "Si (7.734, 42.537, 12.261)",
           "type": "spheres"
          },
          {
           "clickable": true,
           "color": "#ff0d0d",
           "id": "--atoms--9",
           "positions": [
            [
             7.732763235605383,
             45.826535579623716,
             21.278773663116176
            ]
           ],
           "radius": 0.5,
           "tooltip": "O2- (7.733, 45.827, 21.279)",
           "type": "spheres"
          },
          {
           "clickable": true,
           "color": "#ff0d0d",
           "id": "--atoms--10",
           "positions": [
            [
             6.008465043738107,
             19.480330464177285,
             19.21323177604526
            ]
           ],
           "radius": 0.5,
           "tooltip": "O2- (6.008, 19.480, 19.213)",
           "type": "spheres"
          },
          {
           "clickable": true,
           "color": "#f0c8a0",
           "id": "--atoms--11",
           "positions": [
            [
             5.800461979897113,
             17.40138593969135,
             9.527009015491736
            ]
           ],
           "radius": 0.5,
           "tooltip": "Si (5.800, 17.401, 9.527)",
           "type": "spheres"
          },
          {
           "clickable": true,
           "color": "#f0c8a0",
           "id": "--atoms--12",
           "positions": [
            [
             1.933487326632371,
             3.8669746532647444,
             10.894191015491735
            ]
           ],
           "radius": 0.5,
           "tooltip": "Si (1.933, 3.867, 10.894)",
           "type": "spheres"
          },
          {
           "clickable": true,
           "color": "#ff0d0d",
           "id": "--atoms--13",
           "positions": [
            [
             6.886327175593173,
             27.314995078795047,
             21.317602924125662
            ]
           ],
           "radius": 0.5,
           "tooltip": "O2- (6.886, 27.315, 21.318)",
           "type": "spheres"
          },
          {
           "clickable": true,
           "color": "#ff8000",
           "id": "--atoms--14",
           "positions": [
            [
             3.9638763667107724,
             6.252668240928599,
             21.81248745911549
            ]
           ],
           "radius": 0.5,
           "tooltip": "P5+ (3.964, 6.253, 21.812)",
           "type": "spheres"
          },
          {
           "clickable": true,
           "color": "#ff8000",
           "id": "--atoms--15",
           "positions": [
            [
             0.3867348343286887,
             44.35167052545779,
             21.233227341706975
            ]
           ],
           "radius": 0.5,
           "tooltip": "P5+ (0.387, 44.352, 21.233)",
           "type": "spheres"
          },
          {
           "clickable": true,
           "color": "#ff0d0d",
           "id": "--atoms--16",
           "positions": [
            [
             -0.048597340801038544,
             36.520793350587454,
             20.721930765646054
            ]
           ],
           "radius": 0.5,
           "tooltip": "O2- (-0.049, 36.521, 20.722)",
           "type": "spheres"
          },
          {
           "clickable": true,
           "color": "#f0c8a0",
           "id": "--atoms--17",
           "positions": [
            [
             3.866974653264733,
             32.86928455275034,
             13.628555015491736
            ]
           ],
           "radius": 0.5,
           "tooltip": "Si (3.867, 32.869, 13.629)",
           "type": "spheres"
          },
          {
           "clickable": true,
           "color": "#ff0d0d",
           "id": "--atoms--18",
           "positions": [
            [
             1.5456037903817916,
             13.34394849219985,
             21.278773663116173
            ]
           ],
           "radius": 0.5,
           "tooltip": "O2- (1.546, 13.344, 21.279)",
           "type": "spheres"
          },
          {
           "clickable": true,
           "color": "#f0c8a0",
           "id": "--atoms--19",
           "positions": [
            [
             1.9334873266323602,
             34.8027718793827,
             10.894191015491737
            ]
           ],
           "radius": 0.5,
           "tooltip": "Si (1.933, 34.803, 10.894)",
           "type": "spheres"
          },
          {
           "clickable": true,
           "color": "#f0c8a0",
           "id": "--atoms--20",
           "positions": [
            [
             5.800461979897113,
             23.201847919588474,
             10.894191015491737
            ]
           ],
           "radius": 0.5,
           "tooltip": "Si (5.800, 23.202, 10.894)",
           "type": "spheres"
          },
          {
           "clickable": true,
           "color": "#ff8000",
           "id": "--atoms--21",
           "positions": [
            [
             -0.33957924615104434,
             30.545098132435346,
             20.13900551559551
            ]
           ],
           "radius": 0.5,
           "tooltip": "P5+ (-0.340, 30.545, 20.139)",
           "type": "spheres"
          },
          {
           "clickable": true,
           "color": "#f0c8a0",
           "id": "--atoms--22",
           "positions": [
            [
             7.733949306529488,
             11.600923959794235,
             12.261373015491737
            ]
           ],
           "radius": 0.5,
           "tooltip": "Si (7.734, 11.601, 12.261)",
           "type": "spheres"
          },
          {
           "clickable": true,
           "color": "#cc80ff",
           "id": "--atoms--23",
           "positions": [
            [
             4.981545054027085,
             2.7740438266757645,
             19.213663486380497
            ]
           ],
           "radius": 0.5,
           "tooltip": "Li+ (4.982, 2.774, 19.214)",
           "type": "spheres"
          },
          {
           "clickable": true,
           "color": "#f0c8a0",
           "id": "--atoms--24",
           "positions": [
            [
             -1.3026705235286519e-14,
             44.47020851254457,
             13.628555015491738
            ]
           ],
           "radius": 0.5,
           "tooltip": "Si (-0.000, 44.470, 13.629)",
           "type": "spheres"
          },
          {
           "clickable": true,
           "color": "#ff0d0d",
           "id": "--atoms--25",
           "positions": [
            [
             7.679163896373802,
             12.683585635523412,
             18.84413177399702
            ]
           ],
           "radius": 0.5,
           "tooltip": "O2- (7.679, 12.684, 18.844)",
           "type": "spheres"
          },
          {
           "clickable": true,
           "color": "#f0c8a0",
           "id": "--atoms--26",
           "positions": [
            [
             7.7339493065294835,
             52.204157819074055,
             13.628555015491738
            ]
           ],
           "radius": 0.5,
           "tooltip": "Si (7.734, 52.204, 13.629)",
           "type": "spheres"
          },
          {
           "clickable": true,
           "color": "#f0c8a0",
           "id": "--atoms--27",
           "positions": [
            [
             1.9334873266323633,
             40.60323385927982,
             9.527009015491737
            ]
           ],
           "radius": 0.5,
           "tooltip": "Si (1.933, 40.603, 9.527)",
           "type": "spheres"
          },
          {
           "clickable": true,
           "color": "#f0c8a0",
           "id": "--atoms--28",
           "positions": [
            [
             5.8004619798971095,
             29.00230989948559,
             9.527009015491736
            ]
           ],
           "radius": 0.5,
           "tooltip": "Si (5.800, 29.002, 9.527)",
           "type": "spheres"
          },
          {
           "clickable": true,
           "color": "#ff0d0d",
           "id": "--atoms--29",
           "positions": [
            [
             3.5456463393443323,
             49.70240810477023,
             19.224227173971336
            ]
           ],
           "radius": 0.5,
           "tooltip": "O2- (3.546, 49.702, 19.224)",
           "type": "spheres"
          },
          {
           "clickable": true,
           "color": "#ff0d0d",
           "id": "--atoms--30",
           "positions": [
            [
             1.2510914068678125,
             15.598090259997484,
             18.628555015491735
            ]
           ],
           "radius": 0.5,
           "tooltip": "O2- (1.251, 15.598, 18.629)",
           "type": "spheres"
          },
          {
           "clickable": true,
           "color": "#f0c8a0",
           "id": "--atoms--31",
           "positions": [
            [
             -1.2434745468848443e-14,
             34.8027718793827,
             12.261373015491737
            ]
           ],
           "radius": 0.5,
           "tooltip": "Si (-0.000, 34.803, 12.261)",
           "type": "spheres"
          },
          {
           "clickable": true,
           "color": "#ff0d0d",
           "id": "--atoms--32",
           "positions": [
            [
             1.7770741847921385,
             -0.8442043348535535,
             19.203099798789644
            ]
           ],
           "radius": 0.5,
           "tooltip": "O2- (1.777, -0.844, 19.203)",
           "type": "spheres"
          },
          {
           "clickable": true,
           "color": "#f0c8a0",
           "id": "--atoms--33",
           "positions": [
            [
             3.866974653264737,
             30.935797226117963,
             12.261373015491737
            ]
           ],
           "radius": 0.5,
           "tooltip": "Si (3.867, 30.936, 12.261)",
           "type": "spheres"
          },
          {
           "clickable": true,
           "color": "#e06633",
           "id": "--atoms--34",
           "positions": [
            [
             6.063966746240094,
             32.88706922522265,
             19.23912029949558
            ]
           ],
           "radius": 0.5,
           "tooltip": "Fe2+ (6.064, 32.887, 19.239)",
           "type": "spheres"
          },
          {
           "clickable": true,
           "color": "#f0c8a0",
           "id": "--atoms--35",
           "positions": [
            [
             3.8669746532647444,
             1.9334873266323716,
             13.628555015491735
            ]
           ],
           "radius": 0.5,
           "tooltip": "Si (3.867, 1.933, 13.629)",
           "type": "spheres"
          },
          {
           "clickable": true,
           "color": "#f0c8a0",
           "id": "--atoms--36",
           "positions": [
            [
             1.9334873266323596,
             46.40369583917694,
             10.89419101549174
            ]
           ],
           "radius": 0.5,
           "tooltip": "Si (1.933, 46.404, 10.894)",
           "type": "spheres"
          },
          {
           "clickable": true,
           "color": "#f0c8a0",
           "id": "--atoms--37",
           "positions": [
            [
             3.8669746532647387,
             54.137645145706436,
             12.261373015491738
            ]
           ],
           "radius": 0.5,
           "tooltip": "Si (3.867, 54.138, 12.261)",
           "type": "spheres"
          },
          {
           "clickable": true,
           "color": "#ff0d0d",
           "id": "--atoms--38",
           "positions": [
            [
             -0.1684503324216489,
             -1.3447577345723898,
             20.633890050585343
            ]
           ],
           "radius": 0.5,
           "tooltip": "O2- (-0.168, -1.345, 20.634)",
           "type": "spheres"
          },
          {
           "clickable": true,
           "color": "#cc80ff",
           "id": "--atoms--39",
           "positions": [
            [
             1.0387536296269189,
             7.571354157540682,
             20.975746487355497
            ]
           ],
           "radius": 0.5,
           "tooltip": "Li+ (1.039, 7.571, 20.976)",
           "type": "spheres"
          },
          {
           "clickable": true,
           "color": "#f0c8a0",
           "id": "--atoms--40",
           "positions": [
            [
             7.733949306529487,
             21.268360592956096,
             13.628555015491736
            ]
           ],
           "radius": 0.5,
           "tooltip": "Si (7.734, 21.268, 13.629)",
           "type": "spheres"
          },
          {
           "clickable": true,
           "color": "#f0c8a0",
           "id": "--atoms--41",
           "positions": [
            [
             1.933487326632372,
             9.667436633161863,
             9.527009015491734
            ]
           ],
           "radius": 0.5,
           "tooltip": "Si (1.933, 9.667, 9.527)",
           "type": "spheres"
          },
          {
           "clickable": true,
           "color": "#cc80ff",
           "id": "--atoms--42",
           "positions": [
            [
             2.5855434909328134,
             56.295234788676474,
             20.975746487355508
            ]
           ],
           "radius": 0.5,
           "tooltip": "Li+ (2.586, 56.295, 20.976)",
           "type": "spheres"
          },
          {
           "clickable": true,
           "color": "#ff0d0d",
           "id": "--atoms--43",
           "positions": [
            [
             3.0923936516876847,
             34.999006550482434,
             21.278773663116176
            ]
           ],
           "radius": 0.5,
           "tooltip": "O2- (3.092, 34.999, 21.279)",
           "type": "spheres"
          },
          {
           "clickable": true,
           "color": "#ff0d0d",
           "id": "--atoms--44",
           "positions": [
            [
             2.914885321126307,
             30.30785949331858,
             19.213231776045262
            ]
           ],
           "radius": 0.5,
           "tooltip": "O2- (2.915, 30.308, 19.213)",
           "type": "spheres"
          },
          {
           "clickable": true,
           "color": "#e06633",
           "id": "--atoms--45",
           "positions": [
            [
             3.1160310112322613,
             16.584739319873645,
             19.413587661588114
            ]
           ],
           "radius": 0.5,
           "tooltip": "Fe2+ (3.116, 16.585, 19.414)",
           "type": "spheres"
          },
          {
           "clickable": true,
           "color": "#ff0d0d",
           "id": "--atoms--46",
           "positions": [
            [
             0.5319034688720393,
             55.93640496858796,
             20.672719311594832
            ]
           ],
           "radius": 0.5,
           "tooltip": "O2- (0.532, 55.936, 20.673)",
           "type": "spheres"
          },
          {
           "clickable": true,
           "color": "#f0c8a0",
           "id": "--atoms--47",
           "positions": [
            [
             -6.631146175322737e-15,
             52.204157819074055,
             13.628555015491738
            ]
           ],
           "radius": 0.5,
           "tooltip": "Si (-0.000, 52.204, 13.629)",
           "type": "spheres"
          },
          {
           "clickable": true,
           "color": "#ff8000",
           "id": "--atoms--48",
           "positions": [
            [
             3.2375622862310363,
             46.58374099361259,
             20.718265633004027
            ]
           ],
           "radius": 0.5,
           "tooltip": "P5+ (3.238, 46.584, 20.718)",
           "type": "spheres"
          },
          {
           "clickable": true,
           "color": "#ff8000",
           "id": "--atoms--49",
           "positions": [
            [
             2.7540004764607593,
             19.717569103294053,
             20.139005515595514
            ]
           ],
           "radius": 0.5,
           "tooltip": "P5+ (2.754, 19.718, 20.139)",
           "type": "spheres"
          },
          {
           "clickable": true,
           "color": "#f0c8a0",
           "id": "--atoms--50",
           "positions": [
            [
             3.8669746532647324,
             44.47020851254456,
             13.628555015491738
            ]
           ],
           "radius": 0.5,
           "tooltip": "Si (3.867, 44.470, 13.629)",
           "type": "spheres"
          },
          {
           "clickable": true,
           "color": "#ff0d0d",
           "id": "--atoms--51",
           "positions": [
            [
             2.7978812681737053,
             37.25314831828006,
             18.628555015491738
            ]
           ],
           "radius": 0.5,
           "tooltip": "O2- (2.798, 37.253, 18.629)",
           "type": "spheres"
          },
          {
           "clickable": true,
           "color": "#ff0d0d",
           "id": "--atoms--52",
           "positions": [
            [
             4.0716291172686505,
             33.260113509919215,
             19.798771957269246
            ]
           ],
           "radius": 0.5,
           "tooltip": "O2- (4.072, 33.260, 19.799)",
           "type": "spheres"
          },
          {
           "clickable": true,
           "color": "#f0c8a0",
           "id": "--atoms--53",
           "positions": [
            [
             5.800461979897113,
             34.8027718793827,
             10.894191015491737
            ]
           ],
           "radius": 0.5,
           "tooltip": "Si (5.800, 34.803, 10.894)",
           "type": "spheres"
          },
          {
           "clickable": true,
           "color": "#ff0d0d",
           "id": "--atoms--54",
           "positions": [
            [
             4.557626983088369,
             28.28836804220857,
             20.663545907491745
            ]
           ],
           "radius": 0.5,
           "tooltip": "O2- (4.558, 28.288, 20.664)",
           "type": "spheres"
          },
          {
           "clickable": true,
           "color": "#ff0d0d",
           "id": "--atoms--55",
           "positions": [
            [
             2.160249860083155,
             51.81951444772053,
             21.28794706721925
            ]
           ],
           "radius": 0.5,
           "tooltip": "O2- (2.160, 51.820, 21.288)",
           "type": "spheres"
          },
          {
           "clickable": true,
           "color": "#ff0d0d",
           "id": "--atoms--56",
           "positions": [
            [
             2.4078352030101624,
             18.55034427659811,
             19.214095196715732
            ]
           ],
           "radius": 0.5,
           "tooltip": "O2- (2.408, 18.550, 19.214)",
           "type": "spheres"
          },
          {
           "clickable": true,
           "color": "#f0c8a0",
           "id": "--atoms--57",
           "positions": [
            [
             1.9334873266323662,
             52.204157819074055,
             9.527009015491739
            ]
           ],
           "radius": 0.5,
           "tooltip": "Si (1.933, 52.204, 9.527)",
           "type": "spheres"
          },
          {
           "clickable": true,
           "color": "#f0c8a0",
           "id": "--atoms--58",
           "positions": [
            [
             -9.710533752017012e-15,
             46.40369583917695,
             12.261373015491738
            ]
           ],
           "radius": 0.5,
           "tooltip": "Si (-0.000, 46.404, 12.261)",
           "type": "spheres"
          },
          {
           "clickable": true,
           "color": "#f0c8a0",
           "id": "--atoms--59",
           "positions": [
            [
             7.733949306529485,
             56.0711324723388,
             13.628555015491738
            ]
           ],
           "radius": 0.5,
           "tooltip": "Si (7.734, 56.071, 13.629)",
           "type": "spheres"
          },
          {
           "clickable": true,
           "color": "#f0c8a0",
           "id": "--atoms--60",
           "positions": [
            [
             -3.01959320444233e-15,
             21.268360592956096,
             13.628555015491736
            ]
           ],
           "radius": 0.5,
           "tooltip": "Si (-0.000, 21.268, 13.629)",
           "type": "spheres"
          },
          {
           "clickable": true,
           "color": "#f0c8a0",
           "id": "--atoms--61",
           "positions": [
            [
             3.8669746532647418,
             0,
             12.261373015491735
            ]
           ],
           "radius": 0.5,
           "tooltip": "Si (3.867, 0.000, 12.261)",
           "type": "spheres"
          },
          {
           "clickable": true,
           "color": "#f0c8a0",
           "id": "--atoms--62",
           "positions": [
            [
             3.866974653264739,
             42.53672118591219,
             12.261373015491738
            ]
           ],
           "radius": 0.5,
           "tooltip": "Si (3.867, 42.537, 12.261)",
           "type": "spheres"
          },
          {
           "clickable": true,
           "color": "#ff8000",
           "id": "--atoms--63",
           "positions": [
            [
             6.331142008842829,
             35.75621196447131,
             20.718265633004034
            ]
           ],
           "radius": 0.5,
           "tooltip": "P5+ (6.331, 35.756, 20.718)",
           "type": "spheres"
          },
          {
           "clickable": true,
           "color": "#e06633",
           "id": "--atoms--64",
           "positions": [
            [
             2.3523335005081654,
             5.143605515552747,
             19.188206673265405
            ]
           ],
           "radius": 0.5,
           "tooltip": "Fe2+ (2.352, 5.144, 19.188)",
           "type": "spheres"
          },
          {
           "clickable": true,
           "color": "#f0c8a0",
           "id": "--atoms--65",
           "positions": [
            [
             3.8669746532647435,
             13.534411286426606,
             13.628555015491736
            ]
           ],
           "radius": 0.5,
           "tooltip": "Si (3.867, 13.534, 13.629)",
           "type": "spheres"
          },
          {
           "clickable": true,
           "color": "#ff0d0d",
           "id": "--atoms--66",
           "positions": [
            [
             4.591772243116661,
             47.348322379728735,
             20.721930765646054
            ]
           ],
           "radius": 0.5,
           "tooltip": "O2- (4.592, 47.348, 20.722)",
           "type": "spheres"
          },
          {
           "clickable": true,
           "color": "#f0c8a0",
           "id": "--atoms--67",
           "positions": [
            [
             1.9334873266323684,
             15.467898613058981,
             10.894191015491739
            ]
           ],
           "radius": 0.5,
           "tooltip": "Si (1.933, 15.468, 10.894)",
           "type": "spheres"
          },
          {
           "clickable": true,
           "color": "#f0c8a0",
           "id": "--atoms--68",
           "positions": [
            [
             5.800461979897115,
             3.8669746532647435,
             10.894191015491735
            ]
           ],
           "radius": 0.5,
           "tooltip": "Si (5.800, 3.867, 10.894)",
           "type": "spheres"
          },
          {
           "clickable": true,
           "color": "#ff0d0d",
           "id": "--atoms--69",
           "positions": [
            [
             4.87065390740393,
             42.46591178171161,
             19.203099798789648
            ]
           ],
           "radius": 0.5,
           "tooltip": "O2- (4.871, 42.466, 19.203)",
           "type": "spheres"
          },
          {
           "clickable": true,
           "color": "#cc80ff",
           "id": "--atoms--70",
           "positions": [
            [
             2.585543490932817,
             2.157589642970035,
             20.975746487355504
            ]
           ],
           "radius": 0.5,
           "tooltip": "Li+ (2.586, 2.158, 20.976)",
           "type": "spheres"
          },
          {
           "clickable": true,
           "color": "#f0c8a0",
           "id": "--atoms--71",
           "positions": [
            [
             -8.408222265853243e-15,
             25.135335246220844,
             13.628555015491736
            ]
           ],
           "radius": 0.5,
           "tooltip": "Si (-0.000, 25.135, 13.629)",
           "type": "spheres"
          },
          {
           "clickable": true,
           "color": "#ff0d0d",
           "id": "--atoms--72",
           "positions": [
            [
             6.924295795598058,
             3.6920310469694044,
             19.58319519876396
            ]
           ],
           "radius": 0.5,
           "tooltip": "O2- (6.924, 3.692, 19.583)",
           "type": "spheres"
          },
          {
           "clickable": true,
           "color": "#f0c8a0",
           "id": "--atoms--73",
           "positions": [
            [
             7.733949306529478,
             32.86928455275034,
             13.628555015491736
            ]
           ],
           "radius": 0.5,
           "tooltip": "Si (7.734, 32.869, 13.629)",
           "type": "spheres"
          },
          {
           "clickable": true,
           "color": "#f0c8a0",
           "id": "--atoms--74",
           "positions": [
            [
             1.9334873266323696,
             21.268360592956096,
             9.527009015491736
            ]
           ],
           "radius": 0.5,
           "tooltip": "Si (1.933, 21.268, 9.527)",
           "type": "spheres"
          },
          {
           "clickable": true,
           "color": "#f0c8a0",
           "id": "--atoms--75",
           "positions": [
            [
             -4.381699062858044e-15,
             15.467898613058981,
             12.261373015491733
            ]
           ],
           "radius": 0.5,
           "tooltip": "Si (-0.000, 15.468, 12.261)",
           "type": "spheres"
          },
          {
           "clickable": true,
           "color": "#ff0d0d",
           "id": "--atoms--76",
           "positions": [
            [
             0.5319034688720427,
             1.7987598228815203,
             20.67271931159483
            ]
           ],
           "radius": 0.5,
           "tooltip": "O2- (0.532, 1.799, 20.673)",
           "type": "spheres"
          },
          {
           "clickable": true,
           "color": "#ff0d0d",
           "id": "--atoms--77",
           "positions": [
            [
             6.138562104422555,
             14.865735292304874,
             20.72193076564605
            ]
           ],
           "radius": 0.5,
           "tooltip": "O2- (6.139, 14.866, 20.722)",
           "type": "spheres"
          },
          {
           "clickable": true,
           "color": "#ff0d0d",
           "id": "--atoms--78",
           "positions": [
            [
             7.565498974107841,
             -1.3447577345723898,
             20.633890050585343
            ]
           ],
           "radius": 0.5,
           "tooltip": "O2- (7.565, -1.345, 20.634)",
           "type": "spheres"
          },
          {
           "clickable": true,
           "color": "#f0c8a0",
           "id": "--atoms--79",
           "positions": [
            [
             7.733949306529485,
             23.201847919588474,
             12.261373015491737
            ]
           ],
           "radius": 0.5,
           "tooltip": "Si (7.734, 23.202, 12.261)",
           "type": "spheres"
          },
          {
           "clickable": true,
           "color": "#ff0d0d",
           "id": "--atoms--80",
           "positions": [
            [
             3.0387943124561048,
             55.99370175208857,
             18.84413177399703
            ]
           ],
           "radius": 0.5,
           "tooltip": "O2- (3.039, 55.994, 18.844)",
           "type": "spheres"
          },
          {
           "clickable": true,
           "color": "#cc80ff",
           "id": "--atoms--81",
           "positions": [
            [
             0.341175470109382,
             46.08415994324091,
             19.213663486380486
            ]
           ],
           "radius": 0.5,
           "tooltip": "Li+ (0.341, 46.084, 19.214)",
           "type": "spheres"
          },
          {
           "clickable": true,
           "color": "#e06633",
           "id": "--atoms--82",
           "positions": [
            [
             0.022451288620462397,
             27.412268349014933,
             19.413587661588114
            ]
           ],
           "radius": 0.5,
           "tooltip": "Fe2+ (0.022, 27.412, 19.414)",
           "type": "spheres"
          },
          {
           "clickable": true,
           "color": "#e06633",
           "id": "--atoms--83",
           "positions": [
            [
             3.7534793742101003,
             53.928522508325614,
             19.013739311172873
            ]
           ],
           "radius": 0.5,
           "tooltip": "Fe2+ (3.753, 53.929, 19.014)",
           "type": "spheres"
          },
          {
           "clickable": true,
           "color": "#f0c8a0",
           "id": "--atoms--84",
           "positions": [
            [
             5.800461979897112,
             40.60323385927982,
             9.527009015491739
            ]
           ],
           "radius": 0.5,
           "tooltip": "Si (5.800, 40.603, 9.527)",
           "type": "spheres"
          },
          {
           "clickable": true,
           "color": "#ff0d0d",
           "id": "--atoms--85",
           "positions": [
            [
             5.219684322666662,
             21.932031081059076,
             21.229562209064945
            ]
           ],
           "radius": 0.5,
           "tooltip": "O2- (5.220, 21.932, 21.230)",
           "type": "spheres"
          },
          {
           "clickable": true,
           "color": "#f0c8a0",
           "id": "--atoms--86",
           "positions": [
            [
             5.800461979897109,
             46.40369583917695,
             10.89419101549174
            ]
           ],
           "radius": 0.5,
           "tooltip": "Si (5.800, 46.404, 10.894)",
           "type": "spheres"
          },
          {
           "clickable": true,
           "color": "#f0c8a0",
           "id": "--atoms--87",
           "positions": [
            [
             7.733949306529489,
             1.9334873266323707,
             13.628555015491735
            ]
           ],
           "radius": 0.5,
           "tooltip": "Si (7.734, 1.933, 13.629)",
           "type": "spheres"
          },
          {
           "clickable": true,
           "color": "#ff0d0d",
           "id": "--atoms--88",
           "positions": [
            [
             5.2538295826949435,
             40.99198541857924,
             21.28794706721925
            ]
           ],
           "radius": 0.5,
           "tooltip": "O2- (5.254, 40.992, 21.288)",
           "type": "spheres"
          },
          {
           "clickable": true,
           "color": "#cc80ff",
           "id": "--atoms--89",
           "positions": [
            [
             0.3411754701093879,
             19.015337370387698,
             19.213663486380486
            ]
           ],
           "radius": 0.5,
           "tooltip": "Li+ (0.341, 19.015, 19.214)",
           "type": "spheres"
          },
          {
           "clickable": true,
           "color": "#f0c8a0",
           "id": "--atoms--90",
           "positions": [
            [
             1.9334873266323682,
             56.0711324723388,
             9.527009015491737
            ]
           ],
           "radius": 0.5,
           "tooltip": "Si (1.933, 56.071, 9.527)",
           "type": "spheres"
          },
          {
           "clickable": true,
           "color": "#ff0d0d",
           "id": "--atoms--91",
           "positions": [
            [
             3.6728944613607677,
             0.2769730227764994,
             21.229562209064945
            ]
           ],
           "radius": 0.5,
           "tooltip": "O2- (3.673, 0.277, 21.230)",
           "type": "spheres"
          },
          {
           "clickable": true,
           "color": "#f0c8a0",
           "id": "--atoms--92",
           "positions": [
            [
             -1.2316353515560826e-14,
             32.86928455275034,
             13.628555015491736
            ]
           ],
           "radius": 0.5,
           "tooltip": "Si (-0.000, 32.869, 13.629)",
           "type": "spheres"
          },
          {
           "clickable": true,
           "color": "#f0c8a0",
           "id": "--atoms--93",
           "positions": [
            [
             3.866974653264742,
             11.600923959794233,
             12.261373015491737
            ]
           ],
           "radius": 0.5,
           "tooltip": "Si (3.867, 11.601, 12.261)",
           "type": "spheres"
          },
          {
           "clickable": true,
           "color": "#ff8000",
           "id": "--atoms--94",
           "positions": [
            [
             7.057456089322569,
             49.56278435749375,
             21.812487459115495
            ]
           ],
           "radius": 0.5,
           "tooltip": "P5+ (7.057, 49.563, 21.812)",
           "type": "spheres"
          },
          {
           "clickable": true,
           "color": "#ff0d0d",
           "id": "--atoms--95",
           "positions": [
            [
             5.172273052789736,
             12.626288852022801,
             20.672719311594825
            ]
           ],
           "radius": 0.5,
           "tooltip": "O2- (5.172, 12.626, 20.673)",
           "type": "spheres"
          },
          {
           "clickable": true,
           "color": "#ff0d0d",
           "id": "--atoms--96",
           "positions": [
            [
             7.685351965728452,
             36.520793350587454,
             20.721930765646054
            ]
           ],
           "radius": 0.5,
           "tooltip": "O2- (7.685, 36.521, 20.722)",
           "type": "spheres"
          },
          {
           "clickable": true,
           "color": "#f0c8a0",
           "id": "--atoms--97",
           "positions": [
            [
             1.9334873266323693,
             27.068822572853218,
             10.894191015491737
            ]
           ],
           "radius": 0.5,
           "tooltip": "Si (1.933, 27.069, 10.894)",
           "type": "spheres"
          },
          {
           "clickable": true,
           "color": "#f0c8a0",
           "id": "--atoms--98",
           "positions": [
            [
             5.800461979897113,
             15.467898613058981,
             10.894191015491739
            ]
           ],
           "radius": 0.5,
           "tooltip": "Si (5.800, 15.468, 10.894)",
           "type": "spheres"
          },
          {
           "clickable": true,
           "color": "#ff0d0d",
           "id": "--atoms--99",
           "positions": [
            [
             5.6184189785745495,
             54.915171568201785,
             19.79877195726925
            ]
           ],
           "radius": 0.5,
           "tooltip": "O2- (5.618, 54.915, 19.799)",
           "type": "spheres"
          },
          {
           "clickable": true,
           "color": "#ff8000",
           "id": "--atoms--100",
           "positions": [
            [
             7.394370060378446,
             30.545098132435346,
             20.13900551559551
            ]
           ],
           "radius": 0.5,
           "tooltip": "P5+ (7.394, 30.545, 20.139)",
           "type": "spheres"
          },
          {
           "clickable": true,
           "color": "#ff0d0d",
           "id": "--atoms--101",
           "positions": [
            [
             3.038794312456108,
             1.8560566063821307,
             18.844131773997027
            ]
           ],
           "radius": 0.5,
           "tooltip": "O2- (3.039, 1.856, 18.844)",
           "type": "spheres"
          },
          {
           "clickable": true,
           "color": "#ff0d0d",
           "id": "--atoms--102",
           "positions": [
            [
             -0.1684503324216522,
             52.792887411134046,
             20.633890050585347
            ]
           ],
           "radius": 0.5,
           "tooltip": "O2- (-0.168, 52.793, 20.634)",
           "type": "spheres"
          },
          {
           "clickable": true,
           "color": "#f0c8a0",
           "id": "--atoms--103",
           "positions": [
            [
             7.733949306529477,
             44.47020851254457,
             13.628555015491738
            ]
           ],
           "radius": 0.5,
           "tooltip": "Si (7.734, 44.470, 13.629)",
           "type": "spheres"
          },
          {
           "clickable": true,
           "color": "#f0c8a0",
           "id": "--atoms--104",
           "positions": [
            [
             1.9334873266323638,
             32.86928455275034,
             9.527009015491736
            ]
           ],
           "radius": 0.5,
           "tooltip": "Si (1.933, 32.869, 9.527)",
           "type": "spheres"
          },
          {
           "clickable": true,
           "color": "#f0c8a0",
           "id": "--atoms--105",
           "positions": [
            [
             -6.809332500862298e-15,
             27.068822572853218,
             12.261373015491737
            ]
           ],
           "radius": 0.5,
           "tooltip": "Si (-0.000, 27.069, 12.261)",
           "type": "spheres"
          },
          {
           "clickable": true,
           "color": "#ff0d0d",
           "id": "--atoms--106",
           "positions": [
            [
             6.766474183972559,
             43.58708913934165,
             21.22956220906495
            ]
           ],
           "radius": 0.5,
           "tooltip": "O2- (6.766, 43.587, 21.230)",
           "type": "spheres"
          },
          {
           "clickable": true,
           "color": "#f0c8a0",
           "id": "--atoms--107",
           "positions": [
            [
             -1.835673671566176e-15,
             1.9334873266323707,
             13.628555015491735
            ]
           ],
           "radius": 0.5,
           "tooltip": "Si (-0.000, 1.933, 13.629)",
           "type": "spheres"
          },
          {
           "clickable": true,
           "color": "#f0c8a0",
           "id": "--atoms--108",
           "positions": [
            [
             7.733949306529478,
             34.8027718793827,
             12.261373015491737
            ]
           ],
           "radius": 0.5,
           "tooltip": "Si (7.734, 34.803, 12.261)",
           "type": "spheres"
          },
          {
           "clickable": true,
           "color": "#f0c8a0",
           "id": "--atoms--109",
           "positions": [
            [
             3.8669746532647404,
             23.201847919588474,
             12.261373015491733
            ]
           ],
           "radius": 0.5,
           "tooltip": "Si (3.867, 23.202, 12.261)",
           "type": "spheres"
          },
          {
           "clickable": true,
           "color": "#e06633",
           "id": "--atoms--110",
           "positions": [
            [
             4.517176884934203,
             11.232011166940069,
             19.239120299495575
            ]
           ],
           "radius": 0.5,
           "tooltip": "Fe2+ (4.517, 11.232, 19.239)",
           "type": "spheres"
          },
          {
           "clickable": true,
           "color": "#ff0d0d",
           "id": "--atoms--111",
           "positions": [
            [
             7.048204786927848,
             29.377873305739403,
             19.214095196715732
            ]
           ],
           "radius": 0.5,
           "tooltip": "O2- (7.048, 29.378, 19.214)",
           "type": "spheres"
          },
          {
           "clickable": true,
           "color": "#ff0d0d",
           "id": "--atoms--112",
           "positions": [
            [
             4.461675182432209,
             -2.1747275941052866,
             19.21323177604525
            ]
           ],
           "radius": 0.5,
           "tooltip": "O2- (4.462, -2.175, 19.213)",
           "type": "spheres"
          },
          {
           "clickable": true,
           "color": "#f0c8a0",
           "id": "--atoms--113",
           "positions": [
            [
             5.800461979897116,
             9.667436633161861,
             9.527009015491737
            ]
           ],
           "radius": 0.5,
           "tooltip": "Si (5.800, 9.667, 9.527)",
           "type": "spheres"
          },
          {
           "clickable": true,
           "color": "#f0c8a0",
           "id": "--atoms--114",
           "positions": [
            [
             5.800461979897111,
             52.204157819074055,
             9.527009015491739
            ]
           ],
           "radius": 0.5,
           "tooltip": "Si (5.800, 52.204, 9.527)",
           "type": "spheres"
          },
          {
           "clickable": true,
           "color": "#f0c8a0",
           "id": "--atoms--115",
           "positions": [
            [
             1.9334873266323633,
             38.66974653264744,
             10.894191015491737
            ]
           ],
           "radius": 0.5,
           "tooltip": "Si (1.933, 38.670, 10.894)",
           "type": "spheres"
          },
          {
           "clickable": true,
           "color": "#ff0d0d",
           "id": "--atoms--116",
           "positions": [
            [
             2.925129390190143,
             41.965358381992765,
             20.63389005058535
            ]
           ],
           "radius": 0.5,
           "tooltip": "O2- (2.925, 41.965, 20.634)",
           "type": "spheres"
          },
          {
           "clickable": true,
           "color": "#f0c8a0",
           "id": "--atoms--117",
           "positions": [
            [
             -2.072457578141407e-15,
             5.800461979897116,
             13.628555015491735
            ]
           ],
           "radius": 0.5,
           "tooltip": "Si (-0.000, 5.800, 13.629)",
           "type": "spheres"
          },
          {
           "clickable": true,
           "color": "#ff8000",
           "id": "--atoms--118",
           "positions": [
            [
             6.573894279552285,
             22.696612467175218,
             21.233227341706975
            ]
           ],
           "radius": 0.5,
           "tooltip": "P5+ (6.574, 22.697, 21.233)",
           "type": "spheres"
          },
          {
           "clickable": true,
           "color": "#f0c8a0",
           "id": "--atoms--119",
           "positions": [
            [
             3.8669746532647387,
             25.135335246220844,
             13.628555015491736
            ]
           ],
           "radius": 0.5,
           "tooltip": "Si (3.867, 25.135, 13.629)",
           "type": "spheres"
          },
          {
           "clickable": true,
           "color": "#f0c8a0",
           "id": "--atoms--120",
           "positions": [
            [
             7.733949306529487,
             13.534411286426606,
             13.628555015491733
            ]
           ],
           "radius": 0.5,
           "tooltip": "Si (7.734, 13.534, 13.629)",
           "type": "spheres"
          },
          {
           "clickable": true,
           "color": "#f0c8a0",
           "id": "--atoms--121",
           "positions": [
            [
             1.9334873266323713,
             1.9334873266323718,
             9.527009015491734
            ]
           ],
           "radius": 0.5,
           "tooltip": "Si (1.933, 1.933, 9.527)",
           "type": "spheres"
          },
          {
           "clickable": true,
           "color": "#ff0d0d",
           "id": "--atoms--122",
           "positions": [
            [
             4.461675182432205,
             51.96291755160115,
             19.213231776045255
            ]
           ],
           "radius": 0.5,
           "tooltip": "O2- (4.462, 51.963, 19.213)",
           "type": "spheres"
          },
          {
           "clickable": true,
           "color": "#f0c8a0",
           "id": "--atoms--123",
           "positions": [
            [
             -2.3678390657523075e-16,
             3.8669746532647435,
             12.261373015491735
            ]
           ],
           "radius": 0.5,
           "tooltip": "Si (-0.000, 3.867, 12.261)",
           "type": "spheres"
          },
          {
           "clickable": true,
           "color": "#cc80ff",
           "id": "--atoms--124",
           "positions": [
            [
             4.9815450540270785,
             29.842866399528994,
             19.213663486380486
            ]
           ],
           "radius": 0.5,
           "tooltip": "Li+ (4.982, 29.843, 19.214)",
           "type": "spheres"
          },
          {
           "clickable": true,
           "color": "#e06633",
           "id": "--atoms--125",
           "positions": [
            [
             5.445913223119962,
             48.4537216321179,
             19.18820667326541
            ]
           ],
           "radius": 0.5,
           "tooltip": "Fe2+ (5.446, 48.454, 19.188)",
           "type": "spheres"
          },
          {
           "clickable": true,
           "color": "#cc80ff",
           "id": "--atoms--126",
           "positions": [
            [
             5.679123213544605,
             45.4677057595352,
             20.975746487355497
            ]
           ],
           "radius": 0.5,
           "tooltip": "Li+ (5.679, 45.468, 20.976)",
           "type": "spheres"
          },
          {
           "clickable": true,
           "color": "#ff0d0d",
           "id": "--atoms--127",
           "positions": [
            [
             7.964233630015723,
             31.638382752570326,
             19.203099798789648
            ]
           ],
           "radius": 0.5,
           "tooltip": "O2- (7.964, 31.638, 19.203)",
           "type": "spheres"
          },
          {
           "clickable": true,
           "color": "#f0c8a0",
           "id": "--atoms--128",
           "positions": [
            [
             5.800461979897115,
             21.268360592956096,
             9.527009015491736
            ]
           ],
           "radius": 0.5,
           "tooltip": "Si (5.800, 21.268, 9.527)",
           "type": "spheres"
          },
          {
           "clickable": true,
           "color": "#ff0d0d",
           "id": "--atoms--129",
           "positions": [
            [
             3.3238640460980324,
             20.81085372342903,
             19.203099798789644
            ]
           ],
           "radius": 0.5,
           "tooltip": "O2- (3.324, 20.811, 19.203)",
           "type": "spheres"
          },
          {
           "clickable": true,
           "color": "#e06633",
           "id": "--atoms--130",
           "positions": [
            [
             6.8470590968218925,
             43.100993479184325,
             19.01373931117287
            ]
           ],
           "radius": 0.5,
           "tooltip": "Fe2+ (6.847, 43.101, 19.014)",
           "type": "spheres"
          },
          {
           "clickable": true,
           "color": "#f0c8a0",
           "id": "--atoms--131",
           "positions": [
            [
             3.866974653264733,
             36.73625920601508,
             13.628555015491736
            ]
           ],
           "radius": 0.5,
           "tooltip": "Si (3.867, 36.736, 13.629)",
           "type": "spheres"
          },
          {
           "clickable": true,
           "color": "#ff0d0d",
           "id": "--atoms--132",
           "positions": [
            [
             3.0108371217824743,
             6.633309983925993,
             20.66354590749175
            ]
           ],
           "radius": 0.5,
           "tooltip": "O2- (3.011, 6.633, 20.664)",
           "type": "spheres"
          },
          {
           "clickable": true,
           "color": "#ff0d0d",
           "id": "--atoms--133",
           "positions": [
            [
             6.1323740350679,
             45.16617272294728,
             18.84413177399702
            ]
           ],
           "radius": 0.5,
           "tooltip": "O2- (6.132, 45.166, 18.844)",
           "type": "spheres"
          },
          {
           "clickable": true,
           "color": "#ff8000",
           "id": "--atoms--134",
           "positions": [
            [
             7.877931870148732,
             3.273624877047438,
             20.718265633004023
            ]
           ],
           "radius": 0.5,
           "tooltip": "P5+ (7.878, 3.274, 20.718)",
           "type": "spheres"
          },
          {
           "clickable": true,
           "color": "#cc80ff",
           "id": "--atoms--135",
           "positions": [
            [
             6.528334915332984,
             24.42910188495834,
             19.2136634863805
            ]
           ],
           "radius": 0.5,
           "tooltip": "Li+ (6.528, 24.429, 19.214)",
           "type": "spheres"
          },
          {
           "clickable": true,
           "color": "#cc80ff",
           "id": "--atoms--136",
           "positions": [
            [
             4.132333352238711,
             50.88147027410584,
             20.9757464873555
            ]
           ],
           "radius": 0.5,
           "tooltip": "Li+ (4.132, 50.881, 20.976)",
           "type": "spheres"
          },
          {
           "clickable": true,
           "color": "#ff0d0d",
           "id": "--atoms--137",
           "positions": [
            [
             1.7770741847921352,
             53.293440810852886,
             19.203099798789648
            ]
           ],
           "radius": 0.5,
           "tooltip": "O2- (1.777, 53.293, 19.203)",
           "type": "spheres"
          },
          {
           "clickable": true,
           "color": "#f0c8a0",
           "id": "--atoms--138",
           "positions": [
            [
             -3.404666250431149e-15,
             13.534411286426604,
             13.628555015491731
            ]
           ],
           "radius": 0.5,
           "tooltip": "Si (-0.000, 13.534, 13.629)",
           "type": "spheres"
          },
          {
           "clickable": true,
           "color": "#f0c8a0",
           "id": "--atoms--139",
           "positions": [
            [
             7.733949306529481,
             46.40369583917695,
             12.261373015491738
            ]
           ],
           "radius": 0.5,
           "tooltip": "Si (7.734, 46.404, 12.261)",
           "type": "spheres"
          },
          {
           "clickable": true,
           "color": "#f0c8a0",
           "id": "--atoms--140",
           "positions": [
            [
             3.8669746532647395,
             34.8027718793827,
             12.261373015491737
            ]
           ],
           "radius": 0.5,
           "tooltip": "Si (3.867, 34.803, 12.261)",
           "type": "spheres"
          },
          {
           "clickable": true,
           "color": "#ff0d0d",
           "id": "--atoms--141",
           "positions": [
            [
             1.3680954598204116,
             8.652801435035995,
             19.21323177604525
            ]
           ],
           "radius": 0.5,
           "tooltip": "O2- (1.368, 8.653, 19.213)",
           "type": "spheres"
          },
          {
           "clickable": true,
           "color": "#ff0d0d",
           "id": "--atoms--142",
           "positions": [
            [
             6.639226061956124,
             38.87487907562895,
             19.224227173971343
            ]
           ],
           "radius": 0.5,
           "tooltip": "O2- (6.639, 38.875, 19.224)",
           "type": "spheres"
          },
          {
           "clickable": true,
           "color": "#f0c8a0",
           "id": "--atoms--143",
           "positions": [
            [
             1.933487326632369,
             7.733949306529489,
             10.894191015491735
            ]
           ],
           "radius": 0.5,
           "tooltip": "Si (1.933, 7.734, 10.894)",
           "type": "spheres"
          },
          {
           "clickable": true,
           "color": "#f0c8a0",
           "id": "--atoms--144",
           "positions": [
            [
             5.800461979897114,
             56.07113247233882,
             9.527009015491737
            ]
           ],
           "radius": 0.5,
           "tooltip": "Si (5.800, 56.071, 9.527)",
           "type": "spheres"
          },
          {
           "clickable": true,
           "color": "#ff8000",
           "id": "--atoms--145",
           "positions": [
            [
             2.417086505404866,
             38.735255328352466,
             21.812487459115495
            ]
           ],
           "radius": 0.5,
           "tooltip": "P5+ (2.417, 38.735, 21.812)",
           "type": "spheres"
          },
          {
           "clickable": true,
           "color": "#ff8000",
           "id": "--atoms--146",
           "positions": [
            [
             3.480314556940488,
             33.52414149631651,
             21.233227341706975
            ]
           ],
           "radius": 0.5,
           "tooltip": "P5+ (3.480, 33.524, 21.233)",
           "type": "spheres"
          },
          {
           "clickable": true,
           "color": "#ff0d0d",
           "id": "--atoms--147",
           "positions": [
            [
             2.2839262116803596,
             47.00214716353456,
             19.583195198763963
            ]
           ],
           "radius": 0.5,
           "tooltip": "O2- (2.284, 47.002, 19.583)",
           "type": "spheres"
          },
          {
           "clickable": true,
           "color": "#f0c8a0",
           "id": "--atoms--148",
           "positions": [
            [
             7.733949306529482,
             25.135335246220844,
             13.628555015491736
            ]
           ],
           "radius": 0.5,
           "tooltip": "Si (7.734, 25.135, 13.629)",
           "type": "spheres"
          },
          {
           "clickable": true,
           "color": "#f0c8a0",
           "id": "--atoms--149",
           "positions": [
            [
             -1.332208672289742e-15,
             7.733949306529491,
             12.261373015491735
            ]
           ],
           "radius": 0.5,
           "tooltip": "Si (-0.000, 7.734, 12.261)",
           "type": "spheres"
          },
          {
           "clickable": true,
           "color": "#ff0d0d",
           "id": "--atoms--150",
           "positions": [
            [
             2.5248392559627595,
             11.60505545163663,
             19.798771957269242
            ]
           ],
           "radius": 0.5,
           "tooltip": "O2- (2.525, 11.605, 19.799)",
           "type": "spheres"
          },
          {
           "clickable": true,
           "color": "#f0c8a0",
           "id": "--atoms--151",
           "positions": [
            [
             5.8004619798971095,
             27.068822572853218,
             10.894191015491737
            ]
           ],
           "radius": 0.5,
           "tooltip": "Si (5.800, 27.069, 10.894)",
           "type": "spheres"
          },
          {
           "clickable": true,
           "color": "#f0c8a0",
           "id": "--atoms--152",
           "positions": [
            [
             7.733949306529486,
             15.467898613058981,
             12.261373015491733
            ]
           ],
           "radius": 0.5,
           "tooltip": "Si (7.734, 15.468, 12.261)",
           "type": "spheres"
          },
          {
           "clickable": true,
           "color": "#f0c8a0",
           "id": "--atoms--153",
           "positions": [
            [
             3.866974653264743,
             3.8669746532647435,
             12.261373015491735
            ]
           ],
           "radius": 0.5,
           "tooltip": "Si (3.867, 3.867, 12.261)",
           "type": "spheres"
          },
          {
           "clickable": true,
           "color": "#e06633",
           "id": "--atoms--154",
           "positions": [
            [
             6.2096107338440625,
             5.757210290732355,
             19.413587661588114
            ]
           ],
           "radius": 0.5,
           "tooltip": "Fe2+ (6.210, 5.757, 19.414)",
           "type": "spheres"
          },
          {
           "clickable": true,
           "color": "#ff0d0d",
           "id": "--atoms--155",
           "positions": [
            [
             6.1859733742994845,
             24.171477521341142,
             21.278773663116176
            ]
           ],
           "radius": 0.5,
           "tooltip": "O2- (6.186, 24.171, 21.279)",
           "type": "spheres"
          },
          {
           "clickable": true,
           "color": "#f0c8a0",
           "id": "--atoms--156",
           "positions": [
            [
             1.93348732663237,
             44.47020851254457,
             9.527009015491739
            ]
           ],
           "radius": 0.5,
           "tooltip": "Si (1.933, 44.470, 9.527)",
           "type": "spheres"
          },
          {
           "clickable": true,
           "color": "#f0c8a0",
           "id": "--atoms--157",
           "positions": [
            [
             5.800461979897106,
             32.86928455275034,
             9.527009015491736
            ]
           ],
           "radius": 0.5,
           "tooltip": "Si (5.800, 32.869, 9.527)",
           "type": "spheres"
          },
          {
           "clickable": true,
           "color": "#f0c8a0",
           "id": "--atoms--158",
           "positions": [
            [
             1.9334873266323698,
             19.334873266323726,
             10.894191015491739
            ]
           ],
           "radius": 0.5,
           "tooltip": "Si (1.933, 19.335, 10.894)",
           "type": "spheres"
          },
          {
           "clickable": true,
           "color": "#ff0d0d",
           "id": "--atoms--159",
           "positions": [
            [
             0.9780493946568593,
             44.0876425390605,
             19.798771957269253
            ]
           ],
           "radius": 0.5,
           "tooltip": "O2- (0.978, 44.088, 19.799)",
           "type": "spheres"
          },
          {
           "clickable": true,
           "color": "#ff8000",
           "id": "--atoms--160",
           "positions": [
            [
             4.784352147536937,
             14.101153906188733,
             20.71826563300403
            ]
           ],
           "radius": 0.5,
           "tooltip": "P5+ (4.784, 14.101, 20.718)",
           "type": "spheres"
          },
          {
           "clickable": true,
           "color": "#f0c8a0",
           "id": "--atoms--161",
           "positions": [
            [
             3.866974653264742,
             5.800461979897116,
             13.628555015491735
            ]
           ],
           "radius": 0.5,
           "tooltip": "Si (3.867, 5.800, 13.629)",
           "type": "spheres"
          },
          {
           "clickable": true,
           "color": "#f0c8a0",
           "id": "--atoms--162",
           "positions": [
            [
             3.866974653264732,
             48.337183165809314,
             13.628555015491738
            ]
           ],
           "radius": 0.5,
           "tooltip": "Si (3.867, 48.337, 13.629)",
           "type": "spheres"
          },
          {
           "clickable": true,
           "color": "#ff0d0d",
           "id": "--atoms--163",
           "positions": [
            [
             0.8610453417042594,
             51.03293136402198,
             19.21409519671574
            ]
           ],
           "radius": 0.5,
           "tooltip": "O2- (0.861, 51.033, 19.214)",
           "type": "spheres"
          },
          {
           "clickable": true,
           "color": "#e06633",
           "id": "--atoms--164",
           "positions": [
            [
             7.610756607545999,
             54.542127283505216,
             19.239120299495585
            ]
           ],
           "radius": 0.5,
           "tooltip": "Fe2+ (7.611, 54.542, 19.239)",
           "type": "spheres"
          },
          {
           "clickable": true,
           "color": "#f0c8a0",
           "id": "--atoms--165",
           "positions": [
            [
             1.9334873266323558,
             50.270670492441695,
             10.89419101549174
            ]
           ],
           "radius": 0.5,
           "tooltip": "Si (1.933, 50.271, 10.894)",
           "type": "spheres"
          },
          {
           "clickable": true,
           "color": "#f0c8a0",
           "id": "--atoms--166",
           "positions": [
            [
             5.800461979897112,
             38.66974653264745,
             10.89419101549174
            ]
           ],
           "radius": 0.5,
           "tooltip": "Si (5.800, 38.670, 10.894)",
           "type": "spheres"
          },
          {
           "clickable": true,
           "color": "#f0c8a0",
           "id": "--atoms--167",
           "positions": [
            [
             5.800461979897118,
             0,
             10.894191015491737
            ]
           ],
           "radius": 0.5,
           "tooltip": "Si (5.800, 0.000, 10.894)",
           "type": "spheres"
          },
          {
           "clickable": true,
           "color": "#cc80ff",
           "id": "--atoms--168",
           "positions": [
            [
             7.225913074850507,
             40.053941244964555,
             20.975746487355504
            ]
           ],
           "radius": 0.5,
           "tooltip": "Li+ (7.226, 40.054, 20.976)",
           "type": "spheres"
          },
          {
           "clickable": true,
           "color": "#cc80ff",
           "id": "--atoms--169",
           "positions": [
            [
             3.434755192721181,
             35.25663091409963,
             19.21366348638049
            ]
           ],
           "radius": 0.5,
           "tooltip": "Li+ (3.435, 35.257, 19.214)",
           "type": "spheres"
          },
          {
           "clickable": true,
           "color": "#ff8000",
           "id": "--atoms--170",
           "positions": [
            [
             1.207210615154859,
             -1.9374889549885148,
             20.139005515595514
            ]
           ],
           "radius": 0.5,
           "tooltip": "P5+ (1.207, -1.937, 20.139)",
           "type": "spheres"
          },
          {
           "clickable": true,
           "color": "#f0c8a0",
           "id": "--atoms--171",
           "positions": [
            [
             1.9334873266323676,
             13.534411286426609,
             9.527009015491737
            ]
           ],
           "radius": 0.5,
           "tooltip": "Si (1.933, 13.534, 9.527)",
           "type": "spheres"
          },
          {
           "clickable": true,
           "color": "#f0c8a0",
           "id": "--atoms--172",
           "positions": [
            [
             5.800461979897117,
             1.9334873266323727,
             9.527009015491734
            ]
           ],
           "radius": 0.5,
           "tooltip": "Si (5.800, 1.933, 9.527)",
           "type": "spheres"
          },
          {
           "clickable": true,
           "color": "#f0c8a0",
           "id": "--atoms--173",
           "positions": [
            [
             -9.088676799452963e-15,
             50.270670492441695,
             12.261373015491738
            ]
           ],
           "radius": 0.5,
           "tooltip": "Si (-0.000, 50.271, 12.261)",
           "type": "spheres"
          },
          {
           "clickable": true,
           "color": "#ff0d0d",
           "id": "--atoms--174",
           "positions": [
            [
             0.6991677303695832,
             48.97005313707762,
             21.317602924125662
            ]
           ],
           "radius": 0.5,
           "tooltip": "O2- (0.699, 48.970, 21.318)",
           "type": "spheres"
          },
          {
           "clickable": true,
           "color": "#f0c8a0",
           "id": "--atoms--175",
           "positions": [
            [
             7.733949306529487,
             54.137645145706436,
             12.261373015491738
            ]
           ],
           "radius": 0.5,
           "tooltip": "Si (7.734, 54.138, 12.261)",
           "type": "spheres"
          },
          {
           "clickable": true,
           "color": "#ff0d0d",
           "id": "--atoms--176",
           "positions": [
            [
             -0.178694401485492,
             41.13538852245986,
             19.21323177604526
            ]
           ],
           "radius": 0.5,
           "tooltip": "O2- (-0.179, 41.135, 19.213)",
           "type": "spheres"
          },
          {
           "clickable": true,
           "color": "#e06633",
           "id": "--atoms--177",
           "positions": [
            [
             0.8055436392022601,
             37.626192602976616,
             19.1882066732654
            ]
           ],
           "radius": 0.5,
           "tooltip": "Fe2+ (0.806, 37.626, 19.188)",
           "type": "spheres"
          },
          {
           "clickable": true,
           "color": "#f0c8a0",
           "id": "--atoms--178",
           "positions": [
            [
             3.866974653264739,
             17.40138593969135,
             13.628555015491733
            ]
           ],
           "radius": 0.5,
           "tooltip": "Si (3.867, 17.401, 13.629)",
           "type": "spheres"
          },
          {
           "clickable": true,
           "color": "#ff8000",
           "id": "--atoms--179",
           "positions": [
            [
             5.847580199072553,
             8.890040074152767,
             20.139005515595507
            ]
           ],
           "radius": 0.5,
           "tooltip": "P5+ (5.848, 8.890, 20.139)",
           "type": "spheres"
          },
          {
           "clickable": true,
           "color": "#ff0d0d",
           "id": "--atoms--180",
           "positions": [
            [
             5.891460990785502,
             26.42561928913877,
             18.628555015491738
            ]
           ],
           "radius": 0.5,
           "tooltip": "O2- (5.891, 26.426, 18.629)",
           "type": "spheres"
          },
          {
           "clickable": true,
           "color": "#ff0d0d",
           "id": "--atoms--181",
           "positions": [
            [
             7.565498974107838,
             52.792887411134046,
             20.633890050585347
            ]
           ],
           "radius": 0.5,
           "tooltip": "O2- (7.565, 52.793, 20.634)",
           "type": "spheres"
          },
          {
           "clickable": true,
           "color": "#f0c8a0",
           "id": "--atoms--182",
           "positions": [
            [
             7.7339493065294835,
             27.068822572853218,
             12.261373015491737
            ]
           ],
           "radius": 0.5,
           "tooltip": "Si (7.734, 27.069, 12.261)",
           "type": "spheres"
          },
          {
           "clickable": true,
           "color": "#f0c8a0",
           "id": "--atoms--183",
           "positions": [
            [
             7.733949306529483,
             36.73625920601507,
             13.628555015491738
            ]
           ],
           "radius": 0.5,
           "tooltip": "Si (7.734, 36.736, 13.629)",
           "type": "spheres"
          },
          {
           "clickable": true,
           "color": "#f0c8a0",
           "id": "--atoms--184",
           "positions": [
            [
             3.866974653264728,
             -1.933487326632384,
             13.628555015491735
            ]
           ],
           "radius": 0.5,
           "tooltip": "Si (3.867, -1.933, 13.629)",
           "type": "spheres"
          },
          {
           "clickable": true,
           "color": "#ff0d0d",
           "id": "--atoms--185",
           "positions": [
            [
             3.707039721389053,
             19.336927360296663,
             21.287947067219253
            ]
           ],
           "radius": 0.5,
           "tooltip": "O2- (3.707, 19.337, 21.288)",
           "type": "spheres"
          },
          {
           "clickable": true,
           "color": "#ff0d0d",
           "id": "--atoms--186",
           "positions": [
            [
             5.501414925621957,
             7.722815247456818,
             19.21409519671573
            ]
           ],
           "radius": 0.5,
           "tooltip": "O2- (5.501, 7.723, 19.214)",
           "type": "spheres"
          },
          {
           "clickable": true,
           "color": "#ff0d0d",
           "id": "--atoms--187",
           "positions": [
            [
             3.6254831914838324,
             45.10887593944667,
             20.67271931159483
            ]
           ],
           "radius": 0.5,
           "tooltip": "O2- (3.625, 45.109, 20.673)",
           "type": "spheres"
          },
          {
           "clickable": true,
           "color": "#f0c8a0",
           "id": "--atoms--188",
           "positions": [
            [
             5.800461979897105,
             44.47020851254457,
             9.527009015491739
            ]
           ],
           "radius": 0.5,
           "tooltip": "Si (5.800, 44.470, 9.527)",
           "type": "spheres"
          },
          {
           "clickable": true,
           "color": "#e06633",
           "id": "--atoms--189",
           "positions": [
            [
             7.610756607546002,
             0.4044821377987831,
             19.239120299495582
            ]
           ],
           "radius": 0.5,
           "tooltip": "Fe2+ (7.611, 0.404, 19.239)",
           "type": "spheres"
          },
          {
           "clickable": true,
           "color": "#cc80ff",
           "id": "--atoms--190",
           "positions": [
            [
             6.5283349153329775,
             -2.639720687894878,
             19.213663486380486
            ]
           ],
           "radius": 0.5,
           "tooltip": "Li+ (6.528, -2.640, 19.214)",
           "type": "spheres"
          },
          {
           "clickable": true,
           "color": "#f0c8a0",
           "id": "--atoms--191",
           "positions": [
            [
             3.866974653264739,
             46.40369583917694,
             12.261373015491738
            ]
           ],
           "radius": 0.5,
           "tooltip": "Si (3.867, 46.404, 12.261)",
           "type": "spheres"
          },
          {
           "clickable": true,
           "color": "#ff8000",
           "id": "--atoms--192",
           "positions": [
            [
             1.6907724249251317,
             24.928682935330013,
             20.718265633004023
            ]
           ],
           "radius": 0.5,
           "tooltip": "P5+ (1.691, 24.929, 20.718)",
           "type": "spheres"
          },
          {
           "clickable": true,
           "color": "#ff0d0d",
           "id": "--atoms--193",
           "positions": [
            [
             6.104416844394269,
             49.94342610049114,
             20.663545907491752
            ]
           ],
           "radius": 0.5,
           "tooltip": "O2- (6.104, 49.943, 20.664)",
           "type": "spheres"
          },
          {
           "clickable": true,
           "color": "#f0c8a0",
           "id": "--atoms--194",
           "positions": [
            [
             7.733949306529489,
             5.800461979897116,
             13.628555015491735
            ]
           ],
           "radius": 0.5,
           "tooltip": "Si (7.734, 5.800, 13.629)",
           "type": "spheres"
          },
          {
           "clickable": true,
           "color": "#ff0d0d",
           "id": "--atoms--195",
           "positions": [
            [
             5.339537314287282,
             5.6599370205124675,
             21.31760292412566
            ]
           ],
           "radius": 0.5,
           "tooltip": "O2- (5.340, 5.660, 21.318)",
           "type": "spheres"
          },
          {
           "clickable": true,
           "color": "#f0c8a0",
           "id": "--atoms--196",
           "positions": [
            [
             5.800461979897114,
             7.733949306529489,
             10.894191015491735
            ]
           ],
           "radius": 0.5,
           "tooltip": "Si (5.800, 7.734, 10.894)",
           "type": "spheres"
          },
          {
           "clickable": true,
           "color": "#f0c8a0",
           "id": "--atoms--197",
           "positions": [
            [
             5.800461979897112,
             50.27067049244168,
             10.89419101549174
            ]
           ],
           "radius": 0.5,
           "tooltip": "Si (5.800, 50.271, 10.894)",
           "type": "spheres"
          },
          {
           "clickable": true,
           "color": "#cc80ff",
           "id": "--atoms--198",
           "positions": [
            [
             4.13233335223871,
             23.812647701252615,
             20.975746487355497
            ]
           ],
           "radius": 0.5,
           "tooltip": "Li+ (4.132, 23.813, 20.976)",
           "type": "spheres"
          },
          {
           "clickable": true,
           "color": "#f0c8a0",
           "id": "--atoms--199",
           "positions": [
            [
             -3.316171483269505e-15,
             -1.933487326632384,
             13.628555015491735
            ]
           ],
           "radius": 0.5,
           "tooltip": "Si (-0.000, -1.933, 13.629)",
           "type": "spheres"
          },
          {
           "clickable": true,
           "color": "#ff0d0d",
           "id": "--atoms--200",
           "positions": [
            [
             5.377505934292151,
             36.17461813439328,
             19.583195198763963
            ]
           ],
           "radius": 0.5,
           "tooltip": "O2- (5.378, 36.175, 19.583)",
           "type": "spheres"
          },
          {
           "clickable": true,
           "color": "#ff0d0d",
           "id": "--atoms--201",
           "positions": [
            [
             0.6134599987772489,
             30.164456389437948,
             21.28794706721925
            ]
           ],
           "radius": 0.5,
           "tooltip": "O2- (0.613, 30.164, 21.288)",
           "type": "spheres"
          },
          {
           "clickable": true,
           "color": "#f0c8a0",
           "id": "--atoms--202",
           "positions": [
            [
             1.9334873266323642,
             25.135335246220848,
             9.527009015491736
            ]
           ],
           "radius": 0.5,
           "tooltip": "Si (1.933, 25.135, 9.527)",
           "type": "spheres"
          },
          {
           "clickable": true,
           "color": "#f0c8a0",
           "id": "--atoms--203",
           "positions": [
            [
             5.800461979897114,
             13.534411286426606,
             9.527009015491737
            ]
           ],
           "radius": 0.5,
           "tooltip": "Si (5.800, 13.534, 9.527)",
           "type": "spheres"
          },
          {
           "clickable": true,
           "color": "#f0c8a0",
           "id": "--atoms--204",
           "positions": [
            [
             -2.9012012511547145e-15,
             19.334873266323722,
             12.261373015491733
            ]
           ],
           "radius": 0.5,
           "tooltip": "Si (-0.000, 19.335, 12.261)",
           "type": "spheres"
          },
          {
           "clickable": true,
           "color": "#ff0d0d",
           "id": "--atoms--205",
           "positions": [
            [
             1.498192520504863,
             4.038206263163583,
             20.72193076564605
            ]
           ],
           "radius": 0.5,
           "tooltip": "O2- (1.498, 4.038, 20.722)",
           "type": "spheres"
          },
          {
           "clickable": true,
           "color": "#f0c8a0",
           "id": "--atoms--206",
           "positions": [
            [
             -7.401292267300374e-15,
             36.73625920601507,
             13.628555015491736
            ]
           ],
           "radius": 0.5,
           "tooltip": "Si (-0.000, 36.736, 13.629)",
           "type": "spheres"
          },
          {
           "clickable": true,
           "color": "#f0c8a0",
           "id": "--atoms--207",
           "positions": [
            [
             3.866974653264739,
             15.467898613058981,
             12.261373015491737
            ]
           ],
           "radius": 0.5,
           "tooltip": "Si (3.867, 15.468, 12.261)",
           "type": "spheres"
          },
          {
           "clickable": true,
           "color": "#ff8000",
           "id": "--atoms--208",
           "positions": [
            [
             0.8702966440989759,
             17.08019727006989,
             21.81248745911549
            ]
           ],
           "radius": 0.5,
           "tooltip": "P5+ (0.870, 17.080, 21.812)",
           "type": "spheres"
          },
          {
           "clickable": true,
           "color": "#ff0d0d",
           "id": "--atoms--209",
           "positions": [
            [
             4.6391835129935854,
             56.654064608765,
             21.278773663116176
            ]
           ],
           "radius": 0.5,
           "tooltip": "O2- (4.639, 56.654, 21.279)",
           "type": "spheres"
          },
          {
           "clickable": true,
           "color": "#e06633",
           "id": "--atoms--210",
           "positions": [
            [
             5.300269235516002,
             21.445935420901748,
             19.013739311172866
            ]
           ],
           "radius": 0.5,
           "tooltip": "Fe2+ (5.300, 21.446, 19.014)",
           "type": "spheres"
          },
          {
           "clickable": true,
           "color": "#f0c8a0",
           "id": "--atoms--211",
           "positions": [
            [
             3.866974653264737,
             29.00230989948559,
             13.628555015491736
            ]
           ],
           "radius": 0.5,
           "tooltip": "Si (3.867, 29.002, 13.629)",
           "type": "spheres"
          },
          {
           "clickable": true,
           "color": "#e06633",
           "id": "--atoms--212",
           "positions": [
            [
             -0.1231926989834881,
             0.4044821377987831,
             19.239120299495582
            ]
           ],
           "radius": 0.5,
           "tooltip": "Fe2+ (-0.123, 0.404, 19.239)",
           "type": "spheres"
          },
          {
           "clickable": true,
           "color": "#f0c8a0",
           "id": "--atoms--213",
           "positions": [
            [
             1.9334873266323638,
             30.935797226117963,
             10.894191015491737
            ]
           ],
           "radius": 0.5,
           "tooltip": "Si (1.933, 30.936, 10.894)",
           "type": "spheres"
          },
          {
           "clickable": true,
           "color": "#f0c8a0",
           "id": "--atoms--214",
           "positions": [
            [
             5.800461979897115,
             19.334873266323726,
             10.894191015491737
            ]
           ],
           "radius": 0.5,
           "tooltip": "Si (5.800, 19.335, 10.894)",
           "type": "spheres"
          },
          {
           "clickable": true,
           "color": "#ff0d0d",
           "id": "--atoms--215",
           "positions": [
            [
             1.3783395288842484,
             20.310300323710187,
             20.63389005058534
            ]
           ],
           "radius": 0.5,
           "tooltip": "O2- (1.378, 20.310, 20.634)",
           "type": "spheres"
          },
          {
           "clickable": true,
           "color": "#ff0d0d",
           "id": "--atoms--216",
           "positions": [
            [
             0.5793147387489697,
             11.104502051917784,
             21.229562209064945
            ]
           ],
           "radius": 0.5,
           "tooltip": "O2- (0.579, 11.105, 21.230)",
           "type": "spheres"
          },
          {
           "clickable": true,
           "color": "#f0c8a0",
           "id": "--atoms--217",
           "positions": [
            [
             -9.355357892154166e-15,
             40.60323385927982,
             13.628555015491736
            ]
           ],
           "radius": 0.5,
           "tooltip": "Si (-0.000, 40.603, 13.629)",
           "type": "spheres"
          },
          {
           "clickable": true,
           "color": "#f0c8a0",
           "id": "--atoms--218",
           "positions": [
            [
             7.733949306529481,
             48.337183165809314,
             13.628555015491738
            ]
           ],
           "radius": 0.5,
           "tooltip": "Si (7.734, 48.337, 13.629)",
           "type": "spheres"
          },
          {
           "clickable": true,
           "color": "#f0c8a0",
           "id": "--atoms--219",
           "positions": [
            [
             -7.046116407437528e-15,
             30.935797226117963,
             12.261373015491737
            ]
           ],
           "radius": 0.5,
           "tooltip": "Si (-0.000, 30.936, 12.261)",
           "type": "spheres"
          },
          {
           "clickable": true,
           "color": "#f0c8a0",
           "id": "--atoms--220",
           "positions": [
            [
             1.933487326632366,
             54.137645145706436,
             10.89419101549174
            ]
           ],
           "radius": 0.5,
           "tooltip": "Si (1.933, 54.138, 10.894)",
           "type": "spheres"
          },
          {
           "clickable": true,
           "color": "#ff0d0d",
           "id": "--atoms--221",
           "positions": [
            [
             7.438250852091407,
             48.08067734742134,
             18.62855501549174
            ]
           ],
           "radius": 0.5,
           "tooltip": "O2- (7.438, 48.081, 18.629)",
           "type": "spheres"
          },
          {
           "clickable": true,
           "color": "#f0c8a0",
           "id": "--atoms--222",
           "positions": [
            [
             7.733949306529479,
             38.66974653264744,
             12.261373015491738
            ]
           ],
           "radius": 0.5,
           "tooltip": "Si (7.734, 38.670, 12.261)",
           "type": "spheres"
          },
          {
           "clickable": true,
           "color": "#f0c8a0",
           "id": "--atoms--223",
           "positions": [
            [
             3.813131406801419e-31,
             0,
             12.261373015491735
            ]
           ],
           "radius": 0.5,
           "tooltip": "Si (0.000, 0.000, 12.261)",
           "type": "spheres"
          },
          {
           "clickable": true,
           "color": "#e06633",
           "id": "--atoms--224",
           "positions": [
            [
             2.970387023628301,
             43.71459825436394,
             19.239120299495585
            ]
           ],
           "radius": 0.5,
           "tooltip": "Fe2+ (2.970, 43.715, 19.239)",
           "type": "spheres"
          },
          {
           "clickable": true,
           "color": "#cc80ff",
           "id": "--atoms--225",
           "positions": [
            [
             3.434755192721185,
             8.18780834124641,
             19.213663486380486
            ]
           ],
           "radius": 0.5,
           "tooltip": "Li+ (3.435, 8.188, 19.214)",
           "type": "spheres"
          },
          {
           "clickable": true,
           "color": "#ff8000",
           "id": "--atoms--226",
           "positions": [
            [
             1.9335246956345922,
             11.869083438033925,
             21.233227341706964
            ]
           ],
           "radius": 0.5,
           "tooltip": "P5+ (1.934, 11.869, 21.233)",
           "type": "spheres"
          },
          {
           "clickable": true,
           "color": "#ff0d0d",
           "id": "--atoms--227",
           "positions": [
            [
             3.044982381810758,
             25.693264321446165,
             20.72193076564605
            ]
           ],
           "radius": 0.5,
           "tooltip": "O2- (3.045, 25.693, 20.722)",
           "type": "spheres"
          },
          {
           "clickable": true,
           "color": "#ff0d0d",
           "id": "--atoms--228",
           "positions": [
            [
             5.618418978574553,
             0.7775264224953479,
             19.798771957269246
            ]
           ],
           "radius": 0.5,
           "tooltip": "O2- (5.618, 0.778, 19.799)",
           "type": "spheres"
          },
          {
           "clickable": true,
           "color": "#f0c8a0",
           "id": "--atoms--229",
           "positions": [
            [
             7.733949306529489,
             7.733949306529491,
             12.261373015491737
            ]
           ],
           "radius": 0.5,
           "tooltip": "Si (7.734, 7.734, 12.261)",
           "type": "spheres"
          },
          {
           "clickable": true,
           "color": "#ff0d0d",
           "id": "--atoms--230",
           "positions": [
            [
             4.5855841737620056,
             23.511114664664706,
             18.844131773997024
            ]
           ],
           "radius": 0.5,
           "tooltip": "O2- (4.586, 23.511, 18.844)",
           "type": "spheres"
          },
          {
           "clickable": true,
           "color": "#ff0d0d",
           "id": "--atoms--231",
           "positions": [
            [
             4.639183512993589,
             2.516419463058559,
             21.278773663116173
            ]
           ],
           "radius": 0.5,
           "tooltip": "O2- (4.639, 2.516, 21.279)",
           "type": "spheres"
          },
          {
           "clickable": true,
           "color": "#f0c8a0",
           "id": "--atoms--232",
           "positions": [
            [
             1.9334873266323602,
             36.73625920601508,
             9.527009015491736
            ]
           ],
           "radius": 0.5,
           "tooltip": "Si (1.933, 36.736, 9.527)",
           "type": "spheres"
          },
          {
           "clickable": true,
           "color": "#cc80ff",
           "id": "--atoms--233",
           "positions": [
            [
             1.0387536296269138,
             34.640176730393904,
             20.9757464873555
            ]
           ],
           "radius": 0.5,
           "tooltip": "Li+ (1.039, 34.640, 20.976)",
           "type": "spheres"
          },
          {
           "clickable": true,
           "color": "#ff0d0d",
           "id": "--atoms--234",
           "positions": [
            [
             2.1261046000548633,
             32.75956011020037,
             21.229562209064948
            ]
           ],
           "radius": 0.5,
           "tooltip": "O2- (2.126, 32.760, 21.230)",
           "type": "spheres"
          },
          {
           "clickable": true,
           "color": "#f0c8a0",
           "id": "--atoms--235",
           "positions": [
            [
             -9.828925705304627e-15,
             48.337183165809314,
             13.628555015491738
            ]
           ],
           "radius": 0.5,
           "tooltip": "Si (-0.000, 48.337, 13.629)",
           "type": "spheres"
          },
          {
           "clickable": true,
           "color": "#f0c8a0",
           "id": "--atoms--236",
           "positions": [
            [
             3.866974653264735,
             27.068822572853218,
             12.261373015491737
            ]
           ],
           "radius": 0.5,
           "tooltip": "Si (3.867, 27.069, 12.261)",
           "type": "spheres"
          },
          {
           "clickable": true,
           "color": "#ff8000",
           "id": "--atoms--237",
           "positions": [
            [
             5.5106662280166665,
             27.907726299211184,
             21.812487459115495
            ]
           ],
           "radius": 0.5,
           "tooltip": "P5+ (5.511, 27.908, 21.812)",
           "type": "spheres"
          },
          {
           "clickable": true,
           "color": "#ff0d0d",
           "id": "--atoms--238",
           "positions": [
            [
             -0.29569845443808307,
             48.08067734742134,
             18.62855501549174
            ]
           ],
           "radius": 0.5,
           "tooltip": "O2- (-0.296, 48.081, 18.629)",
           "type": "spheres"
          },
          {
           "clickable": true,
           "color": "#e06633",
           "id": "--atoms--239",
           "positions": [
            [
             2.206689512904202,
             32.27346445004304,
             19.01373931117287
            ]
           ],
           "radius": 0.5,
           "tooltip": "Fe2+ (2.207, 32.273, 19.014)",
           "type": "spheres"
          },
          {
           "clickable": true,
           "color": "#f0c8a0",
           "id": "--atoms--240",
           "positions": [
            [
             7.733949306529487,
             -1.933487326632384,
             13.628555015491735
            ]
           ],
           "radius": 0.5,
           "tooltip": "Si (7.734, -1.933, 13.629)",
           "type": "spheres"
          },
          {
           "clickable": true,
           "color": "#cc80ff",
           "id": "--atoms--241",
           "positions": [
            [
             8.075124776638871,
             46.08415994324091,
             19.21366348638049
            ]
           ],
           "radius": 0.5,
           "tooltip": "Li+ (8.075, 46.084, 19.214)",
           "type": "spheres"
          },
          {
           "clickable": true,
           "color": "#e06633",
           "id": "--atoms--242",
           "positions": [
            [
             7.756400595149953,
             27.412268349014933,
             19.413587661588114
            ]
           ],
           "radius": 0.5,
           "tooltip": "Fe2+ (7.756, 27.412, 19.414)",
           "type": "spheres"
          },
          {
           "clickable": true,
           "color": "#f0c8a0",
           "id": "--atoms--243",
           "positions": [
            [
             -1.095424765714511e-14,
             38.66974653264744,
             12.261373015491737
            ]
           ],
           "radius": 0.5,
           "tooltip": "Si (-0.000, 38.670, 12.261)",
           "type": "spheres"
          },
          {
           "clickable": true,
           "color": "#ff0d0d",
           "id": "--atoms--244",
           "positions": [
            [
             4.344671129479614,
             4.770561230856189,
             18.628555015491735
            ]
           ],
           "radius": 0.5,
           "tooltip": "O2- (4.345, 4.771, 18.629)",
           "type": "spheres"
          },
          {
           "clickable": true,
           "color": "#ff0d0d",
           "id": "--atoms--245",
           "positions": [
            [
             5.092436200650232,
             17.219821017346366,
             19.22422717397134
            ]
           ],
           "radius": 0.5,
           "tooltip": "O2- (5.092, 17.220, 19.224)",
           "type": "spheres"
          },
          {
           "clickable": true,
           "color": "#f0c8a0",
           "id": "--atoms--246",
           "positions": [
            [
             1.9334873266323693,
             0,
             10.894191015491737
            ]
           ],
           "radius": 0.5,
           "tooltip": "Si (1.933, 0.000, 10.894)",
           "type": "spheres"
          },
          {
           "clickable": true,
           "color": "#f0c8a0",
           "id": "--atoms--247",
           "positions": [
            [
             1.9334873266323598,
             42.53672118591219,
             10.89419101549174
            ]
           ],
           "radius": 0.5,
           "tooltip": "Si (1.933, 42.537, 10.894)",
           "type": "spheres"
          },
          {
           "clickable": true,
           "color": "#f0c8a0",
           "id": "--atoms--248",
           "positions": [
            [
             5.800461979897106,
             30.935797226117963,
             10.894191015491737
            ]
           ],
           "radius": 0.5,
           "tooltip": "Si (5.800, 30.936, 10.894)",
           "type": "spheres"
          },
          {
           "clickable": true,
           "color": "#ff0d0d",
           "id": "--atoms--249",
           "positions": [
            [
             -0.08274260082932249,
             17.460839013067286,
             20.663545907491745
            ]
           ],
           "radius": 0.5,
           "tooltip": "O2- (-0.083, 17.461, 20.664)",
           "type": "spheres"
          },
          {
           "clickable": true,
           "color": "#cc80ff",
           "id": "--atoms--250",
           "positions": [
            [
             5.679123213544612,
             18.39888318668197,
             20.975746487355497
            ]
           ],
           "radius": 0.5,
           "tooltip": "Li+ (5.679, 18.399, 20.976)",
           "type": "spheres"
          },
          {
           "clickable": true,
           "color": "#ff0d0d",
           "id": "--atoms--251",
           "positions": [
            [
             1.4640472604765704,
             39.11589707134987,
             20.663545907491752
            ]
           ],
           "radius": 0.5,
           "tooltip": "O2- (1.464, 39.116, 20.664)",
           "type": "spheres"
          },
          {
           "clickable": true,
           "color": "#f0c8a0",
           "id": "--atoms--252",
           "positions": [
            [
             7.733949306529485,
             17.40138593969135,
             13.628555015491733
            ]
           ],
           "radius": 0.5,
           "tooltip": "Si (7.734, 17.401, 13.629)",
           "type": "spheres"
          },
          {
           "clickable": true,
           "color": "#f0c8a0",
           "id": "--atoms--253",
           "positions": [
            [
             1.93348732663237,
             5.8004619798971175,
             9.527009015491734
            ]
           ],
           "radius": 0.5,
           "tooltip": "Si (1.933, 5.800, 9.527)",
           "type": "spheres"
          },
          {
           "clickable": true,
           "color": "#f0c8a0",
           "id": "--atoms--254",
           "positions": [
            [
             1.933487326632356,
             48.337183165809314,
             9.527009015491739
            ]
           ],
           "radius": 0.5,
           "tooltip": "Si (1.933, 48.337, 9.527)",
           "type": "spheres"
          },
          {
           "clickable": true,
           "color": "#ff0d0d",
           "id": "--atoms--255",
           "positions": [
            [
             0.4520666167325362,
             6.3922919882050735,
             19.224227173971332
            ]
           ],
           "radius": 0.5,
           "tooltip": "O2- (0.452, 6.392, 19.224)",
           "type": "spheres"
          },
          {
           "clickable": true,
           "color": "#f0c8a0",
           "id": "--atoms--256",
           "positions": [
            [
             -6.03918640888466e-15,
             42.53672118591219,
             12.261373015491737
            ]
           ],
           "radius": 0.5,
           "tooltip": "Si (-0.000, 42.537, 12.261)",
           "type": "spheres"
          },
          {
           "clickable": true,
           "color": "#f0c8a0",
           "id": "--atoms--257",
           "positions": [
            [
             7.733949306529481,
             50.270670492441695,
             12.261373015491738
            ]
           ],
           "radius": 0.5,
           "tooltip": "Si (7.734, 50.271, 12.261)",
           "type": "spheres"
          },
          {
           "clickable": true,
           "color": "#ff0d0d",
           "id": "--atoms--258",
           "positions": [
            [
             -0.001186070924108116,
             45.826535579623716,
             21.278773663116176
            ]
           ],
           "radius": 0.5,
           "tooltip": "O2- (-0.001, 45.827, 21.279)",
           "type": "spheres"
          },
          {
           "clickable": true,
           "color": "#e06633",
           "id": "--atoms--259",
           "positions": [
            [
             1.5692411499263657,
             49.06732640729751,
             19.413587661588117
            ]
           ],
           "radius": 0.5,
           "tooltip": "Fe2+ (1.569, 49.067, 19.414)",
           "type": "spheres"
          },
          {
           "clickable": true,
           "color": "#e06633",
           "id": "--atoms--260",
           "positions": [
            [
             6.992703084425857,
             15.971134544694037,
             19.188206673265405
            ]
           ],
           "radius": 0.5,
           "tooltip": "Fe2+ (6.993, 15.971, 19.188)",
           "type": "spheres"
          },
          {
           "clickable": true,
           "color": "#cc80ff",
           "id": "--atoms--261",
           "positions": [
            [
             8.075124776638877,
             19.015337370387698,
             19.213663486380486
            ]
           ],
           "radius": 0.5,
           "tooltip": "Li+ (8.075, 19.015, 19.214)",
           "type": "spheres"
          },
          {
           "clickable": true,
           "color": "#ff0d0d",
           "id": "--atoms--262",
           "positions": [
            [
             7.5552549050439985,
             41.13538852245986,
             19.21323177604526
            ]
           ],
           "radius": 0.5,
           "tooltip": "O2- (7.555, 41.135, 19.213)",
           "type": "spheres"
          },
          {
           "clickable": true,
           "color": "#f0c8a0",
           "id": "--atoms--263",
           "positions": [
            [
             5.800461979897113,
             25.135335246220848,
             9.527009015491736
            ]
           ],
           "radius": 0.5,
           "tooltip": "Si (5.800, 25.135, 9.527)",
           "type": "spheres"
          },
          {
           "clickable": true,
           "color": "#f0c8a0",
           "id": "--atoms--264",
           "positions": [
            [
             1.9334873266323687,
             11.600923959794235,
             10.894191015491735
            ]
           ],
           "radius": 0.5,
           "tooltip": "Si (1.933, 11.601, 10.894)",
           "type": "spheres"
          },
          {
           "clickable": true,
           "color": "#ff0d0d",
           "id": "--atoms--265",
           "positions": [
            [
             7.16520883988045,
             22.43258448077792,
             19.798771957269246
            ]
           ],
           "radius": 0.5,
           "tooltip": "O2- (7.165, 22.433, 19.799)",
           "type": "spheres"
          },
          {
           "clickable": true,
           "color": "#ff0d0d",
           "id": "--atoms--266",
           "positions": [
            [
             6.4174437687098305,
             9.983324694287742,
             19.203099798789644
            ]
           ],
           "radius": 0.5,
           "tooltip": "O2- (6.417, 9.983, 19.203)",
           "type": "spheres"
          },
          {
           "clickable": true,
           "color": "#f0c8a0",
           "id": "--atoms--267",
           "positions": [
            [
             7.733949306529478,
             29.00230989948559,
             13.628555015491736
            ]
           ],
           "radius": 0.5,
           "tooltip": "Si (7.734, 29.002, 13.629)",
           "type": "spheres"
          },
          {
           "clickable": true,
           "color": "#f0c8a0",
           "id": "--atoms--268",
           "positions": [
            [
             3.866974653264736,
             40.60323385927982,
             13.628555015491738
            ]
           ],
           "radius": 0.5,
           "tooltip": "Si (3.867, 40.603, 13.629)",
           "type": "spheres"
          },
          {
           "clickable": true,
           "color": "#f0c8a0",
           "id": "--atoms--269",
           "positions": [
            [
             -2.427633438004253e-15,
             11.600923959794235,
             12.261373015491735
            ]
           ],
           "radius": 0.5,
           "tooltip": "Si (-0.000, 11.601, 12.261)",
           "type": "spheres"
          },
          {
           "clickable": true,
           "color": "#ff0d0d",
           "id": "--atoms--270",
           "positions": [
            [
             1.492004451150206,
             34.33864369380599,
             18.84413177399702
            ]
           ],
           "radius": 0.5,
           "tooltip": "O2- (1.492, 34.339, 18.844)",
           "type": "spheres"
          },
          {
           "clickable": true,
           "color": "#ff0d0d",
           "id": "--atoms--271",
           "positions": [
            [
             -0.05478541015568816,
             12.683585635523412,
             18.84413177399702
            ]
           ],
           "radius": 0.5,
           "tooltip": "O2- (-0.055, 12.684, 18.844)",
           "type": "spheres"
          },
          {
           "clickable": true,
           "color": "#cc80ff",
           "id": "--atoms--272",
           "positions": [
            [
             1.8879653314152869,
             13.601572855817052,
             19.213663486380494
            ]
           ],
           "radius": 0.5,
           "tooltip": "Li+ (1.888, 13.602, 19.214)",
           "type": "spheres"
          },
          {
           "clickable": true,
           "color": "#e06633",
           "id": "--atoms--273",
           "positions": [
            [
             4.662820872538155,
             38.239797378156226,
             19.413587661588117
            ]
           ],
           "radius": 0.5,
           "tooltip": "Fe2+ (4.663, 38.240, 19.414)",
           "type": "spheres"
          },
          {
           "clickable": true,
           "color": "#f0c8a0",
           "id": "--atoms--274",
           "positions": [
            [
             -5.35873187528494e-15,
             17.40138593969135,
             13.628555015491733
            ]
           ],
           "radius": 0.5,
           "tooltip": "Si (-0.000, 17.401, 13.629)",
           "type": "spheres"
          },
          {
           "clickable": true,
           "color": "#f0c8a0",
           "id": "--atoms--275",
           "positions": [
            [
             3.8669746532647395,
             38.66974653264745,
             12.261373015491737
            ]
           ],
           "radius": 0.5,
           "tooltip": "Si (3.867, 38.670, 12.261)",
           "type": "spheres"
          },
          {
           "clickable": true,
           "color": "#ff0d0d",
           "id": "--atoms--276",
           "positions": [
            [
             2.160249860083158,
             -2.318130697985906,
             21.287947067219246
            ]
           ],
           "radius": 0.5,
           "tooltip": "O2- (2.160, -2.318, 21.288)",
           "type": "spheres"
          },
          {
           "clickable": true,
           "color": "#f0c8a0",
           "id": "--atoms--277",
           "positions": [
            [
             1.9334873266323698,
             -1.933487326632384,
             9.527009015491737
            ]
           ],
           "radius": 0.5,
           "tooltip": "Si (1.933, -1.933, 9.527)",
           "type": "spheres"
          },
          {
           "clickable": true,
           "color": "#ff0d0d",
           "id": "--atoms--278",
           "positions": [
            [
             1.9988564780384301,
             28.04735004648765,
             19.224227173971336
            ]
           ],
           "radius": 0.5,
           "tooltip": "O2- (1.999, 28.047, 19.224)",
           "type": "spheres"
          },
          {
           "clickable": true,
           "color": "#f0c8a0",
           "id": "--atoms--279",
           "positions": [
            [
             5.800461979897114,
             54.137645145706436,
             10.894191015491739
            ]
           ],
           "radius": 0.5,
           "tooltip": "Si (5.800, 54.138, 10.894)",
           "type": "spheres"
          },
          {
           "clickable": true,
           "color": "#f0c8a0",
           "id": "--atoms--280",
           "positions": [
            [
             3.8669746532647427,
             9.667436633161861,
             13.628555015491735
            ]
           ],
           "radius": 0.5,
           "tooltip": "Si (3.867, 9.667, 13.629)",
           "type": "spheres"
          },
          {
           "clickable": true,
           "color": "#ff8000",
           "id": "--atoms--281",
           "positions": [
            [
             1.2072106151548554,
             52.20015619071792,
             20.139005515595517
            ]
           ],
           "radius": 0.5,
           "tooltip": "P5+ (1.207, 52.200, 20.139)",
           "type": "spheres"
          },
          {
           "clickable": true,
           "color": "#ff0d0d",
           "id": "--atoms--282",
           "positions": [
            [
             3.8307160729862604,
             14.519560076110695,
             19.58319519876396
            ]
           ],
           "radius": 0.5,
           "tooltip": "O2- (3.831, 14.520, 19.583)",
           "type": "spheres"
          },
          {
           "clickable": true,
           "color": "#ff0d0d",
           "id": "--atoms--283",
           "positions": [
            [
             6.8006194440008505,
             8.50939833115537,
             21.287947067219246
            ]
           ],
           "radius": 0.5,
           "tooltip": "O2- (6.801, 8.509, 21.288)",
           "type": "spheres"
          },
          {
           "clickable": true,
           "color": "#f0c8a0",
           "id": "--atoms--284",
           "positions": [
            [
             1.9334873266323664,
             17.40138593969135,
             9.527009015491737
            ]
           ],
           "radius": 0.5,
           "tooltip": "Si (1.933, 17.401, 9.527)",
           "type": "spheres"
          },
          {
           "clickable": true,
           "color": "#cc80ff",
           "id": "--atoms--285",
           "positions": [
            [
             2.5855434909328103,
             29.226412215823267,
             20.9757464873555
            ]
           ],
           "radius": 0.5,
           "tooltip": "Li+ (2.586, 29.226, 20.976)",
           "type": "spheres"
          },
          {
           "clickable": true,
           "color": "#ff0d0d",
           "id": "--atoms--286",
           "positions": [
            [
             0.230284323486232,
             31.638382752570326,
             19.203099798789648
            ]
           ],
           "radius": 0.5,
           "tooltip": "O2- (0.230, 31.638, 19.203)",
           "type": "spheres"
          },
          {
           "clickable": true,
           "color": "#f0c8a0",
           "id": "--atoms--287",
           "positions": [
            [
             -1.2079569608985595e-14,
             29.00230989948559,
             13.628555015491736
            ]
           ],
           "radius": 0.5,
           "tooltip": "Si (-0.000, 29.002, 13.629)",
           "type": "spheres"
          },
          {
           "clickable": true,
           "color": "#f0c8a0",
           "id": "--atoms--288",
           "positions": [
            [
             7.733949306529488,
             19.334873266323722,
             12.261373015491733
            ]
           ],
           "radius": 0.5,
           "tooltip": "Si (7.734, 19.335, 12.261)",
           "type": "spheres"
          },
          {
           "clickable": true,
           "color": "#f0c8a0",
           "id": "--atoms--289",
           "positions": [
            [
             3.866974653264745,
             7.733949306529489,
             12.261373015491735
            ]
           ],
           "radius": 0.5,
           "tooltip": "Si (3.867, 7.734, 12.261)",
           "type": "spheres"
          },
          {
           "clickable": true,
           "color": "#f0c8a0",
           "id": "--atoms--290",
           "positions": [
            [
             3.8669746532647356,
             50.270670492441695,
             12.261373015491738
            ]
           ],
           "radius": 0.5,
           "tooltip": "Si (3.867, 50.271, 12.261)",
           "type": "spheres"
          },
          {
           "clickable": true,
           "color": "#ff0d0d",
           "id": "--atoms--291",
           "positions": [
            [
             3.672894461360764,
             54.41461816848294,
             21.229562209064948
            ]
           ],
           "radius": 0.5,
           "tooltip": "O2- (3.673, 54.415, 21.230)",
           "type": "spheres"
          },
          {
           "clickable": true,
           "color": "#f0c8a0",
           "id": "--atoms--292",
           "positions": [
            [
             7.733949306529491,
             3.8669746532647435,
             12.261373015491735
            ]
           ],
           "radius": 0.5,
           "tooltip": "Si (7.734, 3.867, 12.261)",
           "type": "spheres"
          },
          {
           "clickable": true,
           "color": "#ff0d0d",
           "id": "--atoms--293",
           "positions": [
            [
             2.07869333017794,
             23.45381788116409,
             20.672719311594825
            ]
           ],
           "radius": 0.5,
           "tooltip": "O2- (2.079, 23.454, 20.673)",
           "type": "spheres"
          },
          {
           "clickable": true,
           "color": "#f0c8a0",
           "id": "--atoms--294",
           "positions": [
            [
             5.800461979897114,
             36.73625920601507,
             9.527009015491737
            ]
           ],
           "radius": 0.5,
           "tooltip": "Si (5.800, 36.736, 9.527)",
           "type": "spheres"
          },
          {
           "clickable": true,
           "color": "#f0c8a0",
           "id": "--atoms--295",
           "positions": [
            [
             1.9334873266323662,
             23.20184791958847,
             10.894191015491737
            ]
           ],
           "radius": 0.5,
           "tooltip": "Si (1.933, 23.202, 10.894)",
           "type": "spheres"
          },
          {
           "clickable": true,
           "color": "#e06633",
           "id": "--atoms--296",
           "positions": [
            [
             3.753479374210104,
             -0.20912263738082337,
             19.01373931117287
            ]
           ],
           "radius": 0.5,
           "tooltip": "Fe2+ (3.753, -0.209, 19.014)",
           "type": "spheres"
          },
          {
           "clickable": true,
           "color": "#ff8000",
           "id": "--atoms--297",
           "positions": [
            [
             0.14398256361924117,
             3.273624877047438,
             20.718265633004023
            ]
           ],
           "radius": 0.5,
           "tooltip": "P5+ (0.144, 3.274, 20.718)",
           "type": "spheres"
          },
          {
           "clickable": true,
           "color": "#ff8000",
           "id": "--atoms--298",
           "positions": [
            [
             4.300790337766645,
             41.37262716157664,
             20.13900551559551
            ]
           ],
           "radius": 0.5,
           "tooltip": "P5+ (4.301, 41.373, 20.139)",
           "type": "spheres"
          },
          {
           "clickable": true,
           "color": "#f0c8a0",
           "id": "--atoms--299",
           "positions": [
            [
             3.866974653264725,
             52.204157819074055,
             13.628555015491738
            ]
           ],
           "radius": 0.5,
           "tooltip": "Si (3.867, 52.204, 13.629)",
           "type": "spheres"
          },
          {
           "clickable": true,
           "color": "#f0c8a0",
           "id": "--atoms--300",
           "positions": [
            [
             7.733949306529481,
             40.60323385927982,
             13.628555015491738
            ]
           ],
           "radius": 0.5,
           "tooltip": "Si (7.734, 40.603, 13.629)",
           "type": "spheres"
          },
          {
           "clickable": true,
           "color": "#f0c8a0",
           "id": "--atoms--301",
           "positions": [
            [
             5.800461979897112,
             42.53672118591219,
             10.89419101549174
            ]
           ],
           "radius": 0.5,
           "tooltip": "Si (5.800, 42.537, 10.894)",
           "type": "spheres"
          },
          {
           "clickable": true,
           "color": "#f0c8a0",
           "id": "--atoms--302",
           "positions": [
            [
             7.7339493065294835,
             30.935797226117963,
             12.261373015491737
            ]
           ],
           "radius": 0.5,
           "tooltip": "Si (7.734, 30.936, 12.261)",
           "type": "spheres"
          },
          {
           "clickable": true,
           "color": "#ff8000",
           "id": "--atoms--303",
           "positions": [
            [
             5.027104418246388,
             55.17919955459907,
             21.233227341706975
            ]
           ],
           "radius": 0.5,
           "tooltip": "P5+ (5.027, 55.179, 21.233)",
           "type": "spheres"
          },
          {
           "clickable": true,
           "color": "#cc80ff",
           "id": "--atoms--304",
           "positions": [
            [
             6.528334915332974,
             51.49792445781156,
             19.21366348638049
            ]
           ],
           "radius": 0.5,
           "tooltip": "Li+ (6.528, 51.498, 19.214)",
           "type": "spheres"
          },
          {
           "clickable": true,
           "color": "#e06633",
           "id": "--atoms--305",
           "positions": [
            [
             1.4235971623224084,
             22.05954019608136,
             19.23912029949558
            ]
           ],
           "radius": 0.5,
           "tooltip": "Fe2+ (1.424, 22.060, 19.239)",
           "type": "spheres"
          },
          {
           "clickable": true,
           "color": "#f0c8a0",
           "id": "--atoms--306",
           "positions": [
            [
             5.800461979897118,
             5.800461979897117,
             9.527009015491734
            ]
           ],
           "radius": 0.5,
           "tooltip": "Si (5.800, 5.800, 9.527)",
           "type": "spheres"
          },
          {
           "clickable": true,
           "color": "#f0c8a0",
           "id": "--atoms--307",
           "positions": [
            [
             5.800461979897109,
             48.337183165809314,
             9.527009015491739
            ]
           ],
           "radius": 0.5,
           "tooltip": "Si (5.800, 48.337, 9.527)",
           "type": "spheres"
          },
          {
           "clickable": true,
           "color": "#ff0d0d",
           "id": "--atoms--308",
           "positions": [
            [
             2.2459575916754826,
             16.48746604965376,
             21.31760292412566
            ]
           ],
           "radius": 0.5,
           "tooltip": "O2- (2.246, 16.487, 21.318)",
           "type": "spheres"
          },
          {
           "clickable": true,
           "color": "#ff0d0d",
           "id": "--atoms--309",
           "positions": [
            [
             4.471919251496044,
             9.482771294568899,
             20.63389005058534
            ]
           ],
           "radius": 0.5,
           "tooltip": "O2- (4.472, 9.483, 20.634)",
           "type": "spheres"
          },
          {
           "clickable": true,
           "color": "#e06633",
           "id": "--atoms--310",
           "positions": [
            [
             3.8991233618140586,
             26.798663573835327,
             19.188206673265405
            ]
           ],
           "radius": 0.5,
           "tooltip": "Fe2+ (3.899, 26.799, 19.188)",
           "type": "spheres"
          },
          {
           "clickable": true,
           "color": "#f0c8a0",
           "id": "--atoms--311",
           "positions": [
            [
             3.866974653264742,
             21.268360592956096,
             13.628555015491733
            ]
           ],
           "radius": 0.5,
           "tooltip": "Si (3.867, 21.268, 13.629)",
           "type": "spheres"
          },
          {
           "clickable": true,
           "color": "#f0c8a0",
           "id": "--atoms--312",
           "positions": [
            [
             7.733949306529489,
             9.667436633161861,
             13.628555015491736
            ]
           ],
           "radius": 0.5,
           "tooltip": "Si (7.734, 9.667, 13.629)",
           "type": "spheres"
          },
          {
           "clickable": true,
           "color": "#ff0d0d",
           "id": "--atoms--313",
           "positions": [
            [
             0.7371363503744551,
             25.347089105251992,
             19.583195198763956
            ]
           ],
           "radius": 0.5,
           "tooltip": "O2- (0.737, 25.347, 19.583)",
           "type": "spheres"
          },
          {
           "clickable": true,
           "color": "#f0c8a0",
           "id": "--atoms--314",
           "positions": [
            [
             5.800461979897116,
             11.600923959794235,
             10.894191015491739
            ]
           ],
           "radius": 0.5,
           "tooltip": "Si (5.800, 11.601, 10.894)",
           "type": "spheres"
          },
          {
           "clickable": true,
           "color": "#cc80ff",
           "id": "--atoms--315",
           "positions": [
            [
             1.8879653314152804,
             40.67039542867028,
             19.213663486380497
            ]
           ],
           "radius": 0.5,
           "tooltip": "Li+ (1.888, 40.670, 19.214)",
           "type": "spheres"
          },
          {
           "clickable": true,
           "color": "#cc80ff",
           "id": "--atoms--316",
           "positions": [
            [
             7.22591307485051,
             12.985118672111328,
             20.975746487355497
            ]
           ],
           "radius": 0.5,
           "tooltip": "Li+ (7.226, 12.985, 20.976)",
           "type": "spheres"
          },
          {
           "clickable": true,
           "color": "#f0c8a0",
           "id": "--atoms--317",
           "positions": [
            [
             3.8669746532647404,
             19.334873266323726,
             12.261373015491733
            ]
           ],
           "radius": 0.5,
           "tooltip": "Si (3.867, 19.335, 12.261)",
           "type": "spheres"
          },
          {
           "clickable": true,
           "color": "#f0c8a0",
           "id": "--atoms--318",
           "positions": [
            [
             1.933487326632369,
             29.00230989948559,
             9.527009015491736
            ]
           ],
           "radius": 0.5,
           "tooltip": "Si (1.933, 29.002, 9.527)",
           "type": "spheres"
          },
          {
           "clickable": true,
           "color": "#f0c8a0",
           "id": "--atoms--319",
           "positions": [
            [
             -4.855266876008506e-15,
             23.201847919588474,
             12.261373015491737
            ]
           ],
           "radius": 0.5,
           "tooltip": "Si (-0.000, 23.202, 12.261)",
           "type": "spheres"
          },
          {
           "clickable": true,
           "color": "#ff0d0d",
           "id": "--atoms--320",
           "positions": [
            [
             3.9546250643160503,
             40.20540233488069,
             19.214095196715732
            ]
           ],
           "radius": 0.5,
           "tooltip": "O2- (3.955, 40.205, 19.214)",
           "type": "spheres"
          },
          {
           "clickable": true,
           "color": "#ff0d0d",
           "id": "--atoms--321",
           "positions": [
            [
             6.719062914095629,
             34.28134691030539,
             20.67271931159483
            ]
           ],
           "radius": 0.5,
           "tooltip": "O2- (6.719, 34.281, 20.673)",
           "type": "spheres"
          },
          {
           "clickable": true,
           "color": "#e06633",
           "id": "--atoms--322",
           "positions": [
            [
             0.6598996515983075,
             10.61840639176046,
             19.013739311172866
            ]
           ],
           "radius": 0.5,
           "tooltip": "Fe2+ (0.660, 10.618, 19.014)",
           "type": "spheres"
          }
         ],
         "id": "--atoms",
         "name": "atoms",
         "origin": [
          -3.8669746532647435,
          -27.068822572853218,
          -56.14273922181188
         ],
         "visible": true
        },
        {
         "contents": [],
         "id": "--bonds",
         "name": "bonds",
         "origin": [
          -3.8669746532647435,
          -27.068822572853218,
          -56.14273922181188
         ],
         "visible": true
        },
        {
         "contents": [],
         "id": "--polyhedra",
         "name": "polyhedra",
         "origin": [
          -3.8669746532647435,
          -27.068822572853218,
          -56.14273922181188
         ],
         "visible": true
        },
        {
         "contents": [
          {
           "contents": [
            {
             "clickable": false,
             "id": "--unit_cell--a=7.733949306529491, b=54.137645145706436, c=112.28547844362376, alpha=90.0, beta=90.0, gamma=90.0--0",
             "positions": [
              [
               0,
               0,
               0
              ],
              [
               7.733949306529491,
               0,
               4.735678131504616e-16
              ],
              [
               0,
               0,
               0
              ],
              [
               -3.3149746920532316e-15,
               54.137645145706436,
               3.3149746920532316e-15
              ],
              [
               0,
               0,
               0
              ],
              [
               0,
               0,
               112.28547844362376
              ],
              [
               7.733949306529491,
               0,
               4.735678131504616e-16
              ],
              [
               7.733949306529487,
               54.137645145706436,
               3.7885425052036935e-15
              ],
              [
               7.733949306529491,
               0,
               4.735678131504616e-16
              ],
              [
               7.733949306529491,
               0,
               112.28547844362376
              ],
              [
               -3.3149746920532316e-15,
               54.137645145706436,
               3.3149746920532316e-15
              ],
              [
               7.733949306529487,
               54.137645145706436,
               3.7885425052036935e-15
              ],
              [
               -3.3149746920532316e-15,
               54.137645145706436,
               3.3149746920532316e-15
              ],
              [
               -3.3149746920532316e-15,
               54.137645145706436,
               112.28547844362376
              ],
              [
               0,
               0,
               112.28547844362376
              ],
              [
               7.733949306529491,
               0,
               112.28547844362376
              ],
              [
               0,
               0,
               112.28547844362376
              ],
              [
               -3.3149746920532316e-15,
               54.137645145706436,
               112.28547844362376
              ],
              [
               7.733949306529487,
               54.137645145706436,
               3.7885425052036935e-15
              ],
              [
               7.733949306529487,
               54.137645145706436,
               112.28547844362376
              ],
              [
               7.733949306529491,
               0,
               112.28547844362376
              ],
              [
               7.733949306529487,
               54.137645145706436,
               112.28547844362376
              ],
              [
               -3.3149746920532316e-15,
               54.137645145706436,
               112.28547844362376
              ],
              [
               7.733949306529487,
               54.137645145706436,
               112.28547844362376
              ]
             ],
             "type": "lines"
            }
           ],
           "id": "--unit_cell--a=7.733949306529491, b=54.137645145706436, c=112.28547844362376, alpha=90.0, beta=90.0, gamma=90.0",
           "name": "a=7.733949306529491, b=54.137645145706436, c=112.28547844362376, alpha=90.0, beta=90.0, gamma=90.0",
           "visible": true
          }
         ],
         "id": "--unit_cell",
         "name": "unit_cell",
         "origin": [
          -3.8669746532647435,
          -27.068822572853218,
          -56.14273922181188
         ],
         "visible": true
        }
       ],
       "name": "Structure",
       "origin": [
        -3.8669746532647435,
        -27.068822572853218,
        -56.14273922181188
       ],
       "visible": true
      },
      "text/plain": [
       "If you see this text, the Crystal Toolkit Jupyter Lab \n",
       "\n",
       "extension is not installed. You can install it by running \n",
       "\n",
       "\"pip install crystaltoolkit-extension\" \n",
       "\n",
       "from the same environment you run \"jupyter lab\". \n",
       "\n",
       "This only works in Jupyter Lab 3.x or above.\n",
       "\n",
       "\n",
       "Structure Summary\n",
       "Lattice\n",
       "    abc : 7.733949306529491 54.137645145706436 112.28547844362376\n",
       " angles : 90.0 90.0 90.0\n",
       " volume : 47013.68314794565\n",
       "      A : 7.733949306529491 0.0 4.735678131504616e-16\n",
       "      B : -3.3149746920532316e-15 54.137645145706436 3.3149746920532316e-15\n",
       "      C : 0.0 0.0 112.28547844362376\n",
       "PeriodicSite: Li+ (4.1323, 50.8815, 20.9757) [0.5343, 0.9399, 0.1868]\n",
       "PeriodicSite: Li+ (5.6791, 18.3989, 20.9757) [0.7343, 0.3399, 0.1868]\n",
       "PeriodicSite: Li+ (1.0388, 7.5714, 20.9757) [0.1343, 0.1399, 0.1868]\n",
       "PeriodicSite: Li+ (7.2259, 40.0539, 20.9757) [0.9343, 0.7399, 0.1868]\n",
       "PeriodicSite: Li+ (2.5855, 29.2264, 20.9757) [0.3343, 0.5399, 0.1868]\n",
       "PeriodicSite: Li+ (2.5855, 2.1576, 20.9757) [0.3343, 0.0399, 0.1868]\n",
       "PeriodicSite: Li+ (4.1323, 23.8126, 20.9757) [0.5343, 0.4399, 0.1868]\n",
       "PeriodicSite: Li+ (7.2259, 12.9851, 20.9757) [0.9343, 0.2399, 0.1868]\n",
       "PeriodicSite: Li+ (5.6791, 45.4677, 20.9757) [0.7343, 0.8399, 0.1868]\n",
       "PeriodicSite: Li+ (1.0388, 34.6402, 20.9757) [0.1343, 0.6399, 0.1868]\n",
       "PeriodicSite: Li+ (4.9815, 2.7740, 19.2137) [0.6441, 0.0512, 0.1711]\n",
       "PeriodicSite: Li+ (6.5283, 24.4291, 19.2137) [0.8441, 0.4512, 0.1711]\n",
       "PeriodicSite: Li+ (1.8880, 13.6016, 19.2137) [0.2441, 0.2512, 0.1711]\n",
       "PeriodicSite: Li+ (0.3412, 46.0842, 19.2137) [0.0441, 0.8512, 0.1711]\n",
       "PeriodicSite: Li+ (3.4348, 35.2566, 19.2137) [0.4441, 0.6512, 0.1711]\n",
       "PeriodicSite: Li+ (6.5283, 51.4979, 19.2137) [0.8441, 0.9512, 0.1711]\n",
       "PeriodicSite: Li+ (0.3412, 19.0153, 19.2137) [0.0441, 0.3512, 0.1711]\n",
       "PeriodicSite: Li+ (3.4348, 8.1878, 19.2137) [0.4441, 0.1512, 0.1711]\n",
       "PeriodicSite: Li+ (1.8880, 40.6704, 19.2137) [0.2441, 0.7512, 0.1711]\n",
       "PeriodicSite: Li+ (4.9815, 29.8429, 19.2137) [0.6441, 0.5512, 0.1711]\n",
       "PeriodicSite: Fe2+ (1.5692, 49.0673, 19.4136) [0.2029, 0.9063, 0.1729]\n",
       "PeriodicSite: Fe2+ (3.1160, 16.5847, 19.4136) [0.4029, 0.3063, 0.1729]\n",
       "PeriodicSite: Fe2+ (6.2096, 5.7572, 19.4136) [0.8029, 0.1063, 0.1729]\n",
       "PeriodicSite: Fe2+ (4.6628, 38.2398, 19.4136) [0.6029, 0.7063, 0.1729]\n",
       "PeriodicSite: Fe2+ (0.0225, 27.4123, 19.4136) [0.0029, 0.5063, 0.1729]\n",
       "PeriodicSite: Fe2+ (7.6108, 0.4045, 19.2391) [0.9841, 0.0075, 0.1713]\n",
       "PeriodicSite: Fe2+ (1.4236, 22.0595, 19.2391) [0.1841, 0.4075, 0.1713]\n",
       "PeriodicSite: Fe2+ (4.5172, 11.2320, 19.2391) [0.5841, 0.2075, 0.1713]\n",
       "PeriodicSite: Fe2+ (2.9704, 43.7146, 19.2391) [0.3841, 0.8075, 0.1713]\n",
       "PeriodicSite: Fe2+ (6.0640, 32.8871, 19.2391) [0.7841, 0.6075, 0.1713]\n",
       "PeriodicSite: Fe2+ (5.4459, 48.4537, 19.1882) [0.7042, 0.8950, 0.1709]\n",
       "PeriodicSite: Fe2+ (6.9927, 15.9711, 19.1882) [0.9042, 0.2950, 0.1709]\n",
       "PeriodicSite: Fe2+ (2.3523, 5.1436, 19.1882) [0.3042, 0.0950, 0.1709]\n",
       "PeriodicSite: Fe2+ (0.8055, 37.6262, 19.1882) [0.1042, 0.6950, 0.1709]\n",
       "PeriodicSite: Fe2+ (3.8991, 26.7987, 19.1882) [0.5042, 0.4950, 0.1709]\n",
       "PeriodicSite: Fe2+ (3.7535, 53.9285, 19.0137) [0.4853, 0.9961, 0.1693]\n",
       "PeriodicSite: Fe2+ (5.3003, 21.4459, 19.0137) [0.6853, 0.3961, 0.1693]\n",
       "PeriodicSite: Fe2+ (0.6599, 10.6184, 19.0137) [0.0853, 0.1961, 0.1693]\n",
       "PeriodicSite: Fe2+ (6.8471, 43.1010, 19.0137) [0.8853, 0.7961, 0.1693]\n",
       "PeriodicSite: Fe2+ (2.2067, 32.2735, 19.0137) [0.2853, 0.5961, 0.1693]\n",
       "PeriodicSite: Si (3.8670, 1.9335, 13.6286) [0.5000, 0.0357, 0.1214]\n",
       "PeriodicSite: Si (3.8670, 5.8005, 13.6286) [0.5000, 0.1071, 0.1214]\n",
       "PeriodicSite: Si (3.8670, 9.6674, 13.6286) [0.5000, 0.1786, 0.1214]\n",
       "PeriodicSite: Si (3.8670, 13.5344, 13.6286) [0.5000, 0.2500, 0.1214]\n",
       "PeriodicSite: Si (3.8670, 17.4014, 13.6286) [0.5000, 0.3214, 0.1214]\n",
       "PeriodicSite: Si (3.8670, 21.2684, 13.6286) [0.5000, 0.3929, 0.1214]\n",
       "PeriodicSite: Si (3.8670, 25.1353, 13.6286) [0.5000, 0.4643, 0.1214]\n",
       "PeriodicSite: Si (3.8670, 29.0023, 13.6286) [0.5000, 0.5357, 0.1214]\n",
       "PeriodicSite: Si (3.8670, 32.8693, 13.6286) [0.5000, 0.6071, 0.1214]\n",
       "PeriodicSite: Si (3.8670, 36.7363, 13.6286) [0.5000, 0.6786, 0.1214]\n",
       "PeriodicSite: Si (3.8670, 40.6032, 13.6286) [0.5000, 0.7500, 0.1214]\n",
       "PeriodicSite: Si (3.8670, 44.4702, 13.6286) [0.5000, 0.8214, 0.1214]\n",
       "PeriodicSite: Si (3.8670, 48.3372, 13.6286) [0.5000, 0.8929, 0.1214]\n",
       "PeriodicSite: Si (3.8670, 52.2042, 13.6286) [0.5000, 0.9643, 0.1214]\n",
       "PeriodicSite: Si (7.7339, 1.9335, 13.6286) [1.0000, 0.0357, 0.1214]\n",
       "PeriodicSite: Si (7.7339, 5.8005, 13.6286) [1.0000, 0.1071, 0.1214]\n",
       "PeriodicSite: Si (7.7339, 9.6674, 13.6286) [1.0000, 0.1786, 0.1214]\n",
       "PeriodicSite: Si (7.7339, 13.5344, 13.6286) [1.0000, 0.2500, 0.1214]\n",
       "PeriodicSite: Si (7.7339, 17.4014, 13.6286) [1.0000, 0.3214, 0.1214]\n",
       "PeriodicSite: Si (7.7339, 21.2684, 13.6286) [1.0000, 0.3929, 0.1214]\n",
       "PeriodicSite: Si (7.7339, 25.1353, 13.6286) [1.0000, 0.4643, 0.1214]\n",
       "PeriodicSite: Si (7.7339, 29.0023, 13.6286) [1.0000, 0.5357, 0.1214]\n",
       "PeriodicSite: Si (7.7339, 32.8693, 13.6286) [1.0000, 0.6071, 0.1214]\n",
       "PeriodicSite: Si (7.7339, 36.7363, 13.6286) [1.0000, 0.6786, 0.1214]\n",
       "PeriodicSite: Si (7.7339, 40.6032, 13.6286) [1.0000, 0.7500, 0.1214]\n",
       "PeriodicSite: Si (7.7339, 44.4702, 13.6286) [1.0000, 0.8214, 0.1214]\n",
       "PeriodicSite: Si (7.7339, 48.3372, 13.6286) [1.0000, 0.8929, 0.1214]\n",
       "PeriodicSite: Si (7.7339, 52.2042, 13.6286) [1.0000, 0.9643, 0.1214]\n",
       "PeriodicSite: Si (1.9335, 1.9335, 9.5270) [0.2500, 0.0357, 0.0848]\n",
       "PeriodicSite: Si (1.9335, 5.8005, 9.5270) [0.2500, 0.1071, 0.0848]\n",
       "PeriodicSite: Si (1.9335, 9.6674, 9.5270) [0.2500, 0.1786, 0.0848]\n",
       "PeriodicSite: Si (1.9335, 13.5344, 9.5270) [0.2500, 0.2500, 0.0848]\n",
       "PeriodicSite: Si (1.9335, 17.4014, 9.5270) [0.2500, 0.3214, 0.0848]\n",
       "PeriodicSite: Si (1.9335, 21.2684, 9.5270) [0.2500, 0.3929, 0.0848]\n",
       "PeriodicSite: Si (1.9335, 25.1353, 9.5270) [0.2500, 0.4643, 0.0848]\n",
       "PeriodicSite: Si (1.9335, 29.0023, 9.5270) [0.2500, 0.5357, 0.0848]\n",
       "PeriodicSite: Si (1.9335, 32.8693, 9.5270) [0.2500, 0.6071, 0.0848]\n",
       "PeriodicSite: Si (1.9335, 36.7363, 9.5270) [0.2500, 0.6786, 0.0848]\n",
       "PeriodicSite: Si (1.9335, 40.6032, 9.5270) [0.2500, 0.7500, 0.0848]\n",
       "PeriodicSite: Si (1.9335, 44.4702, 9.5270) [0.2500, 0.8214, 0.0848]\n",
       "PeriodicSite: Si (1.9335, 48.3372, 9.5270) [0.2500, 0.8929, 0.0848]\n",
       "PeriodicSite: Si (1.9335, 52.2042, 9.5270) [0.2500, 0.9643, 0.0848]\n",
       "PeriodicSite: Si (5.8005, 1.9335, 9.5270) [0.7500, 0.0357, 0.0848]\n",
       "PeriodicSite: Si (5.8005, 5.8005, 9.5270) [0.7500, 0.1071, 0.0848]\n",
       "PeriodicSite: Si (5.8005, 9.6674, 9.5270) [0.7500, 0.1786, 0.0848]\n",
       "PeriodicSite: Si (5.8005, 13.5344, 9.5270) [0.7500, 0.2500, 0.0848]\n",
       "PeriodicSite: Si (5.8005, 17.4014, 9.5270) [0.7500, 0.3214, 0.0848]\n",
       "PeriodicSite: Si (5.8005, 21.2684, 9.5270) [0.7500, 0.3929, 0.0848]\n",
       "PeriodicSite: Si (5.8005, 25.1353, 9.5270) [0.7500, 0.4643, 0.0848]\n",
       "PeriodicSite: Si (5.8005, 29.0023, 9.5270) [0.7500, 0.5357, 0.0848]\n",
       "PeriodicSite: Si (5.8005, 32.8693, 9.5270) [0.7500, 0.6071, 0.0848]\n",
       "PeriodicSite: Si (5.8005, 36.7363, 9.5270) [0.7500, 0.6786, 0.0848]\n",
       "PeriodicSite: Si (5.8005, 40.6032, 9.5270) [0.7500, 0.7500, 0.0848]\n",
       "PeriodicSite: Si (5.8005, 44.4702, 9.5270) [0.7500, 0.8214, 0.0848]\n",
       "PeriodicSite: Si (5.8005, 48.3372, 9.5270) [0.7500, 0.8929, 0.0848]\n",
       "PeriodicSite: Si (5.8005, 52.2042, 9.5270) [0.7500, 0.9643, 0.0848]\n",
       "PeriodicSite: Si (1.9335, 0.0000, 10.8942) [0.2500, 0.0000, 0.0970]\n",
       "PeriodicSite: Si (1.9335, 3.8670, 10.8942) [0.2500, 0.0714, 0.0970]\n",
       "PeriodicSite: Si (1.9335, 7.7339, 10.8942) [0.2500, 0.1429, 0.0970]\n",
       "PeriodicSite: Si (1.9335, 11.6009, 10.8942) [0.2500, 0.2143, 0.0970]\n",
       "PeriodicSite: Si (1.9335, 15.4679, 10.8942) [0.2500, 0.2857, 0.0970]\n",
       "PeriodicSite: Si (1.9335, 19.3349, 10.8942) [0.2500, 0.3571, 0.0970]\n",
       "PeriodicSite: Si (1.9335, 23.2018, 10.8942) [0.2500, 0.4286, 0.0970]\n",
       "PeriodicSite: Si (1.9335, 27.0688, 10.8942) [0.2500, 0.5000, 0.0970]\n",
       "PeriodicSite: Si (1.9335, 30.9358, 10.8942) [0.2500, 0.5714, 0.0970]\n",
       "PeriodicSite: Si (1.9335, 34.8028, 10.8942) [0.2500, 0.6429, 0.0970]\n",
       "PeriodicSite: Si (1.9335, 38.6697, 10.8942) [0.2500, 0.7143, 0.0970]\n",
       "PeriodicSite: Si (1.9335, 42.5367, 10.8942) [0.2500, 0.7857, 0.0970]\n",
       "PeriodicSite: Si (1.9335, 46.4037, 10.8942) [0.2500, 0.8571, 0.0970]\n",
       "PeriodicSite: Si (1.9335, 50.2707, 10.8942) [0.2500, 0.9286, 0.0970]\n",
       "PeriodicSite: Si (5.8005, 54.1376, 10.8942) [0.7500, 1.0000, 0.0970]\n",
       "PeriodicSite: Si (5.8005, 3.8670, 10.8942) [0.7500, 0.0714, 0.0970]\n",
       "PeriodicSite: Si (5.8005, 7.7339, 10.8942) [0.7500, 0.1429, 0.0970]\n",
       "PeriodicSite: Si (5.8005, 11.6009, 10.8942) [0.7500, 0.2143, 0.0970]\n",
       "PeriodicSite: Si (5.8005, 15.4679, 10.8942) [0.7500, 0.2857, 0.0970]\n",
       "PeriodicSite: Si (5.8005, 19.3349, 10.8942) [0.7500, 0.3571, 0.0970]\n",
       "PeriodicSite: Si (5.8005, 23.2018, 10.8942) [0.7500, 0.4286, 0.0970]\n",
       "PeriodicSite: Si (5.8005, 27.0688, 10.8942) [0.7500, 0.5000, 0.0970]\n",
       "PeriodicSite: Si (5.8005, 30.9358, 10.8942) [0.7500, 0.5714, 0.0970]\n",
       "PeriodicSite: Si (5.8005, 34.8028, 10.8942) [0.7500, 0.6429, 0.0970]\n",
       "PeriodicSite: Si (5.8005, 38.6697, 10.8942) [0.7500, 0.7143, 0.0970]\n",
       "PeriodicSite: Si (5.8005, 42.5367, 10.8942) [0.7500, 0.7857, 0.0970]\n",
       "PeriodicSite: Si (5.8005, 46.4037, 10.8942) [0.7500, 0.8571, 0.0970]\n",
       "PeriodicSite: Si (5.8005, 50.2707, 10.8942) [0.7500, 0.9286, 0.0970]\n",
       "PeriodicSite: Si (-0.0000, 54.1376, 12.2614) [0.0000, 1.0000, 0.1092]\n",
       "PeriodicSite: Si (-0.0000, 3.8670, 12.2614) [-0.0000, 0.0714, 0.1092]\n",
       "PeriodicSite: Si (7.7339, 7.7339, 12.2614) [1.0000, 0.1429, 0.1092]\n",
       "PeriodicSite: Si (7.7339, 11.6009, 12.2614) [1.0000, 0.2143, 0.1092]\n",
       "PeriodicSite: Si (7.7339, 15.4679, 12.2614) [1.0000, 0.2857, 0.1092]\n",
       "PeriodicSite: Si (7.7339, 19.3349, 12.2614) [1.0000, 0.3571, 0.1092]\n",
       "PeriodicSite: Si (7.7339, 23.2018, 12.2614) [1.0000, 0.4286, 0.1092]\n",
       "PeriodicSite: Si (7.7339, 27.0688, 12.2614) [1.0000, 0.5000, 0.1092]\n",
       "PeriodicSite: Si (7.7339, 30.9358, 12.2614) [1.0000, 0.5714, 0.1092]\n",
       "PeriodicSite: Si (7.7339, 34.8028, 12.2614) [1.0000, 0.6429, 0.1092]\n",
       "PeriodicSite: Si (7.7339, 38.6697, 12.2614) [1.0000, 0.7143, 0.1092]\n",
       "PeriodicSite: Si (7.7339, 42.5367, 12.2614) [1.0000, 0.7857, 0.1092]\n",
       "PeriodicSite: Si (7.7339, 46.4037, 12.2614) [1.0000, 0.8571, 0.1092]\n",
       "PeriodicSite: Si (7.7339, 50.2707, 12.2614) [1.0000, 0.9286, 0.1092]\n",
       "PeriodicSite: Si (3.8670, 0.0000, 12.2614) [0.5000, 0.0000, 0.1092]\n",
       "PeriodicSite: Si (3.8670, 3.8670, 12.2614) [0.5000, 0.0714, 0.1092]\n",
       "PeriodicSite: Si (3.8670, 7.7339, 12.2614) [0.5000, 0.1429, 0.1092]\n",
       "PeriodicSite: Si (3.8670, 11.6009, 12.2614) [0.5000, 0.2143, 0.1092]\n",
       "PeriodicSite: Si (3.8670, 15.4679, 12.2614) [0.5000, 0.2857, 0.1092]\n",
       "PeriodicSite: Si (3.8670, 19.3349, 12.2614) [0.5000, 0.3571, 0.1092]\n",
       "PeriodicSite: Si (3.8670, 23.2018, 12.2614) [0.5000, 0.4286, 0.1092]\n",
       "PeriodicSite: Si (3.8670, 27.0688, 12.2614) [0.5000, 0.5000, 0.1092]\n",
       "PeriodicSite: Si (3.8670, 30.9358, 12.2614) [0.5000, 0.5714, 0.1092]\n",
       "PeriodicSite: Si (3.8670, 34.8028, 12.2614) [0.5000, 0.6429, 0.1092]\n",
       "PeriodicSite: Si (3.8670, 38.6697, 12.2614) [0.5000, 0.7143, 0.1092]\n",
       "PeriodicSite: Si (3.8670, 42.5367, 12.2614) [0.5000, 0.7857, 0.1092]\n",
       "PeriodicSite: Si (3.8670, 46.4037, 12.2614) [0.5000, 0.8571, 0.1092]\n",
       "PeriodicSite: Si (3.8670, 50.2707, 12.2614) [0.5000, 0.9286, 0.1092]\n",
       "PeriodicSite: P5+ (7.0575, 49.5628, 21.8125) [0.9125, 0.9155, 0.1943]\n",
       "PeriodicSite: P5+ (0.8703, 17.0802, 21.8125) [0.1125, 0.3155, 0.1943]\n",
       "PeriodicSite: P5+ (3.9639, 6.2527, 21.8125) [0.5125, 0.1155, 0.1943]\n",
       "PeriodicSite: P5+ (2.4171, 38.7353, 21.8125) [0.3125, 0.7155, 0.1943]\n",
       "PeriodicSite: P5+ (5.5107, 27.9077, 21.8125) [0.7125, 0.5155, 0.1943]\n",
       "PeriodicSite: P5+ (3.2376, 46.5837, 20.7183) [0.4186, 0.8605, 0.1845]\n",
       "PeriodicSite: P5+ (4.7844, 14.1012, 20.7183) [0.6186, 0.2605, 0.1845]\n",
       "PeriodicSite: P5+ (0.1440, 3.2736, 20.7183) [0.0186, 0.0605, 0.1845]\n",
       "PeriodicSite: P5+ (6.3311, 35.7562, 20.7183) [0.8186, 0.6605, 0.1845]\n",
       "PeriodicSite: P5+ (1.6908, 24.9287, 20.7183) [0.2186, 0.4605, 0.1845]\n",
       "PeriodicSite: P5+ (5.0271, 1.0416, 21.2332) [0.6500, 0.0192, 0.1891]\n",
       "PeriodicSite: P5+ (6.5739, 22.6966, 21.2332) [0.8500, 0.4192, 0.1891]\n",
       "PeriodicSite: P5+ (1.9335, 11.8691, 21.2332) [0.2500, 0.2192, 0.1891]\n",
       "PeriodicSite: P5+ (0.3867, 44.3517, 21.2332) [0.0500, 0.8192, 0.1891]\n",
       "PeriodicSite: P5+ (3.4803, 33.5241, 21.2332) [0.4500, 0.6192, 0.1891]\n",
       "PeriodicSite: P5+ (1.2072, 52.2002, 20.1390) [0.1561, 0.9642, 0.1794]\n",
       "PeriodicSite: P5+ (2.7540, 19.7176, 20.1390) [0.3561, 0.3642, 0.1794]\n",
       "PeriodicSite: P5+ (5.8476, 8.8900, 20.1390) [0.7561, 0.1642, 0.1794]\n",
       "PeriodicSite: P5+ (4.3008, 41.3726, 20.1390) [0.5561, 0.7642, 0.1794]\n",
       "PeriodicSite: P5+ (7.3944, 30.5451, 20.1390) [0.9561, 0.5642, 0.1794]\n",
       "PeriodicSite: O2- (6.1044, 49.9434, 20.6635) [0.7893, 0.9225, 0.1840]\n",
       "PeriodicSite: O2- (7.6512, 17.4608, 20.6635) [0.9893, 0.3225, 0.1840]\n",
       "PeriodicSite: O2- (3.0108, 6.6333, 20.6635) [0.3893, 0.1225, 0.1840]\n",
       "PeriodicSite: O2- (1.4640, 39.1159, 20.6635) [0.1893, 0.7225, 0.1840]\n",
       "PeriodicSite: O2- (4.5576, 28.2884, 20.6635) [0.5893, 0.5225, 0.1840]\n",
       "PeriodicSite: O2- (2.2839, 47.0021, 19.5832) [0.2953, 0.8682, 0.1744]\n",
       "PeriodicSite: O2- (3.8307, 14.5196, 19.5832) [0.4953, 0.2682, 0.1744]\n",
       "PeriodicSite: O2- (6.9243, 3.6920, 19.5832) [0.8953, 0.0682, 0.1744]\n",
       "PeriodicSite: O2- (5.3775, 36.1746, 19.5832) [0.6953, 0.6682, 0.1744]\n",
       "PeriodicSite: O2- (0.7371, 25.3471, 19.5832) [0.0953, 0.4682, 0.1744]\n",
       "PeriodicSite: O2- (3.0388, 1.8561, 18.8441) [0.3929, 0.0343, 0.1678]\n",
       "PeriodicSite: O2- (4.5856, 23.5111, 18.8441) [0.5929, 0.4343, 0.1678]\n",
       "PeriodicSite: O2- (7.6792, 12.6836, 18.8441) [0.9929, 0.2343, 0.1678]\n",
       "PeriodicSite: O2- (6.1324, 45.1662, 18.8441) [0.7929, 0.8343, 0.1678]\n",
       "PeriodicSite: O2- (1.4920, 34.3386, 18.8441) [0.1929, 0.6343, 0.1678]\n",
       "PeriodicSite: O2- (2.1602, 51.8195, 21.2879) [0.2793, 0.9572, 0.1896]\n",
       "PeriodicSite: O2- (3.7070, 19.3369, 21.2879) [0.4793, 0.3572, 0.1896]\n",
       "PeriodicSite: O2- (6.8006, 8.5094, 21.2879) [0.8793, 0.1572, 0.1896]\n",
       "PeriodicSite: O2- (5.2538, 40.9920, 21.2879) [0.6793, 0.7572, 0.1896]\n",
       "PeriodicSite: O2- (0.6135, 30.1645, 21.2879) [0.0793, 0.5572, 0.1896]\n",
       "PeriodicSite: O2- (7.7328, 45.8265, 21.2788) [0.9998, 0.8465, 0.1895]\n",
       "PeriodicSite: O2- (1.5456, 13.3439, 21.2788) [0.1998, 0.2465, 0.1895]\n",
       "PeriodicSite: O2- (4.6392, 2.5164, 21.2788) [0.5998, 0.0465, 0.1895]\n",
       "PeriodicSite: O2- (3.0924, 34.9990, 21.2788) [0.3998, 0.6465, 0.1895]\n",
       "PeriodicSite: O2- (6.1860, 24.1715, 21.2788) [0.7998, 0.4465, 0.1895]\n",
       "PeriodicSite: O2- (0.8610, 51.0329, 19.2141) [0.1113, 0.9427, 0.1711]\n",
       "PeriodicSite: O2- (2.4078, 18.5503, 19.2141) [0.3113, 0.3427, 0.1711]\n",
       "PeriodicSite: O2- (5.5014, 7.7228, 19.2141) [0.7113, 0.1427, 0.1711]\n",
       "PeriodicSite: O2- (3.9546, 40.2054, 19.2141) [0.5113, 0.7427, 0.1711]\n",
       "PeriodicSite: O2- (7.0482, 29.3779, 19.2141) [0.9113, 0.5427, 0.1711]\n",
       "PeriodicSite: O2- (4.4617, 51.9629, 19.2132) [0.5769, 0.9598, 0.1711]\n",
       "PeriodicSite: O2- (6.0085, 19.4803, 19.2132) [0.7769, 0.3598, 0.1711]\n",
       "PeriodicSite: O2- (1.3681, 8.6528, 19.2132) [0.1769, 0.1598, 0.1711]\n",
       "PeriodicSite: O2- (7.5553, 41.1354, 19.2132) [0.9769, 0.7598, 0.1711]\n",
       "PeriodicSite: O2- (2.9149, 30.3079, 19.2132) [0.3769, 0.5598, 0.1711]\n",
       "PeriodicSite: O2- (0.5319, 1.7988, 20.6727) [0.0688, 0.0332, 0.1841]\n",
       "PeriodicSite: O2- (2.0787, 23.4538, 20.6727) [0.2688, 0.4332, 0.1841]\n",
       "PeriodicSite: O2- (5.1723, 12.6263, 20.6727) [0.6688, 0.2332, 0.1841]\n",
       "PeriodicSite: O2- (3.6255, 45.1089, 20.6727) [0.4688, 0.8332, 0.1841]\n",
       "PeriodicSite: O2- (6.7191, 34.2813, 20.6727) [0.8688, 0.6332, 0.1841]\n",
       "PeriodicSite: O2- (3.5456, 49.7024, 19.2242) [0.4585, 0.9181, 0.1712]\n",
       "PeriodicSite: O2- (5.0924, 17.2198, 19.2242) [0.6585, 0.3181, 0.1712]\n",
       "PeriodicSite: O2- (0.4521, 6.3923, 19.2242) [0.0585, 0.1181, 0.1712]\n",
       "PeriodicSite: O2- (6.6392, 38.8749, 19.2242) [0.8585, 0.7181, 0.1712]\n",
       "PeriodicSite: O2- (1.9989, 28.0474, 19.2242) [0.2585, 0.5181, 0.1712]\n",
       "PeriodicSite: O2- (4.5918, 47.3483, 20.7219) [0.5937, 0.8746, 0.1845]\n",
       "PeriodicSite: O2- (6.1386, 14.8657, 20.7219) [0.7937, 0.2746, 0.1845]\n",
       "PeriodicSite: O2- (1.4982, 4.0382, 20.7219) [0.1937, 0.0746, 0.1845]\n",
       "PeriodicSite: O2- (7.6854, 36.5208, 20.7219) [0.9937, 0.6746, 0.1845]\n",
       "PeriodicSite: O2- (3.0450, 25.6933, 20.7219) [0.3937, 0.4746, 0.1845]\n",
       "PeriodicSite: O2- (7.4383, 48.0807, 18.6286) [0.9618, 0.8881, 0.1659]\n",
       "PeriodicSite: O2- (1.2511, 15.5981, 18.6286) [0.1618, 0.2881, 0.1659]\n",
       "PeriodicSite: O2- (4.3447, 4.7706, 18.6286) [0.5618, 0.0881, 0.1659]\n",
       "PeriodicSite: O2- (2.7979, 37.2531, 18.6286) [0.3618, 0.6881, 0.1659]\n",
       "PeriodicSite: O2- (5.8915, 26.4256, 18.6286) [0.7618, 0.4881, 0.1659]\n",
       "PeriodicSite: O2- (0.6992, 48.9701, 21.3176) [0.0904, 0.9045, 0.1899]\n",
       "PeriodicSite: O2- (2.2460, 16.4875, 21.3176) [0.2904, 0.3045, 0.1899]\n",
       "PeriodicSite: O2- (5.3395, 5.6599, 21.3176) [0.6904, 0.1045, 0.1899]\n",
       "PeriodicSite: O2- (3.7927, 38.1425, 21.3176) [0.4904, 0.7045, 0.1899]\n",
       "PeriodicSite: O2- (6.8863, 27.3150, 21.3176) [0.8904, 0.5045, 0.1899]\n",
       "PeriodicSite: O2- (5.6184, 0.7775, 19.7988) [0.7265, 0.0144, 0.1763]\n",
       "PeriodicSite: O2- (7.1652, 22.4326, 19.7988) [0.9265, 0.4144, 0.1763]\n",
       "PeriodicSite: O2- (2.5248, 11.6051, 19.7988) [0.3265, 0.2144, 0.1763]\n",
       "PeriodicSite: O2- (0.9780, 44.0876, 19.7988) [0.1265, 0.8144, 0.1763]\n",
       "PeriodicSite: O2- (4.0716, 33.2601, 19.7988) [0.5265, 0.6144, 0.1763]\n",
       "PeriodicSite: O2- (7.5655, 52.7929, 20.6339) [0.9782, 0.9752, 0.1838]\n",
       "PeriodicSite: O2- (1.3783, 20.3103, 20.6339) [0.1782, 0.3752, 0.1838]\n",
       "PeriodicSite: O2- (4.4719, 9.4828, 20.6339) [0.5782, 0.1752, 0.1838]\n",
       "PeriodicSite: O2- (2.9251, 41.9654, 20.6339) [0.3782, 0.7752, 0.1838]\n",
       "PeriodicSite: O2- (6.0187, 31.1378, 20.6339) [0.7782, 0.5752, 0.1838]\n",
       "PeriodicSite: O2- (1.7771, 53.2934, 19.2031) [0.2298, 0.9844, 0.1710]\n",
       "PeriodicSite: O2- (3.3239, 20.8109, 19.2031) [0.4298, 0.3844, 0.1710]\n",
       "PeriodicSite: O2- (6.4174, 9.9833, 19.2031) [0.8298, 0.1844, 0.1710]\n",
       "PeriodicSite: O2- (4.8707, 42.4659, 19.2031) [0.6298, 0.7844, 0.1710]\n",
       "PeriodicSite: O2- (0.2303, 31.6384, 19.2031) [0.0298, 0.5844, 0.1710]\n",
       "PeriodicSite: O2- (3.6729, 0.2770, 21.2296) [0.4749, 0.0051, 0.1891]\n",
       "PeriodicSite: O2- (5.2197, 21.9320, 21.2296) [0.6749, 0.4051, 0.1891]\n",
       "PeriodicSite: O2- (0.5793, 11.1045, 21.2296) [0.0749, 0.2051, 0.1891]\n",
       "PeriodicSite: O2- (6.7665, 43.5871, 21.2296) [0.8749, 0.8051, 0.1891]\n",
       "PeriodicSite: O2- (2.1261, 32.7596, 21.2296) [0.2749, 0.6051, 0.1891]"
      ]
     },
     "metadata": {},
     "output_type": "display_data"
    }
   ],
   "source": [
    "interface"
   ]
  },
  {
   "cell_type": "markdown",
   "id": "54df7630-9aa1-475a-a3b5-cc5b2d0c175b",
   "metadata": {},
   "source": [
    "Ok, that added a lot of space, so now we can do more things like add adsorbates or in the future make multiple layers. "
   ]
  },
  {
   "cell_type": "markdown",
   "id": "c85f6ed2-da7c-4e1a-b208-879ae61e31b6",
   "metadata": {},
   "source": [
    " The other option is type in: `interface.` and then press `tab`. What's clear is that there are a lot of things we can do to an interface. Infact, `Interface` is just a fancy version of `Structure`, so where ever you can use `Structure`, you can use `Interface`. "
   ]
  },
  {
   "cell_type": "markdown",
   "id": "2ab92aca-75c8-4113-af00-bd317463b395",
   "metadata": {},
   "source": [
    "## Exercise 3:\n",
    "\n",
    "Just for fun, let's make ANOTHER slab from our interface structure along it's (1,0,0) direction. This should put another break along the short direction of the surface. Make sure to return the `gap` back to 2.0, so that structure doesn't look too crazy. Note that this new slab looks no different than the slabs we made in lesson 1. These structures can all be used later on in generating DFT calculations to investigate heterointerfaces."
   ]
  },
  {
   "cell_type": "code",
   "execution_count": 53,
   "id": "36adae6a-0b32-40d5-91b6-b4f31a1d7322",
   "metadata": {},
   "outputs": [
    {
     "data": {
      "text/plain": [
       "12"
      ]
     },
     "execution_count": 53,
     "metadata": {},
     "output_type": "execute_result"
    }
   ],
   "source": [
    "# solution\n",
    "interface.gap = 2.0\n",
    "slabgen = SlabGenerator(interface,miller_index=(1,0,0),min_slab_size=1,min_vacuum_size=20)\n",
    "slabs = list(slabgen.get_slabs())\n",
    "len(slabs)"
   ]
  },
  {
   "cell_type": "code",
   "execution_count": 52,
   "id": "cc7246e2-9c8c-4ec7-ae54-0bd19fc3e9d8",
   "metadata": {},
   "outputs": [
    {
     "data": {
      "application/vnd.mp.ctk+json": {
       "contents": [
        {
         "contents": [
          {
           "clickable": true,
           "color": "#ff8000",
           "id": "--atoms--0",
           "positions": [
            [
             1.0415544088926363,
             18.23322734170697,
             4.996187422714101
            ]
           ],
           "radius": 0.5,
           "tooltip": "P5+ (1.042, 18.233, 4.996)",
           "type": "spheres"
          },
          {
           "clickable": true,
           "color": "#ff0d0d",
           "id": "--atoms--1",
           "positions": [
            [
             17.460839013067286,
             17.663545907491738,
             7.62028971016788
            ]
           ],
           "radius": 0.5,
           "tooltip": "O2- (17.461, 17.664, 7.620)",
           "type": "spheres"
          },
          {
           "clickable": true,
           "color": "#ff0d0d",
           "id": "--atoms--2",
           "positions": [
            [
             8.652801435035993,
             16.21323177604525,
             32.27297569040608
            ]
           ],
           "radius": 0.5,
           "tooltip": "O2- (8.653, 16.213, 32.273)",
           "type": "spheres"
          },
          {
           "clickable": true,
           "color": "#ff0d0d",
           "id": "--atoms--3",
           "positions": [
            [
             38.14252410793634,
             18.317602924125655,
             3.7618304574490913
            ]
           ],
           "radius": 0.5,
           "tooltip": "O2- (38.143, 18.318, 3.762)",
           "type": "spheres"
          },
          {
           "clickable": true,
           "color": "#ff0d0d",
           "id": "--atoms--4",
           "positions": [
            [
             31.137829352851483,
             17.63389005058534,
             5.987792117269647
            ]
           ],
           "radius": 0.5,
           "tooltip": "O2- (31.138, 17.634, 5.988)",
           "type": "spheres"
          },
          {
           "clickable": true,
           "color": "#f0c8a0",
           "id": "--atoms--5",
           "positions": [
            [
             -7.507925608286843e-16,
             12.261373015491737,
             7.703032310997199
            ]
           ],
           "radius": 0.5,
           "tooltip": "Si (-0.000, 12.261, 7.703)",
           "type": "spheres"
          },
          {
           "clickable": true,
           "color": "#f0c8a0",
           "id": "--atoms--6",
           "positions": [
            [
             42.53672118591219,
             12.261373015491737,
             7.703032310997198
            ]
           ],
           "radius": 0.5,
           "tooltip": "Si (42.537, 12.261, 7.703)",
           "type": "spheres"
          },
          {
           "clickable": true,
           "color": "#ff0d0d",
           "id": "--atoms--7",
           "positions": [
            [
             45.826535579623716,
             18.278773663116173,
             7.701846240073096
            ]
           ],
           "radius": 0.5,
           "tooltip": "O2- (45.827, 18.279, 7.702)",
           "type": "spheres"
          },
          {
           "clickable": true,
           "color": "#ff0d0d",
           "id": "--atoms--8",
           "positions": [
            [
             19.480330464177285,
             16.21323177604525,
             5.977548048205817
            ]
           ],
           "radius": 0.5,
           "tooltip": "O2- (19.480, 16.213, 5.978)",
           "type": "spheres"
          },
          {
           "clickable": true,
           "color": "#f0c8a0",
           "id": "--atoms--9",
           "positions": [
            [
             17.40138593969135,
             9.527009015491734,
             5.769544984364825
            ]
           ],
           "radius": 0.5,
           "tooltip": "Si (17.401, 9.527, 5.770)",
           "type": "spheres"
          },
          {
           "clickable": true,
           "color": "#f0c8a0",
           "id": "--atoms--10",
           "positions": [
            [
             3.8669746532647435,
             10.894191015491735,
             1.90257033110008
            ]
           ],
           "radius": 0.5,
           "tooltip": "Si (3.867, 10.894, 1.903)",
           "type": "spheres"
          },
          {
           "clickable": true,
           "color": "#ff0d0d",
           "id": "--atoms--11",
           "positions": [
            [
             27.314995078795047,
             18.31760292412566,
             6.855410180060887
            ]
           ],
           "radius": 0.5,
           "tooltip": "O2- (27.315, 18.318, 6.855)",
           "type": "spheres"
          },
          {
           "clickable": true,
           "color": "#f0c8a0",
           "id": "--atoms--12",
           "positions": [
            [
             56.07113247233882,
             9.527009015491734,
             5.76954498436483
            ]
           ],
           "radius": 0.5,
           "tooltip": "Si (56.071, 9.527, 5.770)",
           "type": "spheres"
          },
          {
           "clickable": true,
           "color": "#ff8000",
           "id": "--atoms--13",
           "positions": [
            [
             6.252668240928598,
             18.81248745911549,
             3.932959371178482
            ]
           ],
           "radius": 0.5,
           "tooltip": "P5+ (6.253, 18.812, 3.933)",
           "type": "spheres"
          },
          {
           "clickable": true,
           "color": "#ff8000",
           "id": "--atoms--14",
           "positions": [
            [
             44.35167052545779,
             18.23322734170697,
             0.3558178387964029
            ]
           ],
           "radius": 0.5,
           "tooltip": "P5+ (44.352, 18.233, 0.356)",
           "type": "spheres"
          },
          {
           "clickable": true,
           "color": "#f0c8a0",
           "id": "--atoms--15",
           "positions": [
            [
             32.86928455275034,
             13.628555015491735,
             3.836057657732446
            ]
           ],
           "radius": 0.5,
           "tooltip": "Si (32.869, 13.629, 3.836)",
           "type": "spheres"
          },
          {
           "clickable": true,
           "color": "#ff0d0d",
           "id": "--atoms--16",
           "positions": [
            [
             13.343948492199848,
             18.278773663116173,
             1.514686794849502
            ]
           ],
           "radius": 0.5,
           "tooltip": "O2- (13.344, 18.279, 1.515)",
           "type": "spheres"
          },
          {
           "clickable": true,
           "color": "#ff0d0d",
           "id": "--atoms--17",
           "positions": [
            [
             44.0876425390605,
             16.79877195726925,
             31.88292962524254
            ]
           ],
           "radius": 0.5,
           "tooltip": "O2- (44.088, 16.799, 31.883)",
           "type": "spheres"
          },
          {
           "clickable": true,
           "color": "#f0c8a0",
           "id": "--atoms--18",
           "positions": [
            [
             34.8027718793827,
             10.894191015491735,
             1.9025703311000732
            ]
           ],
           "radius": 0.5,
           "tooltip": "Si (34.803, 10.894, 1.903)",
           "type": "spheres"
          },
          {
           "clickable": true,
           "color": "#f0c8a0",
           "id": "--atoms--19",
           "positions": [
            [
             23.201847919588474,
             10.894191015491735,
             5.769544984364826
            ]
           ],
           "radius": 0.5,
           "tooltip": "Si (23.202, 10.894, 5.770)",
           "type": "spheres"
          },
          {
           "clickable": true,
           "color": "#f0c8a0",
           "id": "--atoms--20",
           "positions": [
            [
             11.600923959794235,
             12.261373015491737,
             7.703032310997198
            ]
           ],
           "radius": 0.5,
           "tooltip": "Si (11.601, 12.261, 7.703)",
           "type": "spheres"
          },
          {
           "clickable": true,
           "color": "#cc80ff",
           "id": "--atoms--21",
           "positions": [
            [
             2.7740438266757637,
             16.213663486380497,
             4.950628058494794
            ]
           ],
           "radius": 0.5,
           "tooltip": "Li+ (2.774, 16.214, 4.951)",
           "type": "spheres"
          },
          {
           "clickable": true,
           "color": "#ff0d0d",
           "id": "--atoms--22",
           "positions": [
            [
             34.33864369380599,
             15.844131773997013,
             32.396884681735884
            ]
           ],
           "radius": 0.5,
           "tooltip": "O2- (34.339, 15.844, 32.397)",
           "type": "spheres"
          },
          {
           "clickable": true,
           "color": "#ff0d0d",
           "id": "--atoms--23",
           "positions": [
            [
             51.03293136402198,
             16.214095196715736,
             31.765925572289934
            ]
           ],
           "radius": 0.5,
           "tooltip": "O2- (51.033, 16.214, 31.766)",
           "type": "spheres"
          },
          {
           "clickable": true,
           "color": "#ff0d0d",
           "id": "--atoms--24",
           "positions": [
            [
             12.68358563552341,
             15.844131773997024,
             7.648246900841514
            ]
           ],
           "radius": 0.5,
           "tooltip": "O2- (12.684, 15.844, 7.648)",
           "type": "spheres"
          },
          {
           "clickable": true,
           "color": "#f0c8a0",
           "id": "--atoms--25",
           "positions": [
            [
             52.204157819074055,
             13.628555015491735,
             7.703032310997199
            ]
           ],
           "radius": 0.5,
           "tooltip": "Si (52.204, 13.629, 7.703)",
           "type": "spheres"
          },
          {
           "clickable": true,
           "color": "#f0c8a0",
           "id": "--atoms--26",
           "positions": [
            [
             40.60323385927982,
             9.527009015491734,
             1.9025703311000768
            ]
           ],
           "radius": 0.5,
           "tooltip": "Si (40.603, 9.527, 1.903)",
           "type": "spheres"
          },
          {
           "clickable": true,
           "color": "#f0c8a0",
           "id": "--atoms--27",
           "positions": [
            [
             29.00230989948559,
             9.527009015491734,
             5.769544984364823
            ]
           ],
           "radius": 0.5,
           "tooltip": "Si (29.002, 9.527, 5.770)",
           "type": "spheres"
          },
          {
           "clickable": true,
           "color": "#ff0d0d",
           "id": "--atoms--28",
           "positions": [
            [
             49.70240810477023,
             16.224227173971332,
             3.5147293438120477
            ]
           ],
           "radius": 0.5,
           "tooltip": "O2- (49.702, 16.224, 3.515)",
           "type": "spheres"
          },
          {
           "clickable": true,
           "color": "#ff0d0d",
           "id": "--atoms--29",
           "positions": [
            [
             15.598090259997482,
             15.628555015491733,
             1.2201744113355228
            ]
           ],
           "radius": 0.5,
           "tooltip": "O2- (15.598, 15.629, 1.220)",
           "type": "spheres"
          },
          {
           "clickable": true,
           "color": "#f0c8a0",
           "id": "--atoms--30",
           "positions": [
            [
             30.935797226117963,
             12.261373015491737,
             3.836057657732449
            ]
           ],
           "radius": 0.5,
           "tooltip": "Si (30.936, 12.261, 3.836)",
           "type": "spheres"
          },
          {
           "clickable": true,
           "color": "#e06633",
           "id": "--atoms--31",
           "positions": [
            [
             32.88706922522265,
             16.239120299495575,
             6.033049750707806
            ]
           ],
           "radius": 0.5,
           "tooltip": "Fe2+ (32.887, 16.239, 6.033)",
           "type": "spheres"
          },
          {
           "clickable": true,
           "color": "#f0c8a0",
           "id": "--atoms--32",
           "positions": [
            [
             1.9334873266323707,
             13.628555015491735,
             3.8360576577324528
            ]
           ],
           "radius": 0.5,
           "tooltip": "Si (1.933, 13.629, 3.836)",
           "type": "spheres"
          },
          {
           "clickable": true,
           "color": "#f0c8a0",
           "id": "--atoms--33",
           "positions": [
            [
             -1.9334873266323847,
             9.527009015491736,
             5.769544984364825
            ]
           ],
           "radius": 0.5,
           "tooltip": "Si (-1.933, 9.527, 5.770)",
           "type": "spheres"
          },
          {
           "clickable": true,
           "color": "#ff0d0d",
           "id": "--atoms--34",
           "positions": [
            [
             48.97005313707762,
             18.31760292412566,
             31.60404796095526
            ]
           ],
           "radius": 0.5,
           "tooltip": "O2- (48.970, 18.318, 31.604)",
           "type": "spheres"
          },
          {
           "clickable": true,
           "color": "#e06633",
           "id": "--atoms--35",
           "positions": [
            [
             54.542127283505216,
             16.239120299495582,
             7.579839612013714
            ]
           ],
           "radius": 0.5,
           "tooltip": "Fe2+ (54.542, 16.239, 7.580)",
           "type": "spheres"
          },
          {
           "clickable": true,
           "color": "#f0c8a0",
           "id": "--atoms--36",
           "positions": [
            [
             46.40369583917694,
             10.894191015491737,
             1.9025703311000735
            ]
           ],
           "radius": 0.5,
           "tooltip": "Si (46.404, 10.894, 1.903)",
           "type": "spheres"
          },
          {
           "clickable": true,
           "color": "#cc80ff",
           "id": "--atoms--37",
           "positions": [
            [
             7.571354157540681,
             17.975746487355497,
             1.0078366340946285
            ]
           ],
           "radius": 0.5,
           "tooltip": "Li+ (7.571, 17.976, 1.008)",
           "type": "spheres"
          },
          {
           "clickable": true,
           "color": "#e06633",
           "id": "--atoms--38",
           "positions": [
            [
             37.626192602976616,
             16.188206673265398,
             31.710423869787938
            ]
           ],
           "radius": 0.5,
           "tooltip": "Fe2+ (37.626, 16.188, 31.710)",
           "type": "spheres"
          },
          {
           "clickable": true,
           "color": "#f0c8a0",
           "id": "--atoms--39",
           "positions": [
            [
             21.268360592956096,
             13.628555015491735,
             7.703032310997199
            ]
           ],
           "radius": 0.5,
           "tooltip": "Si (21.268, 13.629, 7.703)",
           "type": "spheres"
          },
          {
           "clickable": true,
           "color": "#f0c8a0",
           "id": "--atoms--40",
           "positions": [
            [
             9.667436633161863,
             9.527009015491734,
             1.9025703311000812
            ]
           ],
           "radius": 0.5,
           "tooltip": "Si (9.667, 9.527, 1.903)",
           "type": "spheres"
          },
          {
           "clickable": true,
           "color": "#ff0d0d",
           "id": "--atoms--41",
           "positions": [
            [
             34.999006550482434,
             18.278773663116173,
             3.0614766561553974
            ]
           ],
           "radius": 0.5,
           "tooltip": "O2- (34.999, 18.279, 3.061)",
           "type": "spheres"
          },
          {
           "clickable": true,
           "color": "#ff0d0d",
           "id": "--atoms--42",
           "positions": [
            [
             30.30785949331858,
             16.21323177604526,
             2.8839683255940187
            ]
           ],
           "radius": 0.5,
           "tooltip": "O2- (30.308, 16.213, 2.884)",
           "type": "spheres"
          },
          {
           "clickable": true,
           "color": "#e06633",
           "id": "--atoms--43",
           "positions": [
            [
             16.584739319873645,
             16.413587661588114,
             3.085114015699972
            ]
           ],
           "radius": 0.5,
           "tooltip": "Fe2+ (16.585, 16.414, 3.085)",
           "type": "spheres"
          },
          {
           "clickable": true,
           "color": "#f0c8a0",
           "id": "--atoms--44",
           "positions": [
            [
             -1.9334873266323849,
             13.628555015491735,
             7.703032310997195
            ]
           ],
           "radius": 0.5,
           "tooltip": "Si (-1.933, 13.629, 7.703)",
           "type": "spheres"
          },
          {
           "clickable": true,
           "color": "#ff8000",
           "id": "--atoms--45",
           "positions": [
            [
             46.58374099361259,
             17.718265633004027,
             3.2066452906987513
            ]
           ],
           "radius": 0.5,
           "tooltip": "P5+ (46.584, 17.718, 3.207)",
           "type": "spheres"
          },
          {
           "clickable": true,
           "color": "#ff8000",
           "id": "--atoms--46",
           "positions": [
            [
             19.717569103294053,
             17.139005515595514,
             2.723083480928471
            ]
           ],
           "radius": 0.5,
           "tooltip": "P5+ (19.718, 17.139, 2.723)",
           "type": "spheres"
          },
          {
           "clickable": true,
           "color": "#f0c8a0",
           "id": "--atoms--47",
           "positions": [
            [
             44.47020851254456,
             13.628555015491735,
             3.836057657732447
            ]
           ],
           "radius": 0.5,
           "tooltip": "Si (44.470, 13.629, 3.836)",
           "type": "spheres"
          },
          {
           "clickable": true,
           "color": "#ff0d0d",
           "id": "--atoms--48",
           "positions": [
            [
             37.25314831828006,
             15.628555015491736,
             2.7669642726414185
            ]
           ],
           "radius": 0.5,
           "tooltip": "O2- (37.253, 15.629, 2.767)",
           "type": "spheres"
          },
          {
           "clickable": true,
           "color": "#ff0d0d",
           "id": "--atoms--49",
           "positions": [
            [
             33.260113509919215,
             16.798771957269242,
             4.040712121736362
            ]
           ],
           "radius": 0.5,
           "tooltip": "O2- (33.260, 16.799, 4.041)",
           "type": "spheres"
          },
          {
           "clickable": true,
           "color": "#f0c8a0",
           "id": "--atoms--50",
           "positions": [
            [
             34.8027718793827,
             10.894191015491735,
             5.769544984364827
            ]
           ],
           "radius": 0.5,
           "tooltip": "Si (34.803, 10.894, 5.770)",
           "type": "spheres"
          },
          {
           "clickable": true,
           "color": "#ff0d0d",
           "id": "--atoms--51",
           "positions": [
            [
             28.28836804220857,
             17.66354590749174,
             4.526709987556082
            ]
           ],
           "radius": 0.5,
           "tooltip": "O2- (28.288, 17.664, 4.527)",
           "type": "spheres"
          },
          {
           "clickable": true,
           "color": "#ff0d0d",
           "id": "--atoms--52",
           "positions": [
            [
             51.81951444772053,
             18.287947067219246,
             2.12933286455087
            ]
           ],
           "radius": 0.5,
           "tooltip": "O2- (51.820, 18.288, 2.129)",
           "type": "spheres"
          },
          {
           "clickable": true,
           "color": "#ff0d0d",
           "id": "--atoms--53",
           "positions": [
            [
             18.55034427659811,
             16.214095196715732,
             2.3769182074778734
            ]
           ],
           "radius": 0.5,
           "tooltip": "O2- (18.550, 16.214, 2.377)",
           "type": "spheres"
          },
          {
           "clickable": true,
           "color": "#ff0d0d",
           "id": "--atoms--54",
           "positions": [
            [
             -0.8442043348535545,
             16.203099798789644,
             1.746157189259847
            ]
           ],
           "radius": 0.5,
           "tooltip": "O2- (-0.844, 16.203, 1.746)",
           "type": "spheres"
          },
          {
           "clickable": true,
           "color": "#f0c8a0",
           "id": "--atoms--55",
           "positions": [
            [
             52.204157819074055,
             9.527009015491736,
             1.9025703311000812
            ]
           ],
           "radius": 0.5,
           "tooltip": "Si (52.204, 9.527, 1.903)",
           "type": "spheres"
          },
          {
           "clickable": true,
           "color": "#f0c8a0",
           "id": "--atoms--56",
           "positions": [
            [
             -7.507925608286841e-16,
             12.261373015491735,
             3.83605765773245
            ]
           ],
           "radius": 0.5,
           "tooltip": "Si (-0.000, 12.261, 3.836)",
           "type": "spheres"
          },
          {
           "clickable": true,
           "color": "#f0c8a0",
           "id": "--atoms--57",
           "positions": [
            [
             42.53672118591219,
             12.261373015491737,
             3.8360576577324528
            ]
           ],
           "radius": 0.5,
           "tooltip": "Si (42.537, 12.261, 3.836)",
           "type": "spheres"
          },
          {
           "clickable": true,
           "color": "#ff8000",
           "id": "--atoms--58",
           "positions": [
            [
             35.75621196447131,
             17.71826563300403,
             6.300225013310544
            ]
           ],
           "radius": 0.5,
           "tooltip": "P5+ (35.756, 17.718, 6.300)",
           "type": "spheres"
          },
          {
           "clickable": true,
           "color": "#e06633",
           "id": "--atoms--59",
           "positions": [
            [
             5.143605515552746,
             16.188206673265405,
             2.3214165049758746
            ]
           ],
           "radius": 0.5,
           "tooltip": "Fe2+ (5.144, 16.188, 2.321)",
           "type": "spheres"
          },
          {
           "clickable": true,
           "color": "#f0c8a0",
           "id": "--atoms--60",
           "positions": [
            [
             13.534411286426604,
             13.628555015491735,
             3.8360576577324537
            ]
           ],
           "radius": 0.5,
           "tooltip": "Si (13.534, 13.629, 3.836)",
           "type": "spheres"
          },
          {
           "clickable": true,
           "color": "#ff0d0d",
           "id": "--atoms--61",
           "positions": [
            [
             30.164456389437948,
             18.287947067219246,
             31.518340229362927
            ]
           ],
           "radius": 0.5,
           "tooltip": "O2- (30.164, 18.288, 31.518)",
           "type": "spheres"
          },
          {
           "clickable": true,
           "color": "#ff0d0d",
           "id": "--atoms--62",
           "positions": [
            [
             4.038206263163582,
             17.72193076564605,
             32.403072751090534
            ]
           ],
           "radius": 0.5,
           "tooltip": "O2- (4.038, 17.722, 32.403)",
           "type": "spheres"
          },
          {
           "clickable": true,
           "color": "#ff0d0d",
           "id": "--atoms--63",
           "positions": [
            [
             47.348322379728735,
             17.72193076564605,
             4.560855247584376
            ]
           ],
           "radius": 0.5,
           "tooltip": "O2- (47.348, 17.722, 4.561)",
           "type": "spheres"
          },
          {
           "clickable": true,
           "color": "#f0c8a0",
           "id": "--atoms--64",
           "positions": [
            [
             15.467898613058981,
             10.894191015491737,
             1.9025703311000786
            ]
           ],
           "radius": 0.5,
           "tooltip": "Si (15.468, 10.894, 1.903)",
           "type": "spheres"
          },
          {
           "clickable": true,
           "color": "#f0c8a0",
           "id": "--atoms--65",
           "positions": [
            [
             3.8669746532647427,
             10.894191015491735,
             5.769544984364825
            ]
           ],
           "radius": 0.5,
           "tooltip": "Si (3.867, 10.894, 5.770)",
           "type": "spheres"
          },
          {
           "clickable": true,
           "color": "#ff0d0d",
           "id": "--atoms--66",
           "positions": [
            [
             42.46591178171161,
             16.203099798789644,
             4.839736911871643
            ]
           ],
           "radius": 0.5,
           "tooltip": "O2- (42.466, 16.203, 4.840)",
           "type": "spheres"
          },
          {
           "clickable": true,
           "color": "#cc80ff",
           "id": "--atoms--67",
           "positions": [
            [
             2.1575896429700343,
             17.975746487355504,
             2.554626495400526
            ]
           ],
           "radius": 0.5,
           "tooltip": "Li+ (2.158, 17.976, 2.555)",
           "type": "spheres"
          },
          {
           "clickable": true,
           "color": "#ff8000",
           "id": "--atoms--68",
           "positions": [
            [
             17.08019727006989,
             18.81248745911549,
             31.775176874684654
            ]
           ],
           "radius": 0.5,
           "tooltip": "P5+ (17.080, 18.812, 31.775)",
           "type": "spheres"
          },
          {
           "clickable": true,
           "color": "#ff0d0d",
           "id": "--atoms--69",
           "positions": [
            [
             25.347089105251992,
             16.58319519876395,
             31.642016580960128
            ]
           ],
           "radius": 0.5,
           "tooltip": "O2- (25.347, 16.583, 31.642)",
           "type": "spheres"
          },
          {
           "clickable": true,
           "color": "#ff0d0d",
           "id": "--atoms--70",
           "positions": [
            [
             3.6920310469694035,
             16.58319519876396,
             6.893378800065767
            ]
           ],
           "radius": 0.5,
           "tooltip": "O2- (3.692, 16.583, 6.893)",
           "type": "spheres"
          },
          {
           "clickable": true,
           "color": "#f0c8a0",
           "id": "--atoms--71",
           "positions": [
            [
             32.86928455275034,
             13.628555015491731,
             7.70303231099719
            ]
           ],
           "radius": 0.5,
           "tooltip": "Si (32.869, 13.629, 7.703)",
           "type": "spheres"
          },
          {
           "clickable": true,
           "color": "#f0c8a0",
           "id": "--atoms--72",
           "positions": [
            [
             21.268360592956096,
             9.527009015491734,
             1.9025703311000803
            ]
           ],
           "radius": 0.5,
           "tooltip": "Si (21.268, 9.527, 1.903)",
           "type": "spheres"
          },
          {
           "clickable": true,
           "color": "#ff0d0d",
           "id": "--atoms--73",
           "positions": [
            [
             1.7987598228815191,
             17.67271931159483,
             0.5009864733397514
            ]
           ],
           "radius": 0.5,
           "tooltip": "O2- (1.799, 17.673, 0.501)",
           "type": "spheres"
          },
          {
           "clickable": true,
           "color": "#ff0d0d",
           "id": "--atoms--74",
           "positions": [
            [
             14.865735292304873,
             17.72193076564605,
             6.1076451088902655
            ]
           ],
           "radius": 0.5,
           "tooltip": "O2- (14.866, 17.722, 6.108)",
           "type": "spheres"
          },
          {
           "clickable": true,
           "color": "#ff0d0d",
           "id": "--atoms--75",
           "positions": [
            [
             20.310300323710187,
             17.63389005058534,
             32.28321975946992
            ]
           ],
           "radius": 0.5,
           "tooltip": "O2- (20.310, 17.634, 32.283)",
           "type": "spheres"
          },
          {
           "clickable": true,
           "color": "#ff0d0d",
           "id": "--atoms--76",
           "positions": [
            [
             11.104502051917782,
             18.229562209064945,
             31.484194969334645
            ]
           ],
           "radius": 0.5,
           "tooltip": "O2- (11.105, 18.230, 31.484)",
           "type": "spheres"
          },
          {
           "clickable": true,
           "color": "#f0c8a0",
           "id": "--atoms--77",
           "positions": [
            [
             23.201847919588474,
             12.261373015491737,
             7.703032310997196
            ]
           ],
           "radius": 0.5,
           "tooltip": "Si (23.202, 12.261, 7.703)",
           "type": "spheres"
          },
          {
           "clickable": true,
           "color": "#ff0d0d",
           "id": "--atoms--78",
           "positions": [
            [
             56.654064608765,
             18.278773663116173,
             4.608266517461301
            ]
           ],
           "radius": 0.5,
           "tooltip": "O2- (56.654, 18.279, 4.608)",
           "type": "spheres"
          },
          {
           "clickable": true,
           "color": "#cc80ff",
           "id": "--atoms--79",
           "positions": [
            [
             46.08415994324091,
             16.213663486380483,
             0.31025847457709627
            ]
           ],
           "radius": 0.5,
           "tooltip": "Li+ (46.084, 16.214, 0.310)",
           "type": "spheres"
          },
          {
           "clickable": true,
           "color": "#e06633",
           "id": "--atoms--80",
           "positions": [
            [
             27.412268349014933,
             16.413587661588107,
             7.7254835996176645
            ]
           ],
           "radius": 0.5,
           "tooltip": "Fe2+ (27.412, 16.414, 7.725)",
           "type": "spheres"
          },
          {
           "clickable": true,
           "color": "#e06633",
           "id": "--atoms--81",
           "positions": [
            [
             53.928522508325614,
             16.01373931117287,
             3.722562378677816
            ]
           ],
           "radius": 0.5,
           "tooltip": "Fe2+ (53.929, 16.014, 3.723)",
           "type": "spheres"
          },
          {
           "clickable": true,
           "color": "#f0c8a0",
           "id": "--atoms--82",
           "positions": [
            [
             40.60323385927982,
             9.527009015491736,
             5.769544984364827
            ]
           ],
           "radius": 0.5,
           "tooltip": "Si (40.603, 9.527, 5.770)",
           "type": "spheres"
          },
          {
           "clickable": true,
           "color": "#ff0d0d",
           "id": "--atoms--83",
           "positions": [
            [
             21.932031081059076,
             18.229562209064937,
             5.188767327134376
            ]
           ],
           "radius": 0.5,
           "tooltip": "O2- (21.932, 18.230, 5.189)",
           "type": "spheres"
          },
          {
           "clickable": true,
           "color": "#f0c8a0",
           "id": "--atoms--84",
           "positions": [
            [
             46.40369583917695,
             10.894191015491737,
             5.769544984364824
            ]
           ],
           "radius": 0.5,
           "tooltip": "Si (46.404, 10.894, 5.770)",
           "type": "spheres"
          },
          {
           "clickable": true,
           "color": "#f0c8a0",
           "id": "--atoms--85",
           "positions": [
            [
             1.9334873266323698,
             13.628555015491735,
             7.703032310997197
            ]
           ],
           "radius": 0.5,
           "tooltip": "Si (1.933, 13.629, 7.703)",
           "type": "spheres"
          },
          {
           "clickable": true,
           "color": "#f0c8a0",
           "id": "--atoms--86",
           "positions": [
            [
             54.137645145706436,
             10.894191015491737,
             1.902570331100081
            ]
           ],
           "radius": 0.5,
           "tooltip": "Si (54.138, 10.894, 1.903)",
           "type": "spheres"
          },
          {
           "clickable": true,
           "color": "#ff0d0d",
           "id": "--atoms--87",
           "positions": [
            [
             40.99198541857924,
             18.287947067219246,
             5.222912587162657
            ]
           ],
           "radius": 0.5,
           "tooltip": "O2- (40.992, 18.288, 5.223)",
           "type": "spheres"
          },
          {
           "clickable": true,
           "color": "#cc80ff",
           "id": "--atoms--88",
           "positions": [
            [
             19.015337370387698,
             16.213663486380486,
             0.31025847457709876
            ]
           ],
           "radius": 0.5,
           "tooltip": "Li+ (19.015, 16.214, 0.310)",
           "type": "spheres"
          },
          {
           "clickable": true,
           "color": "#ff0d0d",
           "id": "--atoms--89",
           "positions": [
            [
             0.27697302277649827,
             18.229562209064945,
             3.6419774658284765
            ]
           ],
           "radius": 0.5,
           "tooltip": "O2- (0.277, 18.230, 3.642)",
           "type": "spheres"
          },
          {
           "clickable": true,
           "color": "#f0c8a0",
           "id": "--atoms--90",
           "positions": [
            [
             11.600923959794233,
             12.261373015491737,
             3.836057657732452
            ]
           ],
           "radius": 0.5,
           "tooltip": "Si (11.601, 12.261, 3.836)",
           "type": "spheres"
          },
          {
           "clickable": true,
           "color": "#ff8000",
           "id": "--atoms--91",
           "positions": [
            [
             49.56278435749375,
             18.81248745911549,
             7.026539093790285
            ]
           ],
           "radius": 0.5,
           "tooltip": "P5+ (49.563, 18.812, 7.027)",
           "type": "spheres"
          },
          {
           "clickable": true,
           "color": "#ff0d0d",
           "id": "--atoms--92",
           "positions": [
            [
             12.6262888520228,
             17.672719311594825,
             5.141356057257446
            ]
           ],
           "radius": 0.5,
           "tooltip": "O2- (12.626, 17.673, 5.141)",
           "type": "spheres"
          },
          {
           "clickable": true,
           "color": "#ff0d0d",
           "id": "--atoms--93",
           "positions": [
            [
             36.520793350587454,
             17.72193076564605,
             7.654434970196165
            ]
           ],
           "radius": 0.5,
           "tooltip": "O2- (36.521, 17.722, 7.654)",
           "type": "spheres"
          },
          {
           "clickable": true,
           "color": "#cc80ff",
           "id": "--atoms--94",
           "positions": [
            [
             34.640176730393904,
             17.975746487355497,
             31.94363386021259
            ]
           ],
           "radius": 0.5,
           "tooltip": "Li+ (34.640, 17.976, 31.944)",
           "type": "spheres"
          },
          {
           "clickable": true,
           "color": "#e06633",
           "id": "--atoms--95",
           "positions": [
            [
             -0.20912263738082434,
             16.01373931117287,
             3.7225623786778126
            ]
           ],
           "radius": 0.5,
           "tooltip": "Fe2+ (-0.209, 16.014, 3.723)",
           "type": "spheres"
          },
          {
           "clickable": true,
           "color": "#f0c8a0",
           "id": "--atoms--96",
           "positions": [
            [
             27.068822572853218,
             10.894191015491735,
             1.9025703311000812
            ]
           ],
           "radius": 0.5,
           "tooltip": "Si (27.069, 10.894, 1.903)",
           "type": "spheres"
          },
          {
           "clickable": true,
           "color": "#f0c8a0",
           "id": "--atoms--97",
           "positions": [
            [
             15.467898613058981,
             10.894191015491737,
             5.769544984364825
            ]
           ],
           "radius": 0.5,
           "tooltip": "Si (15.468, 10.894, 5.770)",
           "type": "spheres"
          },
          {
           "clickable": true,
           "color": "#ff0d0d",
           "id": "--atoms--98",
           "positions": [
            [
             55.93640496858796,
             17.67271931159483,
             31.436783699457713
            ]
           ],
           "radius": 0.5,
           "tooltip": "O2- (55.936, 17.673, 31.437)",
           "type": "spheres"
          },
          {
           "clickable": true,
           "color": "#ff8000",
           "id": "--atoms--99",
           "positions": [
            [
             30.545098132435346,
             17.139005515595507,
             7.363453064846159
            ]
           ],
           "radius": 0.5,
           "tooltip": "P5+ (30.545, 17.139, 7.363)",
           "type": "spheres"
          },
          {
           "clickable": true,
           "color": "#ff0d0d",
           "id": "--atoms--100",
           "positions": [
            [
             1.8560566063821298,
             15.844131773997026,
             3.007877316923817
            ]
           ],
           "radius": 0.5,
           "tooltip": "O2- (1.856, 15.844, 3.008)",
           "type": "spheres"
          },
          {
           "clickable": true,
           "color": "#ff0d0d",
           "id": "--atoms--101",
           "positions": [
            [
             -1.344757734572391,
             17.633890050585343,
             7.53458197857555
            ]
           ],
           "radius": 0.5,
           "tooltip": "O2- (-1.345, 17.634, 7.535)",
           "type": "spheres"
          },
          {
           "clickable": true,
           "color": "#f0c8a0",
           "id": "--atoms--102",
           "positions": [
            [
             44.47020851254457,
             13.628555015491735,
             7.703032310997191
            ]
           ],
           "radius": 0.5,
           "tooltip": "Si (44.470, 13.629, 7.703)",
           "type": "spheres"
          },
          {
           "clickable": true,
           "color": "#f0c8a0",
           "id": "--atoms--103",
           "positions": [
            [
             32.86928455275034,
             9.527009015491734,
             1.902570331100076
            ]
           ],
           "radius": 0.5,
           "tooltip": "Si (32.869, 9.527, 1.903)",
           "type": "spheres"
          },
          {
           "clickable": true,
           "color": "#ff0d0d",
           "id": "--atoms--104",
           "positions": [
            [
             43.58708913934165,
             18.229562209064948,
             6.735557188440272
            ]
           ],
           "radius": 0.5,
           "tooltip": "O2- (43.587, 18.230, 6.736)",
           "type": "spheres"
          },
          {
           "clickable": true,
           "color": "#f0c8a0",
           "id": "--atoms--105",
           "positions": [
            [
             34.8027718793827,
             12.261373015491735,
             7.70303231099719
            ]
           ],
           "radius": 0.5,
           "tooltip": "Si (34.803, 12.261, 7.703)",
           "type": "spheres"
          },
          {
           "clickable": true,
           "color": "#f0c8a0",
           "id": "--atoms--106",
           "positions": [
            [
             23.201847919588474,
             12.261373015491731,
             3.8360576577324514
            ]
           ],
           "radius": 0.5,
           "tooltip": "Si (23.202, 12.261, 3.836)",
           "type": "spheres"
          },
          {
           "clickable": true,
           "color": "#e06633",
           "id": "--atoms--107",
           "positions": [
            [
             11.232011166940067,
             16.239120299495575,
             4.4862598894019134
            ]
           ],
           "radius": 0.5,
           "tooltip": "Fe2+ (11.232, 16.239, 4.486)",
           "type": "spheres"
          },
          {
           "clickable": true,
           "color": "#ff0d0d",
           "id": "--atoms--108",
           "positions": [
            [
             39.11589707134987,
             17.66354590749175,
             32.368927491062244
            ]
           ],
           "radius": 0.5,
           "tooltip": "O2- (39.116, 17.664, 32.369)",
           "type": "spheres"
          },
          {
           "clickable": true,
           "color": "#ff0d0d",
           "id": "--atoms--109",
           "positions": [
            [
             6.392291988205073,
             16.224227173971332,
             31.356946847318206
            ]
           ],
           "radius": 0.5,
           "tooltip": "O2- (6.392, 16.224, 31.357)",
           "type": "spheres"
          },
          {
           "clickable": true,
           "color": "#ff0d0d",
           "id": "--atoms--110",
           "positions": [
            [
             29.377873305739403,
             16.21409519671573,
             7.01728779139556
            ]
           ],
           "radius": 0.5,
           "tooltip": "O2- (29.378, 16.214, 7.017)",
           "type": "spheres"
          },
          {
           "clickable": true,
           "color": "#f0c8a0",
           "id": "--atoms--111",
           "positions": [
            [
             9.667436633161861,
             9.527009015491736,
             5.769544984364827
            ]
           ],
           "radius": 0.5,
           "tooltip": "Si (9.667, 9.527, 5.770)",
           "type": "spheres"
          },
          {
           "clickable": true,
           "color": "#f0c8a0",
           "id": "--atoms--112",
           "positions": [
            [
             52.204157819074055,
             9.527009015491736,
             5.769544984364828
            ]
           ],
           "radius": 0.5,
           "tooltip": "Si (52.204, 9.527, 5.770)",
           "type": "spheres"
          },
          {
           "clickable": true,
           "color": "#f0c8a0",
           "id": "--atoms--113",
           "positions": [
            [
             38.66974653264744,
             10.894191015491735,
             1.9025703311000763
            ]
           ],
           "radius": 0.5,
           "tooltip": "Si (38.670, 10.894, 1.903)",
           "type": "spheres"
          },
          {
           "clickable": true,
           "color": "#ff0d0d",
           "id": "--atoms--114",
           "positions": [
            [
             41.965358381992765,
             17.633890050585347,
             2.8942123946578566
            ]
           ],
           "radius": 0.5,
           "tooltip": "O2- (41.965, 17.634, 2.894)",
           "type": "spheres"
          },
          {
           "clickable": true,
           "color": "#e06633",
           "id": "--atoms--115",
           "positions": [
            [
             49.06732640729751,
             16.413587661588114,
             32.474121380512045
            ]
           ],
           "radius": 0.5,
           "tooltip": "Fe2+ (49.067, 16.414, 32.474)",
           "type": "spheres"
          },
          {
           "clickable": true,
           "color": "#ff8000",
           "id": "--atoms--116",
           "positions": [
            [
             22.696612467175218,
             18.23322734170697,
             6.5429772840199965
            ]
           ],
           "radius": 0.5,
           "tooltip": "P5+ (22.697, 18.233, 6.543)",
           "type": "spheres"
          },
          {
           "clickable": true,
           "color": "#f0c8a0",
           "id": "--atoms--117",
           "positions": [
            [
             25.135335246220844,
             13.628555015491735,
             3.8360576577324506
            ]
           ],
           "radius": 0.5,
           "tooltip": "Si (25.135, 13.629, 3.836)",
           "type": "spheres"
          },
          {
           "clickable": true,
           "color": "#f0c8a0",
           "id": "--atoms--118",
           "positions": [
            [
             13.534411286426604,
             13.628555015491731,
             7.703032310997197
            ]
           ],
           "radius": 0.5,
           "tooltip": "Si (13.534, 13.629, 7.703)",
           "type": "spheres"
          },
          {
           "clickable": true,
           "color": "#f0c8a0",
           "id": "--atoms--119",
           "positions": [
            [
             1.933487326632371,
             9.527009015491734,
             1.9025703311000797
            ]
           ],
           "radius": 0.5,
           "tooltip": "Si (1.933, 9.527, 1.903)",
           "type": "spheres"
          },
          {
           "clickable": true,
           "color": "#ff0d0d",
           "id": "--atoms--120",
           "positions": [
            [
             51.96291755160115,
             16.21323177604525,
             4.430758186899922
            ]
           ],
           "radius": 0.5,
           "tooltip": "O2- (51.963, 16.213, 4.431)",
           "type": "spheres"
          },
          {
           "clickable": true,
           "color": "#f0c8a0",
           "id": "--atoms--121",
           "positions": [
            [
             54.137645145706436,
             10.894191015491735,
             5.76954498436483
            ]
           ],
           "radius": 0.5,
           "tooltip": "Si (54.138, 10.894, 5.770)",
           "type": "spheres"
          },
          {
           "clickable": true,
           "color": "#f0c8a0",
           "id": "--atoms--122",
           "positions": [
            [
             3.8669746532647427,
             12.261373015491735,
             7.703032310997199
            ]
           ],
           "radius": 0.5,
           "tooltip": "Si (3.867, 12.261, 7.703)",
           "type": "spheres"
          },
          {
           "clickable": true,
           "color": "#cc80ff",
           "id": "--atoms--123",
           "positions": [
            [
             29.842866399528994,
             16.213663486380483,
             4.950628058494792
            ]
           ],
           "radius": 0.5,
           "tooltip": "Li+ (29.843, 16.214, 4.951)",
           "type": "spheres"
          },
          {
           "clickable": true,
           "color": "#e06633",
           "id": "--atoms--124",
           "positions": [
            [
             48.4537216321179,
             16.18820667326541,
             5.414996227587677
            ]
           ],
           "radius": 0.5,
           "tooltip": "Fe2+ (48.454, 16.188, 5.415)",
           "type": "spheres"
          },
          {
           "clickable": true,
           "color": "#cc80ff",
           "id": "--atoms--125",
           "positions": [
            [
             45.4677057595352,
             17.975746487355494,
             5.6482062180123185
            ]
           ],
           "radius": 0.5,
           "tooltip": "Li+ (45.468, 17.976, 5.648)",
           "type": "spheres"
          },
          {
           "clickable": true,
           "color": "#f0c8a0",
           "id": "--atoms--126",
           "positions": [
            [
             21.268360592956096,
             9.527009015491734,
             5.7695449843648285
            ]
           ],
           "radius": 0.5,
           "tooltip": "Si (21.268, 9.527, 5.770)",
           "type": "spheres"
          },
          {
           "clickable": true,
           "color": "#ff0d0d",
           "id": "--atoms--127",
           "positions": [
            [
             20.81085372342903,
             16.203099798789644,
             3.2929470505657434
            ]
           ],
           "radius": 0.5,
           "tooltip": "O2- (20.811, 16.203, 3.293)",
           "type": "spheres"
          },
          {
           "clickable": true,
           "color": "#e06633",
           "id": "--atoms--128",
           "positions": [
            [
             43.100993479184325,
             16.013739311172866,
             6.816142101289606
            ]
           ],
           "radius": 0.5,
           "tooltip": "Fe2+ (43.101, 16.014, 6.816)",
           "type": "spheres"
          },
          {
           "clickable": true,
           "color": "#f0c8a0",
           "id": "--atoms--129",
           "positions": [
            [
             36.73625920601508,
             13.628555015491731,
             3.8360576577324466
            ]
           ],
           "radius": 0.5,
           "tooltip": "Si (36.736, 13.629, 3.836)",
           "type": "spheres"
          },
          {
           "clickable": true,
           "color": "#ff0d0d",
           "id": "--atoms--130",
           "positions": [
            [
             6.633309983925992,
             17.66354590749175,
             2.9799201262501844
            ]
           ],
           "radius": 0.5,
           "tooltip": "O2- (6.633, 17.664, 2.980)",
           "type": "spheres"
          },
          {
           "clickable": true,
           "color": "#ff0d0d",
           "id": "--atoms--131",
           "positions": [
            [
             45.16617272294728,
             15.844131773997017,
             6.101457039535614
            ]
           ],
           "radius": 0.5,
           "tooltip": "O2- (45.166, 15.844, 6.101)",
           "type": "spheres"
          },
          {
           "clickable": true,
           "color": "#cc80ff",
           "id": "--atoms--132",
           "positions": [
            [
             24.42910188495834,
             16.213663486380497,
             6.497417919800696
            ]
           ],
           "radius": 0.5,
           "tooltip": "Li+ (24.429, 16.214, 6.497)",
           "type": "spheres"
          },
          {
           "clickable": true,
           "color": "#cc80ff",
           "id": "--atoms--133",
           "positions": [
            [
             50.88147027410584,
             17.975746487355497,
             4.101416356706427
            ]
           ],
           "radius": 0.5,
           "tooltip": "Li+ (50.881, 17.976, 4.101)",
           "type": "spheres"
          },
          {
           "clickable": true,
           "color": "#ff0d0d",
           "id": "--atoms--134",
           "positions": [
            [
             53.293440810852886,
             16.203099798789644,
             1.7461571892598504
            ]
           ],
           "radius": 0.5,
           "tooltip": "O2- (53.293, 16.203, 1.746)",
           "type": "spheres"
          },
          {
           "clickable": true,
           "color": "#f0c8a0",
           "id": "--atoms--135",
           "positions": [
            [
             46.40369583917695,
             12.261373015491737,
             7.7030323109971945
            ]
           ],
           "radius": 0.5,
           "tooltip": "Si (46.404, 12.261, 7.703)",
           "type": "spheres"
          },
          {
           "clickable": true,
           "color": "#f0c8a0",
           "id": "--atoms--136",
           "positions": [
            [
             34.8027718793827,
             12.261373015491735,
             3.836057657732452
            ]
           ],
           "radius": 0.5,
           "tooltip": "Si (34.803, 12.261, 3.836)",
           "type": "spheres"
          },
          {
           "clickable": true,
           "color": "#ff0d0d",
           "id": "--atoms--137",
           "positions": [
            [
             -2.1747275941052875,
             16.21323177604525,
             4.430758186899919
            ]
           ],
           "radius": 0.5,
           "tooltip": "O2- (-2.175, 16.213, 4.431)",
           "type": "spheres"
          },
          {
           "clickable": true,
           "color": "#ff8000",
           "id": "--atoms--138",
           "positions": [
            [
             52.20015619071792,
             17.139005515595517,
             32.11209084574054
            ]
           ],
           "radius": 0.5,
           "tooltip": "P5+ (52.200, 17.139, 32.112)",
           "type": "spheres"
          },
          {
           "clickable": true,
           "color": "#ff0d0d",
           "id": "--atoms--139",
           "positions": [
            [
             8.652801435035993,
             16.21323177604525,
             1.3371784642881215
            ]
           ],
           "radius": 0.5,
           "tooltip": "O2- (8.653, 16.213, 1.337)",
           "type": "spheres"
          },
          {
           "clickable": true,
           "color": "#ff0d0d",
           "id": "--atoms--140",
           "positions": [
            [
             38.87487907562895,
             16.22422717397134,
             6.608309066423839
            ]
           ],
           "radius": 0.5,
           "tooltip": "O2- (38.875, 16.224, 6.608)",
           "type": "spheres"
          },
          {
           "clickable": true,
           "color": "#f0c8a0",
           "id": "--atoms--141",
           "positions": [
            [
             7.733949306529488,
             10.894191015491735,
             1.9025703311000783
            ]
           ],
           "radius": 0.5,
           "tooltip": "Si (7.734, 10.894, 1.903)",
           "type": "spheres"
          },
          {
           "clickable": true,
           "color": "#ff0d0d",
           "id": "--atoms--142",
           "positions": [
            [
             31.638382752570326,
             16.203099798789644,
             31.135164554071906
            ]
           ],
           "radius": 0.5,
           "tooltip": "O2- (31.638, 16.203, 31.135)",
           "type": "spheres"
          },
          {
           "clickable": true,
           "color": "#ff8000",
           "id": "--atoms--143",
           "positions": [
            [
             38.735255328352466,
             18.81248745911549,
             2.3861695098725804
            ]
           ],
           "radius": 0.5,
           "tooltip": "P5+ (38.735, 18.812, 2.386)",
           "type": "spheres"
          },
          {
           "clickable": true,
           "color": "#ff8000",
           "id": "--atoms--144",
           "positions": [
            [
             33.52414149631651,
             18.23322734170697,
             3.449397561408201
            ]
           ],
           "radius": 0.5,
           "tooltip": "P5+ (33.524, 18.233, 3.449)",
           "type": "spheres"
          },
          {
           "clickable": true,
           "color": "#ff0d0d",
           "id": "--atoms--145",
           "positions": [
            [
             47.00214716353456,
             16.58319519876396,
             2.2530092161480746
            ]
           ],
           "radius": 0.5,
           "tooltip": "O2- (47.002, 16.583, 2.253)",
           "type": "spheres"
          },
          {
           "clickable": true,
           "color": "#f0c8a0",
           "id": "--atoms--146",
           "positions": [
            [
             25.135335246220844,
             13.628555015491735,
             7.703032310997194
            ]
           ],
           "radius": 0.5,
           "tooltip": "Si (25.135, 13.629, 7.703)",
           "type": "spheres"
          },
          {
           "clickable": true,
           "color": "#ff0d0d",
           "id": "--atoms--147",
           "positions": [
            [
             11.605055451636629,
             16.798771957269242,
             2.49392226043047
            ]
           ],
           "radius": 0.5,
           "tooltip": "O2- (11.605, 16.799, 2.494)",
           "type": "spheres"
          },
          {
           "clickable": true,
           "color": "#f0c8a0",
           "id": "--atoms--148",
           "positions": [
            [
             27.068822572853218,
             10.894191015491735,
             5.769544984364823
            ]
           ],
           "radius": 0.5,
           "tooltip": "Si (27.069, 10.894, 5.770)",
           "type": "spheres"
          },
          {
           "clickable": true,
           "color": "#f0c8a0",
           "id": "--atoms--149",
           "positions": [
            [
             15.467898613058981,
             12.261373015491731,
             7.703032310997196
            ]
           ],
           "radius": 0.5,
           "tooltip": "Si (15.468, 12.261, 7.703)",
           "type": "spheres"
          },
          {
           "clickable": true,
           "color": "#f0c8a0",
           "id": "--atoms--150",
           "positions": [
            [
             3.8669746532647427,
             12.261373015491735,
             3.836057657732452
            ]
           ],
           "radius": 0.5,
           "tooltip": "Si (3.867, 12.261, 3.836)",
           "type": "spheres"
          },
          {
           "clickable": true,
           "color": "#e06633",
           "id": "--atoms--151",
           "positions": [
            [
             5.757210290732354,
             16.413587661588114,
             6.178693738311773
            ]
           ],
           "radius": 0.5,
           "tooltip": "Fe2+ (5.757, 16.414, 6.179)",
           "type": "spheres"
          },
          {
           "clickable": true,
           "color": "#ff8000",
           "id": "--atoms--152",
           "positions": [
            [
             3.273624877047437,
             17.718265633004023,
             31.04886279420491
            ]
           ],
           "radius": 0.5,
           "tooltip": "P5+ (3.274, 17.718, 31.049)",
           "type": "spheres"
          },
          {
           "clickable": true,
           "color": "#ff0d0d",
           "id": "--atoms--153",
           "positions": [
            [
             24.171477521341142,
             18.278773663116173,
             6.155056378767198
            ]
           ],
           "radius": 0.5,
           "tooltip": "O2- (24.171, 18.279, 6.155)",
           "type": "spheres"
          },
          {
           "clickable": true,
           "color": "#f0c8a0",
           "id": "--atoms--154",
           "positions": [
            [
             44.47020851254457,
             9.527009015491736,
             1.9025703311000834
            ]
           ],
           "radius": 0.5,
           "tooltip": "Si (44.470, 9.527, 1.903)",
           "type": "spheres"
          },
          {
           "clickable": true,
           "color": "#f0c8a0",
           "id": "--atoms--155",
           "positions": [
            [
             32.86928455275034,
             9.527009015491734,
             5.769544984364818
            ]
           ],
           "radius": 0.5,
           "tooltip": "Si (32.869, 9.527, 5.770)",
           "type": "spheres"
          },
          {
           "clickable": true,
           "color": "#f0c8a0",
           "id": "--atoms--156",
           "positions": [
            [
             19.334873266323726,
             10.894191015491737,
             1.9025703311000808
            ]
           ],
           "radius": 0.5,
           "tooltip": "Si (19.335, 10.894, 1.903)",
           "type": "spheres"
          },
          {
           "clickable": true,
           "color": "#ff0d0d",
           "id": "--atoms--157",
           "positions": [
            [
             44.0876425390605,
             16.79877195726925,
             0.9471323991245736
            ]
           ],
           "radius": 0.5,
           "tooltip": "O2- (44.088, 16.799, 0.947)",
           "type": "spheres"
          },
          {
           "clickable": true,
           "color": "#e06633",
           "id": "--atoms--158",
           "positions": [
            [
             22.05954019608136,
             16.23912029949558,
             32.32847739290808
            ]
           ],
           "radius": 0.5,
           "tooltip": "Fe2+ (22.060, 16.239, 32.328)",
           "type": "spheres"
          },
          {
           "clickable": true,
           "color": "#ff8000",
           "id": "--atoms--159",
           "positions": [
            [
             14.101153906188731,
             17.71826563300403,
             4.753435152004648
            ]
           ],
           "radius": 0.5,
           "tooltip": "P5+ (14.101, 17.718, 4.753)",
           "type": "spheres"
          },
          {
           "clickable": true,
           "color": "#f0c8a0",
           "id": "--atoms--160",
           "positions": [
            [
             5.800461979897115,
             13.628555015491735,
             3.8360576577324514
            ]
           ],
           "radius": 0.5,
           "tooltip": "Si (5.800, 13.629, 3.836)",
           "type": "spheres"
          },
          {
           "clickable": true,
           "color": "#f0c8a0",
           "id": "--atoms--161",
           "positions": [
            [
             48.337183165809314,
             13.628555015491735,
             3.8360576577324466
            ]
           ],
           "radius": 0.5,
           "tooltip": "Si (48.337, 13.629, 3.836)",
           "type": "spheres"
          },
          {
           "clickable": true,
           "color": "#ff0d0d",
           "id": "--atoms--162",
           "positions": [
            [
             51.03293136402198,
             16.214095196715736,
             0.8301283461719742
            ]
           ],
           "radius": 0.5,
           "tooltip": "O2- (51.033, 16.214, 0.830)",
           "type": "spheres"
          },
          {
           "clickable": true,
           "color": "#f0c8a0",
           "id": "--atoms--163",
           "positions": [
            [
             50.270670492441695,
             10.894191015491737,
             1.9025703311000701
            ]
           ],
           "radius": 0.5,
           "tooltip": "Si (50.271, 10.894, 1.903)",
           "type": "spheres"
          },
          {
           "clickable": true,
           "color": "#f0c8a0",
           "id": "--atoms--164",
           "positions": [
            [
             38.66974653264745,
             10.894191015491737,
             5.769544984364827
            ]
           ],
           "radius": 0.5,
           "tooltip": "Si (38.670, 10.894, 5.770)",
           "type": "spheres"
          },
          {
           "clickable": true,
           "color": "#ff8000",
           "id": "--atoms--165",
           "positions": [
            [
             55.17919955459907,
             18.23322734170697,
             4.9961874227141045
            ]
           ],
           "radius": 0.5,
           "tooltip": "P5+ (55.179, 18.233, 4.996)",
           "type": "spheres"
          },
          {
           "clickable": true,
           "color": "#cc80ff",
           "id": "--atoms--166",
           "positions": [
            [
             40.053941244964555,
             17.9757464873555,
             7.194996079318223
            ]
           ],
           "radius": 0.5,
           "tooltip": "Li+ (40.054, 17.976, 7.195)",
           "type": "spheres"
          },
          {
           "clickable": true,
           "color": "#cc80ff",
           "id": "--atoms--167",
           "positions": [
            [
             35.25663091409963,
             16.213663486380486,
             3.4038381971888936
            ]
           ],
           "radius": 0.5,
           "tooltip": "Li+ (35.257, 16.214, 3.404)",
           "type": "spheres"
          },
          {
           "clickable": true,
           "color": "#f0c8a0",
           "id": "--atoms--168",
           "positions": [
            [
             13.534411286426609,
             9.527009015491736,
             1.9025703311000777
            ]
           ],
           "radius": 0.5,
           "tooltip": "Si (13.534, 9.527, 1.903)",
           "type": "spheres"
          },
          {
           "clickable": true,
           "color": "#f0c8a0",
           "id": "--atoms--169",
           "positions": [
            [
             1.933487326632372,
             9.527009015491734,
             5.769544984364827
            ]
           ],
           "radius": 0.5,
           "tooltip": "Si (1.933, 9.527, 5.770)",
           "type": "spheres"
          },
          {
           "clickable": true,
           "color": "#ff0d0d",
           "id": "--atoms--170",
           "positions": [
            [
             48.97005313707762,
             18.31760292412566,
             0.6682507348372979
            ]
           ],
           "radius": 0.5,
           "tooltip": "O2- (48.970, 18.318, 0.668)",
           "type": "spheres"
          },
          {
           "clickable": true,
           "color": "#f0c8a0",
           "id": "--atoms--171",
           "positions": [
            [
             54.137645145706436,
             12.261373015491737,
             7.7030323109972025
            ]
           ],
           "radius": 0.5,
           "tooltip": "Si (54.138, 12.261, 7.703)",
           "type": "spheres"
          },
          {
           "clickable": true,
           "color": "#e06633",
           "id": "--atoms--172",
           "positions": [
            [
             37.626192602976616,
             16.188206673265398,
             0.7746266436699731
            ]
           ],
           "radius": 0.5,
           "tooltip": "Fe2+ (37.626, 16.188, 0.775)",
           "type": "spheres"
          },
          {
           "clickable": true,
           "color": "#f0c8a0",
           "id": "--atoms--173",
           "positions": [
            [
             17.40138593969135,
             13.628555015491731,
             3.8360576577324497
            ]
           ],
           "radius": 0.5,
           "tooltip": "Si (17.401, 13.629, 3.836)",
           "type": "spheres"
          },
          {
           "clickable": true,
           "color": "#ff8000",
           "id": "--atoms--174",
           "positions": [
            [
             8.890040074152765,
             17.139005515595507,
             5.816663203540263
            ]
           ],
           "radius": 0.5,
           "tooltip": "P5+ (8.890, 17.139, 5.817)",
           "type": "spheres"
          },
          {
           "clickable": true,
           "color": "#ff0d0d",
           "id": "--atoms--175",
           "positions": [
            [
             26.42561928913877,
             15.628555015491736,
             5.860543995253214
            ]
           ],
           "radius": 0.5,
           "tooltip": "O2- (26.426, 15.629, 5.861)",
           "type": "spheres"
          },
          {
           "clickable": true,
           "color": "#ff0d0d",
           "id": "--atoms--176",
           "positions": [
            [
             52.792887411134046,
             17.633890050585343,
             7.534581978575553
            ]
           ],
           "radius": 0.5,
           "tooltip": "O2- (52.793, 17.634, 7.535)",
           "type": "spheres"
          },
          {
           "clickable": true,
           "color": "#e06633",
           "id": "--atoms--177",
           "positions": [
            [
             10.618406391760459,
             16.013739311172866,
             31.56477988218398
            ]
           ],
           "radius": 0.5,
           "tooltip": "Fe2+ (10.618, 16.014, 31.565)",
           "type": "spheres"
          },
          {
           "clickable": true,
           "color": "#f0c8a0",
           "id": "--atoms--178",
           "positions": [
            [
             27.068822572853218,
             12.261373015491737,
             7.703032310997195
            ]
           ],
           "radius": 0.5,
           "tooltip": "Si (27.069, 12.261, 7.703)",
           "type": "spheres"
          },
          {
           "clickable": true,
           "color": "#f0c8a0",
           "id": "--atoms--179",
           "positions": [
            [
             36.73625920601507,
             13.628555015491735,
             7.703032310997195
            ]
           ],
           "radius": 0.5,
           "tooltip": "Si (36.736, 13.629, 7.703)",
           "type": "spheres"
          },
          {
           "clickable": true,
           "color": "#ff0d0d",
           "id": "--atoms--180",
           "positions": [
            [
             19.336927360296663,
             18.287947067219253,
             3.676122725856765
            ]
           ],
           "radius": 0.5,
           "tooltip": "O2- (19.337, 18.288, 3.676)",
           "type": "spheres"
          },
          {
           "clickable": true,
           "color": "#ff0d0d",
           "id": "--atoms--181",
           "positions": [
            [
             7.7228152474568175,
             16.21409519671573,
             5.4704979300896674
            ]
           ],
           "radius": 0.5,
           "tooltip": "O2- (7.723, 16.214, 5.470)",
           "type": "spheres"
          },
          {
           "clickable": true,
           "color": "#ff0d0d",
           "id": "--atoms--182",
           "positions": [
            [
             45.10887593944667,
             17.672719311594825,
             3.5945661959515465
            ]
           ],
           "radius": 0.5,
           "tooltip": "O2- (45.109, 17.673, 3.595)",
           "type": "spheres"
          },
          {
           "clickable": true,
           "color": "#f0c8a0",
           "id": "--atoms--183",
           "positions": [
            [
             44.47020851254457,
             9.527009015491736,
             5.769544984364819
            ]
           ],
           "radius": 0.5,
           "tooltip": "Si (44.470, 9.527, 5.770)",
           "type": "spheres"
          },
          {
           "clickable": true,
           "color": "#e06633",
           "id": "--atoms--184",
           "positions": [
            [
             0.4044821377987821,
             16.239120299495582,
             7.579839612013711
            ]
           ],
           "radius": 0.5,
           "tooltip": "Fe2+ (0.404, 16.239, 7.580)",
           "type": "spheres"
          },
          {
           "clickable": true,
           "color": "#f0c8a0",
           "id": "--atoms--185",
           "positions": [
            [
             46.40369583917694,
             12.261373015491737,
             3.8360576577324537
            ]
           ],
           "radius": 0.5,
           "tooltip": "Si (46.404, 12.261, 3.836)",
           "type": "spheres"
          },
          {
           "clickable": true,
           "color": "#ff8000",
           "id": "--atoms--186",
           "positions": [
            [
             24.928682935330013,
             17.718265633004016,
             1.6598554293928436
            ]
           ],
           "radius": 0.5,
           "tooltip": "P5+ (24.929, 17.718, 1.660)",
           "type": "spheres"
          },
          {
           "clickable": true,
           "color": "#ff0d0d",
           "id": "--atoms--187",
           "positions": [
            [
             49.94342610049114,
             17.66354590749175,
             6.073499848861985
            ]
           ],
           "radius": 0.5,
           "tooltip": "O2- (49.943, 17.664, 6.073)",
           "type": "spheres"
          },
          {
           "clickable": true,
           "color": "#f0c8a0",
           "id": "--atoms--188",
           "positions": [
            [
             5.800461979897115,
             13.628555015491731,
             7.703032310997197
            ]
           ],
           "radius": 0.5,
           "tooltip": "Si (5.800, 13.629, 7.703)",
           "type": "spheres"
          },
          {
           "clickable": true,
           "color": "#f0c8a0",
           "id": "--atoms--189",
           "positions": [
            [
             56.0711324723388,
             13.628555015491735,
             3.8360576577324563
            ]
           ],
           "radius": 0.5,
           "tooltip": "Si (56.071, 13.629, 3.836)",
           "type": "spheres"
          },
          {
           "clickable": true,
           "color": "#ff0d0d",
           "id": "--atoms--190",
           "positions": [
            [
             5.659937020512467,
             18.31760292412566,
             5.308620318754992
            ]
           ],
           "radius": 0.5,
           "tooltip": "O2- (5.660, 18.318, 5.309)",
           "type": "spheres"
          },
          {
           "clickable": true,
           "color": "#f0c8a0",
           "id": "--atoms--191",
           "positions": [
            [
             7.733949306529488,
             10.894191015491735,
             5.769544984364825
            ]
           ],
           "radius": 0.5,
           "tooltip": "Si (7.734, 10.894, 5.770)",
           "type": "spheres"
          },
          {
           "clickable": true,
           "color": "#f0c8a0",
           "id": "--atoms--192",
           "positions": [
            [
             50.27067049244168,
             10.894191015491737,
             5.769544984364829
            ]
           ],
           "radius": 0.5,
           "tooltip": "Si (50.271, 10.894, 5.770)",
           "type": "spheres"
          },
          {
           "clickable": true,
           "color": "#ff8000",
           "id": "--atoms--193",
           "positions": [
            [
             -1.937488954988516,
             17.139005515595517,
             1.1762936196225675
            ]
           ],
           "radius": 0.5,
           "tooltip": "P5+ (-1.937, 17.139, 1.176)",
           "type": "spheres"
          },
          {
           "clickable": true,
           "color": "#cc80ff",
           "id": "--atoms--194",
           "positions": [
            [
             23.812647701252615,
             17.97574648735549,
             4.101416356706422
            ]
           ],
           "radius": 0.5,
           "tooltip": "Li+ (23.813, 17.976, 4.101)",
           "type": "spheres"
          },
          {
           "clickable": true,
           "color": "#ff8000",
           "id": "--atoms--195",
           "positions": [
            [
             44.35167052545779,
             18.23322734170697,
             31.291615064914364
            ]
           ],
           "radius": 0.5,
           "tooltip": "P5+ (44.352, 18.233, 31.292)",
           "type": "spheres"
          },
          {
           "clickable": true,
           "color": "#ff0d0d",
           "id": "--atoms--196",
           "positions": [
            [
             13.343948492199848,
             18.278773663116173,
             32.45048402096746
            ]
           ],
           "radius": 0.5,
           "tooltip": "O2- (13.344, 18.279, 32.450)",
           "type": "spheres"
          },
          {
           "clickable": true,
           "color": "#ff0d0d",
           "id": "--atoms--197",
           "positions": [
            [
             36.17461813439328,
             16.58319519876396,
             5.346588938759866
            ]
           ],
           "radius": 0.5,
           "tooltip": "O2- (36.175, 16.583, 5.347)",
           "type": "spheres"
          },
          {
           "clickable": true,
           "color": "#ff0d0d",
           "id": "--atoms--198",
           "positions": [
            [
             30.164456389437948,
             18.287947067219246,
             0.5825430032449613
            ]
           ],
           "radius": 0.5,
           "tooltip": "O2- (30.164, 18.288, 0.583)",
           "type": "spheres"
          },
          {
           "clickable": true,
           "color": "#f0c8a0",
           "id": "--atoms--199",
           "positions": [
            [
             25.135335246220848,
             9.527009015491734,
             1.9025703311000755
            ]
           ],
           "radius": 0.5,
           "tooltip": "Si (25.135, 9.527, 1.903)",
           "type": "spheres"
          },
          {
           "clickable": true,
           "color": "#f0c8a0",
           "id": "--atoms--200",
           "positions": [
            [
             13.534411286426604,
             9.527009015491736,
             5.769544984364826
            ]
           ],
           "radius": 0.5,
           "tooltip": "Si (13.534, 9.527, 5.770)",
           "type": "spheres"
          },
          {
           "clickable": true,
           "color": "#ff0d0d",
           "id": "--atoms--201",
           "positions": [
            [
             4.038206263163582,
             17.72193076564605,
             1.467275524972572
            ]
           ],
           "radius": 0.5,
           "tooltip": "O2- (4.038, 17.722, 1.467)",
           "type": "spheres"
          },
          {
           "clickable": true,
           "color": "#f0c8a0",
           "id": "--atoms--202",
           "positions": [
            [
             15.467898613058981,
             12.261373015491737,
             3.8360576577324497
            ]
           ],
           "radius": 0.5,
           "tooltip": "Si (15.468, 12.261, 3.836)",
           "type": "spheres"
          },
          {
           "clickable": true,
           "color": "#ff8000",
           "id": "--atoms--203",
           "positions": [
            [
             17.08019727006989,
             18.81248745911549,
             0.8393796485666868
            ]
           ],
           "radius": 0.5,
           "tooltip": "P5+ (17.080, 18.812, 0.839)",
           "type": "spheres"
          },
          {
           "clickable": true,
           "color": "#e06633",
           "id": "--atoms--204",
           "positions": [
            [
             21.445935420901748,
             16.01373931117286,
             5.269352239983715
            ]
           ],
           "radius": 0.5,
           "tooltip": "Fe2+ (21.446, 16.014, 5.269)",
           "type": "spheres"
          },
          {
           "clickable": true,
           "color": "#f0c8a0",
           "id": "--atoms--205",
           "positions": [
            [
             29.00230989948559,
             13.628555015491735,
             3.836057657732449
            ]
           ],
           "radius": 0.5,
           "tooltip": "Si (29.002, 13.629, 3.836)",
           "type": "spheres"
          },
          {
           "clickable": true,
           "color": "#ff0d0d",
           "id": "--atoms--206",
           "positions": [
            [
             15.598090259997482,
             15.628555015491733,
             32.15597163745348
            ]
           ],
           "radius": 0.5,
           "tooltip": "O2- (15.598, 15.629, 32.156)",
           "type": "spheres"
          },
          {
           "clickable": true,
           "color": "#f0c8a0",
           "id": "--atoms--207",
           "positions": [
            [
             30.935797226117963,
             10.894191015491735,
             1.902570331100076
            ]
           ],
           "radius": 0.5,
           "tooltip": "Si (30.936, 10.894, 1.903)",
           "type": "spheres"
          },
          {
           "clickable": true,
           "color": "#f0c8a0",
           "id": "--atoms--208",
           "positions": [
            [
             19.334873266323726,
             10.894191015491735,
             5.769544984364827
            ]
           ],
           "radius": 0.5,
           "tooltip": "Si (19.335, 10.894, 5.770)",
           "type": "spheres"
          },
          {
           "clickable": true,
           "color": "#ff0d0d",
           "id": "--atoms--209",
           "positions": [
            [
             20.310300323710187,
             17.63389005058534,
             1.3474225333519594
            ]
           ],
           "radius": 0.5,
           "tooltip": "O2- (20.310, 17.634, 1.347)",
           "type": "spheres"
          },
          {
           "clickable": true,
           "color": "#ff0d0d",
           "id": "--atoms--210",
           "positions": [
            [
             11.104502051917782,
             18.229562209064945,
             0.5483977432166796
            ]
           ],
           "radius": 0.5,
           "tooltip": "O2- (11.105, 18.230, 0.548)",
           "type": "spheres"
          },
          {
           "clickable": true,
           "color": "#f0c8a0",
           "id": "--atoms--211",
           "positions": [
            [
             48.337183165809314,
             13.628555015491735,
             7.7030323109971945
            ]
           ],
           "radius": 0.5,
           "tooltip": "Si (48.337, 13.629, 7.703)",
           "type": "spheres"
          },
          {
           "clickable": true,
           "color": "#ff0d0d",
           "id": "--atoms--212",
           "positions": [
            [
             48.08067734742134,
             15.62855501549174,
             7.407333856559123
            ]
           ],
           "radius": 0.5,
           "tooltip": "O2- (48.081, 15.629, 7.407)",
           "type": "spheres"
          },
          {
           "clickable": true,
           "color": "#cc80ff",
           "id": "--atoms--213",
           "positions": [
            [
             7.571354157540681,
             17.975746487355497,
             31.943633860212593
            ]
           ],
           "radius": 0.5,
           "tooltip": "Li+ (7.571, 17.976, 31.944)",
           "type": "spheres"
          },
          {
           "clickable": true,
           "color": "#f0c8a0",
           "id": "--atoms--214",
           "positions": [
            [
             38.66974653264744,
             12.261373015491737,
             7.703032310997193
            ]
           ],
           "radius": 0.5,
           "tooltip": "Si (38.670, 12.261, 7.703)",
           "type": "spheres"
          },
          {
           "clickable": true,
           "color": "#e06633",
           "id": "--atoms--215",
           "positions": [
            [
             43.71459825436394,
             16.239120299495582,
             2.9394700280960153
            ]
           ],
           "radius": 0.5,
           "tooltip": "Fe2+ (43.715, 16.239, 2.939)",
           "type": "spheres"
          },
          {
           "clickable": true,
           "color": "#cc80ff",
           "id": "--atoms--216",
           "positions": [
            [
             8.187808341246408,
             16.213663486380486,
             3.403838197188895
            ]
           ],
           "radius": 0.5,
           "tooltip": "Li+ (8.188, 16.214, 3.404)",
           "type": "spheres"
          },
          {
           "clickable": true,
           "color": "#ff8000",
           "id": "--atoms--217",
           "positions": [
            [
             11.869083438033924,
             18.233227341706964,
             1.902607700102303
            ]
           ],
           "radius": 0.5,
           "tooltip": "P5+ (11.869, 18.233, 1.903)",
           "type": "spheres"
          },
          {
           "clickable": true,
           "color": "#f0c8a0",
           "id": "--atoms--218",
           "positions": [
            [
             54.137645145706436,
             12.261373015491735,
             3.836057657732453
            ]
           ],
           "radius": 0.5,
           "tooltip": "Si (54.138, 12.261, 3.836)",
           "type": "spheres"
          },
          {
           "clickable": true,
           "color": "#ff0d0d",
           "id": "--atoms--219",
           "positions": [
            [
             25.693264321446165,
             17.721930765646043,
             3.01406538627847
            ]
           ],
           "radius": 0.5,
           "tooltip": "O2- (25.693, 17.722, 3.014)",
           "type": "spheres"
          },
          {
           "clickable": true,
           "color": "#ff0d0d",
           "id": "--atoms--220",
           "positions": [
            [
             0.7775264224953469,
             16.798771957269246,
             5.587501983042262
            ]
           ],
           "radius": 0.5,
           "tooltip": "O2- (0.778, 16.799, 5.588)",
           "type": "spheres"
          },
          {
           "clickable": true,
           "color": "#f0c8a0",
           "id": "--atoms--221",
           "positions": [
            [
             7.73394930652949,
             12.261373015491737,
             7.703032310997198
            ]
           ],
           "radius": 0.5,
           "tooltip": "Si (7.734, 12.261, 7.703)",
           "type": "spheres"
          },
          {
           "clickable": true,
           "color": "#cc80ff",
           "id": "--atoms--222",
           "positions": [
            [
             56.295234788676474,
             17.975746487355504,
             2.5546264954005293
            ]
           ],
           "radius": 0.5,
           "tooltip": "Li+ (56.295, 17.976, 2.555)",
           "type": "spheres"
          },
          {
           "clickable": true,
           "color": "#ff0d0d",
           "id": "--atoms--223",
           "positions": [
            [
             23.511114664664706,
             15.84413177399702,
             4.5546671782297175
            ]
           ],
           "radius": 0.5,
           "tooltip": "O2- (23.511, 15.844, 4.555)",
           "type": "spheres"
          },
          {
           "clickable": true,
           "color": "#ff0d0d",
           "id": "--atoms--224",
           "positions": [
            [
             2.5164194630585577,
             18.278773663116173,
             4.608266517461297
            ]
           ],
           "radius": 0.5,
           "tooltip": "O2- (2.516, 18.279, 4.608)",
           "type": "spheres"
          },
          {
           "clickable": true,
           "color": "#f0c8a0",
           "id": "--atoms--225",
           "positions": [
            [
             36.73625920601508,
             9.527009015491734,
             1.9025703311000732
            ]
           ],
           "radius": 0.5,
           "tooltip": "Si (36.736, 9.527, 1.903)",
           "type": "spheres"
          },
          {
           "clickable": true,
           "color": "#cc80ff",
           "id": "--atoms--226",
           "positions": [
            [
             34.640176730393904,
             17.975746487355497,
             1.0078366340946268
            ]
           ],
           "radius": 0.5,
           "tooltip": "Li+ (34.640, 17.976, 1.008)",
           "type": "spheres"
          },
          {
           "clickable": true,
           "color": "#ff0d0d",
           "id": "--atoms--227",
           "positions": [
            [
             32.75956011020037,
             18.229562209064945,
             2.095187604522576
            ]
           ],
           "radius": 0.5,
           "tooltip": "O2- (32.760, 18.230, 2.095)",
           "type": "spheres"
          },
          {
           "clickable": true,
           "color": "#ff0d0d",
           "id": "--atoms--228",
           "positions": [
            [
             55.93640496858796,
             17.67271931159483,
             0.5009864733397548
            ]
           ],
           "radius": 0.5,
           "tooltip": "O2- (55.936, 17.673, 0.501)",
           "type": "spheres"
          },
          {
           "clickable": true,
           "color": "#f0c8a0",
           "id": "--atoms--229",
           "positions": [
            [
             27.068822572853218,
             12.261373015491737,
             3.8360576577324474
            ]
           ],
           "radius": 0.5,
           "tooltip": "Si (27.069, 12.261, 3.836)",
           "type": "spheres"
          },
          {
           "clickable": true,
           "color": "#ff8000",
           "id": "--atoms--230",
           "positions": [
            [
             27.907726299211184,
             18.81248745911549,
             5.479749232484378
            ]
           ],
           "radius": 0.5,
           "tooltip": "P5+ (27.908, 18.812, 5.480)",
           "type": "spheres"
          },
          {
           "clickable": true,
           "color": "#e06633",
           "id": "--atoms--231",
           "positions": [
            [
             32.27346445004304,
             16.013739311172866,
             2.1757725173719153
            ]
           ],
           "radius": 0.5,
           "tooltip": "Fe2+ (32.273, 16.014, 2.176)",
           "type": "spheres"
          },
          {
           "clickable": true,
           "color": "#ff0d0d",
           "id": "--atoms--232",
           "positions": [
            [
             4.770561230856188,
             15.628555015491733,
             4.313754133947323
            ]
           ],
           "radius": 0.5,
           "tooltip": "O2- (4.771, 15.629, 4.314)",
           "type": "spheres"
          },
          {
           "clickable": true,
           "color": "#ff0d0d",
           "id": "--atoms--233",
           "positions": [
            [
             17.219821017346366,
             16.22422717397134,
             5.061519205117942
            ]
           ],
           "radius": 0.5,
           "tooltip": "O2- (17.220, 16.224, 5.062)",
           "type": "spheres"
          },
          {
           "clickable": true,
           "color": "#f0c8a0",
           "id": "--atoms--234",
           "positions": [
            [
             -6.670768078210905e-16,
             10.894191015491737,
             1.9025703311000777
            ]
           ],
           "radius": 0.5,
           "tooltip": "Si (-0.000, 10.894, 1.903)",
           "type": "spheres"
          },
          {
           "clickable": true,
           "color": "#f0c8a0",
           "id": "--atoms--235",
           "positions": [
            [
             42.53672118591219,
             10.894191015491737,
             1.9025703311000737
            ]
           ],
           "radius": 0.5,
           "tooltip": "Si (42.537, 10.894, 1.903)",
           "type": "spheres"
          },
          {
           "clickable": true,
           "color": "#f0c8a0",
           "id": "--atoms--236",
           "positions": [
            [
             30.935797226117963,
             10.894191015491735,
             5.769544984364818
            ]
           ],
           "radius": 0.5,
           "tooltip": "Si (30.936, 10.894, 5.770)",
           "type": "spheres"
          },
          {
           "clickable": true,
           "color": "#cc80ff",
           "id": "--atoms--237",
           "positions": [
            [
             18.39888318668197,
             17.975746487355497,
             5.648206218012323
            ]
           ],
           "radius": 0.5,
           "tooltip": "Li+ (18.399, 17.976, 5.648)",
           "type": "spheres"
          },
          {
           "clickable": true,
           "color": "#ff0d0d",
           "id": "--atoms--238",
           "positions": [
            [
             39.11589707134987,
             17.66354590749175,
             1.433130264944284
            ]
           ],
           "radius": 0.5,
           "tooltip": "O2- (39.116, 17.664, 1.433)",
           "type": "spheres"
          },
          {
           "clickable": true,
           "color": "#f0c8a0",
           "id": "--atoms--239",
           "positions": [
            [
             17.40138593969135,
             13.628555015491731,
             7.703032310997195
            ]
           ],
           "radius": 0.5,
           "tooltip": "Si (17.401, 13.629, 7.703)",
           "type": "spheres"
          },
          {
           "clickable": true,
           "color": "#f0c8a0",
           "id": "--atoms--240",
           "positions": [
            [
             5.800461979897117,
             9.527009015491734,
             1.902570331100079
            ]
           ],
           "radius": 0.5,
           "tooltip": "Si (5.800, 9.527, 1.903)",
           "type": "spheres"
          },
          {
           "clickable": true,
           "color": "#f0c8a0",
           "id": "--atoms--241",
           "positions": [
            [
             48.337183165809314,
             9.527009015491736,
             1.9025703311000703
            ]
           ],
           "radius": 0.5,
           "tooltip": "Si (48.337, 9.527, 1.903)",
           "type": "spheres"
          },
          {
           "clickable": true,
           "color": "#ff0d0d",
           "id": "--atoms--242",
           "positions": [
            [
             6.392291988205073,
             16.224227173971332,
             0.42114962120024546
            ]
           ],
           "radius": 0.5,
           "tooltip": "O2- (6.392, 16.224, 0.421)",
           "type": "spheres"
          },
          {
           "clickable": true,
           "color": "#f0c8a0",
           "id": "--atoms--243",
           "positions": [
            [
             56.0711324723388,
             13.628555015491735,
             7.703032310997201
            ]
           ],
           "radius": 0.5,
           "tooltip": "Si (56.071, 13.629, 7.703)",
           "type": "spheres"
          },
          {
           "clickable": true,
           "color": "#f0c8a0",
           "id": "--atoms--244",
           "positions": [
            [
             50.270670492441695,
             12.261373015491737,
             7.703032310997196
            ]
           ],
           "radius": 0.5,
           "tooltip": "Si (50.271, 12.261, 7.703)",
           "type": "spheres"
          },
          {
           "clickable": true,
           "color": "#e06633",
           "id": "--atoms--245",
           "positions": [
            [
             49.06732640729751,
             16.413587661588114,
             1.5383241543940802
            ]
           ],
           "radius": 0.5,
           "tooltip": "Fe2+ (49.067, 16.414, 1.538)",
           "type": "spheres"
          },
          {
           "clickable": true,
           "color": "#e06633",
           "id": "--atoms--246",
           "positions": [
            [
             15.971134544694035,
             16.188206673265405,
             6.961786088893568
            ]
           ],
           "radius": 0.5,
           "tooltip": "Fe2+ (15.971, 16.188, 6.962)",
           "type": "spheres"
          },
          {
           "clickable": true,
           "color": "#ff0d0d",
           "id": "--atoms--247",
           "positions": [
            [
             1.7987598228815191,
             17.67271931159483,
             31.43678369945771
            ]
           ],
           "radius": 0.5,
           "tooltip": "O2- (1.799, 17.673, 31.437)",
           "type": "spheres"
          },
          {
           "clickable": true,
           "color": "#ff0d0d",
           "id": "--atoms--248",
           "positions": [
            [
             41.13538852245986,
             16.213231776045255,
             7.524337909511712
            ]
           ],
           "radius": 0.5,
           "tooltip": "O2- (41.135, 16.213, 7.524)",
           "type": "spheres"
          },
          {
           "clickable": true,
           "color": "#ff0d0d",
           "id": "--atoms--249",
           "positions": [
            [
             54.41461816848294,
             18.229562209064945,
             3.6419774658284796
            ]
           ],
           "radius": 0.5,
           "tooltip": "O2- (54.415, 18.230, 3.642)",
           "type": "spheres"
          },
          {
           "clickable": true,
           "color": "#f0c8a0",
           "id": "--atoms--250",
           "positions": [
            [
             25.135335246220848,
             9.527009015491734,
             5.769544984364826
            ]
           ],
           "radius": 0.5,
           "tooltip": "Si (25.135, 9.527, 5.770)",
           "type": "spheres"
          },
          {
           "clickable": true,
           "color": "#f0c8a0",
           "id": "--atoms--251",
           "positions": [
            [
             11.600923959794235,
             10.894191015491735,
             1.9025703311000783
            ]
           ],
           "radius": 0.5,
           "tooltip": "Si (11.601, 10.894, 1.903)",
           "type": "spheres"
          },
          {
           "clickable": true,
           "color": "#ff0d0d",
           "id": "--atoms--252",
           "positions": [
            [
             22.43258448077792,
             16.798771957269242,
             7.134291844348162
            ]
           ],
           "radius": 0.5,
           "tooltip": "O2- (22.433, 16.799, 7.134)",
           "type": "spheres"
          },
          {
           "clickable": true,
           "color": "#ff0d0d",
           "id": "--atoms--253",
           "positions": [
            [
             9.98332469428774,
             16.203099798789644,
             6.386526773177542
            ]
           ],
           "radius": 0.5,
           "tooltip": "O2- (9.983, 16.203, 6.387)",
           "type": "spheres"
          },
          {
           "clickable": true,
           "color": "#cc80ff",
           "id": "--atoms--254",
           "positions": [
            [
             46.08415994324091,
             16.213663486380483,
             31.24605570069506
            ]
           ],
           "radius": 0.5,
           "tooltip": "Li+ (46.084, 16.214, 31.246)",
           "type": "spheres"
          },
          {
           "clickable": true,
           "color": "#f0c8a0",
           "id": "--atoms--255",
           "positions": [
            [
             29.00230989948559,
             13.628555015491735,
             7.70303231099719
            ]
           ],
           "radius": 0.5,
           "tooltip": "Si (29.002, 13.629, 7.703)",
           "type": "spheres"
          },
          {
           "clickable": true,
           "color": "#f0c8a0",
           "id": "--atoms--256",
           "positions": [
            [
             40.60323385927982,
             13.628555015491735,
             3.8360576577324497
            ]
           ],
           "radius": 0.5,
           "tooltip": "Si (40.603, 13.629, 3.836)",
           "type": "spheres"
          },
          {
           "clickable": true,
           "color": "#ff0d0d",
           "id": "--atoms--257",
           "positions": [
            [
             34.33864369380599,
             15.844131773997013,
             1.4610874556179192
            ]
           ],
           "radius": 0.5,
           "tooltip": "O2- (34.339, 15.844, 1.461)",
           "type": "spheres"
          },
          {
           "clickable": true,
           "color": "#ff0d0d",
           "id": "--atoms--258",
           "positions": [
            [
             55.99370175208857,
             15.844131773997026,
             3.0078773169238207
            ]
           ],
           "radius": 0.5,
           "tooltip": "O2- (55.994, 15.844, 3.008)",
           "type": "spheres"
          },
          {
           "clickable": true,
           "color": "#cc80ff",
           "id": "--atoms--259",
           "positions": [
            [
             13.60157285581705,
             16.213663486380494,
             1.857048335882997
            ]
           ],
           "radius": 0.5,
           "tooltip": "Li+ (13.602, 16.214, 1.857)",
           "type": "spheres"
          },
          {
           "clickable": true,
           "color": "#e06633",
           "id": "--atoms--260",
           "positions": [
            [
             38.239797378156226,
             16.413587661588114,
             4.631903877005868
            ]
           ],
           "radius": 0.5,
           "tooltip": "Fe2+ (38.240, 16.414, 4.632)",
           "type": "spheres"
          },
          {
           "clickable": true,
           "color": "#f0c8a0",
           "id": "--atoms--261",
           "positions": [
            [
             38.66974653264745,
             12.261373015491735,
             3.836057657732453
            ]
           ],
           "radius": 0.5,
           "tooltip": "Si (38.670, 12.261, 3.836)",
           "type": "spheres"
          },
          {
           "clickable": true,
           "color": "#ff0d0d",
           "id": "--atoms--262",
           "positions": [
            [
             28.04735004648765,
             16.224227173971332,
             1.967939482506142
            ]
           ],
           "radius": 0.5,
           "tooltip": "O2- (28.047, 16.224, 1.968)",
           "type": "spheres"
          },
          {
           "clickable": true,
           "color": "#cc80ff",
           "id": "--atoms--263",
           "positions": [
            [
             19.015337370387698,
             16.213663486380486,
             31.24605570069506
            ]
           ],
           "radius": 0.5,
           "tooltip": "Li+ (19.015, 16.214, 31.246)",
           "type": "spheres"
          },
          {
           "clickable": true,
           "color": "#f0c8a0",
           "id": "--atoms--264",
           "positions": [
            [
             -6.670768078210904e-16,
             10.894191015491735,
             5.769544984364828
            ]
           ],
           "radius": 0.5,
           "tooltip": "Si (-0.000, 10.894, 5.770)",
           "type": "spheres"
          },
          {
           "clickable": true,
           "color": "#f0c8a0",
           "id": "--atoms--265",
           "positions": [
            [
             9.667436633161861,
             13.628555015491731,
             3.836057657732452
            ]
           ],
           "radius": 0.5,
           "tooltip": "Si (9.667, 13.629, 3.836)",
           "type": "spheres"
          },
          {
           "clickable": true,
           "color": "#ff8000",
           "id": "--atoms--266",
           "positions": [
            [
             52.20015619071792,
             17.139005515595517,
             1.1762936196225708
            ]
           ],
           "radius": 0.5,
           "tooltip": "P5+ (52.200, 17.139, 1.176)",
           "type": "spheres"
          },
          {
           "clickable": true,
           "color": "#ff0d0d",
           "id": "--atoms--267",
           "positions": [
            [
             14.519560076110693,
             16.58319519876396,
             3.7997990774539705
            ]
           ],
           "radius": 0.5,
           "tooltip": "O2- (14.520, 16.583, 3.800)",
           "type": "spheres"
          },
          {
           "clickable": true,
           "color": "#ff0d0d",
           "id": "--atoms--268",
           "positions": [
            [
             8.509398331155369,
             18.287947067219246,
             6.7697024484685615
            ]
           ],
           "radius": 0.5,
           "tooltip": "O2- (8.509, 18.288, 6.770)",
           "type": "spheres"
          },
          {
           "clickable": true,
           "color": "#f0c8a0",
           "id": "--atoms--269",
           "positions": [
            [
             17.40138593969135,
             9.527009015491736,
             1.902570331100077
            ]
           ],
           "radius": 0.5,
           "tooltip": "Si (17.401, 9.527, 1.903)",
           "type": "spheres"
          },
          {
           "clickable": true,
           "color": "#cc80ff",
           "id": "--atoms--270",
           "positions": [
            [
             29.226412215823267,
             17.975746487355497,
             2.5546264954005227
            ]
           ],
           "radius": 0.5,
           "tooltip": "Li+ (29.226, 17.976, 2.555)",
           "type": "spheres"
          },
          {
           "clickable": true,
           "color": "#f0c8a0",
           "id": "--atoms--271",
           "positions": [
            [
             56.0711324723388,
             9.527009015491734,
             1.902570331100083
            ]
           ],
           "radius": 0.5,
           "tooltip": "Si (56.071, 9.527, 1.903)",
           "type": "spheres"
          },
          {
           "clickable": true,
           "color": "#ff0d0d",
           "id": "--atoms--272",
           "positions": [
            [
             31.638382752570326,
             16.203099798789644,
             0.19936732795394443
            ]
           ],
           "radius": 0.5,
           "tooltip": "O2- (31.638, 16.203, 0.199)",
           "type": "spheres"
          },
          {
           "clickable": true,
           "color": "#f0c8a0",
           "id": "--atoms--273",
           "positions": [
            [
             19.334873266323722,
             12.261373015491731,
             7.703032310997198
            ]
           ],
           "radius": 0.5,
           "tooltip": "Si (19.335, 12.261, 7.703)",
           "type": "spheres"
          },
          {
           "clickable": true,
           "color": "#f0c8a0",
           "id": "--atoms--274",
           "positions": [
            [
             7.733949306529488,
             12.261373015491735,
             3.836057657732454
            ]
           ],
           "radius": 0.5,
           "tooltip": "Si (7.734, 12.261, 3.836)",
           "type": "spheres"
          },
          {
           "clickable": true,
           "color": "#f0c8a0",
           "id": "--atoms--275",
           "positions": [
            [
             50.270670492441695,
             12.261373015491737,
             3.8360576577324506
            ]
           ],
           "radius": 0.5,
           "tooltip": "Si (50.271, 12.261, 3.836)",
           "type": "spheres"
          },
          {
           "clickable": true,
           "color": "#ff0d0d",
           "id": "--atoms--276",
           "positions": [
            [
             23.45381788116409,
             17.67271931159482,
             2.047776334645652
            ]
           ],
           "radius": 0.5,
           "tooltip": "O2- (23.454, 17.673, 2.048)",
           "type": "spheres"
          },
          {
           "clickable": true,
           "color": "#f0c8a0",
           "id": "--atoms--277",
           "positions": [
            [
             36.73625920601507,
             9.527009015491734,
             5.7695449843648285
            ]
           ],
           "radius": 0.5,
           "tooltip": "Si (36.736, 9.527, 5.770)",
           "type": "spheres"
          },
          {
           "clickable": true,
           "color": "#f0c8a0",
           "id": "--atoms--278",
           "positions": [
            [
             23.20184791958847,
             10.894191015491735,
             1.902570331100078
            ]
           ],
           "radius": 0.5,
           "tooltip": "Si (23.202, 10.894, 1.903)",
           "type": "spheres"
          },
          {
           "clickable": true,
           "color": "#ff0d0d",
           "id": "--atoms--279",
           "positions": [
            [
             54.915171568201785,
             16.798771957269246,
             5.587501983042266
            ]
           ],
           "radius": 0.5,
           "tooltip": "O2- (54.915, 16.799, 5.588)",
           "type": "spheres"
          },
          {
           "clickable": true,
           "color": "#ff8000",
           "id": "--atoms--280",
           "positions": [
            [
             3.273624877047437,
             17.718265633004023,
             0.11306556808695019
            ]
           ],
           "radius": 0.5,
           "tooltip": "P5+ (3.274, 17.718, 0.113)",
           "type": "spheres"
          },
          {
           "clickable": true,
           "color": "#ff8000",
           "id": "--atoms--281",
           "positions": [
            [
             41.37262716157664,
             17.139005515595507,
             4.269873342234359
            ]
           ],
           "radius": 0.5,
           "tooltip": "P5+ (41.373, 17.139, 4.270)",
           "type": "spheres"
          },
          {
           "clickable": true,
           "color": "#f0c8a0",
           "id": "--atoms--282",
           "positions": [
            [
             52.204157819074055,
             13.628555015491735,
             3.8360576577324395
            ]
           ],
           "radius": 0.5,
           "tooltip": "Si (52.204, 13.629, 3.836)",
           "type": "spheres"
          },
          {
           "clickable": true,
           "color": "#f0c8a0",
           "id": "--atoms--283",
           "positions": [
            [
             40.60323385927982,
             13.628555015491735,
             7.7030323109971945
            ]
           ],
           "radius": 0.5,
           "tooltip": "Si (40.603, 13.629, 7.703)",
           "type": "spheres"
          },
          {
           "clickable": true,
           "color": "#f0c8a0",
           "id": "--atoms--284",
           "positions": [
            [
             42.53672118591219,
             10.894191015491737,
             5.769544984364828
            ]
           ],
           "radius": 0.5,
           "tooltip": "Si (42.537, 10.894, 5.770)",
           "type": "spheres"
          },
          {
           "clickable": true,
           "color": "#f0c8a0",
           "id": "--atoms--285",
           "positions": [
            [
             30.935797226117963,
             12.261373015491735,
             7.703032310997195
            ]
           ],
           "radius": 0.5,
           "tooltip": "Si (30.936, 12.261, 7.703)",
           "type": "spheres"
          },
          {
           "clickable": true,
           "color": "#ff0d0d",
           "id": "--atoms--286",
           "positions": [
            [
             -2.3181306979859073,
             18.287947067219246,
             2.1293328645508662
            ]
           ],
           "radius": 0.5,
           "tooltip": "O2- (-2.318, 18.288, 2.129)",
           "type": "spheres"
          },
          {
           "clickable": true,
           "color": "#cc80ff",
           "id": "--atoms--287",
           "positions": [
            [
             51.49792445781156,
             16.213663486380486,
             6.497417919800689
            ]
           ],
           "radius": 0.5,
           "tooltip": "Li+ (51.498, 16.214, 6.497)",
           "type": "spheres"
          },
          {
           "clickable": true,
           "color": "#e06633",
           "id": "--atoms--288",
           "positions": [
            [
             22.05954019608136,
             16.23912029949558,
             1.3926801667901196
            ]
           ],
           "radius": 0.5,
           "tooltip": "Fe2+ (22.060, 16.239, 1.393)",
           "type": "spheres"
          },
          {
           "clickable": true,
           "color": "#f0c8a0",
           "id": "--atoms--289",
           "positions": [
            [
             -1.9334873266323847,
             9.527009015491736,
             1.902570331100078
            ]
           ],
           "radius": 0.5,
           "tooltip": "Si (-1.933, 9.527, 1.903)",
           "type": "spheres"
          },
          {
           "clickable": true,
           "color": "#f0c8a0",
           "id": "--atoms--290",
           "positions": [
            [
             5.800461979897116,
             9.527009015491734,
             5.769544984364828
            ]
           ],
           "radius": 0.5,
           "tooltip": "Si (5.800, 9.527, 5.770)",
           "type": "spheres"
          },
          {
           "clickable": true,
           "color": "#f0c8a0",
           "id": "--atoms--291",
           "positions": [
            [
             48.337183165809314,
             9.527009015491736,
             5.769544984364824
            ]
           ],
           "radius": 0.5,
           "tooltip": "Si (48.337, 9.527, 5.770)",
           "type": "spheres"
          },
          {
           "clickable": true,
           "color": "#ff0d0d",
           "id": "--atoms--292",
           "positions": [
            [
             16.48746604965376,
             18.31760292412566,
             2.215040596143193
            ]
           ],
           "radius": 0.5,
           "tooltip": "O2- (16.487, 18.318, 2.215)",
           "type": "spheres"
          },
          {
           "clickable": true,
           "color": "#ff0d0d",
           "id": "--atoms--293",
           "positions": [
            [
             9.482771294568897,
             17.63389005058534,
             4.441002255963754
            ]
           ],
           "radius": 0.5,
           "tooltip": "O2- (9.483, 17.634, 4.441)",
           "type": "spheres"
          },
          {
           "clickable": true,
           "color": "#e06633",
           "id": "--atoms--294",
           "positions": [
            [
             26.798663573835327,
             16.1882066732654,
             3.8682063662817705
            ]
           ],
           "radius": 0.5,
           "tooltip": "Fe2+ (26.799, 16.188, 3.868)",
           "type": "spheres"
          },
          {
           "clickable": true,
           "color": "#f0c8a0",
           "id": "--atoms--295",
           "positions": [
            [
             21.268360592956096,
             13.628555015491731,
             3.836057657732453
            ]
           ],
           "radius": 0.5,
           "tooltip": "Si (21.268, 13.629, 3.836)",
           "type": "spheres"
          },
          {
           "clickable": true,
           "color": "#f0c8a0",
           "id": "--atoms--296",
           "positions": [
            [
             9.667436633161861,
             13.628555015491735,
             7.703032310997199
            ]
           ],
           "radius": 0.5,
           "tooltip": "Si (9.667, 13.629, 7.703)",
           "type": "spheres"
          },
          {
           "clickable": true,
           "color": "#ff0d0d",
           "id": "--atoms--297",
           "positions": [
            [
             25.347089105251992,
             16.58319519876395,
             0.7062193548421668
            ]
           ],
           "radius": 0.5,
           "tooltip": "O2- (25.347, 16.583, 0.706)",
           "type": "spheres"
          },
          {
           "clickable": true,
           "color": "#f0c8a0",
           "id": "--atoms--298",
           "positions": [
            [
             11.600923959794235,
             10.894191015491737,
             5.769544984364828
            ]
           ],
           "radius": 0.5,
           "tooltip": "Si (11.601, 10.894, 5.770)",
           "type": "spheres"
          },
          {
           "clickable": true,
           "color": "#cc80ff",
           "id": "--atoms--299",
           "positions": [
            [
             40.67039542867028,
             16.213663486380494,
             1.8570483358829943
            ]
           ],
           "radius": 0.5,
           "tooltip": "Li+ (40.670, 16.214, 1.857)",
           "type": "spheres"
          },
          {
           "clickable": true,
           "color": "#cc80ff",
           "id": "--atoms--300",
           "positions": [
            [
             12.985118672111327,
             17.975746487355497,
             7.194996079318222
            ]
           ],
           "radius": 0.5,
           "tooltip": "Li+ (12.985, 17.976, 7.195)",
           "type": "spheres"
          },
          {
           "clickable": true,
           "color": "#f0c8a0",
           "id": "--atoms--301",
           "positions": [
            [
             -1.9334873266323849,
             13.628555015491735,
             3.8360576577324363
            ]
           ],
           "radius": 0.5,
           "tooltip": "Si (-1.933, 13.629, 3.836)",
           "type": "spheres"
          },
          {
           "clickable": true,
           "color": "#f0c8a0",
           "id": "--atoms--302",
           "positions": [
            [
             19.334873266323726,
             12.261373015491731,
             3.836057657732451
            ]
           ],
           "radius": 0.5,
           "tooltip": "Si (19.335, 12.261, 3.836)",
           "type": "spheres"
          },
          {
           "clickable": true,
           "color": "#f0c8a0",
           "id": "--atoms--303",
           "positions": [
            [
             29.00230989948559,
             9.527009015491734,
             1.902570331100081
            ]
           ],
           "radius": 0.5,
           "tooltip": "Si (29.002, 9.527, 1.903)",
           "type": "spheres"
          },
          {
           "clickable": true,
           "color": "#ff0d0d",
           "id": "--atoms--304",
           "positions": [
            [
             40.20540233488069,
             16.21409519671573,
             3.923708068783764
            ]
           ],
           "radius": 0.5,
           "tooltip": "O2- (40.205, 16.214, 3.924)",
           "type": "spheres"
          },
          {
           "clickable": true,
           "color": "#ff0d0d",
           "id": "--atoms--305",
           "positions": [
            [
             34.28134691030539,
             17.672719311594825,
             6.688145918563341
            ]
           ],
           "radius": 0.5,
           "tooltip": "O2- (34.281, 17.673, 6.688)",
           "type": "spheres"
          },
          {
           "clickable": true,
           "color": "#cc80ff",
           "id": "--atoms--306",
           "positions": [
            [
             -2.639720687894879,
             16.213663486380486,
             6.497417919800686
            ]
           ],
           "radius": 0.5,
           "tooltip": "Li+ (-2.640, 16.214, 6.497)",
           "type": "spheres"
          },
          {
           "clickable": true,
           "color": "#e06633",
           "id": "--atoms--307",
           "positions": [
            [
             10.618406391760459,
             16.013739311172866,
             0.6289826560660176
            ]
           ],
           "radius": 0.5,
           "tooltip": "Fe2+ (10.618, 16.014, 0.629)",
           "type": "spheres"
          }
         ],
         "id": "--atoms",
         "name": "atoms",
         "origin": [
          -27.068822572853215,
          -54.64273922181188,
          -15.467898613058987
         ],
         "visible": true
        },
        {
         "contents": [],
         "id": "--bonds",
         "name": "bonds",
         "origin": [
          -27.068822572853215,
          -54.64273922181188,
          -15.467898613058987
         ],
         "visible": true
        },
        {
         "contents": [],
         "id": "--polyhedra",
         "name": "polyhedra",
         "origin": [
          -27.068822572853215,
          -54.64273922181188,
          -15.467898613058987
         ],
         "visible": true
        },
        {
         "contents": [
          {
           "contents": [
            {
             "clickable": false,
             "id": "--unit_cell--a=54.137645145706436, b=109.28547844362376, c=30.935797226117963, alpha=90.0, beta=90.0, gamma=90.0--0",
             "positions": [
              [
               0,
               0,
               0
              ],
              [
               54.137645145706436,
               0,
               3.3149746920532316e-15
              ],
              [
               0,
               0,
               0
              ],
              [
               -6.691805568463545e-15,
               109.28547844362376,
               6.691805568463545e-15
              ],
              [
               0,
               0,
               0
              ],
              [
               0,
               0,
               30.935797226117963
              ],
              [
               54.137645145706436,
               0,
               3.3149746920532316e-15
              ],
              [
               54.13764514570643,
               109.28547844362376,
               1.0006780260516777e-14
              ],
              [
               54.137645145706436,
               0,
               3.3149746920532316e-15
              ],
              [
               54.137645145706436,
               0,
               30.935797226117966
              ],
              [
               -6.691805568463545e-15,
               109.28547844362376,
               6.691805568463545e-15
              ],
              [
               54.13764514570643,
               109.28547844362376,
               1.0006780260516777e-14
              ],
              [
               -6.691805568463545e-15,
               109.28547844362376,
               6.691805568463545e-15
              ],
              [
               -6.691805568463545e-15,
               109.28547844362376,
               30.93579722611797
              ],
              [
               0,
               0,
               30.935797226117963
              ],
              [
               54.137645145706436,
               0,
               30.935797226117966
              ],
              [
               0,
               0,
               30.935797226117963
              ],
              [
               -6.691805568463545e-15,
               109.28547844362376,
               30.93579722611797
              ],
              [
               54.13764514570643,
               109.28547844362376,
               1.0006780260516777e-14
              ],
              [
               54.13764514570643,
               109.28547844362376,
               30.935797226117973
              ],
              [
               54.137645145706436,
               0,
               30.935797226117966
              ],
              [
               54.13764514570643,
               109.28547844362376,
               30.935797226117973
              ],
              [
               -6.691805568463545e-15,
               109.28547844362376,
               30.93579722611797
              ],
              [
               54.13764514570643,
               109.28547844362376,
               30.935797226117973
              ]
             ],
             "type": "lines"
            }
           ],
           "id": "--unit_cell--a=54.137645145706436, b=109.28547844362376, c=30.935797226117963, alpha=90.0, beta=90.0, gamma=90.0",
           "name": "a=54.137645145706436, b=109.28547844362376, c=30.935797226117963, alpha=90.0, beta=90.0, gamma=90.0",
           "visible": true
          }
         ],
         "id": "--unit_cell",
         "name": "unit_cell",
         "origin": [
          -27.068822572853215,
          -54.64273922181188,
          -15.467898613058987
         ],
         "visible": true
        }
       ],
       "name": "Structure",
       "origin": [
        -27.068822572853215,
        -54.64273922181188,
        -15.467898613058987
       ],
       "visible": true
      },
      "text/plain": [
       "If you see this text, the Crystal Toolkit Jupyter Lab \n",
       "\n",
       "extension is not installed. You can install it by running \n",
       "\n",
       "\"pip install crystaltoolkit-extension\" \n",
       "\n",
       "from the same environment you run \"jupyter lab\". \n",
       "\n",
       "This only works in Jupyter Lab 3.x or above.\n",
       "\n",
       "\n",
       "Structure Summary\n",
       "Lattice\n",
       "    abc : 54.137645145706436 109.28547844362376 30.935797226117963\n",
       " angles : 90.0 90.0 90.0\n",
       " volume : 183030.3589542013\n",
       "      A : 54.137645145706436 0.0 3.3149746920532316e-15\n",
       "      B : -6.691805568463545e-15 109.28547844362376 6.691805568463545e-15\n",
       "      C : 0.0 0.0 30.935797226117963\n",
       "PeriodicSite: Li+ (50.8815, 17.9757, 4.1014) [0.9399, 0.1645, 0.1326]\n",
       "PeriodicSite: Li+ (18.3989, 17.9757, 5.6482) [0.3399, 0.1645, 0.1826]\n",
       "PeriodicSite: Li+ (7.5714, 17.9757, 1.0078) [0.1399, 0.1645, 0.0326]\n",
       "PeriodicSite: Li+ (40.0539, 17.9757, 7.1950) [0.7399, 0.1645, 0.2326]\n",
       "PeriodicSite: Li+ (29.2264, 17.9757, 2.5546) [0.5399, 0.1645, 0.0826]\n",
       "PeriodicSite: Li+ (2.1576, 17.9757, 2.5546) [0.0399, 0.1645, 0.0826]\n",
       "PeriodicSite: Li+ (23.8126, 17.9757, 4.1014) [0.4399, 0.1645, 0.1326]\n",
       "PeriodicSite: Li+ (12.9851, 17.9757, 7.1950) [0.2399, 0.1645, 0.2326]\n",
       "PeriodicSite: Li+ (45.4677, 17.9757, 5.6482) [0.8399, 0.1645, 0.1826]\n",
       "PeriodicSite: Li+ (34.6402, 17.9757, 1.0078) [0.6399, 0.1645, 0.0326]\n",
       "PeriodicSite: Li+ (2.7740, 16.2137, 4.9506) [0.0512, 0.1484, 0.1600]\n",
       "PeriodicSite: Li+ (24.4291, 16.2137, 6.4974) [0.4512, 0.1484, 0.2100]\n",
       "PeriodicSite: Li+ (13.6016, 16.2137, 1.8570) [0.2512, 0.1484, 0.0600]\n",
       "PeriodicSite: Li+ (46.0842, 16.2137, 0.3103) [0.8512, 0.1484, 0.0100]\n",
       "PeriodicSite: Li+ (35.2566, 16.2137, 3.4038) [0.6512, 0.1484, 0.1100]\n",
       "PeriodicSite: Li+ (51.4979, 16.2137, 6.4974) [0.9512, 0.1484, 0.2100]\n",
       "PeriodicSite: Li+ (19.0153, 16.2137, 0.3103) [0.3512, 0.1484, 0.0100]\n",
       "PeriodicSite: Li+ (8.1878, 16.2137, 3.4038) [0.1512, 0.1484, 0.1100]\n",
       "PeriodicSite: Li+ (40.6704, 16.2137, 1.8570) [0.7512, 0.1484, 0.0600]\n",
       "PeriodicSite: Li+ (29.8429, 16.2137, 4.9506) [0.5512, 0.1484, 0.1600]\n",
       "PeriodicSite: Fe2+ (49.0673, 16.4136, 1.5383) [0.9063, 0.1502, 0.0497]\n",
       "PeriodicSite: Fe2+ (16.5847, 16.4136, 3.0851) [0.3063, 0.1502, 0.0997]\n",
       "PeriodicSite: Fe2+ (5.7572, 16.4136, 6.1787) [0.1063, 0.1502, 0.1997]\n",
       "PeriodicSite: Fe2+ (38.2398, 16.4136, 4.6319) [0.7063, 0.1502, 0.1497]\n",
       "PeriodicSite: Fe2+ (27.4123, 16.4136, 7.7255) [0.5063, 0.1502, 0.2497]\n",
       "PeriodicSite: Fe2+ (0.4045, 16.2391, 7.5798) [0.0075, 0.1486, 0.2450]\n",
       "PeriodicSite: Fe2+ (22.0595, 16.2391, 1.3927) [0.4075, 0.1486, 0.0450]\n",
       "PeriodicSite: Fe2+ (11.2320, 16.2391, 4.4863) [0.2075, 0.1486, 0.1450]\n",
       "PeriodicSite: Fe2+ (43.7146, 16.2391, 2.9395) [0.8075, 0.1486, 0.0950]\n",
       "PeriodicSite: Fe2+ (32.8871, 16.2391, 6.0330) [0.6075, 0.1486, 0.1950]\n",
       "PeriodicSite: Fe2+ (48.4537, 16.1882, 5.4150) [0.8950, 0.1481, 0.1750]\n",
       "PeriodicSite: Fe2+ (15.9711, 16.1882, 6.9618) [0.2950, 0.1481, 0.2250]\n",
       "PeriodicSite: Fe2+ (5.1436, 16.1882, 2.3214) [0.0950, 0.1481, 0.0750]\n",
       "PeriodicSite: Fe2+ (37.6262, 16.1882, 0.7746) [0.6950, 0.1481, 0.0250]\n",
       "PeriodicSite: Fe2+ (26.7987, 16.1882, 3.8682) [0.4950, 0.1481, 0.1250]\n",
       "PeriodicSite: Fe2+ (53.9285, 16.0137, 3.7226) [0.9961, 0.1465, 0.1203]\n",
       "PeriodicSite: Fe2+ (21.4459, 16.0137, 5.2694) [0.3961, 0.1465, 0.1703]\n",
       "PeriodicSite: Fe2+ (10.6184, 16.0137, 0.6290) [0.1961, 0.1465, 0.0203]\n",
       "PeriodicSite: Fe2+ (43.1010, 16.0137, 6.8161) [0.7961, 0.1465, 0.2203]\n",
       "PeriodicSite: Fe2+ (32.2735, 16.0137, 2.1758) [0.5961, 0.1465, 0.0703]\n",
       "PeriodicSite: Si (1.9335, 13.6286, 3.8361) [0.0357, 0.1247, 0.1240]\n",
       "PeriodicSite: Si (5.8005, 13.6286, 3.8361) [0.1071, 0.1247, 0.1240]\n",
       "PeriodicSite: Si (9.6674, 13.6286, 3.8361) [0.1786, 0.1247, 0.1240]\n",
       "PeriodicSite: Si (13.5344, 13.6286, 3.8361) [0.2500, 0.1247, 0.1240]\n",
       "PeriodicSite: Si (17.4014, 13.6286, 3.8361) [0.3214, 0.1247, 0.1240]\n",
       "PeriodicSite: Si (21.2684, 13.6286, 3.8361) [0.3929, 0.1247, 0.1240]\n",
       "PeriodicSite: Si (25.1353, 13.6286, 3.8361) [0.4643, 0.1247, 0.1240]\n",
       "PeriodicSite: Si (29.0023, 13.6286, 3.8361) [0.5357, 0.1247, 0.1240]\n",
       "PeriodicSite: Si (32.8693, 13.6286, 3.8361) [0.6071, 0.1247, 0.1240]\n",
       "PeriodicSite: Si (36.7363, 13.6286, 3.8361) [0.6786, 0.1247, 0.1240]\n",
       "PeriodicSite: Si (40.6032, 13.6286, 3.8361) [0.7500, 0.1247, 0.1240]\n",
       "PeriodicSite: Si (44.4702, 13.6286, 3.8361) [0.8214, 0.1247, 0.1240]\n",
       "PeriodicSite: Si (48.3372, 13.6286, 3.8361) [0.8929, 0.1247, 0.1240]\n",
       "PeriodicSite: Si (52.2042, 13.6286, 3.8361) [0.9643, 0.1247, 0.1240]\n",
       "PeriodicSite: Si (1.9335, 13.6286, 7.7030) [0.0357, 0.1247, 0.2490]\n",
       "PeriodicSite: Si (5.8005, 13.6286, 7.7030) [0.1071, 0.1247, 0.2490]\n",
       "PeriodicSite: Si (9.6674, 13.6286, 7.7030) [0.1786, 0.1247, 0.2490]\n",
       "PeriodicSite: Si (13.5344, 13.6286, 7.7030) [0.2500, 0.1247, 0.2490]\n",
       "PeriodicSite: Si (17.4014, 13.6286, 7.7030) [0.3214, 0.1247, 0.2490]\n",
       "PeriodicSite: Si (21.2684, 13.6286, 7.7030) [0.3929, 0.1247, 0.2490]\n",
       "PeriodicSite: Si (25.1353, 13.6286, 7.7030) [0.4643, 0.1247, 0.2490]\n",
       "PeriodicSite: Si (29.0023, 13.6286, 7.7030) [0.5357, 0.1247, 0.2490]\n",
       "PeriodicSite: Si (32.8693, 13.6286, 7.7030) [0.6071, 0.1247, 0.2490]\n",
       "PeriodicSite: Si (36.7363, 13.6286, 7.7030) [0.6786, 0.1247, 0.2490]\n",
       "PeriodicSite: Si (40.6032, 13.6286, 7.7030) [0.7500, 0.1247, 0.2490]\n",
       "PeriodicSite: Si (44.4702, 13.6286, 7.7030) [0.8214, 0.1247, 0.2490]\n",
       "PeriodicSite: Si (48.3372, 13.6286, 7.7030) [0.8929, 0.1247, 0.2490]\n",
       "PeriodicSite: Si (52.2042, 13.6286, 7.7030) [0.9643, 0.1247, 0.2490]\n",
       "PeriodicSite: Si (1.9335, 9.5270, 1.9026) [0.0357, 0.0872, 0.0615]\n",
       "PeriodicSite: Si (5.8005, 9.5270, 1.9026) [0.1071, 0.0872, 0.0615]\n",
       "PeriodicSite: Si (9.6674, 9.5270, 1.9026) [0.1786, 0.0872, 0.0615]\n",
       "PeriodicSite: Si (13.5344, 9.5270, 1.9026) [0.2500, 0.0872, 0.0615]\n",
       "PeriodicSite: Si (17.4014, 9.5270, 1.9026) [0.3214, 0.0872, 0.0615]\n",
       "PeriodicSite: Si (21.2684, 9.5270, 1.9026) [0.3929, 0.0872, 0.0615]\n",
       "PeriodicSite: Si (25.1353, 9.5270, 1.9026) [0.4643, 0.0872, 0.0615]\n",
       "PeriodicSite: Si (29.0023, 9.5270, 1.9026) [0.5357, 0.0872, 0.0615]\n",
       "PeriodicSite: Si (32.8693, 9.5270, 1.9026) [0.6071, 0.0872, 0.0615]\n",
       "PeriodicSite: Si (36.7363, 9.5270, 1.9026) [0.6786, 0.0872, 0.0615]\n",
       "PeriodicSite: Si (40.6032, 9.5270, 1.9026) [0.7500, 0.0872, 0.0615]\n",
       "PeriodicSite: Si (44.4702, 9.5270, 1.9026) [0.8214, 0.0872, 0.0615]\n",
       "PeriodicSite: Si (48.3372, 9.5270, 1.9026) [0.8929, 0.0872, 0.0615]\n",
       "PeriodicSite: Si (52.2042, 9.5270, 1.9026) [0.9643, 0.0872, 0.0615]\n",
       "PeriodicSite: Si (1.9335, 9.5270, 5.7695) [0.0357, 0.0872, 0.1865]\n",
       "PeriodicSite: Si (5.8005, 9.5270, 5.7695) [0.1071, 0.0872, 0.1865]\n",
       "PeriodicSite: Si (9.6674, 9.5270, 5.7695) [0.1786, 0.0872, 0.1865]\n",
       "PeriodicSite: Si (13.5344, 9.5270, 5.7695) [0.2500, 0.0872, 0.1865]\n",
       "PeriodicSite: Si (17.4014, 9.5270, 5.7695) [0.3214, 0.0872, 0.1865]\n",
       "PeriodicSite: Si (21.2684, 9.5270, 5.7695) [0.3929, 0.0872, 0.1865]\n",
       "PeriodicSite: Si (25.1353, 9.5270, 5.7695) [0.4643, 0.0872, 0.1865]\n",
       "PeriodicSite: Si (29.0023, 9.5270, 5.7695) [0.5357, 0.0872, 0.1865]\n",
       "PeriodicSite: Si (32.8693, 9.5270, 5.7695) [0.6071, 0.0872, 0.1865]\n",
       "PeriodicSite: Si (36.7363, 9.5270, 5.7695) [0.6786, 0.0872, 0.1865]\n",
       "PeriodicSite: Si (40.6032, 9.5270, 5.7695) [0.7500, 0.0872, 0.1865]\n",
       "PeriodicSite: Si (44.4702, 9.5270, 5.7695) [0.8214, 0.0872, 0.1865]\n",
       "PeriodicSite: Si (48.3372, 9.5270, 5.7695) [0.8929, 0.0872, 0.1865]\n",
       "PeriodicSite: Si (52.2042, 9.5270, 5.7695) [0.9643, 0.0872, 0.1865]\n",
       "PeriodicSite: Si (-0.0000, 10.8942, 1.9026) [0.0000, 0.0997, 0.0615]\n",
       "PeriodicSite: Si (3.8670, 10.8942, 1.9026) [0.0714, 0.0997, 0.0615]\n",
       "PeriodicSite: Si (7.7339, 10.8942, 1.9026) [0.1429, 0.0997, 0.0615]\n",
       "PeriodicSite: Si (11.6009, 10.8942, 1.9026) [0.2143, 0.0997, 0.0615]\n",
       "PeriodicSite: Si (15.4679, 10.8942, 1.9026) [0.2857, 0.0997, 0.0615]\n",
       "PeriodicSite: Si (19.3349, 10.8942, 1.9026) [0.3571, 0.0997, 0.0615]\n",
       "PeriodicSite: Si (23.2018, 10.8942, 1.9026) [0.4286, 0.0997, 0.0615]\n",
       "PeriodicSite: Si (27.0688, 10.8942, 1.9026) [0.5000, 0.0997, 0.0615]\n",
       "PeriodicSite: Si (30.9358, 10.8942, 1.9026) [0.5714, 0.0997, 0.0615]\n",
       "PeriodicSite: Si (34.8028, 10.8942, 1.9026) [0.6429, 0.0997, 0.0615]\n",
       "PeriodicSite: Si (38.6697, 10.8942, 1.9026) [0.7143, 0.0997, 0.0615]\n",
       "PeriodicSite: Si (42.5367, 10.8942, 1.9026) [0.7857, 0.0997, 0.0615]\n",
       "PeriodicSite: Si (46.4037, 10.8942, 1.9026) [0.8571, 0.0997, 0.0615]\n",
       "PeriodicSite: Si (50.2707, 10.8942, 1.9026) [0.9286, 0.0997, 0.0615]\n",
       "PeriodicSite: Si (-0.0000, 10.8942, 5.7695) [0.0000, 0.0997, 0.1865]\n",
       "PeriodicSite: Si (3.8670, 10.8942, 5.7695) [0.0714, 0.0997, 0.1865]\n",
       "PeriodicSite: Si (7.7339, 10.8942, 5.7695) [0.1429, 0.0997, 0.1865]\n",
       "PeriodicSite: Si (11.6009, 10.8942, 5.7695) [0.2143, 0.0997, 0.1865]\n",
       "PeriodicSite: Si (15.4679, 10.8942, 5.7695) [0.2857, 0.0997, 0.1865]\n",
       "PeriodicSite: Si (19.3349, 10.8942, 5.7695) [0.3571, 0.0997, 0.1865]\n",
       "PeriodicSite: Si (23.2018, 10.8942, 5.7695) [0.4286, 0.0997, 0.1865]\n",
       "PeriodicSite: Si (27.0688, 10.8942, 5.7695) [0.5000, 0.0997, 0.1865]\n",
       "PeriodicSite: Si (30.9358, 10.8942, 5.7695) [0.5714, 0.0997, 0.1865]\n",
       "PeriodicSite: Si (34.8028, 10.8942, 5.7695) [0.6429, 0.0997, 0.1865]\n",
       "PeriodicSite: Si (38.6697, 10.8942, 5.7695) [0.7143, 0.0997, 0.1865]\n",
       "PeriodicSite: Si (42.5367, 10.8942, 5.7695) [0.7857, 0.0997, 0.1865]\n",
       "PeriodicSite: Si (46.4037, 10.8942, 5.7695) [0.8571, 0.0997, 0.1865]\n",
       "PeriodicSite: Si (50.2707, 10.8942, 5.7695) [0.9286, 0.0997, 0.1865]\n",
       "PeriodicSite: Si (-0.0000, 12.2614, 7.7030) [0.0000, 0.1122, 0.2490]\n",
       "PeriodicSite: Si (3.8670, 12.2614, 7.7030) [0.0714, 0.1122, 0.2490]\n",
       "PeriodicSite: Si (7.7339, 12.2614, 7.7030) [0.1429, 0.1122, 0.2490]\n",
       "PeriodicSite: Si (11.6009, 12.2614, 7.7030) [0.2143, 0.1122, 0.2490]\n",
       "PeriodicSite: Si (15.4679, 12.2614, 7.7030) [0.2857, 0.1122, 0.2490]\n",
       "PeriodicSite: Si (19.3349, 12.2614, 7.7030) [0.3571, 0.1122, 0.2490]\n",
       "PeriodicSite: Si (23.2018, 12.2614, 7.7030) [0.4286, 0.1122, 0.2490]\n",
       "PeriodicSite: Si (27.0688, 12.2614, 7.7030) [0.5000, 0.1122, 0.2490]\n",
       "PeriodicSite: Si (30.9358, 12.2614, 7.7030) [0.5714, 0.1122, 0.2490]\n",
       "PeriodicSite: Si (34.8028, 12.2614, 7.7030) [0.6429, 0.1122, 0.2490]\n",
       "PeriodicSite: Si (38.6697, 12.2614, 7.7030) [0.7143, 0.1122, 0.2490]\n",
       "PeriodicSite: Si (42.5367, 12.2614, 7.7030) [0.7857, 0.1122, 0.2490]\n",
       "PeriodicSite: Si (46.4037, 12.2614, 7.7030) [0.8571, 0.1122, 0.2490]\n",
       "PeriodicSite: Si (50.2707, 12.2614, 7.7030) [0.9286, 0.1122, 0.2490]\n",
       "PeriodicSite: Si (-0.0000, 12.2614, 3.8361) [0.0000, 0.1122, 0.1240]\n",
       "PeriodicSite: Si (3.8670, 12.2614, 3.8361) [0.0714, 0.1122, 0.1240]\n",
       "PeriodicSite: Si (7.7339, 12.2614, 3.8361) [0.1429, 0.1122, 0.1240]\n",
       "PeriodicSite: Si (11.6009, 12.2614, 3.8361) [0.2143, 0.1122, 0.1240]\n",
       "PeriodicSite: Si (15.4679, 12.2614, 3.8361) [0.2857, 0.1122, 0.1240]\n",
       "PeriodicSite: Si (19.3349, 12.2614, 3.8361) [0.3571, 0.1122, 0.1240]\n",
       "PeriodicSite: Si (23.2018, 12.2614, 3.8361) [0.4286, 0.1122, 0.1240]\n",
       "PeriodicSite: Si (27.0688, 12.2614, 3.8361) [0.5000, 0.1122, 0.1240]\n",
       "PeriodicSite: Si (30.9358, 12.2614, 3.8361) [0.5714, 0.1122, 0.1240]\n",
       "PeriodicSite: Si (34.8028, 12.2614, 3.8361) [0.6429, 0.1122, 0.1240]\n",
       "PeriodicSite: Si (38.6697, 12.2614, 3.8361) [0.7143, 0.1122, 0.1240]\n",
       "PeriodicSite: Si (42.5367, 12.2614, 3.8361) [0.7857, 0.1122, 0.1240]\n",
       "PeriodicSite: Si (46.4037, 12.2614, 3.8361) [0.8571, 0.1122, 0.1240]\n",
       "PeriodicSite: Si (50.2707, 12.2614, 3.8361) [0.9286, 0.1122, 0.1240]\n",
       "PeriodicSite: P5+ (49.5628, 18.8125, 7.0265) [0.9155, 0.1721, 0.2271]\n",
       "PeriodicSite: P5+ (17.0802, 18.8125, 0.8394) [0.3155, 0.1721, 0.0271]\n",
       "PeriodicSite: P5+ (6.2527, 18.8125, 3.9330) [0.1155, 0.1721, 0.1271]\n",
       "PeriodicSite: P5+ (38.7353, 18.8125, 2.3862) [0.7155, 0.1721, 0.0771]\n",
       "PeriodicSite: P5+ (27.9077, 18.8125, 5.4797) [0.5155, 0.1721, 0.1771]\n",
       "PeriodicSite: P5+ (46.5837, 17.7183, 3.2066) [0.8605, 0.1621, 0.1037]\n",
       "PeriodicSite: P5+ (14.1012, 17.7183, 4.7534) [0.2605, 0.1621, 0.1537]\n",
       "PeriodicSite: P5+ (3.2736, 17.7183, 0.1131) [0.0605, 0.1621, 0.0037]\n",
       "PeriodicSite: P5+ (35.7562, 17.7183, 6.3002) [0.6605, 0.1621, 0.2037]\n",
       "PeriodicSite: P5+ (24.9287, 17.7183, 1.6599) [0.4605, 0.1621, 0.0537]\n",
       "PeriodicSite: P5+ (1.0416, 18.2332, 4.9962) [0.0192, 0.1668, 0.1615]\n",
       "PeriodicSite: P5+ (22.6966, 18.2332, 6.5430) [0.4192, 0.1668, 0.2115]\n",
       "PeriodicSite: P5+ (11.8691, 18.2332, 1.9026) [0.2192, 0.1668, 0.0615]\n",
       "PeriodicSite: P5+ (44.3517, 18.2332, 0.3558) [0.8192, 0.1668, 0.0115]\n",
       "PeriodicSite: P5+ (33.5241, 18.2332, 3.4494) [0.6192, 0.1668, 0.1115]\n",
       "PeriodicSite: P5+ (52.2002, 17.1390, 1.1763) [0.9642, 0.1568, 0.0380]\n",
       "PeriodicSite: P5+ (19.7176, 17.1390, 2.7231) [0.3642, 0.1568, 0.0880]\n",
       "PeriodicSite: P5+ (8.8900, 17.1390, 5.8167) [0.1642, 0.1568, 0.1880]\n",
       "PeriodicSite: P5+ (41.3726, 17.1390, 4.2699) [0.7642, 0.1568, 0.1380]\n",
       "PeriodicSite: P5+ (30.5451, 17.1390, 7.3635) [0.5642, 0.1568, 0.2380]\n",
       "PeriodicSite: O2- (49.9434, 17.6635, 6.0735) [0.9225, 0.1616, 0.1963]\n",
       "PeriodicSite: O2- (17.4608, 17.6635, 7.6203) [0.3225, 0.1616, 0.2463]\n",
       "PeriodicSite: O2- (6.6333, 17.6635, 2.9799) [0.1225, 0.1616, 0.0963]\n",
       "PeriodicSite: O2- (39.1159, 17.6635, 1.4331) [0.7225, 0.1616, 0.0463]\n",
       "PeriodicSite: O2- (28.2884, 17.6635, 4.5267) [0.5225, 0.1616, 0.1463]\n",
       "PeriodicSite: O2- (47.0021, 16.5832, 2.2530) [0.8682, 0.1517, 0.0728]\n",
       "PeriodicSite: O2- (14.5196, 16.5832, 3.7998) [0.2682, 0.1517, 0.1228]\n",
       "PeriodicSite: O2- (3.6920, 16.5832, 6.8934) [0.0682, 0.1517, 0.2228]\n",
       "PeriodicSite: O2- (36.1746, 16.5832, 5.3466) [0.6682, 0.1517, 0.1728]\n",
       "PeriodicSite: O2- (25.3471, 16.5832, 0.7062) [0.4682, 0.1517, 0.0228]\n",
       "PeriodicSite: O2- (1.8561, 15.8441, 3.0079) [0.0343, 0.1450, 0.0972]\n",
       "PeriodicSite: O2- (23.5111, 15.8441, 4.5547) [0.4343, 0.1450, 0.1472]\n",
       "PeriodicSite: O2- (12.6836, 15.8441, 7.6482) [0.2343, 0.1450, 0.2472]\n",
       "PeriodicSite: O2- (45.1662, 15.8441, 6.1015) [0.8343, 0.1450, 0.1972]\n",
       "PeriodicSite: O2- (34.3386, 15.8441, 1.4611) [0.6343, 0.1450, 0.0472]\n",
       "PeriodicSite: O2- (51.8195, 18.2879, 2.1293) [0.9572, 0.1673, 0.0688]\n",
       "PeriodicSite: O2- (19.3369, 18.2879, 3.6761) [0.3572, 0.1673, 0.1188]\n",
       "PeriodicSite: O2- (8.5094, 18.2879, 6.7697) [0.1572, 0.1673, 0.2188]\n",
       "PeriodicSite: O2- (40.9920, 18.2879, 5.2229) [0.7572, 0.1673, 0.1688]\n",
       "PeriodicSite: O2- (30.1645, 18.2879, 0.5825) [0.5572, 0.1673, 0.0188]\n",
       "PeriodicSite: O2- (45.8265, 18.2788, 7.7018) [0.8465, 0.1673, 0.2490]\n",
       "PeriodicSite: O2- (13.3439, 18.2788, 1.5147) [0.2465, 0.1673, 0.0490]\n",
       "PeriodicSite: O2- (2.5164, 18.2788, 4.6083) [0.0465, 0.1673, 0.1490]\n",
       "PeriodicSite: O2- (34.9990, 18.2788, 3.0615) [0.6465, 0.1673, 0.0990]\n",
       "PeriodicSite: O2- (24.1715, 18.2788, 6.1551) [0.4465, 0.1673, 0.1990]\n",
       "PeriodicSite: O2- (51.0329, 16.2141, 0.8301) [0.9427, 0.1484, 0.0268]\n",
       "PeriodicSite: O2- (18.5503, 16.2141, 2.3769) [0.3427, 0.1484, 0.0768]\n",
       "PeriodicSite: O2- (7.7228, 16.2141, 5.4705) [0.1427, 0.1484, 0.1768]\n",
       "PeriodicSite: O2- (40.2054, 16.2141, 3.9237) [0.7427, 0.1484, 0.1268]\n",
       "PeriodicSite: O2- (29.3779, 16.2141, 7.0173) [0.5427, 0.1484, 0.2268]\n",
       "PeriodicSite: O2- (51.9629, 16.2132, 4.4308) [0.9598, 0.1484, 0.1432]\n",
       "PeriodicSite: O2- (19.4803, 16.2132, 5.9775) [0.3598, 0.1484, 0.1932]\n",
       "PeriodicSite: O2- (8.6528, 16.2132, 1.3372) [0.1598, 0.1484, 0.0432]\n",
       "PeriodicSite: O2- (41.1354, 16.2132, 7.5243) [0.7598, 0.1484, 0.2432]\n",
       "PeriodicSite: O2- (30.3079, 16.2132, 2.8840) [0.5598, 0.1484, 0.0932]\n",
       "PeriodicSite: O2- (1.7988, 17.6727, 0.5010) [0.0332, 0.1617, 0.0162]\n",
       "PeriodicSite: O2- (23.4538, 17.6727, 2.0478) [0.4332, 0.1617, 0.0662]\n",
       "PeriodicSite: O2- (12.6263, 17.6727, 5.1414) [0.2332, 0.1617, 0.1662]\n",
       "PeriodicSite: O2- (45.1089, 17.6727, 3.5946) [0.8332, 0.1617, 0.1162]\n",
       "PeriodicSite: O2- (34.2813, 17.6727, 6.6881) [0.6332, 0.1617, 0.2162]\n",
       "PeriodicSite: O2- (49.7024, 16.2242, 3.5147) [0.9181, 0.1485, 0.1136]\n",
       "PeriodicSite: O2- (17.2198, 16.2242, 5.0615) [0.3181, 0.1485, 0.1636]\n",
       "PeriodicSite: O2- (6.3923, 16.2242, 0.4211) [0.1181, 0.1485, 0.0136]\n",
       "PeriodicSite: O2- (38.8749, 16.2242, 6.6083) [0.7181, 0.1485, 0.2136]\n",
       "PeriodicSite: O2- (28.0474, 16.2242, 1.9679) [0.5181, 0.1485, 0.0636]\n",
       "PeriodicSite: O2- (47.3483, 17.7219, 4.5609) [0.8746, 0.1622, 0.1474]\n",
       "PeriodicSite: O2- (14.8657, 17.7219, 6.1076) [0.2746, 0.1622, 0.1974]\n",
       "PeriodicSite: O2- (4.0382, 17.7219, 1.4673) [0.0746, 0.1622, 0.0474]\n",
       "PeriodicSite: O2- (36.5208, 17.7219, 7.6544) [0.6746, 0.1622, 0.2474]\n",
       "PeriodicSite: O2- (25.6933, 17.7219, 3.0141) [0.4746, 0.1622, 0.0974]\n",
       "PeriodicSite: O2- (48.0807, 15.6286, 7.4073) [0.8881, 0.1430, 0.2394]\n",
       "PeriodicSite: O2- (15.5981, 15.6286, 1.2202) [0.2881, 0.1430, 0.0394]\n",
       "PeriodicSite: O2- (4.7706, 15.6286, 4.3138) [0.0881, 0.1430, 0.1394]\n",
       "PeriodicSite: O2- (37.2531, 15.6286, 2.7670) [0.6881, 0.1430, 0.0894]\n",
       "PeriodicSite: O2- (26.4256, 15.6286, 5.8605) [0.4881, 0.1430, 0.1894]\n",
       "PeriodicSite: O2- (48.9701, 18.3176, 0.6683) [0.9045, 0.1676, 0.0216]\n",
       "PeriodicSite: O2- (16.4875, 18.3176, 2.2150) [0.3045, 0.1676, 0.0716]\n",
       "PeriodicSite: O2- (5.6599, 18.3176, 5.3086) [0.1045, 0.1676, 0.1716]\n",
       "PeriodicSite: O2- (38.1425, 18.3176, 3.7618) [0.7045, 0.1676, 0.1216]\n",
       "PeriodicSite: O2- (27.3150, 18.3176, 6.8554) [0.5045, 0.1676, 0.2216]\n",
       "PeriodicSite: O2- (0.7775, 16.7988, 5.5875) [0.0144, 0.1537, 0.1806]\n",
       "PeriodicSite: O2- (22.4326, 16.7988, 7.1343) [0.4144, 0.1537, 0.2306]\n",
       "PeriodicSite: O2- (11.6051, 16.7988, 2.4939) [0.2144, 0.1537, 0.0806]\n",
       "PeriodicSite: O2- (44.0876, 16.7988, 0.9471) [0.8144, 0.1537, 0.0306]\n",
       "PeriodicSite: O2- (33.2601, 16.7988, 4.0407) [0.6144, 0.1537, 0.1306]\n",
       "PeriodicSite: O2- (52.7929, 17.6339, 7.5346) [0.9752, 0.1614, 0.2436]\n",
       "PeriodicSite: O2- (20.3103, 17.6339, 1.3474) [0.3752, 0.1614, 0.0436]\n",
       "PeriodicSite: O2- (9.4828, 17.6339, 4.4410) [0.1752, 0.1614, 0.1436]\n",
       "PeriodicSite: O2- (41.9654, 17.6339, 2.8942) [0.7752, 0.1614, 0.0936]\n",
       "PeriodicSite: O2- (31.1378, 17.6339, 5.9878) [0.5752, 0.1614, 0.1936]\n",
       "PeriodicSite: O2- (53.2934, 16.2031, 1.7462) [0.9844, 0.1483, 0.0564]\n",
       "PeriodicSite: O2- (20.8109, 16.2031, 3.2929) [0.3844, 0.1483, 0.1064]\n",
       "PeriodicSite: O2- (9.9833, 16.2031, 6.3865) [0.1844, 0.1483, 0.2064]\n",
       "PeriodicSite: O2- (42.4659, 16.2031, 4.8397) [0.7844, 0.1483, 0.1564]\n",
       "PeriodicSite: O2- (31.6384, 16.2031, 0.1994) [0.5844, 0.1483, 0.0064]\n",
       "PeriodicSite: O2- (0.2770, 18.2296, 3.6420) [0.0051, 0.1668, 0.1177]\n",
       "PeriodicSite: O2- (21.9320, 18.2296, 5.1888) [0.4051, 0.1668, 0.1677]\n",
       "PeriodicSite: O2- (11.1045, 18.2296, 0.5484) [0.2051, 0.1668, 0.0177]\n",
       "PeriodicSite: O2- (43.5871, 18.2296, 6.7356) [0.8051, 0.1668, 0.2177]\n",
       "PeriodicSite: O2- (32.7596, 18.2296, 2.0952) [0.6051, 0.1668, 0.0677]"
      ]
     },
     "metadata": {},
     "output_type": "display_data"
    }
   ],
   "source": [
    "slabs[0]"
   ]
  }
 ],
 "metadata": {
  "kernelspec": {
   "display_name": "Python 3",
   "language": "python",
   "name": "python3"
  },
  "language_info": {
   "codemirror_mode": {
    "name": "ipython",
    "version": 3
   },
   "file_extension": ".py",
   "mimetype": "text/x-python",
   "name": "python",
   "nbconvert_exporter": "python",
   "pygments_lexer": "ipython3",
   "version": "3.8.8"
  }
 },
 "nbformat": 4,
 "nbformat_minor": 5
}
