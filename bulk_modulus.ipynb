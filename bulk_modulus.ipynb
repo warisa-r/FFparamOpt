{
 "cells": [
  {
   "cell_type": "code",
   "execution_count": 1,
   "metadata": {},
   "outputs": [
    {
     "name": "stderr",
     "output_type": "stream",
     "text": [
      "<>:3: SyntaxWarning: invalid escape sequence '\\c'\n",
      "<>:3: SyntaxWarning: invalid escape sequence '\\c'\n",
      "C:\\Users\\user\\AppData\\Local\\Temp\\ipykernel_7748\\4077546850.py:3: SyntaxWarning: invalid escape sequence '\\c'\n",
      "  lmp.file(\"reax_ff_sim\\ceo2_reaxff\\ceo2_reaxff_bulk.lmp\")\n"
     ]
    }
   ],
   "source": [
    "from lammps import lammps\n",
    "lmp = lammps()\n",
    "lmp.file(\"reax_ff_sim\\ceo2_reaxff\\ceo2_reaxff_bulk.lmp\")"
   ]
  },
  {
   "cell_type": "code",
   "execution_count": 2,
   "metadata": {},
   "outputs": [
    {
     "name": "stdout",
     "output_type": "stream",
     "text": [
      "Volume = 95.87313149286499 Angstrom^3\n",
      "Pressure = 26537.946390439603\n"
     ]
    }
   ],
   "source": [
    "volume = lmp.get_thermo(\"vol\")\n",
    "print(f\"Volume = {volume} Angstrom^3\")\n",
    "pressure = lmp.get_thermo(\"press\")\n",
    "print(f\"Pressure = {pressure}\")"
   ]
  }
 ],
 "metadata": {
  "kernelspec": {
   "display_name": "Python 3",
   "language": "python",
   "name": "python3"
  },
  "language_info": {
   "codemirror_mode": {
    "name": "ipython",
    "version": 3
   },
   "file_extension": ".py",
   "mimetype": "text/x-python",
   "name": "python",
   "nbconvert_exporter": "python",
   "pygments_lexer": "ipython3",
   "version": "3.12.3"
  }
 },
 "nbformat": 4,
 "nbformat_minor": 2
}
